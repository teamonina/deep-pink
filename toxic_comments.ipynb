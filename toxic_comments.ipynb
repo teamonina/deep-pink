{
  "cells": [
    {
      "cell_type": "markdown",
      "metadata": {
        "toc": true,
        "id": "NR7lLfmaSyT6"
      },
      "source": [
        "<h1>Содержание<span class=\"tocSkip\"></span></h1>\n",
        "<div class=\"toc\"><ul class=\"toc-item\"><li><span><a href=\"#Подготовка\" data-toc-modified-id=\"Подготовка-1\"><span class=\"toc-item-num\">1&nbsp;&nbsp;</span>Подготовка</a></span></li><li><span><a href=\"#Обучение\" data-toc-modified-id=\"Обучение-2\"><span class=\"toc-item-num\">2&nbsp;&nbsp;</span>Обучение</a></span><ul class=\"toc-item\"><li><span><a href=\"#Создание-выборок\" data-toc-modified-id=\"Создание-выборок-2.1\"><span class=\"toc-item-num\">2.1&nbsp;&nbsp;</span>Создание выборок</a></span></li><li><span><a href=\"#Логистическая-регрессия\" data-toc-modified-id=\"Логистическая-регрессия-2.2\"><span class=\"toc-item-num\">2.2&nbsp;&nbsp;</span>Логистическая регрессия</a></span></li><li><span><a href=\"#Light-GBM\" data-toc-modified-id=\"Light-GBM-2.3\"><span class=\"toc-item-num\">2.3&nbsp;&nbsp;</span>Light GBM</a></span></li><li><span><a href=\"#Тестовая-выборка\" data-toc-modified-id=\"Тестовая-выборка-2.4\"><span class=\"toc-item-num\">2.4&nbsp;&nbsp;</span>Тестовая выборка</a></span></li></ul></li><li><span><a href=\"#Выводы\" data-toc-modified-id=\"Выводы-3\"><span class=\"toc-item-num\">3&nbsp;&nbsp;</span>Выводы</a></span></li><li><span><a href=\"#Чек-лист-проверки\" data-toc-modified-id=\"Чек-лист-проверки-4\"><span class=\"toc-item-num\">4&nbsp;&nbsp;</span>Чек-лист проверки</a></span></li></ul></div>"
      ]
    },
    {
      "cell_type": "markdown",
      "metadata": {
        "id": "sDbBFaQFSyT8"
      },
      "source": [
        "# Проект для «Викишоп»"
      ]
    },
    {
      "cell_type": "markdown",
      "metadata": {
        "id": "RCj7I5oBSyT9"
      },
      "source": [
        "Интернет-магазин «Викишоп» запускает новый сервис. Теперь пользователи могут редактировать и дополнять описания товаров, как в вики-сообществах. То есть клиенты предлагают свои правки и комментируют изменения других. Магазину нужен инструмент, который будет искать токсичные комментарии и отправлять их на модерацию. \n",
        "\n",
        "Обучите модель классифицировать комментарии на позитивные и негативные. В вашем распоряжении набор данных с разметкой о токсичности правок.\n",
        "\n",
        "Постройте модель со значением метрики качества *F1* не меньше 0.75. \n",
        "\n"
      ]
    },
    {
      "cell_type": "markdown",
      "metadata": {
        "id": "AAH0I37HSyT-"
      },
      "source": [
        "## Подготовка"
      ]
    },
    {
      "cell_type": "markdown",
      "metadata": {
        "id": "tG_ZdutmSyT-"
      },
      "source": [
        "Подготовим и загрузим нужные библиотеки."
      ]
    },
    {
      "cell_type": "code",
      "execution_count": 1,
      "metadata": {
        "id": "puGrOX3DSyT_"
      },
      "outputs": [],
      "source": [
        "import pandas as pd\n",
        "import re\n",
        "import numpy as np\n",
        "\n",
        "import nltk\n",
        "from nltk.corpus import stopwords as nltk_stopwords\n",
        "from nltk.corpus import wordnet\n",
        "from nltk.corpus import stopwords\n",
        "from nltk.stem import WordNetLemmatizer \n",
        "from nltk.tokenize import word_tokenize\n",
        "\n",
        "from sklearn.ensemble import RandomForestClassifier\n",
        "from sklearn.feature_extraction.text import CountVectorizer\n",
        "from sklearn.feature_extraction.text import TfidfVectorizer\n",
        "from sklearn.metrics import f1_score\n",
        "from sklearn.model_selection import cross_val_score\n",
        "from sklearn.model_selection import GridSearchCV\n",
        "from sklearn.model_selection import train_test_split\n",
        "from sklearn.linear_model import LogisticRegression\n",
        "from sklearn.utils import shuffle\n",
        "\n",
        "\n",
        "import lightgbm as lgb"
      ]
    },
    {
      "cell_type": "markdown",
      "metadata": {
        "id": "eB667MQgSyUD"
      },
      "source": [
        "Откроем файл, убедимся в правильности представления данных."
      ]
    },
    {
      "cell_type": "code",
      "execution_count": 2,
      "metadata": {
        "colab": {
          "base_uri": "https://localhost:8080/",
          "height": 206
        },
        "id": "Qwpq5AYESyUD",
        "outputId": "a8ce88a5-ca12-4a8d-85a8-c3bb2ed0ea76"
      },
      "outputs": [
        {
          "output_type": "execute_result",
          "data": {
            "text/plain": [
              "                                                text  toxic\n",
              "0  Explanation\\nWhy the edits made under my usern...      0\n",
              "1  D'aww! He matches this background colour I'm s...      0\n",
              "2  Hey man, I'm really not trying to edit war. It...      0\n",
              "3  \"\\nMore\\nI can't make any real suggestions on ...      0\n",
              "4  You, sir, are my hero. Any chance you remember...      0"
            ],
            "text/html": [
              "\n",
              "  <div id=\"df-28a2fbe3-a859-456b-bc25-ef5b186e3941\">\n",
              "    <div class=\"colab-df-container\">\n",
              "      <div>\n",
              "<style scoped>\n",
              "    .dataframe tbody tr th:only-of-type {\n",
              "        vertical-align: middle;\n",
              "    }\n",
              "\n",
              "    .dataframe tbody tr th {\n",
              "        vertical-align: top;\n",
              "    }\n",
              "\n",
              "    .dataframe thead th {\n",
              "        text-align: right;\n",
              "    }\n",
              "</style>\n",
              "<table border=\"1\" class=\"dataframe\">\n",
              "  <thead>\n",
              "    <tr style=\"text-align: right;\">\n",
              "      <th></th>\n",
              "      <th>text</th>\n",
              "      <th>toxic</th>\n",
              "    </tr>\n",
              "  </thead>\n",
              "  <tbody>\n",
              "    <tr>\n",
              "      <th>0</th>\n",
              "      <td>Explanation\\nWhy the edits made under my usern...</td>\n",
              "      <td>0</td>\n",
              "    </tr>\n",
              "    <tr>\n",
              "      <th>1</th>\n",
              "      <td>D'aww! He matches this background colour I'm s...</td>\n",
              "      <td>0</td>\n",
              "    </tr>\n",
              "    <tr>\n",
              "      <th>2</th>\n",
              "      <td>Hey man, I'm really not trying to edit war. It...</td>\n",
              "      <td>0</td>\n",
              "    </tr>\n",
              "    <tr>\n",
              "      <th>3</th>\n",
              "      <td>\"\\nMore\\nI can't make any real suggestions on ...</td>\n",
              "      <td>0</td>\n",
              "    </tr>\n",
              "    <tr>\n",
              "      <th>4</th>\n",
              "      <td>You, sir, are my hero. Any chance you remember...</td>\n",
              "      <td>0</td>\n",
              "    </tr>\n",
              "  </tbody>\n",
              "</table>\n",
              "</div>\n",
              "      <button class=\"colab-df-convert\" onclick=\"convertToInteractive('df-28a2fbe3-a859-456b-bc25-ef5b186e3941')\"\n",
              "              title=\"Convert this dataframe to an interactive table.\"\n",
              "              style=\"display:none;\">\n",
              "        \n",
              "  <svg xmlns=\"http://www.w3.org/2000/svg\" height=\"24px\"viewBox=\"0 0 24 24\"\n",
              "       width=\"24px\">\n",
              "    <path d=\"M0 0h24v24H0V0z\" fill=\"none\"/>\n",
              "    <path d=\"M18.56 5.44l.94 2.06.94-2.06 2.06-.94-2.06-.94-.94-2.06-.94 2.06-2.06.94zm-11 1L8.5 8.5l.94-2.06 2.06-.94-2.06-.94L8.5 2.5l-.94 2.06-2.06.94zm10 10l.94 2.06.94-2.06 2.06-.94-2.06-.94-.94-2.06-.94 2.06-2.06.94z\"/><path d=\"M17.41 7.96l-1.37-1.37c-.4-.4-.92-.59-1.43-.59-.52 0-1.04.2-1.43.59L10.3 9.45l-7.72 7.72c-.78.78-.78 2.05 0 2.83L4 21.41c.39.39.9.59 1.41.59.51 0 1.02-.2 1.41-.59l7.78-7.78 2.81-2.81c.8-.78.8-2.07 0-2.86zM5.41 20L4 18.59l7.72-7.72 1.47 1.35L5.41 20z\"/>\n",
              "  </svg>\n",
              "      </button>\n",
              "      \n",
              "  <style>\n",
              "    .colab-df-container {\n",
              "      display:flex;\n",
              "      flex-wrap:wrap;\n",
              "      gap: 12px;\n",
              "    }\n",
              "\n",
              "    .colab-df-convert {\n",
              "      background-color: #E8F0FE;\n",
              "      border: none;\n",
              "      border-radius: 50%;\n",
              "      cursor: pointer;\n",
              "      display: none;\n",
              "      fill: #1967D2;\n",
              "      height: 32px;\n",
              "      padding: 0 0 0 0;\n",
              "      width: 32px;\n",
              "    }\n",
              "\n",
              "    .colab-df-convert:hover {\n",
              "      background-color: #E2EBFA;\n",
              "      box-shadow: 0px 1px 2px rgba(60, 64, 67, 0.3), 0px 1px 3px 1px rgba(60, 64, 67, 0.15);\n",
              "      fill: #174EA6;\n",
              "    }\n",
              "\n",
              "    [theme=dark] .colab-df-convert {\n",
              "      background-color: #3B4455;\n",
              "      fill: #D2E3FC;\n",
              "    }\n",
              "\n",
              "    [theme=dark] .colab-df-convert:hover {\n",
              "      background-color: #434B5C;\n",
              "      box-shadow: 0px 1px 3px 1px rgba(0, 0, 0, 0.15);\n",
              "      filter: drop-shadow(0px 1px 2px rgba(0, 0, 0, 0.3));\n",
              "      fill: #FFFFFF;\n",
              "    }\n",
              "  </style>\n",
              "\n",
              "      <script>\n",
              "        const buttonEl =\n",
              "          document.querySelector('#df-28a2fbe3-a859-456b-bc25-ef5b186e3941 button.colab-df-convert');\n",
              "        buttonEl.style.display =\n",
              "          google.colab.kernel.accessAllowed ? 'block' : 'none';\n",
              "\n",
              "        async function convertToInteractive(key) {\n",
              "          const element = document.querySelector('#df-28a2fbe3-a859-456b-bc25-ef5b186e3941');\n",
              "          const dataTable =\n",
              "            await google.colab.kernel.invokeFunction('convertToInteractive',\n",
              "                                                     [key], {});\n",
              "          if (!dataTable) return;\n",
              "\n",
              "          const docLinkHtml = 'Like what you see? Visit the ' +\n",
              "            '<a target=\"_blank\" href=https://colab.research.google.com/notebooks/data_table.ipynb>data table notebook</a>'\n",
              "            + ' to learn more about interactive tables.';\n",
              "          element.innerHTML = '';\n",
              "          dataTable['output_type'] = 'display_data';\n",
              "          await google.colab.output.renderOutput(dataTable, element);\n",
              "          const docLink = document.createElement('div');\n",
              "          docLink.innerHTML = docLinkHtml;\n",
              "          element.appendChild(docLink);\n",
              "        }\n",
              "      </script>\n",
              "    </div>\n",
              "  </div>\n",
              "  "
            ]
          },
          "metadata": {},
          "execution_count": 2
        }
      ],
      "source": [
        "df = pd.read_csv('https://code.s3.yandex.net/datasets/toxic_comments.csv',index_col=[0])\n",
        "df.head()"
      ]
    },
    {
      "cell_type": "markdown",
      "metadata": {
        "id": "SEwEBGXXSyUG"
      },
      "source": [
        "Названия столбцов ожидаемые, предполагаем, что столбец 'text' в дальнейшем будет признаком, а столбец 'toxic' - целевым признаком. Удостоверимся, что в данных нет пропусков и дубликатов."
      ]
    },
    {
      "cell_type": "code",
      "execution_count": 3,
      "metadata": {
        "colab": {
          "base_uri": "https://localhost:8080/"
        },
        "id": "myM9X-sgSyUH",
        "outputId": "0b80a787-2029-4b1c-cde4-cf3eabfe8e3e"
      },
      "outputs": [
        {
          "output_type": "execute_result",
          "data": {
            "text/plain": [
              "text     0\n",
              "toxic    0\n",
              "dtype: int64"
            ]
          },
          "metadata": {},
          "execution_count": 3
        }
      ],
      "source": [
        "#количество пропусков\n",
        "df.isna().sum()"
      ]
    },
    {
      "cell_type": "code",
      "execution_count": 4,
      "metadata": {
        "colab": {
          "base_uri": "https://localhost:8080/"
        },
        "id": "LtU5kf9-SyUI",
        "outputId": "e119cae8-ce5a-4ec3-cd83-fb481bca9221"
      },
      "outputs": [
        {
          "output_type": "execute_result",
          "data": {
            "text/plain": [
              "0"
            ]
          },
          "metadata": {},
          "execution_count": 4
        }
      ],
      "source": [
        "#количество дубликатов\n",
        "df.duplicated().sum()"
      ]
    },
    {
      "cell_type": "markdown",
      "metadata": {
        "id": "t-u7vLNySyUJ"
      },
      "source": [
        "Какое количество токсичных комментариев встречается в датасете?"
      ]
    },
    {
      "cell_type": "code",
      "execution_count": 5,
      "metadata": {
        "colab": {
          "base_uri": "https://localhost:8080/"
        },
        "id": "kBHAC9FpSyUJ",
        "outputId": "4cd60257-ff54-44a9-9cb8-6e1a810739fd"
      },
      "outputs": [
        {
          "output_type": "execute_result",
          "data": {
            "text/plain": [
              "0.10161213369158527"
            ]
          },
          "metadata": {},
          "execution_count": 5
        }
      ],
      "source": [
        "df['toxic'].mean()"
      ]
    },
    {
      "cell_type": "markdown",
      "metadata": {
        "id": "tO1rCm2sSyUK"
      },
      "source": [
        "Около 10% комментариев - токсичны."
      ]
    },
    {
      "cell_type": "markdown",
      "metadata": {
        "id": "5oMWNLGLSyUL"
      },
      "source": [
        "Так как работа с целым датафреймом у меня занимает очень много времени, всё компилируется около 4 часов, поэтому я сокращаю датасет до 100 000 строк."
      ]
    },
    {
      "cell_type": "code",
      "execution_count": 6,
      "metadata": {
        "colab": {
          "base_uri": "https://localhost:8080/"
        },
        "id": "MLLRrcsOSyUN",
        "outputId": "eb83d1b7-fa7e-42b5-b497-1afec4325c61"
      },
      "outputs": [
        {
          "output_type": "execute_result",
          "data": {
            "text/plain": [
              "16186"
            ]
          },
          "metadata": {},
          "execution_count": 6
        }
      ],
      "source": [
        "df['toxic'].sum()"
      ]
    },
    {
      "cell_type": "markdown",
      "metadata": {
        "id": "T23MzHhvSyUO"
      },
      "source": [
        "## Обучение"
      ]
    },
    {
      "cell_type": "markdown",
      "metadata": {
        "id": "qQcS2u1ASyUO"
      },
      "source": [
        "Прежде чем переходить к обучению моделей, очистим текст от лишнего и создадим обучающие и тестовые выборки."
      ]
    },
    {
      "cell_type": "markdown",
      "metadata": {
        "id": "7M0-bodXSyUO"
      },
      "source": [
        "### Создание выборок"
      ]
    },
    {
      "cell_type": "markdown",
      "metadata": {
        "id": "JuHI5u0nSyUP"
      },
      "source": [
        "Напишем функцию для очистки текста с помощью регулярных выражений."
      ]
    },
    {
      "cell_type": "code",
      "execution_count": 7,
      "metadata": {
        "id": "xl-Jd17BSyUP"
      },
      "outputs": [],
      "source": [
        "def clear_text(text):\n",
        "    text = re.sub(r'[^a-zA-z]', ' ', text)\n",
        "    return \" \".join(text.split()).lower()"
      ]
    },
    {
      "cell_type": "markdown",
      "metadata": {
        "id": "UOg1o6Q2SyUR"
      },
      "source": [
        "Лемматизируем текст с помощью функций."
      ]
    },
    {
      "cell_type": "code",
      "execution_count": 8,
      "metadata": {
        "colab": {
          "base_uri": "https://localhost:8080/"
        },
        "id": "xB1QdSSvSyUR",
        "outputId": "7d74bf4d-775c-4f96-d293-4b56fe5b5a9f"
      },
      "outputs": [
        {
          "output_type": "stream",
          "name": "stderr",
          "text": [
            "[nltk_data] Downloading package punkt to /root/nltk_data...\n",
            "[nltk_data]   Package punkt is already up-to-date!\n",
            "[nltk_data] Downloading package omw-1.4 to /root/nltk_data...\n",
            "[nltk_data]   Package omw-1.4 is already up-to-date!\n",
            "[nltk_data] Downloading package wordnet to /root/nltk_data...\n",
            "[nltk_data]   Package wordnet is already up-to-date!\n",
            "[nltk_data] Downloading package averaged_perceptron_tagger to\n",
            "[nltk_data]     /root/nltk_data...\n",
            "[nltk_data]   Package averaged_perceptron_tagger is already up-to-\n",
            "[nltk_data]       date!\n"
          ]
        }
      ],
      "source": [
        "#import nltk\n",
        "nltk.download('punkt')\n",
        "nltk.download('omw-1.4')\n",
        "\n",
        "#подгружаем дополнительную библиотеку слов \n",
        "nltk.download('wordnet')\n",
        "\n",
        "#подгружаем тэги\n",
        "nltk.download('averaged_perceptron_tagger')\n",
        "\n",
        "\n",
        "def get_wordnet_pos(word):\n",
        "    \"\"\"Map POS tag to first character lemmatize() accepts\"\"\"\n",
        "    tag = nltk.pos_tag([word])[0][1][0].upper()\n",
        "    \n",
        "#создание словаря тэгов\n",
        "    tag_dict = {\"J\": wordnet.ADJ,\n",
        "                \"N\": wordnet.NOUN,\n",
        "                \"V\": wordnet.VERB,\n",
        "                \"R\": wordnet.ADV}\n",
        "    return tag_dict.get(tag, wordnet.NOUN)\n",
        "\n",
        "\n",
        "def lem(text):      \n",
        "    lemmatizer = WordNetLemmatizer()\n",
        "\n",
        "#полученные слова объединяем в один элемент столбца \n",
        "    lemmatized_output = ' '.join([lemmatizer.lemmatize(w, get_wordnet_pos(w)) for w in nltk.word_tokenize(text)])\n",
        "    return lemmatized_output"
      ]
    },
    {
      "cell_type": "code",
      "execution_count": 9,
      "metadata": {
        "colab": {
          "base_uri": "https://localhost:8080/",
          "height": 36
        },
        "id": "cPDh2rxESyUS",
        "outputId": "13ae539d-ed8d-4278-9a51-28f74bdbbf88"
      },
      "outputs": [
        {
          "output_type": "execute_result",
          "data": {
            "text/plain": [
              "'The strip bat be hang on their foot for best'"
            ],
            "application/vnd.google.colaboratory.intrinsic+json": {
              "type": "string"
            }
          },
          "metadata": {},
          "execution_count": 9
        }
      ],
      "source": [
        "#проверка на простом примере\n",
        "sentence = \"The striped bats are hanging on their feet for best\"\n",
        "lem(sentence)"
      ]
    },
    {
      "cell_type": "markdown",
      "metadata": {
        "id": "nMY9liRASyUT"
      },
      "source": [
        "Применяем описанные функции к столбцу 'text'"
      ]
    },
    {
      "cell_type": "code",
      "execution_count": 10,
      "metadata": {
        "colab": {
          "base_uri": "https://localhost:8080/",
          "height": 206
        },
        "id": "obZj08YOSyUT",
        "outputId": "e55cfe9b-3939-417f-cf17-a141550508cb"
      },
      "outputs": [
        {
          "output_type": "execute_result",
          "data": {
            "text/plain": [
              "                                                text  toxic\n",
              "0  Explanation Why the edits make under my userna...      0\n",
              "1  D'aww ! He match this background colour I 'm s...      0\n",
              "2  Hey man , I 'm really not try to edit war . It...      0\n",
              "3  `` More I ca n't make any real suggestion on i...      0\n",
              "4  You , sir , be my hero . Any chance you rememb...      0"
            ],
            "text/html": [
              "\n",
              "  <div id=\"df-f059153c-a959-4a98-ba1d-9bd37ac15f4c\">\n",
              "    <div class=\"colab-df-container\">\n",
              "      <div>\n",
              "<style scoped>\n",
              "    .dataframe tbody tr th:only-of-type {\n",
              "        vertical-align: middle;\n",
              "    }\n",
              "\n",
              "    .dataframe tbody tr th {\n",
              "        vertical-align: top;\n",
              "    }\n",
              "\n",
              "    .dataframe thead th {\n",
              "        text-align: right;\n",
              "    }\n",
              "</style>\n",
              "<table border=\"1\" class=\"dataframe\">\n",
              "  <thead>\n",
              "    <tr style=\"text-align: right;\">\n",
              "      <th></th>\n",
              "      <th>text</th>\n",
              "      <th>toxic</th>\n",
              "    </tr>\n",
              "  </thead>\n",
              "  <tbody>\n",
              "    <tr>\n",
              "      <th>0</th>\n",
              "      <td>Explanation Why the edits make under my userna...</td>\n",
              "      <td>0</td>\n",
              "    </tr>\n",
              "    <tr>\n",
              "      <th>1</th>\n",
              "      <td>D'aww ! He match this background colour I 'm s...</td>\n",
              "      <td>0</td>\n",
              "    </tr>\n",
              "    <tr>\n",
              "      <th>2</th>\n",
              "      <td>Hey man , I 'm really not try to edit war . It...</td>\n",
              "      <td>0</td>\n",
              "    </tr>\n",
              "    <tr>\n",
              "      <th>3</th>\n",
              "      <td>`` More I ca n't make any real suggestion on i...</td>\n",
              "      <td>0</td>\n",
              "    </tr>\n",
              "    <tr>\n",
              "      <th>4</th>\n",
              "      <td>You , sir , be my hero . Any chance you rememb...</td>\n",
              "      <td>0</td>\n",
              "    </tr>\n",
              "  </tbody>\n",
              "</table>\n",
              "</div>\n",
              "      <button class=\"colab-df-convert\" onclick=\"convertToInteractive('df-f059153c-a959-4a98-ba1d-9bd37ac15f4c')\"\n",
              "              title=\"Convert this dataframe to an interactive table.\"\n",
              "              style=\"display:none;\">\n",
              "        \n",
              "  <svg xmlns=\"http://www.w3.org/2000/svg\" height=\"24px\"viewBox=\"0 0 24 24\"\n",
              "       width=\"24px\">\n",
              "    <path d=\"M0 0h24v24H0V0z\" fill=\"none\"/>\n",
              "    <path d=\"M18.56 5.44l.94 2.06.94-2.06 2.06-.94-2.06-.94-.94-2.06-.94 2.06-2.06.94zm-11 1L8.5 8.5l.94-2.06 2.06-.94-2.06-.94L8.5 2.5l-.94 2.06-2.06.94zm10 10l.94 2.06.94-2.06 2.06-.94-2.06-.94-.94-2.06-.94 2.06-2.06.94z\"/><path d=\"M17.41 7.96l-1.37-1.37c-.4-.4-.92-.59-1.43-.59-.52 0-1.04.2-1.43.59L10.3 9.45l-7.72 7.72c-.78.78-.78 2.05 0 2.83L4 21.41c.39.39.9.59 1.41.59.51 0 1.02-.2 1.41-.59l7.78-7.78 2.81-2.81c.8-.78.8-2.07 0-2.86zM5.41 20L4 18.59l7.72-7.72 1.47 1.35L5.41 20z\"/>\n",
              "  </svg>\n",
              "      </button>\n",
              "      \n",
              "  <style>\n",
              "    .colab-df-container {\n",
              "      display:flex;\n",
              "      flex-wrap:wrap;\n",
              "      gap: 12px;\n",
              "    }\n",
              "\n",
              "    .colab-df-convert {\n",
              "      background-color: #E8F0FE;\n",
              "      border: none;\n",
              "      border-radius: 50%;\n",
              "      cursor: pointer;\n",
              "      display: none;\n",
              "      fill: #1967D2;\n",
              "      height: 32px;\n",
              "      padding: 0 0 0 0;\n",
              "      width: 32px;\n",
              "    }\n",
              "\n",
              "    .colab-df-convert:hover {\n",
              "      background-color: #E2EBFA;\n",
              "      box-shadow: 0px 1px 2px rgba(60, 64, 67, 0.3), 0px 1px 3px 1px rgba(60, 64, 67, 0.15);\n",
              "      fill: #174EA6;\n",
              "    }\n",
              "\n",
              "    [theme=dark] .colab-df-convert {\n",
              "      background-color: #3B4455;\n",
              "      fill: #D2E3FC;\n",
              "    }\n",
              "\n",
              "    [theme=dark] .colab-df-convert:hover {\n",
              "      background-color: #434B5C;\n",
              "      box-shadow: 0px 1px 3px 1px rgba(0, 0, 0, 0.15);\n",
              "      filter: drop-shadow(0px 1px 2px rgba(0, 0, 0, 0.3));\n",
              "      fill: #FFFFFF;\n",
              "    }\n",
              "  </style>\n",
              "\n",
              "      <script>\n",
              "        const buttonEl =\n",
              "          document.querySelector('#df-f059153c-a959-4a98-ba1d-9bd37ac15f4c button.colab-df-convert');\n",
              "        buttonEl.style.display =\n",
              "          google.colab.kernel.accessAllowed ? 'block' : 'none';\n",
              "\n",
              "        async function convertToInteractive(key) {\n",
              "          const element = document.querySelector('#df-f059153c-a959-4a98-ba1d-9bd37ac15f4c');\n",
              "          const dataTable =\n",
              "            await google.colab.kernel.invokeFunction('convertToInteractive',\n",
              "                                                     [key], {});\n",
              "          if (!dataTable) return;\n",
              "\n",
              "          const docLinkHtml = 'Like what you see? Visit the ' +\n",
              "            '<a target=\"_blank\" href=https://colab.research.google.com/notebooks/data_table.ipynb>data table notebook</a>'\n",
              "            + ' to learn more about interactive tables.';\n",
              "          element.innerHTML = '';\n",
              "          dataTable['output_type'] = 'display_data';\n",
              "          await google.colab.output.renderOutput(dataTable, element);\n",
              "          const docLink = document.createElement('div');\n",
              "          docLink.innerHTML = docLinkHtml;\n",
              "          element.appendChild(docLink);\n",
              "        }\n",
              "      </script>\n",
              "    </div>\n",
              "  </div>\n",
              "  "
            ]
          },
          "metadata": {},
          "execution_count": 10
        }
      ],
      "source": [
        "#лемматизация\n",
        "df['text'] = df['text'].apply(lem)\n",
        "df.head()"
      ]
    },
    {
      "cell_type": "markdown",
      "metadata": {
        "id": "dvUbsf20SyUU"
      },
      "source": [
        "Очищаем текст"
      ]
    },
    {
      "cell_type": "code",
      "execution_count": 11,
      "metadata": {
        "colab": {
          "base_uri": "https://localhost:8080/",
          "height": 206
        },
        "id": "rC0PmMjtSyUU",
        "outputId": "368eaf8c-3794-4769-e4ca-fb91e34f4c37"
      },
      "outputs": [
        {
          "output_type": "execute_result",
          "data": {
            "text/plain": [
              "                                                text  toxic\n",
              "0  explanation why the edits make under my userna...      0\n",
              "1  d aww he match this background colour i m seem...      0\n",
              "2  hey man i m really not try to edit war it s ju...      0\n",
              "3  `` more i ca n t make any real suggestion on i...      0\n",
              "4  you sir be my hero any chance you remember wha...      0"
            ],
            "text/html": [
              "\n",
              "  <div id=\"df-3e7fa592-88e7-4a1d-97a1-02eb1aeaf574\">\n",
              "    <div class=\"colab-df-container\">\n",
              "      <div>\n",
              "<style scoped>\n",
              "    .dataframe tbody tr th:only-of-type {\n",
              "        vertical-align: middle;\n",
              "    }\n",
              "\n",
              "    .dataframe tbody tr th {\n",
              "        vertical-align: top;\n",
              "    }\n",
              "\n",
              "    .dataframe thead th {\n",
              "        text-align: right;\n",
              "    }\n",
              "</style>\n",
              "<table border=\"1\" class=\"dataframe\">\n",
              "  <thead>\n",
              "    <tr style=\"text-align: right;\">\n",
              "      <th></th>\n",
              "      <th>text</th>\n",
              "      <th>toxic</th>\n",
              "    </tr>\n",
              "  </thead>\n",
              "  <tbody>\n",
              "    <tr>\n",
              "      <th>0</th>\n",
              "      <td>explanation why the edits make under my userna...</td>\n",
              "      <td>0</td>\n",
              "    </tr>\n",
              "    <tr>\n",
              "      <th>1</th>\n",
              "      <td>d aww he match this background colour i m seem...</td>\n",
              "      <td>0</td>\n",
              "    </tr>\n",
              "    <tr>\n",
              "      <th>2</th>\n",
              "      <td>hey man i m really not try to edit war it s ju...</td>\n",
              "      <td>0</td>\n",
              "    </tr>\n",
              "    <tr>\n",
              "      <th>3</th>\n",
              "      <td>`` more i ca n t make any real suggestion on i...</td>\n",
              "      <td>0</td>\n",
              "    </tr>\n",
              "    <tr>\n",
              "      <th>4</th>\n",
              "      <td>you sir be my hero any chance you remember wha...</td>\n",
              "      <td>0</td>\n",
              "    </tr>\n",
              "  </tbody>\n",
              "</table>\n",
              "</div>\n",
              "      <button class=\"colab-df-convert\" onclick=\"convertToInteractive('df-3e7fa592-88e7-4a1d-97a1-02eb1aeaf574')\"\n",
              "              title=\"Convert this dataframe to an interactive table.\"\n",
              "              style=\"display:none;\">\n",
              "        \n",
              "  <svg xmlns=\"http://www.w3.org/2000/svg\" height=\"24px\"viewBox=\"0 0 24 24\"\n",
              "       width=\"24px\">\n",
              "    <path d=\"M0 0h24v24H0V0z\" fill=\"none\"/>\n",
              "    <path d=\"M18.56 5.44l.94 2.06.94-2.06 2.06-.94-2.06-.94-.94-2.06-.94 2.06-2.06.94zm-11 1L8.5 8.5l.94-2.06 2.06-.94-2.06-.94L8.5 2.5l-.94 2.06-2.06.94zm10 10l.94 2.06.94-2.06 2.06-.94-2.06-.94-.94-2.06-.94 2.06-2.06.94z\"/><path d=\"M17.41 7.96l-1.37-1.37c-.4-.4-.92-.59-1.43-.59-.52 0-1.04.2-1.43.59L10.3 9.45l-7.72 7.72c-.78.78-.78 2.05 0 2.83L4 21.41c.39.39.9.59 1.41.59.51 0 1.02-.2 1.41-.59l7.78-7.78 2.81-2.81c.8-.78.8-2.07 0-2.86zM5.41 20L4 18.59l7.72-7.72 1.47 1.35L5.41 20z\"/>\n",
              "  </svg>\n",
              "      </button>\n",
              "      \n",
              "  <style>\n",
              "    .colab-df-container {\n",
              "      display:flex;\n",
              "      flex-wrap:wrap;\n",
              "      gap: 12px;\n",
              "    }\n",
              "\n",
              "    .colab-df-convert {\n",
              "      background-color: #E8F0FE;\n",
              "      border: none;\n",
              "      border-radius: 50%;\n",
              "      cursor: pointer;\n",
              "      display: none;\n",
              "      fill: #1967D2;\n",
              "      height: 32px;\n",
              "      padding: 0 0 0 0;\n",
              "      width: 32px;\n",
              "    }\n",
              "\n",
              "    .colab-df-convert:hover {\n",
              "      background-color: #E2EBFA;\n",
              "      box-shadow: 0px 1px 2px rgba(60, 64, 67, 0.3), 0px 1px 3px 1px rgba(60, 64, 67, 0.15);\n",
              "      fill: #174EA6;\n",
              "    }\n",
              "\n",
              "    [theme=dark] .colab-df-convert {\n",
              "      background-color: #3B4455;\n",
              "      fill: #D2E3FC;\n",
              "    }\n",
              "\n",
              "    [theme=dark] .colab-df-convert:hover {\n",
              "      background-color: #434B5C;\n",
              "      box-shadow: 0px 1px 3px 1px rgba(0, 0, 0, 0.15);\n",
              "      filter: drop-shadow(0px 1px 2px rgba(0, 0, 0, 0.3));\n",
              "      fill: #FFFFFF;\n",
              "    }\n",
              "  </style>\n",
              "\n",
              "      <script>\n",
              "        const buttonEl =\n",
              "          document.querySelector('#df-3e7fa592-88e7-4a1d-97a1-02eb1aeaf574 button.colab-df-convert');\n",
              "        buttonEl.style.display =\n",
              "          google.colab.kernel.accessAllowed ? 'block' : 'none';\n",
              "\n",
              "        async function convertToInteractive(key) {\n",
              "          const element = document.querySelector('#df-3e7fa592-88e7-4a1d-97a1-02eb1aeaf574');\n",
              "          const dataTable =\n",
              "            await google.colab.kernel.invokeFunction('convertToInteractive',\n",
              "                                                     [key], {});\n",
              "          if (!dataTable) return;\n",
              "\n",
              "          const docLinkHtml = 'Like what you see? Visit the ' +\n",
              "            '<a target=\"_blank\" href=https://colab.research.google.com/notebooks/data_table.ipynb>data table notebook</a>'\n",
              "            + ' to learn more about interactive tables.';\n",
              "          element.innerHTML = '';\n",
              "          dataTable['output_type'] = 'display_data';\n",
              "          await google.colab.output.renderOutput(dataTable, element);\n",
              "          const docLink = document.createElement('div');\n",
              "          docLink.innerHTML = docLinkHtml;\n",
              "          element.appendChild(docLink);\n",
              "        }\n",
              "      </script>\n",
              "    </div>\n",
              "  </div>\n",
              "  "
            ]
          },
          "metadata": {},
          "execution_count": 11
        }
      ],
      "source": [
        "df['text'] = df['text'].apply(clear_text)\n",
        "df.head()"
      ]
    },
    {
      "cell_type": "markdown",
      "metadata": {
        "id": "TU1M2lE2SyUY"
      },
      "source": [
        "Разбиваем df на признаки и целевой признак."
      ]
    },
    {
      "cell_type": "code",
      "execution_count": 12,
      "metadata": {
        "id": "BRej7ziGSyUZ"
      },
      "outputs": [],
      "source": [
        "#определяем признаки\n",
        "x = df.drop(['toxic'],axis=1) \n",
        "\n",
        "#определяем целевой признак\n",
        "y = df['toxic'] "
      ]
    },
    {
      "cell_type": "markdown",
      "metadata": {
        "id": "tcV30EUlSyUZ"
      },
      "source": [
        "Разобьем признаки на обучающую и валидационную выборку в соотношении 3:1."
      ]
    },
    {
      "cell_type": "code",
      "execution_count": 13,
      "metadata": {
        "colab": {
          "base_uri": "https://localhost:8080/"
        },
        "id": "YmZYufWwSyUa",
        "outputId": "5a66b264-a105-4c66-a932-69a99d23624e"
      },
      "outputs": [
        {
          "output_type": "execute_result",
          "data": {
            "text/plain": [
              "((119469, 1), (39823, 1), (119469,), (39823,))"
            ]
          },
          "metadata": {},
          "execution_count": 13
        }
      ],
      "source": [
        "#разбиваем на выборки\n",
        "x_train, x_test, y_train, y_test = train_test_split(x, y, test_size=0.25, stratify = y, random_state=12345)\n",
        "\n",
        "#проверка размера выборок\n",
        "x_train.shape, x_test.shape, y_train.shape, y_test.shape"
      ]
    },
    {
      "cell_type": "markdown",
      "metadata": {
        "id": "FcWkIvjGSyUb"
      },
      "source": [
        "Выведем количество токсичных комментариев выборки y_train и ее размер для понимания соотношения."
      ]
    },
    {
      "cell_type": "code",
      "execution_count": 14,
      "metadata": {
        "colab": {
          "base_uri": "https://localhost:8080/"
        },
        "id": "8sY9-ft3SyUb",
        "outputId": "1368c980-82fe-478a-9284-b6429f399b18"
      },
      "outputs": [
        {
          "output_type": "execute_result",
          "data": {
            "text/plain": [
              "(12140, (119469, 1))"
            ]
          },
          "metadata": {},
          "execution_count": 14
        }
      ],
      "source": [
        "y_train.sum(), x_train.shape"
      ]
    },
    {
      "cell_type": "markdown",
      "metadata": {
        "id": "2c9gq9ZvSyUd"
      },
      "source": [
        "Создадим корпуса для признаков из обучающей и тестовой выборки."
      ]
    },
    {
      "cell_type": "code",
      "execution_count": 15,
      "metadata": {
        "id": "wa0YLhsQSyUd"
      },
      "outputs": [],
      "source": [
        "#создание корпуса для обучающей выборки\n",
        "corpus_train = x_train['text'].values\n",
        "\n",
        "#создание корпуса для тестовой выборки\n",
        "corpus_test = x_test['text'].values"
      ]
    },
    {
      "cell_type": "markdown",
      "metadata": {
        "id": "gsv2nA-qSyUf"
      },
      "source": [
        "Подключим библиотеку стоп-слов"
      ]
    },
    {
      "cell_type": "code",
      "execution_count": 16,
      "metadata": {
        "colab": {
          "base_uri": "https://localhost:8080/"
        },
        "id": "6IXv5E4vSyUf",
        "outputId": "ba430caa-9cbb-4dc7-8d63-2b10606457e1"
      },
      "outputs": [
        {
          "output_type": "stream",
          "name": "stderr",
          "text": [
            "[nltk_data] Downloading package stopwords to /root/nltk_data...\n",
            "[nltk_data]   Unzipping corpora/stopwords.zip.\n"
          ]
        }
      ],
      "source": [
        "nltk.download('stopwords')\n",
        "stopwords = set(nltk_stopwords.words('english'))"
      ]
    },
    {
      "cell_type": "markdown",
      "metadata": {
        "id": "cR4lApgpSyUg"
      },
      "source": [
        "Убираем частые и неинформативные слова. Метрику tf_idf принимаем за признаки. Векторизатор должеен быть обучен только на тренировочной части данных. "
      ]
    },
    {
      "cell_type": "code",
      "execution_count": 17,
      "metadata": {
        "colab": {
          "base_uri": "https://localhost:8080/"
        },
        "id": "uo0AQF5bSyUi",
        "outputId": "23c10131-ed05-450f-cbc3-5c66edd638d6"
      },
      "outputs": [
        {
          "output_type": "execute_result",
          "data": {
            "text/plain": [
              "('Размер матрицы:', (119469, 138685))"
            ]
          },
          "metadata": {},
          "execution_count": 17
        }
      ],
      "source": [
        "count_tf_idf = TfidfVectorizer(stop_words=stopwords,sublinear_tf=True)\n",
        "\n",
        "#признаки обучающей выборки \n",
        "tf_idf_train = count_tf_idf.fit_transform(corpus_train)\n",
        "\n",
        "#признаки тестовой выборки\n",
        "tf_idf_test = count_tf_idf.transform(corpus_test)\n",
        "\"Размер матрицы:\", tf_idf_train.shape"
      ]
    },
    {
      "cell_type": "markdown",
      "metadata": {
        "id": "B3L1b3SJSyUn"
      },
      "source": [
        "### Логистическая регрессия"
      ]
    },
    {
      "cell_type": "markdown",
      "metadata": {
        "id": "qJEoNTzjSyUo"
      },
      "source": [
        "Переходим к обучению моделей. Первой будет Логистическая регрессия. "
      ]
    },
    {
      "cell_type": "code",
      "execution_count": 18,
      "metadata": {
        "id": "wCKQpgMnSyUo"
      },
      "outputs": [],
      "source": [
        "model_lr = LogisticRegression(random_state=12345, class_weight = 'balanced', C=9, solver='sag')"
      ]
    },
    {
      "cell_type": "markdown",
      "metadata": {
        "id": "F0SN7vqMSyUp"
      },
      "source": [
        "Обучаем логистичекую регрессию, для подбора гиперпараметров засечем время."
      ]
    },
    {
      "cell_type": "code",
      "execution_count": 19,
      "metadata": {
        "colab": {
          "base_uri": "https://localhost:8080/"
        },
        "id": "7cgKoj4DSyUq",
        "outputId": "5bb3ffdc-d8b9-4f62-d99e-ef1c82dc968d"
      },
      "outputs": [
        {
          "output_type": "stream",
          "name": "stdout",
          "text": [
            "CPU times: user 13.8 s, sys: 38.1 ms, total: 13.9 s\n",
            "Wall time: 13.9 s\n"
          ]
        },
        {
          "output_type": "stream",
          "name": "stderr",
          "text": [
            "/usr/local/lib/python3.8/dist-packages/sklearn/linear_model/_sag.py:352: ConvergenceWarning: The max_iter was reached which means the coef_ did not converge\n",
            "  warnings.warn(\n"
          ]
        },
        {
          "output_type": "execute_result",
          "data": {
            "text/plain": [
              "LogisticRegression(C=9, class_weight='balanced', random_state=12345,\n",
              "                   solver='sag')"
            ]
          },
          "metadata": {},
          "execution_count": 19
        }
      ],
      "source": [
        "%%time\n",
        "model_lr.fit(tf_idf_train,y_train)"
      ]
    },
    {
      "cell_type": "markdown",
      "metadata": {
        "id": "AhgrbXI3SyUq"
      },
      "source": [
        "Создаем предсказания. Модели лучше оценивать кросс-валидацией, она даёт более стабильную оценку. На тренировочной выборке модели часто переобучены."
      ]
    },
    {
      "cell_type": "code",
      "execution_count": 20,
      "metadata": {
        "colab": {
          "base_uri": "https://localhost:8080/"
        },
        "id": "taKhfpUrSyUr",
        "outputId": "221cfa9b-e7f3-4c54-dbf7-168adf221df3"
      },
      "outputs": [
        {
          "output_type": "stream",
          "name": "stderr",
          "text": [
            "/usr/local/lib/python3.8/dist-packages/sklearn/linear_model/_sag.py:352: ConvergenceWarning: The max_iter was reached which means the coef_ did not converge\n",
            "  warnings.warn(\n",
            "/usr/local/lib/python3.8/dist-packages/sklearn/linear_model/_sag.py:352: ConvergenceWarning: The max_iter was reached which means the coef_ did not converge\n",
            "  warnings.warn(\n",
            "/usr/local/lib/python3.8/dist-packages/sklearn/linear_model/_sag.py:352: ConvergenceWarning: The max_iter was reached which means the coef_ did not converge\n",
            "  warnings.warn(\n"
          ]
        },
        {
          "output_type": "execute_result",
          "data": {
            "text/plain": [
              "0.7626732679181881"
            ]
          },
          "metadata": {},
          "execution_count": 20
        }
      ],
      "source": [
        "mean_score = cross_val_score(model_lr, tf_idf_train, y_train, scoring=\"f1\", cv = 3).mean()\n",
        "mean_score"
      ]
    },
    {
      "cell_type": "markdown",
      "metadata": {
        "id": "0OhSBPXNSyUs"
      },
      "source": [
        "### Light GBM"
      ]
    },
    {
      "cell_type": "markdown",
      "metadata": {
        "id": "wMyBA3UhSyUt"
      },
      "source": [
        "Проверим, как с этой задачей справится LGBM"
      ]
    },
    {
      "cell_type": "code",
      "execution_count": 21,
      "metadata": {
        "colab": {
          "base_uri": "https://localhost:8080/"
        },
        "id": "xpk0prZvSyUt",
        "outputId": "eedb54f1-6999-4650-91d9-535325d21b4a"
      },
      "outputs": [
        {
          "output_type": "execute_result",
          "data": {
            "text/plain": [
              "LGBMClassifier(class_weight='balanced', max_bin=5)"
            ]
          },
          "metadata": {},
          "execution_count": 21
        }
      ],
      "source": [
        "clf = lgb.LGBMClassifier(class_weight='balanced',max_bin=5)\n",
        "clf.fit(tf_idf_train, y_train)"
      ]
    },
    {
      "cell_type": "markdown",
      "metadata": {
        "id": "83SHzOFUSyUu"
      },
      "source": [
        "Находим метрику f1 на обучающей выборке с помощью кросс-валидации"
      ]
    },
    {
      "cell_type": "code",
      "execution_count": 22,
      "metadata": {
        "colab": {
          "base_uri": "https://localhost:8080/"
        },
        "id": "aRbaEiP3SyUu",
        "outputId": "b3f4292b-8648-47fc-c4eb-1b5102815924"
      },
      "outputs": [
        {
          "output_type": "execute_result",
          "data": {
            "text/plain": [
              "0.7281192644797768"
            ]
          },
          "metadata": {},
          "execution_count": 22
        }
      ],
      "source": [
        "mean_score = cross_val_score(clf, tf_idf_train, y_train, scoring=\"f1\", cv = 3).mean()\n",
        "mean_score"
      ]
    },
    {
      "cell_type": "markdown",
      "metadata": {
        "id": "XT1qsHslSyUv"
      },
      "source": [
        "### Тестовая выборка"
      ]
    },
    {
      "cell_type": "markdown",
      "metadata": {
        "id": "ljEOQRcySyUw"
      },
      "source": [
        "Модели обучены, теперь предстоит проверить их на тестовой выборке. Метрика f1 была больше на модели логистической регресси, поэтому проводим тест на ней."
      ]
    },
    {
      "cell_type": "code",
      "execution_count": 23,
      "metadata": {
        "colab": {
          "base_uri": "https://localhost:8080/"
        },
        "id": "-Cbvp8VZSyUw",
        "outputId": "169e07ce-502f-447a-84e4-27740c58d590"
      },
      "outputs": [
        {
          "output_type": "execute_result",
          "data": {
            "text/plain": [
              "0.7647804540739888"
            ]
          },
          "metadata": {},
          "execution_count": 23
        }
      ],
      "source": [
        "#логистическая регрессия\n",
        "predict_test = model_lr.predict(tf_idf_test)\n",
        "f1_score(y_test, predict_test)"
      ]
    },
    {
      "cell_type": "markdown",
      "metadata": {
        "id": "O1rS-tFJSyU0"
      },
      "source": [
        "## Выводы"
      ]
    },
    {
      "cell_type": "markdown",
      "metadata": {
        "id": "RvCrL3MLSyU1"
      },
      "source": [
        "Целью проекта было обучить модель распределять комментарии на нейтральные и токсичные. В представленном датасете было около 10% токсичных комментариев. Для решения поставленной задачи сначала текст был лемматизирован и очищен с учётом стоп-слов, в нем остались только символы латинского алфавита. \n",
        "Обучающая и тестовая выборка были составлены в соотношении 3:1. \n",
        "Были использованы такие модели как логистическая регрессия и Light GBM. \n",
        "Обе модели показали хороший результат метрики f1, но логистическая регрессия на тестовой выборке была лучше и показала  значение 0.76"
      ]
    },
    {
      "cell_type": "code",
      "execution_count": 23,
      "metadata": {
        "id": "3r7ZwK-QSyU7"
      },
      "outputs": [],
      "source": []
    }
  ],
  "metadata": {
    "ExecuteTimeLog": [
      {
        "duration": 2005,
        "start_time": "2022-11-22T13:46:13.734Z"
      },
      {
        "duration": 1665,
        "start_time": "2022-11-22T14:00:14.185Z"
      },
      {
        "duration": 988,
        "start_time": "2022-11-22T14:01:11.722Z"
      },
      {
        "duration": 150,
        "start_time": "2022-11-22T14:13:45.770Z"
      },
      {
        "duration": 3429,
        "start_time": "2022-11-22T14:14:17.033Z"
      },
      {
        "duration": 31,
        "start_time": "2022-11-22T14:15:34.042Z"
      },
      {
        "duration": 207,
        "start_time": "2022-11-22T14:15:49.173Z"
      },
      {
        "duration": 82432,
        "start_time": "2022-11-22T14:16:17.719Z"
      },
      {
        "duration": 8,
        "start_time": "2022-11-22T14:17:55.268Z"
      },
      {
        "duration": 4,
        "start_time": "2022-11-22T14:23:22.775Z"
      },
      {
        "duration": 26,
        "start_time": "2022-11-22T14:23:45.029Z"
      },
      {
        "duration": 3,
        "start_time": "2022-11-22T14:23:58.542Z"
      },
      {
        "duration": 15,
        "start_time": "2022-11-22T14:24:02.430Z"
      },
      {
        "duration": 1903,
        "start_time": "2022-11-22T14:25:02.459Z"
      },
      {
        "duration": 15,
        "start_time": "2022-11-22T14:25:13.622Z"
      },
      {
        "duration": 4,
        "start_time": "2022-11-22T14:25:23.716Z"
      },
      {
        "duration": 4,
        "start_time": "2022-11-22T14:25:31.850Z"
      },
      {
        "duration": 754,
        "start_time": "2022-11-22T14:26:44.720Z"
      },
      {
        "duration": 3,
        "start_time": "2022-11-22T14:27:27.241Z"
      },
      {
        "duration": 3,
        "start_time": "2022-11-22T14:27:39.127Z"
      },
      {
        "duration": 764,
        "start_time": "2022-11-22T14:27:51.014Z"
      },
      {
        "duration": 3,
        "start_time": "2022-11-22T14:31:55.716Z"
      },
      {
        "duration": 13,
        "start_time": "2022-11-22T14:32:24.468Z"
      },
      {
        "duration": 4,
        "start_time": "2022-11-22T14:32:32.881Z"
      },
      {
        "duration": 9,
        "start_time": "2022-11-22T14:32:43.483Z"
      },
      {
        "duration": 3,
        "start_time": "2022-11-22T14:32:58.456Z"
      },
      {
        "duration": 165,
        "start_time": "2022-11-22T14:33:03.160Z"
      },
      {
        "duration": 9573,
        "start_time": "2022-11-22T14:33:38.132Z"
      },
      {
        "duration": 1297,
        "start_time": "2022-11-22T15:00:32.584Z"
      },
      {
        "duration": 950,
        "start_time": "2022-11-22T15:00:33.883Z"
      },
      {
        "duration": 25,
        "start_time": "2022-11-22T15:00:34.835Z"
      },
      {
        "duration": 230,
        "start_time": "2022-11-22T15:00:34.862Z"
      },
      {
        "duration": 1867,
        "start_time": "2022-11-22T15:00:35.094Z"
      },
      {
        "duration": 6,
        "start_time": "2022-11-22T15:00:36.963Z"
      },
      {
        "duration": 2,
        "start_time": "2022-11-22T15:00:36.978Z"
      },
      {
        "duration": 745,
        "start_time": "2022-11-22T15:00:36.981Z"
      },
      {
        "duration": 117,
        "start_time": "2022-11-22T15:00:37.728Z"
      },
      {
        "duration": 0,
        "start_time": "2022-11-22T15:00:37.846Z"
      },
      {
        "duration": 0,
        "start_time": "2022-11-22T15:00:37.848Z"
      },
      {
        "duration": 0,
        "start_time": "2022-11-22T15:00:37.849Z"
      },
      {
        "duration": 1346,
        "start_time": "2022-11-22T15:01:13.557Z"
      },
      {
        "duration": 919,
        "start_time": "2022-11-22T15:01:14.905Z"
      },
      {
        "duration": 25,
        "start_time": "2022-11-22T15:01:15.825Z"
      },
      {
        "duration": 226,
        "start_time": "2022-11-22T15:01:15.852Z"
      },
      {
        "duration": 1881,
        "start_time": "2022-11-22T15:01:16.081Z"
      },
      {
        "duration": 11,
        "start_time": "2022-11-22T15:01:17.964Z"
      },
      {
        "duration": 6,
        "start_time": "2022-11-22T15:01:17.977Z"
      },
      {
        "duration": 721,
        "start_time": "2022-11-22T15:01:17.984Z"
      },
      {
        "duration": 239,
        "start_time": "2022-11-22T15:01:18.707Z"
      },
      {
        "duration": 9563,
        "start_time": "2022-11-22T15:01:18.949Z"
      },
      {
        "duration": 2,
        "start_time": "2022-11-22T15:01:28.514Z"
      },
      {
        "duration": 3,
        "start_time": "2022-11-22T15:07:51.953Z"
      },
      {
        "duration": 840,
        "start_time": "2022-11-22T15:08:28.713Z"
      },
      {
        "duration": 805,
        "start_time": "2022-11-22T15:08:35.481Z"
      },
      {
        "duration": 3,
        "start_time": "2022-11-22T15:08:46.456Z"
      },
      {
        "duration": 865,
        "start_time": "2022-11-22T15:08:48.586Z"
      },
      {
        "duration": 454559,
        "start_time": "2022-11-22T15:09:46.753Z"
      },
      {
        "duration": 9,
        "start_time": "2022-11-22T15:17:52.058Z"
      },
      {
        "duration": 1285,
        "start_time": "2022-11-22T15:18:54.681Z"
      },
      {
        "duration": 3458,
        "start_time": "2022-11-22T15:18:55.967Z"
      },
      {
        "duration": 29,
        "start_time": "2022-11-22T15:18:59.426Z"
      },
      {
        "duration": 221,
        "start_time": "2022-11-22T15:18:59.457Z"
      },
      {
        "duration": 1899,
        "start_time": "2022-11-22T15:18:59.680Z"
      },
      {
        "duration": 21,
        "start_time": "2022-11-22T15:19:01.581Z"
      },
      {
        "duration": 28,
        "start_time": "2022-11-22T15:19:01.603Z"
      },
      {
        "duration": 135,
        "start_time": "2022-11-22T15:19:01.632Z"
      },
      {
        "duration": 0,
        "start_time": "2022-11-22T15:19:01.768Z"
      },
      {
        "duration": 0,
        "start_time": "2022-11-22T15:19:01.769Z"
      },
      {
        "duration": 0,
        "start_time": "2022-11-22T15:19:01.770Z"
      },
      {
        "duration": 0,
        "start_time": "2022-11-22T15:19:01.771Z"
      },
      {
        "duration": 0,
        "start_time": "2022-11-22T15:19:01.772Z"
      },
      {
        "duration": 1283,
        "start_time": "2022-11-22T15:19:24.289Z"
      },
      {
        "duration": 930,
        "start_time": "2022-11-22T15:19:25.574Z"
      },
      {
        "duration": 27,
        "start_time": "2022-11-22T15:19:26.506Z"
      },
      {
        "duration": 238,
        "start_time": "2022-11-22T15:19:26.535Z"
      },
      {
        "duration": 1913,
        "start_time": "2022-11-22T15:19:26.775Z"
      },
      {
        "duration": 21,
        "start_time": "2022-11-22T15:19:28.690Z"
      },
      {
        "duration": 6,
        "start_time": "2022-11-22T15:19:28.713Z"
      },
      {
        "duration": 5,
        "start_time": "2022-11-22T15:19:28.720Z"
      },
      {
        "duration": 756,
        "start_time": "2022-11-22T15:19:28.726Z"
      },
      {
        "duration": 1275,
        "start_time": "2022-11-22T15:21:36.405Z"
      },
      {
        "duration": 3468,
        "start_time": "2022-11-22T15:21:37.681Z"
      },
      {
        "duration": 25,
        "start_time": "2022-11-22T15:21:41.151Z"
      },
      {
        "duration": 223,
        "start_time": "2022-11-22T15:21:41.178Z"
      },
      {
        "duration": 1885,
        "start_time": "2022-11-22T15:21:41.403Z"
      },
      {
        "duration": 6,
        "start_time": "2022-11-22T15:21:43.289Z"
      },
      {
        "duration": 6,
        "start_time": "2022-11-22T15:21:43.296Z"
      },
      {
        "duration": 10,
        "start_time": "2022-11-22T15:21:43.303Z"
      },
      {
        "duration": 794,
        "start_time": "2022-11-22T15:21:43.314Z"
      },
      {
        "duration": 95881,
        "start_time": "2022-11-22T15:21:44.110Z"
      },
      {
        "duration": 0,
        "start_time": "2022-11-22T15:23:19.993Z"
      },
      {
        "duration": 0,
        "start_time": "2022-11-22T15:23:19.994Z"
      },
      {
        "duration": 0,
        "start_time": "2022-11-22T15:23:19.995Z"
      },
      {
        "duration": 11,
        "start_time": "2022-11-22T15:23:30.146Z"
      },
      {
        "duration": 10,
        "start_time": "2022-11-22T15:23:34.722Z"
      },
      {
        "duration": 820327,
        "start_time": "2022-11-22T15:23:47.288Z"
      },
      {
        "duration": 1124,
        "start_time": "2022-11-22T15:38:01.577Z"
      },
      {
        "duration": 3,
        "start_time": "2022-11-22T15:38:13.091Z"
      },
      {
        "duration": 4,
        "start_time": "2022-11-22T15:41:12.353Z"
      },
      {
        "duration": 55,
        "start_time": "2022-11-22T15:42:55.402Z"
      },
      {
        "duration": 36,
        "start_time": "2022-11-22T15:44:24.626Z"
      },
      {
        "duration": 826,
        "start_time": "2022-11-22T15:44:55.208Z"
      },
      {
        "duration": 6,
        "start_time": "2022-11-22T15:45:11.694Z"
      },
      {
        "duration": 6,
        "start_time": "2022-11-22T15:45:31.037Z"
      },
      {
        "duration": 45,
        "start_time": "2022-11-22T15:45:58.027Z"
      },
      {
        "duration": 8,
        "start_time": "2022-11-22T15:46:03.026Z"
      },
      {
        "duration": 1314,
        "start_time": "2022-11-22T15:46:07.982Z"
      },
      {
        "duration": 3572,
        "start_time": "2022-11-22T15:46:09.297Z"
      },
      {
        "duration": 33,
        "start_time": "2022-11-22T15:46:12.872Z"
      },
      {
        "duration": 287,
        "start_time": "2022-11-22T15:46:12.908Z"
      },
      {
        "duration": 3,
        "start_time": "2022-11-22T15:46:13.198Z"
      },
      {
        "duration": 44,
        "start_time": "2022-11-22T15:46:13.203Z"
      },
      {
        "duration": 3,
        "start_time": "2022-11-22T15:46:13.249Z"
      },
      {
        "duration": 1606,
        "start_time": "2022-11-22T15:46:13.253Z"
      },
      {
        "duration": 5,
        "start_time": "2022-11-22T15:46:14.860Z"
      },
      {
        "duration": 11,
        "start_time": "2022-11-22T15:46:14.867Z"
      },
      {
        "duration": 2,
        "start_time": "2022-11-22T15:46:14.879Z"
      },
      {
        "duration": 819,
        "start_time": "2022-11-22T15:46:14.883Z"
      },
      {
        "duration": 5806,
        "start_time": "2022-11-22T15:46:15.704Z"
      },
      {
        "duration": 0,
        "start_time": "2022-11-22T15:46:21.512Z"
      },
      {
        "duration": 0,
        "start_time": "2022-11-22T15:46:21.513Z"
      },
      {
        "duration": 0,
        "start_time": "2022-11-22T15:46:21.514Z"
      },
      {
        "duration": 1231,
        "start_time": "2022-11-22T15:46:40.129Z"
      },
      {
        "duration": 925,
        "start_time": "2022-11-22T15:46:41.363Z"
      },
      {
        "duration": 27,
        "start_time": "2022-11-22T15:46:42.289Z"
      },
      {
        "duration": 229,
        "start_time": "2022-11-22T15:46:42.317Z"
      },
      {
        "duration": 3,
        "start_time": "2022-11-22T15:46:42.548Z"
      },
      {
        "duration": 44,
        "start_time": "2022-11-22T15:46:42.552Z"
      },
      {
        "duration": 2,
        "start_time": "2022-11-22T15:46:42.598Z"
      },
      {
        "duration": 1547,
        "start_time": "2022-11-22T15:46:42.601Z"
      },
      {
        "duration": 15,
        "start_time": "2022-11-22T15:46:44.150Z"
      },
      {
        "duration": 11,
        "start_time": "2022-11-22T15:46:44.167Z"
      },
      {
        "duration": 11,
        "start_time": "2022-11-22T15:46:44.180Z"
      },
      {
        "duration": 780,
        "start_time": "2022-11-22T15:46:44.193Z"
      },
      {
        "duration": 3,
        "start_time": "2022-11-22T15:46:44.978Z"
      },
      {
        "duration": 25,
        "start_time": "2022-11-22T15:46:44.984Z"
      },
      {
        "duration": 42,
        "start_time": "2022-11-22T15:46:45.011Z"
      },
      {
        "duration": 16,
        "start_time": "2022-11-22T15:46:45.055Z"
      },
      {
        "duration": 545499,
        "start_time": "2022-11-22T15:54:28.430Z"
      },
      {
        "duration": 1306,
        "start_time": "2022-11-23T08:56:15.334Z"
      },
      {
        "duration": 3495,
        "start_time": "2022-11-23T08:56:17.098Z"
      },
      {
        "duration": 27,
        "start_time": "2022-11-23T08:56:23.536Z"
      },
      {
        "duration": 226,
        "start_time": "2022-11-23T08:56:25.959Z"
      },
      {
        "duration": 2,
        "start_time": "2022-11-23T08:56:29.012Z"
      },
      {
        "duration": 34,
        "start_time": "2022-11-23T08:56:32.123Z"
      },
      {
        "duration": 3,
        "start_time": "2022-11-23T09:12:00.152Z"
      },
      {
        "duration": 1464,
        "start_time": "2022-11-23T09:12:00.875Z"
      },
      {
        "duration": 14,
        "start_time": "2022-11-23T09:12:02.341Z"
      },
      {
        "duration": 3,
        "start_time": "2022-11-23T09:12:10.040Z"
      },
      {
        "duration": 3,
        "start_time": "2022-11-23T09:12:11.282Z"
      },
      {
        "duration": 781,
        "start_time": "2022-11-23T09:12:13.346Z"
      },
      {
        "duration": 18,
        "start_time": "2022-11-23T09:18:27.158Z"
      },
      {
        "duration": 3,
        "start_time": "2022-11-23T09:18:29.688Z"
      },
      {
        "duration": 27,
        "start_time": "2022-11-23T09:18:33.886Z"
      },
      {
        "duration": 6,
        "start_time": "2022-11-23T09:18:40.029Z"
      },
      {
        "duration": 10,
        "start_time": "2022-11-23T09:19:12.071Z"
      },
      {
        "duration": 117,
        "start_time": "2022-11-23T09:19:22.089Z"
      },
      {
        "duration": 7,
        "start_time": "2022-11-23T09:20:31.924Z"
      },
      {
        "duration": 7,
        "start_time": "2022-11-23T09:20:33.329Z"
      },
      {
        "duration": 7,
        "start_time": "2022-11-23T09:20:52.643Z"
      },
      {
        "duration": 7,
        "start_time": "2022-11-23T09:20:53.403Z"
      },
      {
        "duration": 6,
        "start_time": "2022-11-23T09:20:56.633Z"
      },
      {
        "duration": 8,
        "start_time": "2022-11-23T09:20:58.434Z"
      },
      {
        "duration": 7,
        "start_time": "2022-11-23T09:21:05.669Z"
      },
      {
        "duration": 8,
        "start_time": "2022-11-23T09:21:06.644Z"
      },
      {
        "duration": 6,
        "start_time": "2022-11-23T09:21:12.560Z"
      },
      {
        "duration": 9,
        "start_time": "2022-11-23T09:21:14.288Z"
      },
      {
        "duration": 4,
        "start_time": "2022-11-23T09:22:39.097Z"
      },
      {
        "duration": 849,
        "start_time": "2022-11-23T09:22:39.106Z"
      },
      {
        "duration": 27,
        "start_time": "2022-11-23T09:22:39.957Z"
      },
      {
        "duration": 233,
        "start_time": "2022-11-23T09:22:39.986Z"
      },
      {
        "duration": 9,
        "start_time": "2022-11-23T09:22:40.222Z"
      },
      {
        "duration": 7,
        "start_time": "2022-11-23T09:22:46.580Z"
      },
      {
        "duration": 3,
        "start_time": "2022-11-23T09:22:50.489Z"
      },
      {
        "duration": 10,
        "start_time": "2022-11-23T09:22:53.507Z"
      },
      {
        "duration": 6,
        "start_time": "2022-11-23T09:22:58.657Z"
      },
      {
        "duration": 198,
        "start_time": "2022-11-23T09:23:05.202Z"
      },
      {
        "duration": 4,
        "start_time": "2022-11-23T09:23:06.373Z"
      },
      {
        "duration": 2,
        "start_time": "2022-11-23T09:23:07.294Z"
      },
      {
        "duration": 3,
        "start_time": "2022-11-23T09:23:08.644Z"
      },
      {
        "duration": 697,
        "start_time": "2022-11-23T09:23:11.926Z"
      },
      {
        "duration": 76248,
        "start_time": "2022-11-23T09:23:23.945Z"
      },
      {
        "duration": 4,
        "start_time": "2022-11-23T09:24:50.193Z"
      },
      {
        "duration": 809,
        "start_time": "2022-11-23T09:24:50.198Z"
      },
      {
        "duration": 31,
        "start_time": "2022-11-23T09:24:51.008Z"
      },
      {
        "duration": 232,
        "start_time": "2022-11-23T09:24:51.041Z"
      },
      {
        "duration": 7,
        "start_time": "2022-11-23T09:24:51.275Z"
      },
      {
        "duration": 11,
        "start_time": "2022-11-23T09:24:51.284Z"
      },
      {
        "duration": 3,
        "start_time": "2022-11-23T09:24:58.064Z"
      },
      {
        "duration": 9,
        "start_time": "2022-11-23T09:24:59.699Z"
      },
      {
        "duration": 2,
        "start_time": "2022-11-23T09:25:03.282Z"
      },
      {
        "duration": 23,
        "start_time": "2022-11-23T09:25:03.941Z"
      },
      {
        "duration": 3,
        "start_time": "2022-11-23T09:25:04.605Z"
      },
      {
        "duration": 3,
        "start_time": "2022-11-23T09:25:06.886Z"
      },
      {
        "duration": 3,
        "start_time": "2022-11-23T09:25:08.637Z"
      },
      {
        "duration": 730,
        "start_time": "2022-11-23T09:25:12.187Z"
      },
      {
        "duration": 163763,
        "start_time": "2022-11-23T09:25:16.068Z"
      },
      {
        "duration": 7,
        "start_time": "2022-11-23T09:30:15.018Z"
      },
      {
        "duration": 6,
        "start_time": "2022-11-23T09:30:33.497Z"
      },
      {
        "duration": 1099,
        "start_time": "2022-11-23T09:30:47.138Z"
      },
      {
        "duration": 7,
        "start_time": "2022-11-23T09:31:16.833Z"
      },
      {
        "duration": 7,
        "start_time": "2022-11-23T09:31:27.631Z"
      },
      {
        "duration": 5,
        "start_time": "2022-11-23T09:32:39.252Z"
      },
      {
        "duration": 7,
        "start_time": "2022-11-23T09:32:43.855Z"
      },
      {
        "duration": 1294,
        "start_time": "2022-11-23T09:33:19.247Z"
      },
      {
        "duration": 7,
        "start_time": "2022-11-23T09:33:35.372Z"
      },
      {
        "duration": 41,
        "start_time": "2022-11-23T09:34:17.083Z"
      },
      {
        "duration": 1354,
        "start_time": "2022-11-23T09:34:31.221Z"
      },
      {
        "duration": 4,
        "start_time": "2022-11-23T09:34:34.079Z"
      },
      {
        "duration": 8,
        "start_time": "2022-11-23T09:34:40.754Z"
      },
      {
        "duration": 5,
        "start_time": "2022-11-23T09:35:05.471Z"
      },
      {
        "duration": 11,
        "start_time": "2022-11-23T09:35:07.143Z"
      },
      {
        "duration": 229345,
        "start_time": "2022-11-23T09:36:34.747Z"
      },
      {
        "duration": 1327,
        "start_time": "2022-11-23T09:42:40.136Z"
      },
      {
        "duration": 5,
        "start_time": "2022-11-23T09:42:44.409Z"
      },
      {
        "duration": 10,
        "start_time": "2022-11-23T09:42:47.656Z"
      },
      {
        "duration": 7,
        "start_time": "2022-11-23T09:42:55.968Z"
      },
      {
        "duration": 9,
        "start_time": "2022-11-23T09:42:57.437Z"
      },
      {
        "duration": 17,
        "start_time": "2022-11-23T09:43:25.657Z"
      },
      {
        "duration": 712,
        "start_time": "2022-11-23T09:43:29.040Z"
      },
      {
        "duration": 162,
        "start_time": "2022-11-23T09:46:15.037Z"
      },
      {
        "duration": 15,
        "start_time": "2022-11-23T09:47:44.008Z"
      },
      {
        "duration": 5,
        "start_time": "2022-11-23T09:48:11.450Z"
      },
      {
        "duration": 11,
        "start_time": "2022-11-23T09:48:12.760Z"
      },
      {
        "duration": 4,
        "start_time": "2022-11-23T09:48:38.652Z"
      },
      {
        "duration": 68,
        "start_time": "2022-11-23T09:48:50.466Z"
      },
      {
        "duration": 4,
        "start_time": "2022-11-23T09:49:32.476Z"
      },
      {
        "duration": 4,
        "start_time": "2022-11-23T09:49:38.082Z"
      },
      {
        "duration": 16,
        "start_time": "2022-11-23T09:56:29.185Z"
      },
      {
        "duration": 3,
        "start_time": "2022-11-23T09:57:19.918Z"
      },
      {
        "duration": 18,
        "start_time": "2022-11-23T09:57:24.146Z"
      },
      {
        "duration": 77,
        "start_time": "2022-11-23T10:03:24.556Z"
      },
      {
        "duration": 5,
        "start_time": "2022-11-23T10:03:25.592Z"
      },
      {
        "duration": 78,
        "start_time": "2022-11-23T10:03:29.792Z"
      },
      {
        "duration": 99,
        "start_time": "2022-11-23T10:03:54.307Z"
      },
      {
        "duration": 10,
        "start_time": "2022-11-23T10:51:34.379Z"
      },
      {
        "duration": 5,
        "start_time": "2022-11-23T10:52:04.165Z"
      },
      {
        "duration": 3,
        "start_time": "2022-11-23T10:52:09.471Z"
      },
      {
        "duration": 2,
        "start_time": "2022-11-23T10:52:27.909Z"
      },
      {
        "duration": 34,
        "start_time": "2022-11-23T10:53:18.290Z"
      },
      {
        "duration": 2,
        "start_time": "2022-11-23T10:55:01.806Z"
      },
      {
        "duration": 1341,
        "start_time": "2022-11-23T10:55:06.681Z"
      },
      {
        "duration": 866,
        "start_time": "2022-11-23T10:55:08.024Z"
      },
      {
        "duration": 37,
        "start_time": "2022-11-23T10:55:08.892Z"
      },
      {
        "duration": 243,
        "start_time": "2022-11-23T10:55:08.931Z"
      },
      {
        "duration": 8,
        "start_time": "2022-11-23T10:55:09.176Z"
      },
      {
        "duration": 10,
        "start_time": "2022-11-23T10:55:09.186Z"
      },
      {
        "duration": 6,
        "start_time": "2022-11-23T10:55:09.198Z"
      },
      {
        "duration": 4,
        "start_time": "2022-11-23T10:55:09.221Z"
      },
      {
        "duration": 8,
        "start_time": "2022-11-23T10:55:09.226Z"
      },
      {
        "duration": 1352,
        "start_time": "2022-11-23T10:55:09.237Z"
      },
      {
        "duration": 4,
        "start_time": "2022-11-23T10:55:10.592Z"
      },
      {
        "duration": 26,
        "start_time": "2022-11-23T10:55:10.598Z"
      },
      {
        "duration": 11,
        "start_time": "2022-11-23T10:55:10.625Z"
      },
      {
        "duration": 11,
        "start_time": "2022-11-23T10:55:10.638Z"
      },
      {
        "duration": 22,
        "start_time": "2022-11-23T10:55:10.652Z"
      },
      {
        "duration": 727,
        "start_time": "2022-11-23T10:55:10.676Z"
      },
      {
        "duration": 237,
        "start_time": "2022-11-23T10:55:11.405Z"
      },
      {
        "duration": 122,
        "start_time": "2022-11-23T10:55:11.644Z"
      },
      {
        "duration": 0,
        "start_time": "2022-11-23T10:55:11.768Z"
      },
      {
        "duration": 0,
        "start_time": "2022-11-23T10:55:11.769Z"
      },
      {
        "duration": 0,
        "start_time": "2022-11-23T10:55:11.770Z"
      },
      {
        "duration": 0,
        "start_time": "2022-11-23T10:55:11.772Z"
      },
      {
        "duration": 0,
        "start_time": "2022-11-23T10:55:11.773Z"
      },
      {
        "duration": 0,
        "start_time": "2022-11-23T10:55:11.774Z"
      },
      {
        "duration": 0,
        "start_time": "2022-11-23T10:55:11.775Z"
      },
      {
        "duration": 0,
        "start_time": "2022-11-23T10:55:11.776Z"
      },
      {
        "duration": 10,
        "start_time": "2022-11-23T10:55:27.808Z"
      },
      {
        "duration": 10,
        "start_time": "2022-11-23T10:55:36.043Z"
      },
      {
        "duration": 119,
        "start_time": "2022-11-23T10:56:13.116Z"
      },
      {
        "duration": 1379,
        "start_time": "2022-11-23T10:56:19.530Z"
      },
      {
        "duration": 947,
        "start_time": "2022-11-23T10:56:20.912Z"
      },
      {
        "duration": 31,
        "start_time": "2022-11-23T10:56:21.861Z"
      },
      {
        "duration": 255,
        "start_time": "2022-11-23T10:56:21.894Z"
      },
      {
        "duration": 10,
        "start_time": "2022-11-23T10:56:22.152Z"
      },
      {
        "duration": 15,
        "start_time": "2022-11-23T10:56:22.164Z"
      },
      {
        "duration": 13,
        "start_time": "2022-11-23T10:56:22.181Z"
      },
      {
        "duration": 23,
        "start_time": "2022-11-23T10:56:22.196Z"
      },
      {
        "duration": 34,
        "start_time": "2022-11-23T10:56:22.221Z"
      },
      {
        "duration": 1369,
        "start_time": "2022-11-23T10:56:22.259Z"
      },
      {
        "duration": 6,
        "start_time": "2022-11-23T10:56:23.630Z"
      },
      {
        "duration": 22,
        "start_time": "2022-11-23T10:56:23.638Z"
      },
      {
        "duration": 12,
        "start_time": "2022-11-23T10:56:23.662Z"
      },
      {
        "duration": 16,
        "start_time": "2022-11-23T10:56:23.677Z"
      },
      {
        "duration": 30,
        "start_time": "2022-11-23T10:56:23.695Z"
      },
      {
        "duration": 767,
        "start_time": "2022-11-23T10:56:23.728Z"
      },
      {
        "duration": 168,
        "start_time": "2022-11-23T10:56:24.497Z"
      },
      {
        "duration": 68,
        "start_time": "2022-11-23T10:56:24.667Z"
      },
      {
        "duration": 4,
        "start_time": "2022-11-23T10:56:24.737Z"
      },
      {
        "duration": 107,
        "start_time": "2022-11-23T10:56:24.743Z"
      },
      {
        "duration": 3,
        "start_time": "2022-11-23T10:56:24.852Z"
      },
      {
        "duration": 5,
        "start_time": "2022-11-23T10:56:24.856Z"
      },
      {
        "duration": 5,
        "start_time": "2022-11-23T10:56:24.863Z"
      },
      {
        "duration": 6,
        "start_time": "2022-11-23T10:56:24.870Z"
      },
      {
        "duration": 70,
        "start_time": "2022-11-23T10:56:24.879Z"
      },
      {
        "duration": 3,
        "start_time": "2022-11-23T10:56:24.951Z"
      },
      {
        "duration": 9,
        "start_time": "2022-11-23T13:11:39.802Z"
      },
      {
        "duration": 8,
        "start_time": "2022-11-23T13:11:50.904Z"
      },
      {
        "duration": 1329,
        "start_time": "2022-11-23T13:14:19.426Z"
      },
      {
        "duration": 5,
        "start_time": "2022-11-23T13:14:38.720Z"
      },
      {
        "duration": 8,
        "start_time": "2022-11-23T13:14:58.250Z"
      },
      {
        "duration": 71,
        "start_time": "2022-11-23T13:20:56.859Z"
      },
      {
        "duration": 73,
        "start_time": "2022-11-23T13:21:07.931Z"
      },
      {
        "duration": 70,
        "start_time": "2022-11-23T13:22:08.827Z"
      },
      {
        "duration": 71,
        "start_time": "2022-11-23T13:22:26.741Z"
      },
      {
        "duration": 33,
        "start_time": "2022-11-23T13:23:05.454Z"
      },
      {
        "duration": 1338,
        "start_time": "2022-11-23T13:23:12.371Z"
      },
      {
        "duration": 921,
        "start_time": "2022-11-23T13:23:13.712Z"
      },
      {
        "duration": 35,
        "start_time": "2022-11-23T13:23:14.635Z"
      },
      {
        "duration": 247,
        "start_time": "2022-11-23T13:23:14.673Z"
      },
      {
        "duration": 8,
        "start_time": "2022-11-23T13:23:14.922Z"
      },
      {
        "duration": 15,
        "start_time": "2022-11-23T13:23:14.931Z"
      },
      {
        "duration": 19,
        "start_time": "2022-11-23T13:23:14.950Z"
      },
      {
        "duration": 11,
        "start_time": "2022-11-23T13:23:14.970Z"
      },
      {
        "duration": 19,
        "start_time": "2022-11-23T13:23:14.983Z"
      },
      {
        "duration": 1327,
        "start_time": "2022-11-23T13:23:15.005Z"
      },
      {
        "duration": 5,
        "start_time": "2022-11-23T13:23:16.335Z"
      },
      {
        "duration": 11,
        "start_time": "2022-11-23T13:23:16.342Z"
      },
      {
        "duration": 11,
        "start_time": "2022-11-23T13:23:16.356Z"
      },
      {
        "duration": 21,
        "start_time": "2022-11-23T13:23:16.368Z"
      },
      {
        "duration": 136,
        "start_time": "2022-11-23T13:23:16.391Z"
      },
      {
        "duration": 0,
        "start_time": "2022-11-23T13:23:16.529Z"
      },
      {
        "duration": 0,
        "start_time": "2022-11-23T13:23:16.531Z"
      },
      {
        "duration": 0,
        "start_time": "2022-11-23T13:23:16.532Z"
      },
      {
        "duration": 0,
        "start_time": "2022-11-23T13:23:16.533Z"
      },
      {
        "duration": 0,
        "start_time": "2022-11-23T13:23:16.535Z"
      },
      {
        "duration": 0,
        "start_time": "2022-11-23T13:23:16.536Z"
      },
      {
        "duration": 0,
        "start_time": "2022-11-23T13:23:16.538Z"
      },
      {
        "duration": 0,
        "start_time": "2022-11-23T13:23:16.539Z"
      },
      {
        "duration": 0,
        "start_time": "2022-11-23T13:23:16.540Z"
      },
      {
        "duration": 0,
        "start_time": "2022-11-23T13:23:16.546Z"
      },
      {
        "duration": 1669,
        "start_time": "2022-11-23T13:23:40.220Z"
      },
      {
        "duration": 868,
        "start_time": "2022-11-23T13:23:41.891Z"
      },
      {
        "duration": 29,
        "start_time": "2022-11-23T13:23:42.760Z"
      },
      {
        "duration": 242,
        "start_time": "2022-11-23T13:23:42.791Z"
      },
      {
        "duration": 8,
        "start_time": "2022-11-23T13:23:43.035Z"
      },
      {
        "duration": 13,
        "start_time": "2022-11-23T13:23:43.044Z"
      },
      {
        "duration": 5,
        "start_time": "2022-11-23T13:23:43.059Z"
      },
      {
        "duration": 21,
        "start_time": "2022-11-23T13:23:43.066Z"
      },
      {
        "duration": 12,
        "start_time": "2022-11-23T13:23:43.089Z"
      },
      {
        "duration": 1366,
        "start_time": "2022-11-23T13:23:43.104Z"
      },
      {
        "duration": 6,
        "start_time": "2022-11-23T13:23:44.473Z"
      },
      {
        "duration": 27,
        "start_time": "2022-11-23T13:23:44.481Z"
      },
      {
        "duration": 18,
        "start_time": "2022-11-23T13:23:44.509Z"
      },
      {
        "duration": 38,
        "start_time": "2022-11-23T13:23:44.529Z"
      },
      {
        "duration": 14,
        "start_time": "2022-11-23T13:23:44.569Z"
      },
      {
        "duration": 247,
        "start_time": "2022-11-23T13:23:44.585Z"
      },
      {
        "duration": 132,
        "start_time": "2022-11-23T13:23:44.833Z"
      },
      {
        "duration": 0,
        "start_time": "2022-11-23T13:23:44.966Z"
      },
      {
        "duration": 0,
        "start_time": "2022-11-23T13:23:44.968Z"
      },
      {
        "duration": 0,
        "start_time": "2022-11-23T13:23:44.969Z"
      },
      {
        "duration": 0,
        "start_time": "2022-11-23T13:23:44.970Z"
      },
      {
        "duration": 0,
        "start_time": "2022-11-23T13:23:44.971Z"
      },
      {
        "duration": 0,
        "start_time": "2022-11-23T13:23:44.972Z"
      },
      {
        "duration": 0,
        "start_time": "2022-11-23T13:23:44.973Z"
      },
      {
        "duration": 0,
        "start_time": "2022-11-23T13:23:44.975Z"
      },
      {
        "duration": 1273,
        "start_time": "2022-11-23T13:24:16.468Z"
      },
      {
        "duration": 880,
        "start_time": "2022-11-23T13:24:17.743Z"
      },
      {
        "duration": 29,
        "start_time": "2022-11-23T13:24:18.624Z"
      },
      {
        "duration": 260,
        "start_time": "2022-11-23T13:24:18.656Z"
      },
      {
        "duration": 11,
        "start_time": "2022-11-23T13:24:18.917Z"
      },
      {
        "duration": 24,
        "start_time": "2022-11-23T13:24:18.930Z"
      },
      {
        "duration": 10,
        "start_time": "2022-11-23T13:24:18.956Z"
      },
      {
        "duration": 29,
        "start_time": "2022-11-23T13:24:18.967Z"
      },
      {
        "duration": 34,
        "start_time": "2022-11-23T13:24:18.999Z"
      },
      {
        "duration": 1327,
        "start_time": "2022-11-23T13:24:19.038Z"
      },
      {
        "duration": 6,
        "start_time": "2022-11-23T13:24:20.367Z"
      },
      {
        "duration": 15,
        "start_time": "2022-11-23T13:24:20.374Z"
      },
      {
        "duration": 10,
        "start_time": "2022-11-23T13:24:20.391Z"
      },
      {
        "duration": 31,
        "start_time": "2022-11-23T13:24:20.403Z"
      },
      {
        "duration": 5,
        "start_time": "2022-11-23T13:24:20.436Z"
      },
      {
        "duration": 230,
        "start_time": "2022-11-23T13:24:20.443Z"
      },
      {
        "duration": 71,
        "start_time": "2022-11-23T13:24:20.676Z"
      },
      {
        "duration": 123,
        "start_time": "2022-11-23T13:24:20.749Z"
      },
      {
        "duration": 0,
        "start_time": "2022-11-23T13:24:20.873Z"
      },
      {
        "duration": 0,
        "start_time": "2022-11-23T13:24:20.874Z"
      },
      {
        "duration": 0,
        "start_time": "2022-11-23T13:24:20.875Z"
      },
      {
        "duration": 0,
        "start_time": "2022-11-23T13:24:20.876Z"
      },
      {
        "duration": 0,
        "start_time": "2022-11-23T13:24:20.878Z"
      },
      {
        "duration": 0,
        "start_time": "2022-11-23T13:24:20.879Z"
      },
      {
        "duration": 0,
        "start_time": "2022-11-23T13:24:20.880Z"
      },
      {
        "duration": 1348,
        "start_time": "2022-11-23T13:24:34.526Z"
      },
      {
        "duration": 864,
        "start_time": "2022-11-23T13:24:35.876Z"
      },
      {
        "duration": 28,
        "start_time": "2022-11-23T13:24:36.742Z"
      },
      {
        "duration": 239,
        "start_time": "2022-11-23T13:24:36.772Z"
      },
      {
        "duration": 10,
        "start_time": "2022-11-23T13:24:37.013Z"
      },
      {
        "duration": 24,
        "start_time": "2022-11-23T13:24:37.025Z"
      },
      {
        "duration": 18,
        "start_time": "2022-11-23T13:24:37.052Z"
      },
      {
        "duration": 9,
        "start_time": "2022-11-23T13:24:37.072Z"
      },
      {
        "duration": 14,
        "start_time": "2022-11-23T13:24:37.083Z"
      },
      {
        "duration": 1362,
        "start_time": "2022-11-23T13:24:37.100Z"
      },
      {
        "duration": 6,
        "start_time": "2022-11-23T13:24:38.465Z"
      },
      {
        "duration": 18,
        "start_time": "2022-11-23T13:24:38.473Z"
      },
      {
        "duration": 8,
        "start_time": "2022-11-23T13:24:38.493Z"
      },
      {
        "duration": 31,
        "start_time": "2022-11-23T13:24:38.503Z"
      },
      {
        "duration": 5,
        "start_time": "2022-11-23T13:24:38.537Z"
      },
      {
        "duration": 220,
        "start_time": "2022-11-23T13:24:38.544Z"
      },
      {
        "duration": 91,
        "start_time": "2022-11-23T13:24:38.766Z"
      },
      {
        "duration": 5,
        "start_time": "2022-11-23T13:24:38.860Z"
      },
      {
        "duration": 87,
        "start_time": "2022-11-23T13:24:38.867Z"
      },
      {
        "duration": 3,
        "start_time": "2022-11-23T13:24:38.956Z"
      },
      {
        "duration": 6,
        "start_time": "2022-11-23T13:24:38.961Z"
      },
      {
        "duration": 5,
        "start_time": "2022-11-23T13:24:38.969Z"
      },
      {
        "duration": 6,
        "start_time": "2022-11-23T13:24:38.976Z"
      },
      {
        "duration": 58,
        "start_time": "2022-11-23T13:24:38.984Z"
      },
      {
        "duration": 3,
        "start_time": "2022-11-23T13:24:39.044Z"
      },
      {
        "duration": 55,
        "start_time": "2022-11-23T13:25:39.936Z"
      },
      {
        "duration": 7,
        "start_time": "2022-11-23T13:26:04.858Z"
      },
      {
        "duration": 1358,
        "start_time": "2022-11-23T13:26:30.012Z"
      },
      {
        "duration": 891,
        "start_time": "2022-11-23T13:26:31.373Z"
      },
      {
        "duration": 30,
        "start_time": "2022-11-23T13:26:32.265Z"
      },
      {
        "duration": 259,
        "start_time": "2022-11-23T13:26:32.296Z"
      },
      {
        "duration": 8,
        "start_time": "2022-11-23T13:26:32.557Z"
      },
      {
        "duration": 12,
        "start_time": "2022-11-23T13:26:32.566Z"
      },
      {
        "duration": 8,
        "start_time": "2022-11-23T13:26:32.580Z"
      },
      {
        "duration": 9,
        "start_time": "2022-11-23T13:26:32.589Z"
      },
      {
        "duration": 6,
        "start_time": "2022-11-23T13:26:32.599Z"
      },
      {
        "duration": 1274,
        "start_time": "2022-11-23T13:26:32.607Z"
      },
      {
        "duration": 6,
        "start_time": "2022-11-23T13:26:33.883Z"
      },
      {
        "duration": 19,
        "start_time": "2022-11-23T13:26:33.890Z"
      },
      {
        "duration": 23,
        "start_time": "2022-11-23T13:26:33.910Z"
      },
      {
        "duration": 53,
        "start_time": "2022-11-23T13:26:33.935Z"
      },
      {
        "duration": 3,
        "start_time": "2022-11-23T13:26:33.989Z"
      },
      {
        "duration": 247,
        "start_time": "2022-11-23T13:26:33.994Z"
      },
      {
        "duration": 91,
        "start_time": "2022-11-23T13:26:34.243Z"
      },
      {
        "duration": 5,
        "start_time": "2022-11-23T13:26:34.336Z"
      },
      {
        "duration": 85,
        "start_time": "2022-11-23T13:26:34.342Z"
      },
      {
        "duration": 2,
        "start_time": "2022-11-23T13:26:34.429Z"
      },
      {
        "duration": 31,
        "start_time": "2022-11-23T13:26:34.434Z"
      },
      {
        "duration": 24,
        "start_time": "2022-11-23T13:26:34.467Z"
      },
      {
        "duration": 23,
        "start_time": "2022-11-23T13:26:34.492Z"
      },
      {
        "duration": 57,
        "start_time": "2022-11-23T13:26:34.517Z"
      },
      {
        "duration": 2,
        "start_time": "2022-11-23T13:26:34.576Z"
      },
      {
        "duration": 1368,
        "start_time": "2022-11-23T13:27:19.900Z"
      },
      {
        "duration": 909,
        "start_time": "2022-11-23T13:27:21.270Z"
      },
      {
        "duration": 49,
        "start_time": "2022-11-23T13:27:22.181Z"
      },
      {
        "duration": 260,
        "start_time": "2022-11-23T13:27:22.232Z"
      },
      {
        "duration": 8,
        "start_time": "2022-11-23T13:27:22.494Z"
      },
      {
        "duration": 22,
        "start_time": "2022-11-23T13:27:22.504Z"
      },
      {
        "duration": 9,
        "start_time": "2022-11-23T13:27:22.527Z"
      },
      {
        "duration": 13,
        "start_time": "2022-11-23T13:27:22.538Z"
      },
      {
        "duration": 7,
        "start_time": "2022-11-23T13:27:22.553Z"
      },
      {
        "duration": 1419,
        "start_time": "2022-11-23T13:27:22.563Z"
      },
      {
        "duration": 5,
        "start_time": "2022-11-23T13:27:23.984Z"
      },
      {
        "duration": 12,
        "start_time": "2022-11-23T13:27:23.991Z"
      },
      {
        "duration": 21,
        "start_time": "2022-11-23T13:27:24.005Z"
      },
      {
        "duration": 32,
        "start_time": "2022-11-23T13:27:24.028Z"
      },
      {
        "duration": 26,
        "start_time": "2022-11-23T13:27:24.063Z"
      },
      {
        "duration": 267,
        "start_time": "2022-11-23T13:27:24.092Z"
      },
      {
        "duration": 58,
        "start_time": "2022-11-23T13:27:24.361Z"
      },
      {
        "duration": 4,
        "start_time": "2022-11-23T13:27:24.421Z"
      },
      {
        "duration": 79,
        "start_time": "2022-11-23T13:27:24.427Z"
      },
      {
        "duration": 2,
        "start_time": "2022-11-23T13:27:24.508Z"
      },
      {
        "duration": 14,
        "start_time": "2022-11-23T13:27:24.512Z"
      },
      {
        "duration": 6,
        "start_time": "2022-11-23T13:27:24.528Z"
      },
      {
        "duration": 4,
        "start_time": "2022-11-23T13:27:24.536Z"
      },
      {
        "duration": 36,
        "start_time": "2022-11-23T13:27:24.542Z"
      },
      {
        "duration": 2,
        "start_time": "2022-11-23T13:27:24.580Z"
      },
      {
        "duration": 1409,
        "start_time": "2022-11-23T13:33:23.503Z"
      },
      {
        "duration": 904,
        "start_time": "2022-11-23T13:33:24.914Z"
      },
      {
        "duration": 32,
        "start_time": "2022-11-23T13:33:25.821Z"
      },
      {
        "duration": 262,
        "start_time": "2022-11-23T13:33:25.856Z"
      },
      {
        "duration": 8,
        "start_time": "2022-11-23T13:33:26.122Z"
      },
      {
        "duration": 24,
        "start_time": "2022-11-23T13:33:26.132Z"
      },
      {
        "duration": 10,
        "start_time": "2022-11-23T13:33:26.158Z"
      },
      {
        "duration": 26,
        "start_time": "2022-11-23T13:33:26.170Z"
      },
      {
        "duration": 13,
        "start_time": "2022-11-23T13:33:26.198Z"
      },
      {
        "duration": 1372,
        "start_time": "2022-11-23T13:33:26.214Z"
      },
      {
        "duration": 5,
        "start_time": "2022-11-23T13:33:27.588Z"
      },
      {
        "duration": 15,
        "start_time": "2022-11-23T13:33:27.594Z"
      },
      {
        "duration": 16,
        "start_time": "2022-11-23T13:33:27.611Z"
      },
      {
        "duration": 19,
        "start_time": "2022-11-23T13:33:27.629Z"
      },
      {
        "duration": 9,
        "start_time": "2022-11-23T13:33:27.649Z"
      },
      {
        "duration": 270,
        "start_time": "2022-11-23T13:33:27.660Z"
      },
      {
        "duration": 56,
        "start_time": "2022-11-23T13:33:27.932Z"
      },
      {
        "duration": 4,
        "start_time": "2022-11-23T13:33:27.990Z"
      },
      {
        "duration": 89,
        "start_time": "2022-11-23T13:33:27.995Z"
      },
      {
        "duration": 2,
        "start_time": "2022-11-23T13:33:28.086Z"
      },
      {
        "duration": 8,
        "start_time": "2022-11-23T13:33:28.090Z"
      },
      {
        "duration": 10,
        "start_time": "2022-11-23T13:33:28.099Z"
      },
      {
        "duration": 11,
        "start_time": "2022-11-23T13:33:28.111Z"
      },
      {
        "duration": 141,
        "start_time": "2022-11-23T13:33:28.123Z"
      },
      {
        "duration": 0,
        "start_time": "2022-11-23T13:33:28.266Z"
      },
      {
        "duration": 3,
        "start_time": "2022-11-23T13:35:50.613Z"
      },
      {
        "duration": 64,
        "start_time": "2022-11-23T13:36:06.944Z"
      },
      {
        "duration": 4,
        "start_time": "2022-11-23T13:36:17.300Z"
      },
      {
        "duration": 77,
        "start_time": "2022-11-23T13:36:30.196Z"
      },
      {
        "duration": 3,
        "start_time": "2022-11-23T13:36:34.037Z"
      },
      {
        "duration": 40,
        "start_time": "2022-11-23T13:36:37.142Z"
      },
      {
        "duration": 4,
        "start_time": "2022-11-23T13:38:17.435Z"
      },
      {
        "duration": 4,
        "start_time": "2022-11-23T13:38:55.007Z"
      },
      {
        "duration": 6,
        "start_time": "2022-11-23T13:39:32.823Z"
      },
      {
        "duration": 1396,
        "start_time": "2022-11-23T13:41:48.184Z"
      },
      {
        "duration": 886,
        "start_time": "2022-11-23T13:41:49.582Z"
      },
      {
        "duration": 29,
        "start_time": "2022-11-23T13:41:50.470Z"
      },
      {
        "duration": 249,
        "start_time": "2022-11-23T13:41:50.501Z"
      },
      {
        "duration": 8,
        "start_time": "2022-11-23T13:41:50.752Z"
      },
      {
        "duration": 28,
        "start_time": "2022-11-23T13:41:50.762Z"
      },
      {
        "duration": 47,
        "start_time": "2022-11-23T13:41:50.792Z"
      },
      {
        "duration": 18,
        "start_time": "2022-11-23T13:41:50.841Z"
      },
      {
        "duration": 23,
        "start_time": "2022-11-23T13:41:50.861Z"
      },
      {
        "duration": 1939,
        "start_time": "2022-11-23T13:41:50.887Z"
      },
      {
        "duration": 7,
        "start_time": "2022-11-23T13:41:52.828Z"
      },
      {
        "duration": 12,
        "start_time": "2022-11-23T13:41:52.837Z"
      },
      {
        "duration": 13,
        "start_time": "2022-11-23T13:41:52.850Z"
      },
      {
        "duration": 36,
        "start_time": "2022-11-23T13:41:52.865Z"
      },
      {
        "duration": 21,
        "start_time": "2022-11-23T13:41:52.903Z"
      },
      {
        "duration": 229,
        "start_time": "2022-11-23T13:41:52.926Z"
      },
      {
        "duration": 95,
        "start_time": "2022-11-23T13:41:53.157Z"
      },
      {
        "duration": 4,
        "start_time": "2022-11-23T13:41:53.254Z"
      },
      {
        "duration": 6,
        "start_time": "2022-11-23T13:41:53.260Z"
      },
      {
        "duration": 144,
        "start_time": "2022-11-23T13:41:53.268Z"
      },
      {
        "duration": 8,
        "start_time": "2022-11-23T13:41:53.414Z"
      },
      {
        "duration": 3,
        "start_time": "2022-11-23T13:41:53.424Z"
      },
      {
        "duration": 22,
        "start_time": "2022-11-23T13:41:53.429Z"
      },
      {
        "duration": 16,
        "start_time": "2022-11-23T13:41:53.452Z"
      },
      {
        "duration": 760,
        "start_time": "2022-11-23T13:41:53.470Z"
      },
      {
        "duration": 95,
        "start_time": "2022-11-23T13:41:54.232Z"
      },
      {
        "duration": 99,
        "start_time": "2022-11-23T13:41:54.329Z"
      },
      {
        "duration": 2006,
        "start_time": "2022-11-23T13:42:19.576Z"
      },
      {
        "duration": 1352,
        "start_time": "2022-11-23T13:42:35.008Z"
      },
      {
        "duration": 875,
        "start_time": "2022-11-23T13:42:36.362Z"
      },
      {
        "duration": 28,
        "start_time": "2022-11-23T13:42:37.239Z"
      },
      {
        "duration": 259,
        "start_time": "2022-11-23T13:42:37.269Z"
      },
      {
        "duration": 8,
        "start_time": "2022-11-23T13:42:37.530Z"
      },
      {
        "duration": 20,
        "start_time": "2022-11-23T13:42:37.540Z"
      },
      {
        "duration": 25,
        "start_time": "2022-11-23T13:42:37.562Z"
      },
      {
        "duration": 19,
        "start_time": "2022-11-23T13:42:37.588Z"
      },
      {
        "duration": 50,
        "start_time": "2022-11-23T13:42:37.609Z"
      },
      {
        "duration": 3515,
        "start_time": "2022-11-23T13:42:37.661Z"
      },
      {
        "duration": 5,
        "start_time": "2022-11-23T13:42:41.178Z"
      },
      {
        "duration": 36,
        "start_time": "2022-11-23T13:42:41.185Z"
      },
      {
        "duration": 16,
        "start_time": "2022-11-23T13:42:41.223Z"
      },
      {
        "duration": 91,
        "start_time": "2022-11-23T13:42:41.241Z"
      },
      {
        "duration": 29,
        "start_time": "2022-11-23T13:42:41.334Z"
      },
      {
        "duration": 216,
        "start_time": "2022-11-23T13:42:41.365Z"
      },
      {
        "duration": 234,
        "start_time": "2022-11-23T13:42:41.583Z"
      },
      {
        "duration": 3,
        "start_time": "2022-11-23T13:42:41.822Z"
      },
      {
        "duration": 14,
        "start_time": "2022-11-23T13:42:41.827Z"
      },
      {
        "duration": 308,
        "start_time": "2022-11-23T13:42:41.843Z"
      },
      {
        "duration": 2,
        "start_time": "2022-11-23T13:42:42.153Z"
      },
      {
        "duration": 23,
        "start_time": "2022-11-23T13:42:42.156Z"
      },
      {
        "duration": 31,
        "start_time": "2022-11-23T13:42:42.180Z"
      },
      {
        "duration": 28,
        "start_time": "2022-11-23T13:42:42.213Z"
      },
      {
        "duration": 2085,
        "start_time": "2022-11-23T13:42:42.243Z"
      },
      {
        "duration": 91,
        "start_time": "2022-11-23T13:42:44.332Z"
      },
      {
        "duration": 40,
        "start_time": "2022-11-23T13:42:44.425Z"
      },
      {
        "duration": 393,
        "start_time": "2022-11-23T13:43:22.674Z"
      },
      {
        "duration": 1339,
        "start_time": "2022-11-23T13:43:28.908Z"
      },
      {
        "duration": 908,
        "start_time": "2022-11-23T13:43:30.249Z"
      },
      {
        "duration": 29,
        "start_time": "2022-11-23T13:43:31.159Z"
      },
      {
        "duration": 266,
        "start_time": "2022-11-23T13:43:31.190Z"
      },
      {
        "duration": 10,
        "start_time": "2022-11-23T13:43:31.458Z"
      },
      {
        "duration": 37,
        "start_time": "2022-11-23T13:43:31.469Z"
      },
      {
        "duration": 30,
        "start_time": "2022-11-23T13:43:31.508Z"
      },
      {
        "duration": 26,
        "start_time": "2022-11-23T13:43:31.539Z"
      },
      {
        "duration": 31,
        "start_time": "2022-11-23T13:43:31.567Z"
      },
      {
        "duration": 4980,
        "start_time": "2022-11-23T13:43:31.601Z"
      },
      {
        "duration": 6,
        "start_time": "2022-11-23T13:43:36.583Z"
      },
      {
        "duration": 34,
        "start_time": "2022-11-23T13:43:36.591Z"
      },
      {
        "duration": 39,
        "start_time": "2022-11-23T13:43:36.628Z"
      },
      {
        "duration": 108,
        "start_time": "2022-11-23T13:43:36.669Z"
      },
      {
        "duration": 18,
        "start_time": "2022-11-23T13:43:36.778Z"
      },
      {
        "duration": 164,
        "start_time": "2022-11-23T13:43:36.798Z"
      },
      {
        "duration": 314,
        "start_time": "2022-11-23T13:43:36.964Z"
      },
      {
        "duration": 4,
        "start_time": "2022-11-23T13:43:37.280Z"
      },
      {
        "duration": 21,
        "start_time": "2022-11-23T13:43:37.286Z"
      },
      {
        "duration": 440,
        "start_time": "2022-11-23T13:43:37.309Z"
      },
      {
        "duration": 3,
        "start_time": "2022-11-23T13:43:37.751Z"
      },
      {
        "duration": 36,
        "start_time": "2022-11-23T13:43:37.755Z"
      },
      {
        "duration": 21,
        "start_time": "2022-11-23T13:43:37.793Z"
      },
      {
        "duration": 30,
        "start_time": "2022-11-23T13:43:37.815Z"
      },
      {
        "duration": 3078,
        "start_time": "2022-11-23T13:43:37.847Z"
      },
      {
        "duration": 3,
        "start_time": "2022-11-23T13:43:40.928Z"
      },
      {
        "duration": 99,
        "start_time": "2022-11-23T13:43:40.933Z"
      },
      {
        "duration": 1397,
        "start_time": "2022-11-23T13:44:14.996Z"
      },
      {
        "duration": 885,
        "start_time": "2022-11-23T13:44:16.395Z"
      },
      {
        "duration": 27,
        "start_time": "2022-11-23T13:44:17.282Z"
      },
      {
        "duration": 236,
        "start_time": "2022-11-23T13:44:17.322Z"
      },
      {
        "duration": 11,
        "start_time": "2022-11-23T13:44:17.561Z"
      },
      {
        "duration": 7,
        "start_time": "2022-11-23T13:44:17.574Z"
      },
      {
        "duration": 4,
        "start_time": "2022-11-23T13:44:17.583Z"
      },
      {
        "duration": 5,
        "start_time": "2022-11-23T13:44:17.589Z"
      },
      {
        "duration": 3,
        "start_time": "2022-11-23T13:44:17.622Z"
      },
      {
        "duration": 6564,
        "start_time": "2022-11-23T13:44:17.629Z"
      },
      {
        "duration": 8,
        "start_time": "2022-11-23T13:44:24.196Z"
      },
      {
        "duration": 25,
        "start_time": "2022-11-23T13:44:24.206Z"
      },
      {
        "duration": 23,
        "start_time": "2022-11-23T13:44:24.233Z"
      },
      {
        "duration": 146,
        "start_time": "2022-11-23T13:44:24.258Z"
      },
      {
        "duration": 21,
        "start_time": "2022-11-23T13:44:24.406Z"
      },
      {
        "duration": 231,
        "start_time": "2022-11-23T13:44:24.429Z"
      },
      {
        "duration": 428,
        "start_time": "2022-11-23T13:44:24.662Z"
      },
      {
        "duration": 3,
        "start_time": "2022-11-23T13:44:25.092Z"
      },
      {
        "duration": 6,
        "start_time": "2022-11-23T13:44:25.097Z"
      },
      {
        "duration": 602,
        "start_time": "2022-11-23T13:44:25.104Z"
      },
      {
        "duration": 2,
        "start_time": "2022-11-23T13:44:25.708Z"
      },
      {
        "duration": 5,
        "start_time": "2022-11-23T13:44:25.721Z"
      },
      {
        "duration": 16,
        "start_time": "2022-11-23T13:44:25.727Z"
      },
      {
        "duration": 18,
        "start_time": "2022-11-23T13:44:25.745Z"
      },
      {
        "duration": 4459,
        "start_time": "2022-11-23T13:44:25.765Z"
      },
      {
        "duration": 5,
        "start_time": "2022-11-23T13:44:30.226Z"
      },
      {
        "duration": 116,
        "start_time": "2022-11-23T13:44:30.234Z"
      },
      {
        "duration": 1365,
        "start_time": "2022-11-23T13:45:24.889Z"
      },
      {
        "duration": 876,
        "start_time": "2022-11-23T13:45:26.256Z"
      },
      {
        "duration": 28,
        "start_time": "2022-11-23T13:45:27.134Z"
      },
      {
        "duration": 248,
        "start_time": "2022-11-23T13:45:27.164Z"
      },
      {
        "duration": 18,
        "start_time": "2022-11-23T13:45:27.414Z"
      },
      {
        "duration": 7,
        "start_time": "2022-11-23T13:45:27.433Z"
      },
      {
        "duration": 4,
        "start_time": "2022-11-23T13:45:27.442Z"
      },
      {
        "duration": 7,
        "start_time": "2022-11-23T13:45:27.448Z"
      },
      {
        "duration": 7,
        "start_time": "2022-11-23T13:45:27.457Z"
      },
      {
        "duration": 14896,
        "start_time": "2022-11-23T13:45:27.467Z"
      },
      {
        "duration": 9,
        "start_time": "2022-11-23T13:45:42.365Z"
      },
      {
        "duration": 22,
        "start_time": "2022-11-23T13:45:42.376Z"
      },
      {
        "duration": 8,
        "start_time": "2022-11-23T13:45:42.400Z"
      },
      {
        "duration": 282,
        "start_time": "2022-11-23T13:45:42.410Z"
      },
      {
        "duration": 7,
        "start_time": "2022-11-23T13:45:42.694Z"
      },
      {
        "duration": 231,
        "start_time": "2022-11-23T13:45:42.702Z"
      },
      {
        "duration": 920,
        "start_time": "2022-11-23T13:45:42.934Z"
      },
      {
        "duration": 4,
        "start_time": "2022-11-23T13:45:43.856Z"
      },
      {
        "duration": 20,
        "start_time": "2022-11-23T13:45:43.863Z"
      },
      {
        "duration": 1315,
        "start_time": "2022-11-23T13:45:43.884Z"
      },
      {
        "duration": 3,
        "start_time": "2022-11-23T13:45:45.200Z"
      },
      {
        "duration": 10,
        "start_time": "2022-11-23T13:45:45.204Z"
      },
      {
        "duration": 12,
        "start_time": "2022-11-23T13:45:45.215Z"
      },
      {
        "duration": 7,
        "start_time": "2022-11-23T13:45:45.229Z"
      },
      {
        "duration": 3892,
        "start_time": "2022-11-23T13:45:45.238Z"
      },
      {
        "duration": 4,
        "start_time": "2022-11-23T13:45:49.223Z"
      },
      {
        "duration": 31,
        "start_time": "2022-11-23T13:45:49.230Z"
      },
      {
        "duration": 1408,
        "start_time": "2022-11-23T13:46:55.221Z"
      },
      {
        "duration": 1792,
        "start_time": "2022-11-23T13:46:56.631Z"
      },
      {
        "duration": 29,
        "start_time": "2022-11-23T13:46:58.425Z"
      },
      {
        "duration": 368,
        "start_time": "2022-11-23T13:46:58.455Z"
      },
      {
        "duration": 16,
        "start_time": "2022-11-23T13:46:58.824Z"
      },
      {
        "duration": 7,
        "start_time": "2022-11-23T13:46:58.841Z"
      },
      {
        "duration": 5,
        "start_time": "2022-11-23T13:46:58.850Z"
      },
      {
        "duration": 5,
        "start_time": "2022-11-23T13:46:58.857Z"
      },
      {
        "duration": 4,
        "start_time": "2022-11-23T13:46:58.864Z"
      },
      {
        "duration": 26421,
        "start_time": "2022-11-23T13:46:58.870Z"
      },
      {
        "duration": 13,
        "start_time": "2022-11-23T13:47:25.293Z"
      },
      {
        "duration": 24,
        "start_time": "2022-11-23T13:47:25.308Z"
      },
      {
        "duration": 27,
        "start_time": "2022-11-23T13:47:25.334Z"
      },
      {
        "duration": 504,
        "start_time": "2022-11-23T13:47:25.363Z"
      },
      {
        "duration": 11,
        "start_time": "2022-11-23T13:47:25.869Z"
      },
      {
        "duration": 245,
        "start_time": "2022-11-23T13:47:25.882Z"
      },
      {
        "duration": 1779,
        "start_time": "2022-11-23T13:47:26.129Z"
      },
      {
        "duration": 4,
        "start_time": "2022-11-23T13:47:27.910Z"
      },
      {
        "duration": 8,
        "start_time": "2022-11-23T13:47:27.921Z"
      },
      {
        "duration": 2447,
        "start_time": "2022-11-23T13:47:27.931Z"
      },
      {
        "duration": 2,
        "start_time": "2022-11-23T13:47:30.380Z"
      },
      {
        "duration": 29,
        "start_time": "2022-11-23T13:47:30.384Z"
      },
      {
        "duration": 15,
        "start_time": "2022-11-23T13:47:30.415Z"
      },
      {
        "duration": 18,
        "start_time": "2022-11-23T13:47:30.432Z"
      },
      {
        "duration": 13774,
        "start_time": "2022-11-23T13:47:30.451Z"
      },
      {
        "duration": 6,
        "start_time": "2022-11-23T13:47:44.228Z"
      },
      {
        "duration": 15,
        "start_time": "2022-11-23T13:47:44.325Z"
      },
      {
        "duration": 1346,
        "start_time": "2022-11-23T13:48:37.037Z"
      },
      {
        "duration": 879,
        "start_time": "2022-11-23T13:48:38.385Z"
      },
      {
        "duration": 27,
        "start_time": "2022-11-23T13:48:39.266Z"
      },
      {
        "duration": 244,
        "start_time": "2022-11-23T13:48:39.294Z"
      },
      {
        "duration": 23,
        "start_time": "2022-11-23T13:48:39.540Z"
      },
      {
        "duration": 7,
        "start_time": "2022-11-23T13:48:39.564Z"
      },
      {
        "duration": 20,
        "start_time": "2022-11-23T13:48:39.573Z"
      },
      {
        "duration": 15,
        "start_time": "2022-11-23T13:48:39.594Z"
      },
      {
        "duration": 20,
        "start_time": "2022-11-23T13:48:39.611Z"
      },
      {
        "duration": 52046,
        "start_time": "2022-11-23T13:48:39.633Z"
      },
      {
        "duration": 23,
        "start_time": "2022-11-23T13:49:31.681Z"
      },
      {
        "duration": 38,
        "start_time": "2022-11-23T13:49:31.706Z"
      },
      {
        "duration": 10,
        "start_time": "2022-11-23T13:49:31.746Z"
      },
      {
        "duration": 1000,
        "start_time": "2022-11-23T13:49:31.758Z"
      },
      {
        "duration": 11,
        "start_time": "2022-11-23T13:49:32.760Z"
      },
      {
        "duration": 382,
        "start_time": "2022-11-23T13:49:32.772Z"
      },
      {
        "duration": 3535,
        "start_time": "2022-11-23T13:49:33.155Z"
      },
      {
        "duration": 4,
        "start_time": "2022-11-23T13:49:36.692Z"
      },
      {
        "duration": 9,
        "start_time": "2022-11-23T13:49:36.697Z"
      },
      {
        "duration": 4756,
        "start_time": "2022-11-23T13:49:36.707Z"
      },
      {
        "duration": 3,
        "start_time": "2022-11-23T13:49:41.464Z"
      },
      {
        "duration": 23,
        "start_time": "2022-11-23T13:49:41.468Z"
      },
      {
        "duration": 8,
        "start_time": "2022-11-23T13:49:41.493Z"
      },
      {
        "duration": 6,
        "start_time": "2022-11-23T13:49:41.503Z"
      },
      {
        "duration": 28322,
        "start_time": "2022-11-23T13:49:41.511Z"
      },
      {
        "duration": 9,
        "start_time": "2022-11-23T13:50:09.923Z"
      },
      {
        "duration": 23,
        "start_time": "2022-11-23T13:50:09.934Z"
      },
      {
        "duration": 4,
        "start_time": "2022-11-23T13:54:33.895Z"
      },
      {
        "duration": 816,
        "start_time": "2022-11-23T13:54:33.901Z"
      },
      {
        "duration": 27,
        "start_time": "2022-11-23T13:54:34.721Z"
      },
      {
        "duration": 235,
        "start_time": "2022-11-23T13:54:34.751Z"
      },
      {
        "duration": 22,
        "start_time": "2022-11-23T13:54:34.988Z"
      },
      {
        "duration": 15,
        "start_time": "2022-11-23T13:54:35.012Z"
      },
      {
        "duration": 7,
        "start_time": "2022-11-23T13:54:35.029Z"
      },
      {
        "duration": 5,
        "start_time": "2022-11-23T13:54:35.038Z"
      },
      {
        "duration": 13,
        "start_time": "2022-11-23T13:54:35.046Z"
      },
      {
        "duration": 21985,
        "start_time": "2022-11-23T13:54:35.062Z"
      },
      {
        "duration": 44,
        "start_time": "2022-11-23T13:54:57.049Z"
      },
      {
        "duration": 1273,
        "start_time": "2022-11-23T13:55:22.262Z"
      },
      {
        "duration": 902,
        "start_time": "2022-11-23T13:55:23.538Z"
      },
      {
        "duration": 29,
        "start_time": "2022-11-23T13:55:24.442Z"
      },
      {
        "duration": 249,
        "start_time": "2022-11-23T13:55:24.473Z"
      },
      {
        "duration": 7,
        "start_time": "2022-11-23T13:55:24.725Z"
      },
      {
        "duration": 30,
        "start_time": "2022-11-23T13:55:24.734Z"
      },
      {
        "duration": 21,
        "start_time": "2022-11-23T13:55:24.766Z"
      },
      {
        "duration": 10,
        "start_time": "2022-11-23T13:55:24.789Z"
      },
      {
        "duration": 21,
        "start_time": "2022-11-23T13:55:24.801Z"
      },
      {
        "duration": 1345,
        "start_time": "2022-11-23T13:55:24.823Z"
      },
      {
        "duration": 6,
        "start_time": "2022-11-23T13:55:26.170Z"
      },
      {
        "duration": 133,
        "start_time": "2022-11-23T13:55:26.177Z"
      },
      {
        "duration": 0,
        "start_time": "2022-11-23T13:55:26.312Z"
      },
      {
        "duration": 0,
        "start_time": "2022-11-23T13:55:26.313Z"
      },
      {
        "duration": 0,
        "start_time": "2022-11-23T13:55:26.315Z"
      },
      {
        "duration": 0,
        "start_time": "2022-11-23T13:55:26.322Z"
      },
      {
        "duration": 0,
        "start_time": "2022-11-23T13:55:26.324Z"
      },
      {
        "duration": 0,
        "start_time": "2022-11-23T13:55:26.324Z"
      },
      {
        "duration": 0,
        "start_time": "2022-11-23T13:55:26.326Z"
      },
      {
        "duration": 0,
        "start_time": "2022-11-23T13:55:26.327Z"
      },
      {
        "duration": 0,
        "start_time": "2022-11-23T13:55:26.332Z"
      },
      {
        "duration": 0,
        "start_time": "2022-11-23T13:55:26.334Z"
      },
      {
        "duration": 0,
        "start_time": "2022-11-23T13:55:26.335Z"
      },
      {
        "duration": 0,
        "start_time": "2022-11-23T13:55:26.336Z"
      },
      {
        "duration": 0,
        "start_time": "2022-11-23T13:55:26.337Z"
      },
      {
        "duration": 0,
        "start_time": "2022-11-23T13:55:26.338Z"
      },
      {
        "duration": 0,
        "start_time": "2022-11-23T13:55:26.339Z"
      },
      {
        "duration": 1340,
        "start_time": "2022-11-23T13:57:56.327Z"
      },
      {
        "duration": 894,
        "start_time": "2022-11-23T13:57:57.669Z"
      },
      {
        "duration": 28,
        "start_time": "2022-11-23T13:57:58.565Z"
      },
      {
        "duration": 259,
        "start_time": "2022-11-23T13:57:58.595Z"
      },
      {
        "duration": 8,
        "start_time": "2022-11-23T13:57:58.856Z"
      },
      {
        "duration": 8,
        "start_time": "2022-11-23T13:57:58.866Z"
      },
      {
        "duration": 10,
        "start_time": "2022-11-23T13:57:58.876Z"
      },
      {
        "duration": 6,
        "start_time": "2022-11-23T13:57:58.888Z"
      },
      {
        "duration": 6,
        "start_time": "2022-11-23T13:57:58.896Z"
      },
      {
        "duration": 1319,
        "start_time": "2022-11-23T13:57:58.904Z"
      },
      {
        "duration": 5,
        "start_time": "2022-11-23T13:58:00.226Z"
      },
      {
        "duration": 34,
        "start_time": "2022-11-23T13:58:00.233Z"
      },
      {
        "duration": 47,
        "start_time": "2022-11-23T13:58:00.268Z"
      },
      {
        "duration": 53,
        "start_time": "2022-11-23T13:58:00.318Z"
      },
      {
        "duration": 42,
        "start_time": "2022-11-23T13:58:00.373Z"
      },
      {
        "duration": 297,
        "start_time": "2022-11-23T13:58:00.417Z"
      },
      {
        "duration": 59,
        "start_time": "2022-11-23T13:58:00.715Z"
      },
      {
        "duration": 4,
        "start_time": "2022-11-23T13:58:00.776Z"
      },
      {
        "duration": 41,
        "start_time": "2022-11-23T13:58:00.782Z"
      },
      {
        "duration": 104,
        "start_time": "2022-11-23T13:58:00.825Z"
      },
      {
        "duration": 2,
        "start_time": "2022-11-23T13:58:00.931Z"
      },
      {
        "duration": 27,
        "start_time": "2022-11-23T13:58:00.935Z"
      },
      {
        "duration": 52,
        "start_time": "2022-11-23T13:58:00.964Z"
      },
      {
        "duration": 30,
        "start_time": "2022-11-23T13:58:01.018Z"
      },
      {
        "duration": 77,
        "start_time": "2022-11-23T13:58:01.050Z"
      },
      {
        "duration": 5,
        "start_time": "2022-11-23T13:58:01.129Z"
      },
      {
        "duration": 40,
        "start_time": "2022-11-23T13:58:01.136Z"
      },
      {
        "duration": 1283,
        "start_time": "2022-11-23T13:59:01.170Z"
      },
      {
        "duration": 868,
        "start_time": "2022-11-23T13:59:02.455Z"
      },
      {
        "duration": 28,
        "start_time": "2022-11-23T13:59:03.325Z"
      },
      {
        "duration": 240,
        "start_time": "2022-11-23T13:59:03.354Z"
      },
      {
        "duration": 8,
        "start_time": "2022-11-23T13:59:03.596Z"
      },
      {
        "duration": 19,
        "start_time": "2022-11-23T13:59:03.605Z"
      },
      {
        "duration": 5,
        "start_time": "2022-11-23T13:59:03.626Z"
      },
      {
        "duration": 5,
        "start_time": "2022-11-23T13:59:03.632Z"
      },
      {
        "duration": 12,
        "start_time": "2022-11-23T13:59:03.639Z"
      },
      {
        "duration": 1399,
        "start_time": "2022-11-23T13:59:03.653Z"
      },
      {
        "duration": 5,
        "start_time": "2022-11-23T13:59:05.054Z"
      },
      {
        "duration": 13,
        "start_time": "2022-11-23T13:59:05.060Z"
      },
      {
        "duration": 12,
        "start_time": "2022-11-23T13:59:05.074Z"
      },
      {
        "duration": 33,
        "start_time": "2022-11-23T13:59:05.089Z"
      },
      {
        "duration": 2,
        "start_time": "2022-11-23T13:59:05.124Z"
      },
      {
        "duration": 169,
        "start_time": "2022-11-23T13:59:05.128Z"
      },
      {
        "duration": 55,
        "start_time": "2022-11-23T13:59:05.299Z"
      },
      {
        "duration": 4,
        "start_time": "2022-11-23T13:59:05.356Z"
      },
      {
        "duration": 27,
        "start_time": "2022-11-23T13:59:05.362Z"
      },
      {
        "duration": 85,
        "start_time": "2022-11-23T13:59:05.391Z"
      },
      {
        "duration": 2,
        "start_time": "2022-11-23T13:59:05.477Z"
      },
      {
        "duration": 18,
        "start_time": "2022-11-23T13:59:05.481Z"
      },
      {
        "duration": 25,
        "start_time": "2022-11-23T13:59:05.500Z"
      },
      {
        "duration": 23,
        "start_time": "2022-11-23T13:59:05.526Z"
      },
      {
        "duration": 52,
        "start_time": "2022-11-23T13:59:05.551Z"
      },
      {
        "duration": 3,
        "start_time": "2022-11-23T13:59:05.605Z"
      },
      {
        "duration": 25,
        "start_time": "2022-11-23T13:59:05.611Z"
      },
      {
        "duration": 1281,
        "start_time": "2022-11-23T14:01:15.060Z"
      },
      {
        "duration": 855,
        "start_time": "2022-11-23T14:01:16.343Z"
      },
      {
        "duration": 31,
        "start_time": "2022-11-23T14:01:17.200Z"
      },
      {
        "duration": 238,
        "start_time": "2022-11-23T14:01:17.233Z"
      },
      {
        "duration": 7,
        "start_time": "2022-11-23T14:01:17.473Z"
      },
      {
        "duration": 13,
        "start_time": "2022-11-23T14:01:17.482Z"
      },
      {
        "duration": 7,
        "start_time": "2022-11-23T14:01:17.497Z"
      },
      {
        "duration": 5,
        "start_time": "2022-11-23T14:01:17.506Z"
      },
      {
        "duration": 3,
        "start_time": "2022-11-23T14:01:17.521Z"
      },
      {
        "duration": 1308,
        "start_time": "2022-11-23T14:01:17.525Z"
      },
      {
        "duration": 5,
        "start_time": "2022-11-23T14:01:18.836Z"
      },
      {
        "duration": 27,
        "start_time": "2022-11-23T14:01:18.843Z"
      },
      {
        "duration": 31,
        "start_time": "2022-11-23T14:01:18.872Z"
      },
      {
        "duration": 29,
        "start_time": "2022-11-23T14:01:18.906Z"
      },
      {
        "duration": 203,
        "start_time": "2022-11-23T14:01:18.937Z"
      },
      {
        "duration": 5,
        "start_time": "2022-11-23T14:01:19.142Z"
      },
      {
        "duration": 142,
        "start_time": "2022-11-23T14:01:19.148Z"
      },
      {
        "duration": 0,
        "start_time": "2022-11-23T14:01:19.292Z"
      },
      {
        "duration": 0,
        "start_time": "2022-11-23T14:01:19.293Z"
      },
      {
        "duration": 0,
        "start_time": "2022-11-23T14:01:19.294Z"
      },
      {
        "duration": 0,
        "start_time": "2022-11-23T14:01:19.296Z"
      },
      {
        "duration": 0,
        "start_time": "2022-11-23T14:01:19.297Z"
      },
      {
        "duration": 1346,
        "start_time": "2022-11-23T14:01:33.708Z"
      },
      {
        "duration": 878,
        "start_time": "2022-11-23T14:01:35.056Z"
      },
      {
        "duration": 28,
        "start_time": "2022-11-23T14:01:35.937Z"
      },
      {
        "duration": 254,
        "start_time": "2022-11-23T14:01:35.968Z"
      },
      {
        "duration": 9,
        "start_time": "2022-11-23T14:01:36.224Z"
      },
      {
        "duration": 14,
        "start_time": "2022-11-23T14:01:36.235Z"
      },
      {
        "duration": 16,
        "start_time": "2022-11-23T14:01:36.251Z"
      },
      {
        "duration": 6,
        "start_time": "2022-11-23T14:01:36.269Z"
      },
      {
        "duration": 13,
        "start_time": "2022-11-23T14:01:36.277Z"
      },
      {
        "duration": 1458,
        "start_time": "2022-11-23T14:01:36.291Z"
      },
      {
        "duration": 5,
        "start_time": "2022-11-23T14:01:37.751Z"
      },
      {
        "duration": 12,
        "start_time": "2022-11-23T14:01:37.758Z"
      },
      {
        "duration": 10,
        "start_time": "2022-11-23T14:01:37.773Z"
      },
      {
        "duration": 38,
        "start_time": "2022-11-23T14:01:37.784Z"
      },
      {
        "duration": 152,
        "start_time": "2022-11-23T14:01:37.824Z"
      },
      {
        "duration": 4,
        "start_time": "2022-11-23T14:01:37.977Z"
      },
      {
        "duration": 4,
        "start_time": "2022-11-23T14:01:37.983Z"
      },
      {
        "duration": 77,
        "start_time": "2022-11-23T14:01:37.989Z"
      },
      {
        "duration": 3,
        "start_time": "2022-11-23T14:01:38.067Z"
      },
      {
        "duration": 51,
        "start_time": "2022-11-23T14:01:38.072Z"
      },
      {
        "duration": 3,
        "start_time": "2022-11-23T14:01:38.125Z"
      },
      {
        "duration": 8,
        "start_time": "2022-11-23T14:01:38.130Z"
      },
      {
        "duration": 1330,
        "start_time": "2022-11-23T14:02:08.601Z"
      },
      {
        "duration": 866,
        "start_time": "2022-11-23T14:02:09.933Z"
      },
      {
        "duration": 31,
        "start_time": "2022-11-23T14:02:10.800Z"
      },
      {
        "duration": 257,
        "start_time": "2022-11-23T14:02:10.833Z"
      },
      {
        "duration": 8,
        "start_time": "2022-11-23T14:02:11.092Z"
      },
      {
        "duration": 26,
        "start_time": "2022-11-23T14:02:11.101Z"
      },
      {
        "duration": 13,
        "start_time": "2022-11-23T14:02:11.129Z"
      },
      {
        "duration": 4,
        "start_time": "2022-11-23T14:02:11.144Z"
      },
      {
        "duration": 6,
        "start_time": "2022-11-23T14:02:11.150Z"
      },
      {
        "duration": 1337,
        "start_time": "2022-11-23T14:02:11.159Z"
      },
      {
        "duration": 5,
        "start_time": "2022-11-23T14:02:12.499Z"
      },
      {
        "duration": 18,
        "start_time": "2022-11-23T14:02:12.506Z"
      },
      {
        "duration": 9,
        "start_time": "2022-11-23T14:02:12.526Z"
      },
      {
        "duration": 18,
        "start_time": "2022-11-23T14:02:12.537Z"
      },
      {
        "duration": 146,
        "start_time": "2022-11-23T14:02:12.557Z"
      },
      {
        "duration": 2,
        "start_time": "2022-11-23T14:02:12.705Z"
      },
      {
        "duration": 5,
        "start_time": "2022-11-23T14:02:12.709Z"
      },
      {
        "duration": 76,
        "start_time": "2022-11-23T14:02:12.716Z"
      },
      {
        "duration": 3,
        "start_time": "2022-11-23T14:02:12.793Z"
      },
      {
        "duration": 44,
        "start_time": "2022-11-23T14:02:12.798Z"
      },
      {
        "duration": 3,
        "start_time": "2022-11-23T14:02:12.844Z"
      },
      {
        "duration": 10,
        "start_time": "2022-11-23T14:02:12.849Z"
      },
      {
        "duration": 1402,
        "start_time": "2022-11-23T14:03:31.308Z"
      },
      {
        "duration": 876,
        "start_time": "2022-11-23T14:03:32.712Z"
      },
      {
        "duration": 32,
        "start_time": "2022-11-23T14:03:33.590Z"
      },
      {
        "duration": 249,
        "start_time": "2022-11-23T14:03:33.624Z"
      },
      {
        "duration": 7,
        "start_time": "2022-11-23T14:03:33.876Z"
      },
      {
        "duration": 9,
        "start_time": "2022-11-23T14:03:33.885Z"
      },
      {
        "duration": 9,
        "start_time": "2022-11-23T14:03:33.895Z"
      },
      {
        "duration": 20,
        "start_time": "2022-11-23T14:03:33.906Z"
      },
      {
        "duration": 6,
        "start_time": "2022-11-23T14:03:33.927Z"
      },
      {
        "duration": 1361,
        "start_time": "2022-11-23T14:03:33.935Z"
      },
      {
        "duration": 5,
        "start_time": "2022-11-23T14:03:35.299Z"
      },
      {
        "duration": 21,
        "start_time": "2022-11-23T14:03:35.307Z"
      },
      {
        "duration": 21,
        "start_time": "2022-11-23T14:03:35.330Z"
      },
      {
        "duration": 37,
        "start_time": "2022-11-23T14:03:35.355Z"
      },
      {
        "duration": 252,
        "start_time": "2022-11-23T14:03:35.394Z"
      },
      {
        "duration": 2,
        "start_time": "2022-11-23T14:03:35.648Z"
      },
      {
        "duration": 9,
        "start_time": "2022-11-23T14:03:35.652Z"
      },
      {
        "duration": 75,
        "start_time": "2022-11-23T14:03:35.662Z"
      },
      {
        "duration": 3,
        "start_time": "2022-11-23T14:03:35.739Z"
      },
      {
        "duration": 40,
        "start_time": "2022-11-23T14:03:35.744Z"
      },
      {
        "duration": 4,
        "start_time": "2022-11-23T14:03:35.785Z"
      },
      {
        "duration": 8,
        "start_time": "2022-11-23T14:03:35.790Z"
      },
      {
        "duration": 1365,
        "start_time": "2022-11-23T14:03:47.801Z"
      },
      {
        "duration": 924,
        "start_time": "2022-11-23T14:03:49.168Z"
      },
      {
        "duration": 37,
        "start_time": "2022-11-23T14:03:50.094Z"
      },
      {
        "duration": 252,
        "start_time": "2022-11-23T14:03:50.133Z"
      },
      {
        "duration": 9,
        "start_time": "2022-11-23T14:03:50.387Z"
      },
      {
        "duration": 50,
        "start_time": "2022-11-23T14:03:50.397Z"
      },
      {
        "duration": 38,
        "start_time": "2022-11-23T14:03:50.448Z"
      },
      {
        "duration": 25,
        "start_time": "2022-11-23T14:03:50.487Z"
      },
      {
        "duration": 35,
        "start_time": "2022-11-23T14:03:50.514Z"
      },
      {
        "duration": 2055,
        "start_time": "2022-11-23T14:03:50.552Z"
      },
      {
        "duration": 6,
        "start_time": "2022-11-23T14:03:52.609Z"
      },
      {
        "duration": 38,
        "start_time": "2022-11-23T14:03:52.616Z"
      },
      {
        "duration": 40,
        "start_time": "2022-11-23T14:03:52.656Z"
      },
      {
        "duration": 44,
        "start_time": "2022-11-23T14:03:52.699Z"
      },
      {
        "duration": 204,
        "start_time": "2022-11-23T14:03:52.744Z"
      },
      {
        "duration": 3,
        "start_time": "2022-11-23T14:03:52.950Z"
      },
      {
        "duration": 34,
        "start_time": "2022-11-23T14:03:52.955Z"
      },
      {
        "duration": 142,
        "start_time": "2022-11-23T14:03:52.991Z"
      },
      {
        "duration": 3,
        "start_time": "2022-11-23T14:03:53.135Z"
      },
      {
        "duration": 1790,
        "start_time": "2022-11-23T14:03:53.139Z"
      },
      {
        "duration": 92,
        "start_time": "2022-11-23T14:03:54.931Z"
      },
      {
        "duration": 105,
        "start_time": "2022-11-23T14:03:55.025Z"
      },
      {
        "duration": 1367,
        "start_time": "2022-11-23T14:04:49.985Z"
      },
      {
        "duration": 921,
        "start_time": "2022-11-23T14:04:51.354Z"
      },
      {
        "duration": 28,
        "start_time": "2022-11-23T14:04:52.277Z"
      },
      {
        "duration": 245,
        "start_time": "2022-11-23T14:04:52.307Z"
      },
      {
        "duration": 8,
        "start_time": "2022-11-23T14:04:52.554Z"
      },
      {
        "duration": 17,
        "start_time": "2022-11-23T14:04:52.565Z"
      },
      {
        "duration": 6,
        "start_time": "2022-11-23T14:04:52.584Z"
      },
      {
        "duration": 16,
        "start_time": "2022-11-23T14:04:52.592Z"
      },
      {
        "duration": 14,
        "start_time": "2022-11-23T14:04:52.610Z"
      },
      {
        "duration": 1952,
        "start_time": "2022-11-23T14:04:52.626Z"
      },
      {
        "duration": 6,
        "start_time": "2022-11-23T14:04:54.580Z"
      },
      {
        "duration": 13,
        "start_time": "2022-11-23T14:04:54.587Z"
      },
      {
        "duration": 22,
        "start_time": "2022-11-23T14:04:54.602Z"
      },
      {
        "duration": 30,
        "start_time": "2022-11-23T14:04:54.626Z"
      },
      {
        "duration": 194,
        "start_time": "2022-11-23T14:04:54.657Z"
      },
      {
        "duration": 3,
        "start_time": "2022-11-23T14:04:54.852Z"
      },
      {
        "duration": 11,
        "start_time": "2022-11-23T14:04:54.857Z"
      },
      {
        "duration": 142,
        "start_time": "2022-11-23T14:04:54.870Z"
      },
      {
        "duration": 8,
        "start_time": "2022-11-23T14:04:55.014Z"
      },
      {
        "duration": 1105,
        "start_time": "2022-11-23T14:04:55.025Z"
      },
      {
        "duration": 4,
        "start_time": "2022-11-23T14:04:56.222Z"
      },
      {
        "duration": 8,
        "start_time": "2022-11-23T14:04:56.228Z"
      },
      {
        "duration": 1423,
        "start_time": "2022-11-23T14:10:01.672Z"
      },
      {
        "duration": 881,
        "start_time": "2022-11-23T14:10:03.097Z"
      },
      {
        "duration": 30,
        "start_time": "2022-11-23T14:10:03.979Z"
      },
      {
        "duration": 327,
        "start_time": "2022-11-23T14:10:04.021Z"
      },
      {
        "duration": 10,
        "start_time": "2022-11-23T14:10:04.349Z"
      },
      {
        "duration": 23,
        "start_time": "2022-11-23T14:10:04.361Z"
      },
      {
        "duration": 12,
        "start_time": "2022-11-23T14:10:04.386Z"
      },
      {
        "duration": 9,
        "start_time": "2022-11-23T14:10:04.400Z"
      },
      {
        "duration": 17,
        "start_time": "2022-11-23T14:10:04.411Z"
      },
      {
        "duration": 1969,
        "start_time": "2022-11-23T14:10:04.431Z"
      },
      {
        "duration": 5,
        "start_time": "2022-11-23T14:10:06.402Z"
      },
      {
        "duration": 20,
        "start_time": "2022-11-23T14:10:06.409Z"
      },
      {
        "duration": 10,
        "start_time": "2022-11-23T14:10:06.431Z"
      },
      {
        "duration": 29,
        "start_time": "2022-11-23T14:10:06.443Z"
      },
      {
        "duration": 261,
        "start_time": "2022-11-23T14:10:06.474Z"
      },
      {
        "duration": 2,
        "start_time": "2022-11-23T14:10:06.737Z"
      },
      {
        "duration": 7,
        "start_time": "2022-11-23T14:10:06.741Z"
      },
      {
        "duration": 139,
        "start_time": "2022-11-23T14:10:06.749Z"
      },
      {
        "duration": 3,
        "start_time": "2022-11-23T14:10:06.890Z"
      },
      {
        "duration": 1537,
        "start_time": "2022-11-23T14:10:06.894Z"
      },
      {
        "duration": 90,
        "start_time": "2022-11-23T14:10:08.433Z"
      },
      {
        "duration": 11,
        "start_time": "2022-11-23T14:10:08.525Z"
      },
      {
        "duration": 1318,
        "start_time": "2022-11-23T14:10:22.411Z"
      },
      {
        "duration": 912,
        "start_time": "2022-11-23T14:10:23.731Z"
      },
      {
        "duration": 28,
        "start_time": "2022-11-23T14:10:24.644Z"
      },
      {
        "duration": 249,
        "start_time": "2022-11-23T14:10:24.674Z"
      },
      {
        "duration": 10,
        "start_time": "2022-11-23T14:10:24.925Z"
      },
      {
        "duration": 15,
        "start_time": "2022-11-23T14:10:24.937Z"
      },
      {
        "duration": 6,
        "start_time": "2022-11-23T14:10:24.953Z"
      },
      {
        "duration": 4,
        "start_time": "2022-11-23T14:10:24.961Z"
      },
      {
        "duration": 5,
        "start_time": "2022-11-23T14:10:24.967Z"
      },
      {
        "duration": 1950,
        "start_time": "2022-11-23T14:10:24.975Z"
      },
      {
        "duration": 6,
        "start_time": "2022-11-23T14:10:26.927Z"
      },
      {
        "duration": 11,
        "start_time": "2022-11-23T14:10:26.935Z"
      },
      {
        "duration": 8,
        "start_time": "2022-11-23T14:10:26.948Z"
      },
      {
        "duration": 28,
        "start_time": "2022-11-23T14:10:26.957Z"
      },
      {
        "duration": 172,
        "start_time": "2022-11-23T14:10:26.987Z"
      },
      {
        "duration": 3,
        "start_time": "2022-11-23T14:10:27.160Z"
      },
      {
        "duration": 8,
        "start_time": "2022-11-23T14:10:27.164Z"
      },
      {
        "duration": 126,
        "start_time": "2022-11-23T14:10:27.174Z"
      },
      {
        "duration": 3,
        "start_time": "2022-11-23T14:10:27.302Z"
      },
      {
        "duration": 828,
        "start_time": "2022-11-23T14:10:27.307Z"
      },
      {
        "duration": 3,
        "start_time": "2022-11-23T14:10:28.223Z"
      },
      {
        "duration": 103,
        "start_time": "2022-11-23T14:10:28.228Z"
      },
      {
        "duration": 35,
        "start_time": "2022-11-23T14:12:02.950Z"
      },
      {
        "duration": 2,
        "start_time": "2022-11-23T14:12:48.113Z"
      },
      {
        "duration": 521,
        "start_time": "2022-11-23T14:13:31.120Z"
      },
      {
        "duration": 600,
        "start_time": "2022-11-23T14:13:41.270Z"
      },
      {
        "duration": 1362,
        "start_time": "2022-11-23T14:13:59.965Z"
      },
      {
        "duration": 889,
        "start_time": "2022-11-23T14:14:01.329Z"
      },
      {
        "duration": 29,
        "start_time": "2022-11-23T14:14:02.221Z"
      },
      {
        "duration": 262,
        "start_time": "2022-11-23T14:14:02.251Z"
      },
      {
        "duration": 8,
        "start_time": "2022-11-23T14:14:02.515Z"
      },
      {
        "duration": 48,
        "start_time": "2022-11-23T14:14:02.525Z"
      },
      {
        "duration": 51,
        "start_time": "2022-11-23T14:14:02.575Z"
      },
      {
        "duration": 23,
        "start_time": "2022-11-23T14:14:02.628Z"
      },
      {
        "duration": 35,
        "start_time": "2022-11-23T14:14:02.653Z"
      },
      {
        "duration": 1971,
        "start_time": "2022-11-23T14:14:02.691Z"
      },
      {
        "duration": 6,
        "start_time": "2022-11-23T14:14:04.664Z"
      },
      {
        "duration": 36,
        "start_time": "2022-11-23T14:14:04.672Z"
      },
      {
        "duration": 11,
        "start_time": "2022-11-23T14:14:04.710Z"
      },
      {
        "duration": 37,
        "start_time": "2022-11-23T14:14:04.723Z"
      },
      {
        "duration": 254,
        "start_time": "2022-11-23T14:14:04.762Z"
      },
      {
        "duration": 2,
        "start_time": "2022-11-23T14:14:05.018Z"
      },
      {
        "duration": 13,
        "start_time": "2022-11-23T14:14:05.021Z"
      },
      {
        "duration": 132,
        "start_time": "2022-11-23T14:14:05.036Z"
      },
      {
        "duration": 3,
        "start_time": "2022-11-23T14:14:05.169Z"
      },
      {
        "duration": 2052,
        "start_time": "2022-11-23T14:14:05.173Z"
      },
      {
        "duration": 4,
        "start_time": "2022-11-23T14:14:07.226Z"
      },
      {
        "duration": 23,
        "start_time": "2022-11-23T14:14:07.231Z"
      },
      {
        "duration": 17,
        "start_time": "2022-11-23T14:14:07.256Z"
      },
      {
        "duration": 616,
        "start_time": "2022-11-23T14:14:07.275Z"
      },
      {
        "duration": 1483,
        "start_time": "2022-11-23T14:14:44.419Z"
      },
      {
        "duration": 894,
        "start_time": "2022-11-23T14:14:45.905Z"
      },
      {
        "duration": 38,
        "start_time": "2022-11-23T14:14:46.801Z"
      },
      {
        "duration": 258,
        "start_time": "2022-11-23T14:14:46.840Z"
      },
      {
        "duration": 23,
        "start_time": "2022-11-23T14:14:47.101Z"
      },
      {
        "duration": 7,
        "start_time": "2022-11-23T14:14:47.126Z"
      },
      {
        "duration": 10,
        "start_time": "2022-11-23T14:14:47.135Z"
      },
      {
        "duration": 8,
        "start_time": "2022-11-23T14:14:47.146Z"
      },
      {
        "duration": 4,
        "start_time": "2022-11-23T14:14:47.156Z"
      },
      {
        "duration": 13565,
        "start_time": "2022-11-23T14:14:47.162Z"
      },
      {
        "duration": 10,
        "start_time": "2022-11-23T14:15:00.729Z"
      },
      {
        "duration": 38,
        "start_time": "2022-11-23T14:15:00.741Z"
      },
      {
        "duration": 9,
        "start_time": "2022-11-23T14:15:00.781Z"
      },
      {
        "duration": 260,
        "start_time": "2022-11-23T14:15:00.794Z"
      },
      {
        "duration": 315,
        "start_time": "2022-11-23T14:15:01.056Z"
      },
      {
        "duration": 2,
        "start_time": "2022-11-23T14:15:01.373Z"
      },
      {
        "duration": 24,
        "start_time": "2022-11-23T14:15:01.377Z"
      },
      {
        "duration": 1181,
        "start_time": "2022-11-23T14:15:01.403Z"
      },
      {
        "duration": 3,
        "start_time": "2022-11-23T14:15:02.586Z"
      },
      {
        "duration": 5443,
        "start_time": "2022-11-23T14:15:02.590Z"
      },
      {
        "duration": 5,
        "start_time": "2022-11-23T14:15:08.123Z"
      },
      {
        "duration": 15,
        "start_time": "2022-11-23T14:15:08.130Z"
      },
      {
        "duration": 3,
        "start_time": "2022-11-23T14:15:08.147Z"
      },
      {
        "duration": 14345,
        "start_time": "2022-11-23T14:15:08.151Z"
      },
      {
        "duration": 1366,
        "start_time": "2022-11-23T14:16:35.039Z"
      },
      {
        "duration": 855,
        "start_time": "2022-11-23T14:16:36.407Z"
      },
      {
        "duration": 29,
        "start_time": "2022-11-23T14:16:37.264Z"
      },
      {
        "duration": 247,
        "start_time": "2022-11-23T14:16:37.296Z"
      },
      {
        "duration": 23,
        "start_time": "2022-11-23T14:16:37.544Z"
      },
      {
        "duration": 7,
        "start_time": "2022-11-23T14:16:37.569Z"
      },
      {
        "duration": 8,
        "start_time": "2022-11-23T14:16:37.578Z"
      },
      {
        "duration": 12,
        "start_time": "2022-11-23T14:16:37.588Z"
      },
      {
        "duration": 13,
        "start_time": "2022-11-23T14:16:37.602Z"
      },
      {
        "duration": 51930,
        "start_time": "2022-11-23T14:16:37.622Z"
      },
      {
        "duration": 23,
        "start_time": "2022-11-23T14:17:29.555Z"
      },
      {
        "duration": 55,
        "start_time": "2022-11-23T14:17:29.580Z"
      },
      {
        "duration": 8,
        "start_time": "2022-11-23T14:17:29.637Z"
      },
      {
        "duration": 1110,
        "start_time": "2022-11-23T14:17:29.646Z"
      },
      {
        "duration": 393,
        "start_time": "2022-11-23T14:17:30.758Z"
      },
      {
        "duration": 3,
        "start_time": "2022-11-23T14:17:31.152Z"
      },
      {
        "duration": 16,
        "start_time": "2022-11-23T14:17:31.157Z"
      },
      {
        "duration": 4641,
        "start_time": "2022-11-23T14:17:31.174Z"
      },
      {
        "duration": 5,
        "start_time": "2022-11-23T14:17:35.817Z"
      },
      {
        "duration": 27602,
        "start_time": "2022-11-23T14:17:35.824Z"
      },
      {
        "duration": 94,
        "start_time": "2022-11-23T14:18:03.428Z"
      },
      {
        "duration": 48,
        "start_time": "2022-11-23T14:18:03.524Z"
      },
      {
        "duration": 26,
        "start_time": "2022-11-23T14:18:03.573Z"
      },
      {
        "duration": 160979,
        "start_time": "2022-11-23T14:18:03.601Z"
      },
      {
        "duration": 7,
        "start_time": "2022-11-23T14:22:37.292Z"
      },
      {
        "duration": 11,
        "start_time": "2022-11-23T14:23:00.219Z"
      },
      {
        "duration": 23,
        "start_time": "2022-11-23T14:23:15.172Z"
      },
      {
        "duration": 3190,
        "start_time": "2022-11-23T14:23:54.569Z"
      },
      {
        "duration": 1304,
        "start_time": "2022-11-23T14:24:05.341Z"
      },
      {
        "duration": 857,
        "start_time": "2022-11-23T14:24:06.647Z"
      },
      {
        "duration": 31,
        "start_time": "2022-11-23T14:24:07.505Z"
      },
      {
        "duration": 239,
        "start_time": "2022-11-23T14:24:07.539Z"
      },
      {
        "duration": 7,
        "start_time": "2022-11-23T14:24:07.780Z"
      },
      {
        "duration": 18,
        "start_time": "2022-11-23T14:24:07.789Z"
      },
      {
        "duration": 14,
        "start_time": "2022-11-23T14:24:07.808Z"
      },
      {
        "duration": 4,
        "start_time": "2022-11-23T14:24:07.823Z"
      },
      {
        "duration": 6,
        "start_time": "2022-11-23T14:24:07.829Z"
      },
      {
        "duration": 1350,
        "start_time": "2022-11-23T14:24:07.839Z"
      },
      {
        "duration": 5,
        "start_time": "2022-11-23T14:24:09.191Z"
      },
      {
        "duration": 14,
        "start_time": "2022-11-23T14:24:09.198Z"
      },
      {
        "duration": 8,
        "start_time": "2022-11-23T14:24:09.223Z"
      },
      {
        "duration": 20,
        "start_time": "2022-11-23T14:24:09.232Z"
      },
      {
        "duration": 228,
        "start_time": "2022-11-23T14:24:09.254Z"
      },
      {
        "duration": 3,
        "start_time": "2022-11-23T14:24:09.483Z"
      },
      {
        "duration": 6,
        "start_time": "2022-11-23T14:24:09.487Z"
      },
      {
        "duration": 77,
        "start_time": "2022-11-23T14:24:09.495Z"
      },
      {
        "duration": 2,
        "start_time": "2022-11-23T14:24:09.574Z"
      },
      {
        "duration": 45,
        "start_time": "2022-11-23T14:24:09.578Z"
      },
      {
        "duration": 4,
        "start_time": "2022-11-23T14:24:09.624Z"
      },
      {
        "duration": 11,
        "start_time": "2022-11-23T14:24:09.629Z"
      },
      {
        "duration": 8,
        "start_time": "2022-11-23T14:24:09.641Z"
      },
      {
        "duration": 350,
        "start_time": "2022-11-23T14:24:09.651Z"
      },
      {
        "duration": 6,
        "start_time": "2022-11-23T14:24:10.003Z"
      },
      {
        "duration": 37,
        "start_time": "2022-11-23T14:24:10.010Z"
      },
      {
        "duration": 1319,
        "start_time": "2022-11-23T14:24:49.452Z"
      },
      {
        "duration": 901,
        "start_time": "2022-11-23T14:24:50.773Z"
      },
      {
        "duration": 30,
        "start_time": "2022-11-23T14:24:51.676Z"
      },
      {
        "duration": 263,
        "start_time": "2022-11-23T14:24:51.708Z"
      },
      {
        "duration": 35,
        "start_time": "2022-11-23T14:24:51.974Z"
      },
      {
        "duration": 16,
        "start_time": "2022-11-23T14:24:52.011Z"
      },
      {
        "duration": 9,
        "start_time": "2022-11-23T14:24:52.028Z"
      },
      {
        "duration": 9,
        "start_time": "2022-11-23T14:24:52.040Z"
      },
      {
        "duration": 9,
        "start_time": "2022-11-23T14:24:52.052Z"
      },
      {
        "duration": 52509,
        "start_time": "2022-11-23T14:24:52.066Z"
      },
      {
        "duration": 23,
        "start_time": "2022-11-23T14:25:44.577Z"
      },
      {
        "duration": 46,
        "start_time": "2022-11-23T14:25:44.602Z"
      },
      {
        "duration": 7,
        "start_time": "2022-11-23T14:25:44.650Z"
      },
      {
        "duration": 1025,
        "start_time": "2022-11-23T14:25:44.660Z"
      },
      {
        "duration": 335,
        "start_time": "2022-11-23T14:25:45.687Z"
      },
      {
        "duration": 2,
        "start_time": "2022-11-23T14:25:46.024Z"
      },
      {
        "duration": 5,
        "start_time": "2022-11-23T14:25:46.028Z"
      },
      {
        "duration": 4671,
        "start_time": "2022-11-23T14:25:46.034Z"
      },
      {
        "duration": 4,
        "start_time": "2022-11-23T14:25:50.706Z"
      },
      {
        "duration": 27135,
        "start_time": "2022-11-23T14:25:50.711Z"
      },
      {
        "duration": 9,
        "start_time": "2022-11-23T14:26:17.922Z"
      },
      {
        "duration": 20,
        "start_time": "2022-11-23T14:26:17.933Z"
      },
      {
        "duration": 3,
        "start_time": "2022-11-23T14:26:17.955Z"
      },
      {
        "duration": 161718,
        "start_time": "2022-11-23T14:26:17.959Z"
      },
      {
        "duration": 24,
        "start_time": "2022-11-23T14:28:59.679Z"
      },
      {
        "duration": 3162,
        "start_time": "2022-11-23T14:28:59.705Z"
      },
      {
        "duration": 4831,
        "start_time": "2022-11-23T14:58:16.481Z"
      },
      {
        "duration": 4,
        "start_time": "2022-11-23T15:02:51.800Z"
      },
      {
        "duration": 13,
        "start_time": "2022-11-23T15:03:41.181Z"
      },
      {
        "duration": 1370,
        "start_time": "2022-11-23T15:09:58.070Z"
      },
      {
        "duration": 890,
        "start_time": "2022-11-23T15:09:59.442Z"
      },
      {
        "duration": 29,
        "start_time": "2022-11-23T15:10:00.334Z"
      },
      {
        "duration": 261,
        "start_time": "2022-11-23T15:10:00.365Z"
      },
      {
        "duration": 5,
        "start_time": "2022-11-23T15:10:00.627Z"
      },
      {
        "duration": 29,
        "start_time": "2022-11-23T15:10:00.634Z"
      },
      {
        "duration": 32,
        "start_time": "2022-11-23T15:10:00.664Z"
      },
      {
        "duration": 29,
        "start_time": "2022-11-23T15:10:00.698Z"
      },
      {
        "duration": 6484,
        "start_time": "2022-11-23T15:10:00.729Z"
      },
      {
        "duration": 7,
        "start_time": "2022-11-23T15:10:07.221Z"
      },
      {
        "duration": 13,
        "start_time": "2022-11-23T15:10:07.230Z"
      },
      {
        "duration": 8,
        "start_time": "2022-11-23T15:10:07.244Z"
      },
      {
        "duration": 148,
        "start_time": "2022-11-23T15:10:07.254Z"
      },
      {
        "duration": 259,
        "start_time": "2022-11-23T15:10:07.405Z"
      },
      {
        "duration": 565,
        "start_time": "2022-11-23T15:10:07.666Z"
      },
      {
        "duration": 3,
        "start_time": "2022-11-23T15:10:08.232Z"
      },
      {
        "duration": 2190,
        "start_time": "2022-11-23T15:10:08.236Z"
      },
      {
        "duration": 94,
        "start_time": "2022-11-23T15:10:10.428Z"
      },
      {
        "duration": 7,
        "start_time": "2022-11-23T15:10:10.524Z"
      },
      {
        "duration": 5,
        "start_time": "2022-11-23T15:10:10.533Z"
      },
      {
        "duration": 4586,
        "start_time": "2022-11-23T15:10:10.539Z"
      },
      {
        "duration": 6,
        "start_time": "2022-11-23T15:10:15.127Z"
      },
      {
        "duration": 227,
        "start_time": "2022-11-23T15:10:15.135Z"
      },
      {
        "duration": 1365,
        "start_time": "2022-11-23T15:12:00.075Z"
      },
      {
        "duration": 859,
        "start_time": "2022-11-23T15:12:01.442Z"
      },
      {
        "duration": 31,
        "start_time": "2022-11-23T15:12:02.303Z"
      },
      {
        "duration": 240,
        "start_time": "2022-11-23T15:12:02.336Z"
      },
      {
        "duration": 5,
        "start_time": "2022-11-23T15:12:02.577Z"
      },
      {
        "duration": 10,
        "start_time": "2022-11-23T15:12:02.584Z"
      },
      {
        "duration": 14,
        "start_time": "2022-11-23T15:12:02.596Z"
      },
      {
        "duration": 19,
        "start_time": "2022-11-23T15:12:02.611Z"
      },
      {
        "duration": 98534,
        "start_time": "2022-11-23T15:12:02.631Z"
      },
      {
        "duration": 32,
        "start_time": "2022-11-23T15:13:41.168Z"
      },
      {
        "duration": 79,
        "start_time": "2022-11-23T15:13:41.202Z"
      },
      {
        "duration": 8,
        "start_time": "2022-11-23T15:13:41.284Z"
      },
      {
        "duration": 1467,
        "start_time": "2022-11-23T15:14:35.361Z"
      },
      {
        "duration": 3503,
        "start_time": "2022-11-23T15:14:36.830Z"
      },
      {
        "duration": 29,
        "start_time": "2022-11-23T15:14:40.334Z"
      },
      {
        "duration": 235,
        "start_time": "2022-11-23T15:14:40.365Z"
      },
      {
        "duration": 5,
        "start_time": "2022-11-23T15:14:40.602Z"
      },
      {
        "duration": 42,
        "start_time": "2022-11-23T15:14:40.609Z"
      },
      {
        "duration": 7,
        "start_time": "2022-11-23T15:14:40.653Z"
      },
      {
        "duration": 7,
        "start_time": "2022-11-23T15:14:40.662Z"
      },
      {
        "duration": 61544,
        "start_time": "2022-11-23T15:14:40.671Z"
      },
      {
        "duration": 29,
        "start_time": "2022-11-23T15:15:42.222Z"
      },
      {
        "duration": 45,
        "start_time": "2022-11-23T15:15:42.253Z"
      },
      {
        "duration": 25,
        "start_time": "2022-11-23T15:15:42.299Z"
      },
      {
        "duration": 1324,
        "start_time": "2022-11-23T15:15:42.325Z"
      },
      {
        "duration": 451,
        "start_time": "2022-11-23T15:15:43.650Z"
      },
      {
        "duration": 5863,
        "start_time": "2022-11-23T15:15:44.103Z"
      },
      {
        "duration": 2,
        "start_time": "2022-11-23T15:15:49.968Z"
      },
      {
        "duration": 30363,
        "start_time": "2022-11-23T15:15:49.972Z"
      },
      {
        "duration": 12,
        "start_time": "2022-11-23T15:16:20.422Z"
      },
      {
        "duration": 46,
        "start_time": "2022-11-23T15:16:20.436Z"
      },
      {
        "duration": 17,
        "start_time": "2022-11-23T15:16:20.484Z"
      },
      {
        "duration": 254605,
        "start_time": "2022-11-23T15:16:20.503Z"
      },
      {
        "duration": 33,
        "start_time": "2022-11-23T15:20:35.110Z"
      },
      {
        "duration": 4042,
        "start_time": "2022-11-23T15:20:35.145Z"
      },
      {
        "duration": 1398,
        "start_time": "2022-11-23T15:22:21.304Z"
      },
      {
        "duration": 852,
        "start_time": "2022-11-23T15:22:22.704Z"
      },
      {
        "duration": 28,
        "start_time": "2022-11-23T15:22:23.557Z"
      },
      {
        "duration": 242,
        "start_time": "2022-11-23T15:22:23.587Z"
      },
      {
        "duration": 5,
        "start_time": "2022-11-23T15:22:23.831Z"
      },
      {
        "duration": 30,
        "start_time": "2022-11-23T15:22:23.838Z"
      },
      {
        "duration": 6,
        "start_time": "2022-11-23T15:22:23.870Z"
      },
      {
        "duration": 5,
        "start_time": "2022-11-23T15:22:23.878Z"
      },
      {
        "duration": 64468,
        "start_time": "2022-11-23T15:22:23.884Z"
      },
      {
        "duration": 30,
        "start_time": "2022-11-23T15:23:28.355Z"
      },
      {
        "duration": 61,
        "start_time": "2022-11-23T15:23:28.387Z"
      },
      {
        "duration": 8,
        "start_time": "2022-11-23T15:23:28.450Z"
      },
      {
        "duration": 1294,
        "start_time": "2022-11-23T15:23:28.460Z"
      },
      {
        "duration": 500,
        "start_time": "2022-11-23T15:23:29.755Z"
      },
      {
        "duration": 6061,
        "start_time": "2022-11-23T15:23:30.258Z"
      },
      {
        "duration": 3,
        "start_time": "2022-11-23T15:23:36.321Z"
      },
      {
        "duration": 30305,
        "start_time": "2022-11-23T15:23:36.326Z"
      },
      {
        "duration": 14,
        "start_time": "2022-11-23T15:24:06.632Z"
      },
      {
        "duration": 75,
        "start_time": "2022-11-23T15:24:06.648Z"
      },
      {
        "duration": 3,
        "start_time": "2022-11-23T15:24:06.725Z"
      },
      {
        "duration": 239761,
        "start_time": "2022-11-23T15:24:06.729Z"
      },
      {
        "duration": 14,
        "start_time": "2022-11-23T15:28:06.492Z"
      },
      {
        "duration": 4115,
        "start_time": "2022-11-23T15:28:06.508Z"
      },
      {
        "duration": 527,
        "start_time": "2022-11-23T15:30:01.460Z"
      },
      {
        "duration": 1379,
        "start_time": "2022-11-23T15:30:08.906Z"
      },
      {
        "duration": 894,
        "start_time": "2022-11-23T15:30:10.287Z"
      },
      {
        "duration": 28,
        "start_time": "2022-11-23T15:30:11.183Z"
      },
      {
        "duration": 247,
        "start_time": "2022-11-23T15:30:11.223Z"
      },
      {
        "duration": 7,
        "start_time": "2022-11-23T15:30:11.472Z"
      },
      {
        "duration": 43,
        "start_time": "2022-11-23T15:30:11.481Z"
      },
      {
        "duration": 7,
        "start_time": "2022-11-23T15:30:11.526Z"
      },
      {
        "duration": 5,
        "start_time": "2022-11-23T15:30:11.535Z"
      },
      {
        "duration": 76309,
        "start_time": "2022-11-23T15:30:11.542Z"
      },
      {
        "duration": 33,
        "start_time": "2022-11-23T15:31:27.855Z"
      },
      {
        "duration": 67,
        "start_time": "2022-11-23T15:31:27.890Z"
      },
      {
        "duration": 8,
        "start_time": "2022-11-23T15:31:27.959Z"
      },
      {
        "duration": 1565,
        "start_time": "2022-11-23T15:31:27.969Z"
      },
      {
        "duration": 537,
        "start_time": "2022-11-23T15:31:29.536Z"
      },
      {
        "duration": 7132,
        "start_time": "2022-11-23T15:31:30.075Z"
      },
      {
        "duration": 2,
        "start_time": "2022-11-23T15:31:37.209Z"
      },
      {
        "duration": 42009,
        "start_time": "2022-11-23T15:31:37.221Z"
      },
      {
        "duration": 17,
        "start_time": "2022-11-23T15:32:19.232Z"
      },
      {
        "duration": 31,
        "start_time": "2022-11-23T15:32:19.252Z"
      },
      {
        "duration": 3,
        "start_time": "2022-11-23T15:32:19.285Z"
      },
      {
        "duration": 358242,
        "start_time": "2022-11-23T15:32:19.290Z"
      },
      {
        "duration": 16,
        "start_time": "2022-11-23T15:38:17.534Z"
      },
      {
        "duration": 5188,
        "start_time": "2022-11-23T15:38:17.551Z"
      },
      {
        "duration": 3085,
        "start_time": "2022-11-23T18:23:49.478Z"
      },
      {
        "duration": 2849,
        "start_time": "2022-11-23T18:23:52.565Z"
      },
      {
        "duration": 25,
        "start_time": "2022-11-23T18:23:55.415Z"
      },
      {
        "duration": 213,
        "start_time": "2022-11-23T18:23:55.441Z"
      },
      {
        "duration": 5,
        "start_time": "2022-11-23T18:23:55.656Z"
      },
      {
        "duration": 29,
        "start_time": "2022-11-23T18:23:55.663Z"
      },
      {
        "duration": 6,
        "start_time": "2022-11-23T18:23:55.694Z"
      },
      {
        "duration": 6,
        "start_time": "2022-11-23T18:23:55.702Z"
      },
      {
        "duration": 5,
        "start_time": "2022-11-23T18:23:55.709Z"
      },
      {
        "duration": 659,
        "start_time": "2022-11-23T18:23:55.737Z"
      },
      {
        "duration": 5,
        "start_time": "2022-11-23T18:23:56.398Z"
      },
      {
        "duration": 2118,
        "start_time": "2022-11-23T18:25:13.437Z"
      },
      {
        "duration": 898,
        "start_time": "2022-11-23T18:25:15.557Z"
      },
      {
        "duration": 26,
        "start_time": "2022-11-23T18:25:16.456Z"
      },
      {
        "duration": 236,
        "start_time": "2022-11-23T18:25:16.483Z"
      },
      {
        "duration": 5,
        "start_time": "2022-11-23T18:25:16.721Z"
      },
      {
        "duration": 36,
        "start_time": "2022-11-23T18:25:16.727Z"
      },
      {
        "duration": 7,
        "start_time": "2022-11-23T18:25:16.765Z"
      },
      {
        "duration": 8,
        "start_time": "2022-11-23T18:25:16.774Z"
      },
      {
        "duration": 702,
        "start_time": "2022-11-23T18:25:16.784Z"
      },
      {
        "duration": 6,
        "start_time": "2022-11-23T18:25:17.488Z"
      },
      {
        "duration": 4,
        "start_time": "2022-11-23T18:32:05.009Z"
      },
      {
        "duration": 6,
        "start_time": "2022-11-23T18:33:05.098Z"
      },
      {
        "duration": 5,
        "start_time": "2022-11-23T18:33:45.789Z"
      },
      {
        "duration": 6,
        "start_time": "2022-11-23T18:33:54.712Z"
      },
      {
        "duration": 1312,
        "start_time": "2022-11-24T08:22:20.332Z"
      },
      {
        "duration": 3348,
        "start_time": "2022-11-24T08:22:21.647Z"
      },
      {
        "duration": 25,
        "start_time": "2022-11-24T08:22:24.996Z"
      },
      {
        "duration": 229,
        "start_time": "2022-11-24T08:22:25.023Z"
      },
      {
        "duration": 4,
        "start_time": "2022-11-24T08:22:25.254Z"
      },
      {
        "duration": 23,
        "start_time": "2022-11-24T08:22:25.260Z"
      },
      {
        "duration": 17,
        "start_time": "2022-11-24T08:22:25.285Z"
      },
      {
        "duration": 20,
        "start_time": "2022-11-24T08:22:25.303Z"
      },
      {
        "duration": 634,
        "start_time": "2022-11-24T08:22:25.325Z"
      },
      {
        "duration": 6,
        "start_time": "2022-11-24T08:22:25.962Z"
      },
      {
        "duration": 30,
        "start_time": "2022-11-24T08:22:25.970Z"
      },
      {
        "duration": 41,
        "start_time": "2022-11-24T08:22:26.002Z"
      },
      {
        "duration": 21,
        "start_time": "2022-11-24T08:22:26.044Z"
      },
      {
        "duration": 28,
        "start_time": "2022-11-24T08:22:26.067Z"
      },
      {
        "duration": 219,
        "start_time": "2022-11-24T08:22:26.097Z"
      },
      {
        "duration": 9,
        "start_time": "2022-11-24T08:22:26.318Z"
      },
      {
        "duration": 29,
        "start_time": "2022-11-24T08:22:26.329Z"
      },
      {
        "duration": 28,
        "start_time": "2022-11-24T08:22:26.360Z"
      },
      {
        "duration": 21,
        "start_time": "2022-11-24T08:22:26.390Z"
      },
      {
        "duration": 40,
        "start_time": "2022-11-24T08:22:26.413Z"
      },
      {
        "duration": 23,
        "start_time": "2022-11-24T08:22:26.455Z"
      },
      {
        "duration": 135,
        "start_time": "2022-11-24T08:22:26.480Z"
      },
      {
        "duration": 7,
        "start_time": "2022-11-24T08:22:26.617Z"
      },
      {
        "duration": 48,
        "start_time": "2022-11-24T08:22:26.625Z"
      },
      {
        "duration": 1234,
        "start_time": "2022-11-24T08:23:14.683Z"
      },
      {
        "duration": 759,
        "start_time": "2022-11-24T08:23:15.919Z"
      },
      {
        "duration": 25,
        "start_time": "2022-11-24T08:23:16.680Z"
      },
      {
        "duration": 236,
        "start_time": "2022-11-24T08:23:16.707Z"
      },
      {
        "duration": 8,
        "start_time": "2022-11-24T08:23:16.945Z"
      },
      {
        "duration": 12,
        "start_time": "2022-11-24T08:23:16.955Z"
      },
      {
        "duration": 30,
        "start_time": "2022-11-24T08:23:16.969Z"
      },
      {
        "duration": 11,
        "start_time": "2022-11-24T08:23:17.000Z"
      },
      {
        "duration": 621,
        "start_time": "2022-11-24T08:23:17.012Z"
      },
      {
        "duration": 1560,
        "start_time": "2022-11-24T08:23:17.636Z"
      },
      {
        "duration": 0,
        "start_time": "2022-11-24T08:23:19.198Z"
      },
      {
        "duration": 0,
        "start_time": "2022-11-24T08:23:19.199Z"
      },
      {
        "duration": 0,
        "start_time": "2022-11-24T08:23:19.200Z"
      },
      {
        "duration": 0,
        "start_time": "2022-11-24T08:23:19.201Z"
      },
      {
        "duration": 0,
        "start_time": "2022-11-24T08:23:19.202Z"
      },
      {
        "duration": 0,
        "start_time": "2022-11-24T08:23:19.203Z"
      },
      {
        "duration": 0,
        "start_time": "2022-11-24T08:23:19.204Z"
      },
      {
        "duration": 0,
        "start_time": "2022-11-24T08:23:19.206Z"
      },
      {
        "duration": 0,
        "start_time": "2022-11-24T08:23:19.207Z"
      },
      {
        "duration": 0,
        "start_time": "2022-11-24T08:23:19.208Z"
      },
      {
        "duration": 0,
        "start_time": "2022-11-24T08:23:19.210Z"
      },
      {
        "duration": 0,
        "start_time": "2022-11-24T08:23:19.211Z"
      },
      {
        "duration": 0,
        "start_time": "2022-11-24T08:23:19.212Z"
      },
      {
        "duration": 0,
        "start_time": "2022-11-24T08:23:19.213Z"
      },
      {
        "duration": 1263,
        "start_time": "2022-11-24T08:23:50.987Z"
      },
      {
        "duration": 857,
        "start_time": "2022-11-24T08:23:52.253Z"
      },
      {
        "duration": 28,
        "start_time": "2022-11-24T08:23:53.111Z"
      },
      {
        "duration": 241,
        "start_time": "2022-11-24T08:23:53.153Z"
      },
      {
        "duration": 5,
        "start_time": "2022-11-24T08:23:53.396Z"
      },
      {
        "duration": 62,
        "start_time": "2022-11-24T08:23:53.403Z"
      },
      {
        "duration": 40,
        "start_time": "2022-11-24T08:23:53.467Z"
      },
      {
        "duration": 64,
        "start_time": "2022-11-24T08:23:53.509Z"
      },
      {
        "duration": 696,
        "start_time": "2022-11-24T08:23:53.575Z"
      },
      {
        "duration": 6,
        "start_time": "2022-11-24T08:23:54.274Z"
      },
      {
        "duration": 29,
        "start_time": "2022-11-24T08:23:54.282Z"
      },
      {
        "duration": 35,
        "start_time": "2022-11-24T08:23:54.313Z"
      },
      {
        "duration": 19,
        "start_time": "2022-11-24T08:23:54.349Z"
      },
      {
        "duration": 17,
        "start_time": "2022-11-24T08:23:54.371Z"
      },
      {
        "duration": 253,
        "start_time": "2022-11-24T08:23:54.390Z"
      },
      {
        "duration": 9,
        "start_time": "2022-11-24T08:23:54.645Z"
      },
      {
        "duration": 47,
        "start_time": "2022-11-24T08:23:54.656Z"
      },
      {
        "duration": 43,
        "start_time": "2022-11-24T08:23:54.705Z"
      },
      {
        "duration": 8,
        "start_time": "2022-11-24T08:23:54.750Z"
      },
      {
        "duration": 34,
        "start_time": "2022-11-24T08:23:54.760Z"
      },
      {
        "duration": 25,
        "start_time": "2022-11-24T08:23:54.796Z"
      },
      {
        "duration": 139,
        "start_time": "2022-11-24T08:23:54.822Z"
      },
      {
        "duration": 6,
        "start_time": "2022-11-24T08:23:54.963Z"
      },
      {
        "duration": 73,
        "start_time": "2022-11-24T08:23:54.971Z"
      },
      {
        "duration": 3,
        "start_time": "2022-11-24T08:25:01.469Z"
      },
      {
        "duration": 695,
        "start_time": "2022-11-24T08:25:07.265Z"
      },
      {
        "duration": 6,
        "start_time": "2022-11-24T08:25:11.127Z"
      },
      {
        "duration": 1315,
        "start_time": "2022-11-24T08:25:25.570Z"
      },
      {
        "duration": 848,
        "start_time": "2022-11-24T08:25:26.887Z"
      },
      {
        "duration": 32,
        "start_time": "2022-11-24T08:25:27.736Z"
      },
      {
        "duration": 238,
        "start_time": "2022-11-24T08:25:27.769Z"
      },
      {
        "duration": 4,
        "start_time": "2022-11-24T08:25:28.009Z"
      },
      {
        "duration": 9,
        "start_time": "2022-11-24T08:25:28.015Z"
      },
      {
        "duration": 6,
        "start_time": "2022-11-24T08:25:28.026Z"
      },
      {
        "duration": 20,
        "start_time": "2022-11-24T08:25:28.034Z"
      },
      {
        "duration": 660,
        "start_time": "2022-11-24T08:25:28.056Z"
      },
      {
        "duration": 5,
        "start_time": "2022-11-24T08:25:28.718Z"
      },
      {
        "duration": 17,
        "start_time": "2022-11-24T08:25:28.725Z"
      },
      {
        "duration": 30,
        "start_time": "2022-11-24T08:25:28.743Z"
      },
      {
        "duration": 9,
        "start_time": "2022-11-24T08:25:28.775Z"
      },
      {
        "duration": 3,
        "start_time": "2022-11-24T08:25:28.787Z"
      },
      {
        "duration": 281,
        "start_time": "2022-11-24T08:25:28.792Z"
      },
      {
        "duration": 8,
        "start_time": "2022-11-24T08:25:29.075Z"
      },
      {
        "duration": 3,
        "start_time": "2022-11-24T08:25:29.085Z"
      },
      {
        "duration": 13,
        "start_time": "2022-11-24T08:25:29.089Z"
      },
      {
        "duration": 3,
        "start_time": "2022-11-24T08:25:29.104Z"
      },
      {
        "duration": 7,
        "start_time": "2022-11-24T08:25:29.108Z"
      },
      {
        "duration": 4,
        "start_time": "2022-11-24T08:25:29.117Z"
      },
      {
        "duration": 149,
        "start_time": "2022-11-24T08:25:29.122Z"
      },
      {
        "duration": 6,
        "start_time": "2022-11-24T08:25:29.273Z"
      },
      {
        "duration": 18,
        "start_time": "2022-11-24T08:25:29.281Z"
      },
      {
        "duration": 1377,
        "start_time": "2022-11-24T08:28:50.331Z"
      },
      {
        "duration": 874,
        "start_time": "2022-11-24T08:28:51.711Z"
      },
      {
        "duration": 30,
        "start_time": "2022-11-24T08:28:52.587Z"
      },
      {
        "duration": 251,
        "start_time": "2022-11-24T08:28:52.620Z"
      },
      {
        "duration": 4,
        "start_time": "2022-11-24T08:28:52.872Z"
      },
      {
        "duration": 56,
        "start_time": "2022-11-24T08:28:52.878Z"
      },
      {
        "duration": 7,
        "start_time": "2022-11-24T08:28:52.935Z"
      },
      {
        "duration": 28,
        "start_time": "2022-11-24T08:28:52.944Z"
      },
      {
        "duration": 653,
        "start_time": "2022-11-24T08:28:52.974Z"
      },
      {
        "duration": 6,
        "start_time": "2022-11-24T08:28:53.630Z"
      },
      {
        "duration": 38,
        "start_time": "2022-11-24T08:28:53.637Z"
      },
      {
        "duration": 30,
        "start_time": "2022-11-24T08:28:53.677Z"
      },
      {
        "duration": 35,
        "start_time": "2022-11-24T08:28:53.708Z"
      },
      {
        "duration": 32,
        "start_time": "2022-11-24T08:28:53.745Z"
      },
      {
        "duration": 273,
        "start_time": "2022-11-24T08:28:53.779Z"
      },
      {
        "duration": 10,
        "start_time": "2022-11-24T08:28:54.054Z"
      },
      {
        "duration": 8,
        "start_time": "2022-11-24T08:28:54.065Z"
      },
      {
        "duration": 55,
        "start_time": "2022-11-24T08:28:54.075Z"
      },
      {
        "duration": 22,
        "start_time": "2022-11-24T08:28:54.131Z"
      },
      {
        "duration": 40,
        "start_time": "2022-11-24T08:28:54.155Z"
      },
      {
        "duration": 45,
        "start_time": "2022-11-24T08:28:54.197Z"
      },
      {
        "duration": 144,
        "start_time": "2022-11-24T08:28:54.244Z"
      },
      {
        "duration": 6,
        "start_time": "2022-11-24T08:28:54.390Z"
      },
      {
        "duration": 52,
        "start_time": "2022-11-24T08:28:54.398Z"
      },
      {
        "duration": 1301,
        "start_time": "2022-11-24T08:29:33.357Z"
      },
      {
        "duration": 823,
        "start_time": "2022-11-24T08:29:34.660Z"
      },
      {
        "duration": 27,
        "start_time": "2022-11-24T08:29:35.484Z"
      },
      {
        "duration": 233,
        "start_time": "2022-11-24T08:29:35.513Z"
      },
      {
        "duration": 6,
        "start_time": "2022-11-24T08:29:35.747Z"
      },
      {
        "duration": 6,
        "start_time": "2022-11-24T08:29:35.755Z"
      },
      {
        "duration": 10,
        "start_time": "2022-11-24T08:29:35.762Z"
      },
      {
        "duration": 6,
        "start_time": "2022-11-24T08:29:35.774Z"
      },
      {
        "duration": 644,
        "start_time": "2022-11-24T08:29:35.782Z"
      },
      {
        "duration": 8,
        "start_time": "2022-11-24T08:29:36.429Z"
      },
      {
        "duration": 14,
        "start_time": "2022-11-24T08:29:36.439Z"
      },
      {
        "duration": 124,
        "start_time": "2022-11-24T08:29:36.455Z"
      },
      {
        "duration": 0,
        "start_time": "2022-11-24T08:29:36.581Z"
      },
      {
        "duration": 0,
        "start_time": "2022-11-24T08:29:36.582Z"
      },
      {
        "duration": 0,
        "start_time": "2022-11-24T08:29:36.583Z"
      },
      {
        "duration": 0,
        "start_time": "2022-11-24T08:29:36.585Z"
      },
      {
        "duration": 0,
        "start_time": "2022-11-24T08:29:36.587Z"
      },
      {
        "duration": 0,
        "start_time": "2022-11-24T08:29:36.588Z"
      },
      {
        "duration": 0,
        "start_time": "2022-11-24T08:29:36.590Z"
      },
      {
        "duration": 0,
        "start_time": "2022-11-24T08:29:36.592Z"
      },
      {
        "duration": 0,
        "start_time": "2022-11-24T08:29:36.593Z"
      },
      {
        "duration": 0,
        "start_time": "2022-11-24T08:29:36.595Z"
      },
      {
        "duration": 0,
        "start_time": "2022-11-24T08:29:36.597Z"
      },
      {
        "duration": 0,
        "start_time": "2022-11-24T08:29:36.598Z"
      },
      {
        "duration": 9,
        "start_time": "2022-11-24T08:31:27.782Z"
      },
      {
        "duration": 4,
        "start_time": "2022-11-24T08:31:49.274Z"
      },
      {
        "duration": 5,
        "start_time": "2022-11-24T08:32:18.805Z"
      },
      {
        "duration": 4,
        "start_time": "2022-11-24T08:32:36.792Z"
      },
      {
        "duration": 739,
        "start_time": "2022-11-24T08:32:36.797Z"
      },
      {
        "duration": 27,
        "start_time": "2022-11-24T08:32:37.538Z"
      },
      {
        "duration": 218,
        "start_time": "2022-11-24T08:32:37.566Z"
      },
      {
        "duration": 4,
        "start_time": "2022-11-24T08:32:37.786Z"
      },
      {
        "duration": 5,
        "start_time": "2022-11-24T08:32:37.792Z"
      },
      {
        "duration": 4,
        "start_time": "2022-11-24T08:32:43.244Z"
      },
      {
        "duration": 4,
        "start_time": "2022-11-24T08:33:21.195Z"
      },
      {
        "duration": 15,
        "start_time": "2022-11-24T08:33:25.479Z"
      },
      {
        "duration": 1341,
        "start_time": "2022-11-24T08:33:40.541Z"
      },
      {
        "duration": 842,
        "start_time": "2022-11-24T08:33:41.884Z"
      },
      {
        "duration": 34,
        "start_time": "2022-11-24T08:33:42.728Z"
      },
      {
        "duration": 239,
        "start_time": "2022-11-24T08:33:42.764Z"
      },
      {
        "duration": 4,
        "start_time": "2022-11-24T08:33:43.005Z"
      },
      {
        "duration": 18,
        "start_time": "2022-11-24T08:33:43.010Z"
      },
      {
        "duration": 28,
        "start_time": "2022-11-24T08:33:43.029Z"
      },
      {
        "duration": 26,
        "start_time": "2022-11-24T08:33:43.059Z"
      },
      {
        "duration": 641,
        "start_time": "2022-11-24T08:33:43.087Z"
      },
      {
        "duration": 7,
        "start_time": "2022-11-24T08:33:43.732Z"
      },
      {
        "duration": 23,
        "start_time": "2022-11-24T08:33:43.741Z"
      },
      {
        "duration": 29,
        "start_time": "2022-11-24T08:33:43.766Z"
      },
      {
        "duration": 170,
        "start_time": "2022-11-24T08:33:43.797Z"
      },
      {
        "duration": 0,
        "start_time": "2022-11-24T08:33:43.970Z"
      },
      {
        "duration": 0,
        "start_time": "2022-11-24T08:33:43.971Z"
      },
      {
        "duration": 0,
        "start_time": "2022-11-24T08:33:43.973Z"
      },
      {
        "duration": 0,
        "start_time": "2022-11-24T08:33:43.974Z"
      },
      {
        "duration": 0,
        "start_time": "2022-11-24T08:33:43.975Z"
      },
      {
        "duration": 0,
        "start_time": "2022-11-24T08:33:43.977Z"
      },
      {
        "duration": 0,
        "start_time": "2022-11-24T08:33:43.978Z"
      },
      {
        "duration": 0,
        "start_time": "2022-11-24T08:33:43.979Z"
      },
      {
        "duration": 0,
        "start_time": "2022-11-24T08:33:43.981Z"
      },
      {
        "duration": 1,
        "start_time": "2022-11-24T08:33:43.982Z"
      },
      {
        "duration": 0,
        "start_time": "2022-11-24T08:33:43.984Z"
      },
      {
        "duration": 0,
        "start_time": "2022-11-24T08:33:43.985Z"
      },
      {
        "duration": 4,
        "start_time": "2022-11-24T08:34:09.656Z"
      },
      {
        "duration": 4,
        "start_time": "2022-11-24T08:34:52.341Z"
      },
      {
        "duration": 831,
        "start_time": "2022-11-24T08:34:52.347Z"
      },
      {
        "duration": 25,
        "start_time": "2022-11-24T08:34:53.180Z"
      },
      {
        "duration": 236,
        "start_time": "2022-11-24T08:34:53.207Z"
      },
      {
        "duration": 7,
        "start_time": "2022-11-24T08:34:53.445Z"
      },
      {
        "duration": 32,
        "start_time": "2022-11-24T08:34:53.453Z"
      },
      {
        "duration": 27,
        "start_time": "2022-11-24T08:34:53.486Z"
      },
      {
        "duration": 22,
        "start_time": "2022-11-24T08:34:53.514Z"
      },
      {
        "duration": 698,
        "start_time": "2022-11-24T08:34:53.540Z"
      },
      {
        "duration": 4,
        "start_time": "2022-11-24T08:34:57.048Z"
      },
      {
        "duration": 4,
        "start_time": "2022-11-24T08:35:09.720Z"
      },
      {
        "duration": 738,
        "start_time": "2022-11-24T08:35:09.727Z"
      },
      {
        "duration": 25,
        "start_time": "2022-11-24T08:35:10.467Z"
      },
      {
        "duration": 219,
        "start_time": "2022-11-24T08:35:10.494Z"
      },
      {
        "duration": 5,
        "start_time": "2022-11-24T08:35:10.715Z"
      },
      {
        "duration": 5,
        "start_time": "2022-11-24T08:35:10.721Z"
      },
      {
        "duration": 6,
        "start_time": "2022-11-24T08:35:10.729Z"
      },
      {
        "duration": 5,
        "start_time": "2022-11-24T08:35:10.736Z"
      },
      {
        "duration": 643,
        "start_time": "2022-11-24T08:35:10.753Z"
      },
      {
        "duration": 5,
        "start_time": "2022-11-24T08:35:14.951Z"
      },
      {
        "duration": 6,
        "start_time": "2022-11-24T08:36:32.624Z"
      },
      {
        "duration": 740,
        "start_time": "2022-11-24T08:36:32.632Z"
      },
      {
        "duration": 25,
        "start_time": "2022-11-24T08:36:33.374Z"
      },
      {
        "duration": 217,
        "start_time": "2022-11-24T08:36:33.400Z"
      },
      {
        "duration": 5,
        "start_time": "2022-11-24T08:36:33.619Z"
      },
      {
        "duration": 22,
        "start_time": "2022-11-24T08:36:33.626Z"
      },
      {
        "duration": 27,
        "start_time": "2022-11-24T08:36:33.650Z"
      },
      {
        "duration": 22,
        "start_time": "2022-11-24T08:36:33.679Z"
      },
      {
        "duration": 684,
        "start_time": "2022-11-24T08:36:33.703Z"
      },
      {
        "duration": 630,
        "start_time": "2022-11-24T08:36:36.195Z"
      },
      {
        "duration": 7,
        "start_time": "2022-11-24T08:36:37.119Z"
      },
      {
        "duration": 1313,
        "start_time": "2022-11-24T08:37:03.924Z"
      },
      {
        "duration": 801,
        "start_time": "2022-11-24T08:37:05.239Z"
      },
      {
        "duration": 28,
        "start_time": "2022-11-24T08:37:06.042Z"
      },
      {
        "duration": 225,
        "start_time": "2022-11-24T08:37:06.072Z"
      },
      {
        "duration": 4,
        "start_time": "2022-11-24T08:37:06.299Z"
      },
      {
        "duration": 7,
        "start_time": "2022-11-24T08:37:06.304Z"
      },
      {
        "duration": 7,
        "start_time": "2022-11-24T08:37:06.312Z"
      },
      {
        "duration": 4,
        "start_time": "2022-11-24T08:37:06.321Z"
      },
      {
        "duration": 90775,
        "start_time": "2022-11-24T08:37:06.327Z"
      },
      {
        "duration": 9,
        "start_time": "2022-11-24T08:38:37.106Z"
      },
      {
        "duration": 12,
        "start_time": "2022-11-24T08:38:37.117Z"
      },
      {
        "duration": 22,
        "start_time": "2022-11-24T08:38:37.131Z"
      },
      {
        "duration": 387,
        "start_time": "2022-11-24T08:38:37.154Z"
      },
      {
        "duration": 13,
        "start_time": "2022-11-24T08:38:37.542Z"
      },
      {
        "duration": 1875,
        "start_time": "2022-11-24T08:38:37.557Z"
      },
      {
        "duration": 171,
        "start_time": "2022-11-24T08:38:39.434Z"
      },
      {
        "duration": 8919,
        "start_time": "2022-11-24T08:38:39.606Z"
      },
      {
        "duration": 3,
        "start_time": "2022-11-24T08:38:48.526Z"
      },
      {
        "duration": 41828,
        "start_time": "2022-11-24T08:38:48.531Z"
      },
      {
        "duration": 101,
        "start_time": "2022-11-24T08:39:30.363Z"
      },
      {
        "duration": 32,
        "start_time": "2022-11-24T08:39:30.466Z"
      },
      {
        "duration": 19,
        "start_time": "2022-11-24T08:39:30.499Z"
      },
      {
        "duration": 1277,
        "start_time": "2022-11-24T09:01:50.995Z"
      },
      {
        "duration": 3411,
        "start_time": "2022-11-24T09:01:52.274Z"
      },
      {
        "duration": 29,
        "start_time": "2022-11-24T09:01:55.687Z"
      },
      {
        "duration": 208,
        "start_time": "2022-11-24T09:01:55.719Z"
      },
      {
        "duration": 4,
        "start_time": "2022-11-24T09:01:55.929Z"
      },
      {
        "duration": 26,
        "start_time": "2022-11-24T09:01:55.934Z"
      },
      {
        "duration": 30,
        "start_time": "2022-11-24T09:01:55.961Z"
      },
      {
        "duration": 21,
        "start_time": "2022-11-24T09:01:55.993Z"
      },
      {
        "duration": 97048,
        "start_time": "2022-11-24T09:01:56.016Z"
      },
      {
        "duration": 3,
        "start_time": "2022-11-24T09:03:33.067Z"
      },
      {
        "duration": 29,
        "start_time": "2022-11-24T09:03:33.071Z"
      },
      {
        "duration": 50,
        "start_time": "2022-11-24T09:03:33.101Z"
      },
      {
        "duration": 76,
        "start_time": "2022-11-24T09:03:33.153Z"
      },
      {
        "duration": 336,
        "start_time": "2022-11-24T09:03:33.231Z"
      },
      {
        "duration": 1914,
        "start_time": "2022-11-24T09:03:33.568Z"
      },
      {
        "duration": 161,
        "start_time": "2022-11-24T09:03:35.484Z"
      },
      {
        "duration": 8487,
        "start_time": "2022-11-24T09:03:35.647Z"
      },
      {
        "duration": 2,
        "start_time": "2022-11-24T09:03:44.136Z"
      },
      {
        "duration": 43022,
        "start_time": "2022-11-24T09:03:44.140Z"
      },
      {
        "duration": 96,
        "start_time": "2022-11-24T09:04:27.164Z"
      },
      {
        "duration": 35,
        "start_time": "2022-11-24T09:04:27.262Z"
      },
      {
        "duration": 2,
        "start_time": "2022-11-24T09:04:27.299Z"
      },
      {
        "duration": 1310,
        "start_time": "2022-11-24T09:19:58.573Z"
      },
      {
        "duration": 3494,
        "start_time": "2022-11-24T09:19:59.885Z"
      },
      {
        "duration": 24,
        "start_time": "2022-11-24T09:20:03.380Z"
      },
      {
        "duration": 215,
        "start_time": "2022-11-24T09:20:03.406Z"
      },
      {
        "duration": 4,
        "start_time": "2022-11-24T09:20:03.623Z"
      },
      {
        "duration": 9,
        "start_time": "2022-11-24T09:20:03.629Z"
      },
      {
        "duration": 13,
        "start_time": "2022-11-24T09:20:03.640Z"
      },
      {
        "duration": 14,
        "start_time": "2022-11-24T09:20:03.655Z"
      },
      {
        "duration": 110011,
        "start_time": "2022-11-24T09:20:03.671Z"
      },
      {
        "duration": 3,
        "start_time": "2022-11-24T09:21:53.685Z"
      },
      {
        "duration": 26,
        "start_time": "2022-11-24T09:21:53.690Z"
      },
      {
        "duration": 33,
        "start_time": "2022-11-24T09:21:53.718Z"
      },
      {
        "duration": 86,
        "start_time": "2022-11-24T09:21:53.758Z"
      },
      {
        "duration": 6,
        "start_time": "2022-11-24T09:21:53.847Z"
      },
      {
        "duration": 32,
        "start_time": "2022-11-24T09:21:53.855Z"
      },
      {
        "duration": 623,
        "start_time": "2022-11-24T09:21:53.889Z"
      },
      {
        "duration": 7149,
        "start_time": "2022-11-24T09:21:54.515Z"
      },
      {
        "duration": 3,
        "start_time": "2022-11-24T09:22:01.668Z"
      },
      {
        "duration": 44882,
        "start_time": "2022-11-24T09:22:01.673Z"
      },
      {
        "duration": 18,
        "start_time": "2022-11-24T09:22:46.558Z"
      },
      {
        "duration": 82,
        "start_time": "2022-11-24T09:22:46.579Z"
      },
      {
        "duration": 2,
        "start_time": "2022-11-24T09:22:46.664Z"
      },
      {
        "duration": 533612,
        "start_time": "2022-11-24T09:22:46.668Z"
      },
      {
        "duration": 20,
        "start_time": "2022-11-24T09:31:40.282Z"
      },
      {
        "duration": 7077,
        "start_time": "2022-11-24T09:31:40.304Z"
      },
      {
        "duration": 60,
        "start_time": "2022-11-24T14:09:23.963Z"
      },
      {
        "duration": 1718,
        "start_time": "2022-11-24T14:09:46.949Z"
      },
      {
        "duration": 3383,
        "start_time": "2022-11-24T14:09:48.668Z"
      },
      {
        "duration": 26,
        "start_time": "2022-11-24T14:09:52.053Z"
      },
      {
        "duration": 220,
        "start_time": "2022-11-24T14:09:52.080Z"
      },
      {
        "duration": 5,
        "start_time": "2022-11-24T14:09:52.301Z"
      },
      {
        "duration": 10,
        "start_time": "2022-11-24T14:09:52.307Z"
      },
      {
        "duration": 12,
        "start_time": "2022-11-24T14:09:52.318Z"
      },
      {
        "duration": 11,
        "start_time": "2022-11-24T14:09:52.332Z"
      },
      {
        "duration": 293,
        "start_time": "2022-11-24T14:09:52.345Z"
      },
      {
        "duration": 1578,
        "start_time": "2022-11-24T14:09:52.640Z"
      },
      {
        "duration": 3,
        "start_time": "2022-11-24T14:09:54.220Z"
      },
      {
        "duration": 7,
        "start_time": "2022-11-24T14:09:54.224Z"
      },
      {
        "duration": 6,
        "start_time": "2022-11-24T14:09:54.232Z"
      },
      {
        "duration": 12,
        "start_time": "2022-11-24T14:09:54.240Z"
      },
      {
        "duration": 10,
        "start_time": "2022-11-24T14:09:54.253Z"
      },
      {
        "duration": 4,
        "start_time": "2022-11-24T14:09:54.277Z"
      },
      {
        "duration": 17,
        "start_time": "2022-11-24T14:09:54.282Z"
      },
      {
        "duration": 79,
        "start_time": "2022-11-24T14:09:54.300Z"
      },
      {
        "duration": 3,
        "start_time": "2022-11-24T14:09:54.381Z"
      },
      {
        "duration": 56,
        "start_time": "2022-11-24T14:09:54.386Z"
      },
      {
        "duration": 3,
        "start_time": "2022-11-24T14:09:54.444Z"
      },
      {
        "duration": 7,
        "start_time": "2022-11-24T14:09:54.449Z"
      },
      {
        "duration": 4,
        "start_time": "2022-11-24T14:09:54.478Z"
      },
      {
        "duration": 363,
        "start_time": "2022-11-24T14:09:54.484Z"
      },
      {
        "duration": 8,
        "start_time": "2022-11-24T14:09:54.849Z"
      },
      {
        "duration": 48,
        "start_time": "2022-11-24T14:09:54.859Z"
      },
      {
        "duration": 131,
        "start_time": "2022-11-24T14:10:39.111Z"
      },
      {
        "duration": 4,
        "start_time": "2022-11-24T14:12:24.894Z"
      },
      {
        "duration": 13,
        "start_time": "2022-11-24T14:12:25.916Z"
      },
      {
        "duration": 4,
        "start_time": "2022-11-24T14:12:49.259Z"
      },
      {
        "duration": 5,
        "start_time": "2022-11-24T14:12:54.353Z"
      },
      {
        "duration": 1343,
        "start_time": "2022-11-24T14:12:55.566Z"
      },
      {
        "duration": 4,
        "start_time": "2022-11-24T14:13:15.547Z"
      },
      {
        "duration": 5,
        "start_time": "2022-11-24T14:13:16.682Z"
      },
      {
        "duration": 202,
        "start_time": "2022-11-24T14:14:18.025Z"
      },
      {
        "duration": 1316,
        "start_time": "2022-11-24T14:14:26.201Z"
      },
      {
        "duration": 816,
        "start_time": "2022-11-24T14:14:27.519Z"
      },
      {
        "duration": 31,
        "start_time": "2022-11-24T14:14:28.336Z"
      },
      {
        "duration": 291,
        "start_time": "2022-11-24T14:14:28.377Z"
      },
      {
        "duration": 20,
        "start_time": "2022-11-24T14:14:28.670Z"
      },
      {
        "duration": 12,
        "start_time": "2022-11-24T14:14:28.694Z"
      },
      {
        "duration": 17,
        "start_time": "2022-11-24T14:14:28.708Z"
      },
      {
        "duration": 8,
        "start_time": "2022-11-24T14:14:28.727Z"
      },
      {
        "duration": 231,
        "start_time": "2022-11-24T14:14:28.737Z"
      },
      {
        "duration": 1233,
        "start_time": "2022-11-24T14:14:28.971Z"
      },
      {
        "duration": 156,
        "start_time": "2022-11-24T14:14:30.206Z"
      },
      {
        "duration": 2,
        "start_time": "2022-11-24T14:14:30.364Z"
      },
      {
        "duration": 33,
        "start_time": "2022-11-24T14:14:30.368Z"
      },
      {
        "duration": 17,
        "start_time": "2022-11-24T14:14:30.403Z"
      },
      {
        "duration": 19,
        "start_time": "2022-11-24T14:14:30.422Z"
      },
      {
        "duration": 39,
        "start_time": "2022-11-24T14:14:30.443Z"
      },
      {
        "duration": 32,
        "start_time": "2022-11-24T14:14:30.487Z"
      },
      {
        "duration": 12,
        "start_time": "2022-11-24T14:14:30.521Z"
      },
      {
        "duration": 27,
        "start_time": "2022-11-24T14:14:30.535Z"
      },
      {
        "duration": 7,
        "start_time": "2022-11-24T14:14:30.563Z"
      },
      {
        "duration": 33,
        "start_time": "2022-11-24T14:14:30.572Z"
      },
      {
        "duration": 4,
        "start_time": "2022-11-24T14:14:30.606Z"
      },
      {
        "duration": 19,
        "start_time": "2022-11-24T14:14:30.611Z"
      },
      {
        "duration": 21,
        "start_time": "2022-11-24T14:14:30.631Z"
      },
      {
        "duration": 180,
        "start_time": "2022-11-24T14:14:30.653Z"
      },
      {
        "duration": 7,
        "start_time": "2022-11-24T14:14:30.835Z"
      },
      {
        "duration": 46,
        "start_time": "2022-11-24T14:14:30.845Z"
      },
      {
        "duration": 1387,
        "start_time": "2022-11-24T14:15:43.208Z"
      },
      {
        "duration": 827,
        "start_time": "2022-11-24T14:15:44.598Z"
      },
      {
        "duration": 27,
        "start_time": "2022-11-24T14:15:45.428Z"
      },
      {
        "duration": 229,
        "start_time": "2022-11-24T14:15:45.457Z"
      },
      {
        "duration": 7,
        "start_time": "2022-11-24T14:15:45.688Z"
      },
      {
        "duration": 21,
        "start_time": "2022-11-24T14:15:45.702Z"
      },
      {
        "duration": 15,
        "start_time": "2022-11-24T14:15:45.725Z"
      },
      {
        "duration": 12,
        "start_time": "2022-11-24T14:15:45.742Z"
      },
      {
        "duration": 270,
        "start_time": "2022-11-24T14:15:45.756Z"
      },
      {
        "duration": 1191,
        "start_time": "2022-11-24T14:15:46.029Z"
      },
      {
        "duration": 1403,
        "start_time": "2022-11-24T14:15:47.222Z"
      },
      {
        "duration": 3,
        "start_time": "2022-11-24T14:15:48.626Z"
      },
      {
        "duration": 7,
        "start_time": "2022-11-24T14:15:48.630Z"
      },
      {
        "duration": 11,
        "start_time": "2022-11-24T14:15:48.639Z"
      },
      {
        "duration": 12,
        "start_time": "2022-11-24T14:15:48.652Z"
      },
      {
        "duration": 7,
        "start_time": "2022-11-24T14:15:48.683Z"
      },
      {
        "duration": 8,
        "start_time": "2022-11-24T14:15:48.695Z"
      },
      {
        "duration": 16,
        "start_time": "2022-11-24T14:15:48.704Z"
      },
      {
        "duration": 89,
        "start_time": "2022-11-24T14:15:48.721Z"
      },
      {
        "duration": 3,
        "start_time": "2022-11-24T14:15:48.811Z"
      },
      {
        "duration": 18,
        "start_time": "2022-11-24T14:15:48.815Z"
      },
      {
        "duration": 2,
        "start_time": "2022-11-24T14:15:48.835Z"
      },
      {
        "duration": 10,
        "start_time": "2022-11-24T14:15:48.839Z"
      },
      {
        "duration": 5,
        "start_time": "2022-11-24T14:15:48.851Z"
      },
      {
        "duration": 288,
        "start_time": "2022-11-24T14:15:48.878Z"
      },
      {
        "duration": 17,
        "start_time": "2022-11-24T14:15:49.168Z"
      },
      {
        "duration": 40,
        "start_time": "2022-11-24T14:15:49.187Z"
      },
      {
        "duration": 5,
        "start_time": "2022-11-24T14:16:24.404Z"
      },
      {
        "duration": 10,
        "start_time": "2022-11-24T14:16:25.976Z"
      },
      {
        "duration": 1472,
        "start_time": "2022-11-24T14:16:28.853Z"
      },
      {
        "duration": 1397,
        "start_time": "2022-11-24T14:16:42.263Z"
      },
      {
        "duration": 883,
        "start_time": "2022-11-24T14:16:43.662Z"
      },
      {
        "duration": 42,
        "start_time": "2022-11-24T14:16:44.547Z"
      },
      {
        "duration": 222,
        "start_time": "2022-11-24T14:16:44.592Z"
      },
      {
        "duration": 5,
        "start_time": "2022-11-24T14:16:44.816Z"
      },
      {
        "duration": 10,
        "start_time": "2022-11-24T14:16:44.823Z"
      },
      {
        "duration": 6,
        "start_time": "2022-11-24T14:16:44.835Z"
      },
      {
        "duration": 5,
        "start_time": "2022-11-24T14:16:44.843Z"
      },
      {
        "duration": 280,
        "start_time": "2022-11-24T14:16:44.850Z"
      },
      {
        "duration": 1193,
        "start_time": "2022-11-24T14:16:45.134Z"
      },
      {
        "duration": 1067,
        "start_time": "2022-11-24T14:16:46.329Z"
      },
      {
        "duration": 2,
        "start_time": "2022-11-24T14:16:47.398Z"
      },
      {
        "duration": 7,
        "start_time": "2022-11-24T14:16:47.402Z"
      },
      {
        "duration": 9,
        "start_time": "2022-11-24T14:16:47.412Z"
      },
      {
        "duration": 13,
        "start_time": "2022-11-24T14:16:47.423Z"
      },
      {
        "duration": 7,
        "start_time": "2022-11-24T14:16:47.438Z"
      },
      {
        "duration": 7,
        "start_time": "2022-11-24T14:16:47.446Z"
      },
      {
        "duration": 12,
        "start_time": "2022-11-24T14:16:47.454Z"
      },
      {
        "duration": 77,
        "start_time": "2022-11-24T14:16:47.477Z"
      },
      {
        "duration": 2,
        "start_time": "2022-11-24T14:16:47.556Z"
      },
      {
        "duration": 43,
        "start_time": "2022-11-24T14:16:47.560Z"
      },
      {
        "duration": 3,
        "start_time": "2022-11-24T14:16:47.604Z"
      },
      {
        "duration": 10,
        "start_time": "2022-11-24T14:16:47.608Z"
      },
      {
        "duration": 10,
        "start_time": "2022-11-24T14:16:47.620Z"
      },
      {
        "duration": 366,
        "start_time": "2022-11-24T14:16:47.632Z"
      },
      {
        "duration": 6,
        "start_time": "2022-11-24T14:16:48.000Z"
      },
      {
        "duration": 30,
        "start_time": "2022-11-24T14:16:48.007Z"
      },
      {
        "duration": 1318,
        "start_time": "2022-11-24T14:18:39.126Z"
      },
      {
        "duration": 815,
        "start_time": "2022-11-24T14:18:40.446Z"
      },
      {
        "duration": 29,
        "start_time": "2022-11-24T14:18:41.263Z"
      },
      {
        "duration": 230,
        "start_time": "2022-11-24T14:18:41.294Z"
      },
      {
        "duration": 4,
        "start_time": "2022-11-24T14:18:41.526Z"
      },
      {
        "duration": 30,
        "start_time": "2022-11-24T14:18:41.532Z"
      },
      {
        "duration": 17,
        "start_time": "2022-11-24T14:18:41.564Z"
      },
      {
        "duration": 5,
        "start_time": "2022-11-24T14:18:41.583Z"
      },
      {
        "duration": 164,
        "start_time": "2022-11-24T14:18:41.590Z"
      },
      {
        "duration": 1139,
        "start_time": "2022-11-24T14:18:41.757Z"
      },
      {
        "duration": 98991,
        "start_time": "2022-11-24T14:18:42.898Z"
      },
      {
        "duration": 3,
        "start_time": "2022-11-24T14:20:21.892Z"
      },
      {
        "duration": 8,
        "start_time": "2022-11-24T14:20:21.896Z"
      },
      {
        "duration": 13,
        "start_time": "2022-11-24T14:20:21.905Z"
      },
      {
        "duration": 61,
        "start_time": "2022-11-24T14:20:21.919Z"
      },
      {
        "duration": 7,
        "start_time": "2022-11-24T14:20:21.982Z"
      },
      {
        "duration": 8,
        "start_time": "2022-11-24T14:20:21.992Z"
      },
      {
        "duration": 12,
        "start_time": "2022-11-24T14:20:22.002Z"
      },
      {
        "duration": 5132,
        "start_time": "2022-11-24T14:20:22.016Z"
      },
      {
        "duration": 3,
        "start_time": "2022-11-24T14:20:27.150Z"
      },
      {
        "duration": 23129,
        "start_time": "2022-11-24T14:20:27.155Z"
      },
      {
        "duration": 14,
        "start_time": "2022-11-24T14:20:50.286Z"
      },
      {
        "duration": 96,
        "start_time": "2022-11-24T14:20:50.302Z"
      },
      {
        "duration": 4,
        "start_time": "2022-11-24T14:20:50.400Z"
      },
      {
        "duration": 361604,
        "start_time": "2022-11-24T14:20:50.405Z"
      },
      {
        "duration": 15,
        "start_time": "2022-11-24T14:26:52.011Z"
      },
      {
        "duration": 4476,
        "start_time": "2022-11-24T14:26:52.028Z"
      },
      {
        "duration": 8,
        "start_time": "2022-11-24T14:27:33.003Z"
      },
      {
        "duration": 1323,
        "start_time": "2022-11-24T14:27:38.875Z"
      },
      {
        "duration": 794,
        "start_time": "2022-11-24T14:27:40.200Z"
      },
      {
        "duration": 28,
        "start_time": "2022-11-24T14:27:40.995Z"
      },
      {
        "duration": 253,
        "start_time": "2022-11-24T14:27:41.025Z"
      },
      {
        "duration": 5,
        "start_time": "2022-11-24T14:27:41.279Z"
      },
      {
        "duration": 15,
        "start_time": "2022-11-24T14:27:41.286Z"
      },
      {
        "duration": 6,
        "start_time": "2022-11-24T14:27:41.303Z"
      },
      {
        "duration": 5,
        "start_time": "2022-11-24T14:27:41.311Z"
      },
      {
        "duration": 243,
        "start_time": "2022-11-24T14:27:41.318Z"
      },
      {
        "duration": 1157,
        "start_time": "2022-11-24T14:27:41.565Z"
      },
      {
        "duration": 969,
        "start_time": "2022-11-24T14:27:42.724Z"
      },
      {
        "duration": 2,
        "start_time": "2022-11-24T14:27:43.695Z"
      },
      {
        "duration": 6,
        "start_time": "2022-11-24T14:27:43.699Z"
      },
      {
        "duration": 8,
        "start_time": "2022-11-24T14:27:43.706Z"
      },
      {
        "duration": 9,
        "start_time": "2022-11-24T14:27:43.716Z"
      },
      {
        "duration": 8,
        "start_time": "2022-11-24T14:27:43.726Z"
      },
      {
        "duration": 8,
        "start_time": "2022-11-24T14:27:43.736Z"
      },
      {
        "duration": 8,
        "start_time": "2022-11-24T14:27:43.746Z"
      },
      {
        "duration": 73,
        "start_time": "2022-11-24T14:27:43.778Z"
      },
      {
        "duration": 3,
        "start_time": "2022-11-24T14:27:43.852Z"
      },
      {
        "duration": 63,
        "start_time": "2022-11-24T14:27:43.857Z"
      },
      {
        "duration": 3,
        "start_time": "2022-11-24T14:27:43.922Z"
      },
      {
        "duration": 25,
        "start_time": "2022-11-24T14:27:43.927Z"
      },
      {
        "duration": 8,
        "start_time": "2022-11-24T14:27:43.954Z"
      },
      {
        "duration": 404,
        "start_time": "2022-11-24T14:27:43.964Z"
      },
      {
        "duration": 10,
        "start_time": "2022-11-24T14:27:44.370Z"
      },
      {
        "duration": 34,
        "start_time": "2022-11-24T14:27:44.382Z"
      },
      {
        "duration": 610,
        "start_time": "2022-11-24T14:28:13.175Z"
      },
      {
        "duration": 7,
        "start_time": "2022-11-24T14:28:20.591Z"
      },
      {
        "duration": 4,
        "start_time": "2022-11-24T14:29:31.929Z"
      },
      {
        "duration": 74,
        "start_time": "2022-11-24T14:31:33.239Z"
      },
      {
        "duration": 7,
        "start_time": "2022-11-24T14:31:54.287Z"
      },
      {
        "duration": 156,
        "start_time": "2022-11-24T14:31:57.001Z"
      },
      {
        "duration": 4,
        "start_time": "2022-11-24T14:33:39.362Z"
      },
      {
        "duration": 6,
        "start_time": "2022-11-24T14:33:43.922Z"
      },
      {
        "duration": 23,
        "start_time": "2022-11-24T14:33:46.268Z"
      },
      {
        "duration": 6,
        "start_time": "2022-11-24T14:36:12.173Z"
      },
      {
        "duration": 29,
        "start_time": "2022-11-24T14:36:15.894Z"
      },
      {
        "duration": 4,
        "start_time": "2022-11-24T14:38:12.769Z"
      },
      {
        "duration": 30,
        "start_time": "2022-11-24T14:38:16.079Z"
      },
      {
        "duration": 6,
        "start_time": "2022-11-24T14:40:18.234Z"
      },
      {
        "duration": 24,
        "start_time": "2022-11-24T14:40:30.539Z"
      },
      {
        "duration": 471,
        "start_time": "2022-11-24T14:40:50.692Z"
      },
      {
        "duration": 101,
        "start_time": "2022-11-24T14:40:55.029Z"
      },
      {
        "duration": 9573,
        "start_time": "2022-11-24T14:41:06.729Z"
      },
      {
        "duration": 323,
        "start_time": "2022-11-24T14:42:09.426Z"
      },
      {
        "duration": 10,
        "start_time": "2022-11-24T14:43:09.032Z"
      },
      {
        "duration": 6,
        "start_time": "2022-11-24T14:43:11.176Z"
      },
      {
        "duration": 70,
        "start_time": "2022-11-24T14:43:25.026Z"
      },
      {
        "duration": 313,
        "start_time": "2022-11-24T14:43:30.559Z"
      },
      {
        "duration": 304,
        "start_time": "2022-11-24T14:43:42.305Z"
      },
      {
        "duration": 5,
        "start_time": "2022-11-24T14:44:34.704Z"
      },
      {
        "duration": 796,
        "start_time": "2022-11-24T14:44:34.711Z"
      },
      {
        "duration": 26,
        "start_time": "2022-11-24T14:44:35.509Z"
      },
      {
        "duration": 247,
        "start_time": "2022-11-24T14:44:35.537Z"
      },
      {
        "duration": 5,
        "start_time": "2022-11-24T14:44:35.788Z"
      },
      {
        "duration": 10,
        "start_time": "2022-11-24T14:44:35.795Z"
      },
      {
        "duration": 10,
        "start_time": "2022-11-24T14:44:35.807Z"
      },
      {
        "duration": 12,
        "start_time": "2022-11-24T14:44:35.818Z"
      },
      {
        "duration": 4,
        "start_time": "2022-11-24T14:44:47.023Z"
      },
      {
        "duration": 6,
        "start_time": "2022-11-24T14:44:50.093Z"
      },
      {
        "duration": 7,
        "start_time": "2022-11-24T14:44:59.992Z"
      },
      {
        "duration": 9376,
        "start_time": "2022-11-24T14:47:41.467Z"
      },
      {
        "duration": 8,
        "start_time": "2022-11-24T14:47:56.272Z"
      },
      {
        "duration": 1298,
        "start_time": "2022-11-24T14:48:54.092Z"
      },
      {
        "duration": 869,
        "start_time": "2022-11-24T14:48:55.392Z"
      },
      {
        "duration": 30,
        "start_time": "2022-11-24T14:48:56.263Z"
      },
      {
        "duration": 255,
        "start_time": "2022-11-24T14:48:56.296Z"
      },
      {
        "duration": 5,
        "start_time": "2022-11-24T14:48:56.553Z"
      },
      {
        "duration": 18,
        "start_time": "2022-11-24T14:48:56.560Z"
      },
      {
        "duration": 8,
        "start_time": "2022-11-24T14:48:56.580Z"
      },
      {
        "duration": 7,
        "start_time": "2022-11-24T14:48:56.590Z"
      },
      {
        "duration": 240,
        "start_time": "2022-11-24T14:48:56.599Z"
      },
      {
        "duration": 1389,
        "start_time": "2022-11-24T14:48:56.841Z"
      },
      {
        "duration": 7,
        "start_time": "2022-11-24T14:48:58.232Z"
      },
      {
        "duration": 8257,
        "start_time": "2022-11-24T14:48:58.240Z"
      },
      {
        "duration": 13686,
        "start_time": "2022-11-24T14:49:06.499Z"
      },
      {
        "duration": 6,
        "start_time": "2022-11-24T14:49:20.187Z"
      },
      {
        "duration": 5,
        "start_time": "2022-11-24T14:49:20.195Z"
      },
      {
        "duration": 11,
        "start_time": "2022-11-24T14:49:20.201Z"
      },
      {
        "duration": 8,
        "start_time": "2022-11-24T14:49:20.213Z"
      },
      {
        "duration": 7,
        "start_time": "2022-11-24T14:49:20.222Z"
      },
      {
        "duration": 8,
        "start_time": "2022-11-24T14:49:20.230Z"
      },
      {
        "duration": 8,
        "start_time": "2022-11-24T14:49:20.240Z"
      },
      {
        "duration": 57,
        "start_time": "2022-11-24T14:49:20.250Z"
      },
      {
        "duration": 0,
        "start_time": "2022-11-24T14:49:20.308Z"
      },
      {
        "duration": 0,
        "start_time": "2022-11-24T14:49:20.310Z"
      },
      {
        "duration": 0,
        "start_time": "2022-11-24T14:49:20.310Z"
      },
      {
        "duration": 0,
        "start_time": "2022-11-24T14:49:20.311Z"
      },
      {
        "duration": 0,
        "start_time": "2022-11-24T14:49:20.312Z"
      },
      {
        "duration": 0,
        "start_time": "2022-11-24T14:49:20.313Z"
      },
      {
        "duration": 0,
        "start_time": "2022-11-24T14:49:20.314Z"
      },
      {
        "duration": 0,
        "start_time": "2022-11-24T14:49:20.315Z"
      },
      {
        "duration": 1219,
        "start_time": "2022-11-24T14:49:45.396Z"
      },
      {
        "duration": 755,
        "start_time": "2022-11-24T14:49:46.617Z"
      },
      {
        "duration": 27,
        "start_time": "2022-11-24T14:49:47.373Z"
      },
      {
        "duration": 212,
        "start_time": "2022-11-24T14:49:47.401Z"
      },
      {
        "duration": 4,
        "start_time": "2022-11-24T14:49:47.614Z"
      },
      {
        "duration": 9,
        "start_time": "2022-11-24T14:49:47.619Z"
      },
      {
        "duration": 3,
        "start_time": "2022-11-24T14:49:47.629Z"
      },
      {
        "duration": 7,
        "start_time": "2022-11-24T14:49:47.634Z"
      },
      {
        "duration": 193,
        "start_time": "2022-11-24T14:49:47.642Z"
      },
      {
        "duration": 1232,
        "start_time": "2022-11-24T14:49:47.838Z"
      },
      {
        "duration": 10,
        "start_time": "2022-11-24T14:49:49.072Z"
      },
      {
        "duration": 7995,
        "start_time": "2022-11-24T14:49:49.084Z"
      },
      {
        "duration": 89,
        "start_time": "2022-11-24T14:49:57.080Z"
      },
      {
        "duration": 7,
        "start_time": "2022-11-24T14:49:57.177Z"
      },
      {
        "duration": 12,
        "start_time": "2022-11-24T14:49:57.185Z"
      },
      {
        "duration": 9,
        "start_time": "2022-11-24T14:49:57.199Z"
      },
      {
        "duration": 10,
        "start_time": "2022-11-24T14:49:57.209Z"
      },
      {
        "duration": 8,
        "start_time": "2022-11-24T14:49:57.221Z"
      },
      {
        "duration": 6,
        "start_time": "2022-11-24T14:49:57.231Z"
      },
      {
        "duration": 11,
        "start_time": "2022-11-24T14:49:57.239Z"
      },
      {
        "duration": 151,
        "start_time": "2022-11-24T14:49:57.252Z"
      },
      {
        "duration": 0,
        "start_time": "2022-11-24T14:49:57.404Z"
      },
      {
        "duration": 0,
        "start_time": "2022-11-24T14:49:57.405Z"
      },
      {
        "duration": 0,
        "start_time": "2022-11-24T14:49:57.406Z"
      },
      {
        "duration": 0,
        "start_time": "2022-11-24T14:49:57.408Z"
      },
      {
        "duration": 0,
        "start_time": "2022-11-24T14:49:57.409Z"
      },
      {
        "duration": 0,
        "start_time": "2022-11-24T14:49:57.409Z"
      },
      {
        "duration": 0,
        "start_time": "2022-11-24T14:49:57.410Z"
      },
      {
        "duration": 0,
        "start_time": "2022-11-24T14:49:57.411Z"
      },
      {
        "duration": 6,
        "start_time": "2022-11-24T14:51:17.039Z"
      },
      {
        "duration": 13,
        "start_time": "2022-11-24T14:51:18.667Z"
      },
      {
        "duration": 7,
        "start_time": "2022-11-24T14:51:34.586Z"
      },
      {
        "duration": 6,
        "start_time": "2022-11-24T14:51:37.102Z"
      },
      {
        "duration": 36679,
        "start_time": "2022-11-24T14:51:52.056Z"
      },
      {
        "duration": 7,
        "start_time": "2022-11-24T14:52:33.223Z"
      },
      {
        "duration": 6,
        "start_time": "2022-11-24T14:52:47.870Z"
      },
      {
        "duration": 5,
        "start_time": "2022-11-24T14:52:50.331Z"
      },
      {
        "duration": 6,
        "start_time": "2022-11-24T14:52:55.600Z"
      },
      {
        "duration": 6,
        "start_time": "2022-11-24T14:52:56.364Z"
      },
      {
        "duration": 5,
        "start_time": "2022-11-24T14:56:29.149Z"
      },
      {
        "duration": 6,
        "start_time": "2022-11-24T14:56:30.004Z"
      },
      {
        "duration": 6,
        "start_time": "2022-11-24T14:56:31.742Z"
      },
      {
        "duration": 1214,
        "start_time": "2022-11-24T14:57:54.221Z"
      },
      {
        "duration": 7,
        "start_time": "2022-11-24T14:58:09.324Z"
      },
      {
        "duration": 5,
        "start_time": "2022-11-24T15:01:04.631Z"
      },
      {
        "duration": 699,
        "start_time": "2022-11-24T15:01:04.638Z"
      },
      {
        "duration": 20,
        "start_time": "2022-11-24T15:01:05.339Z"
      },
      {
        "duration": 200,
        "start_time": "2022-11-24T15:01:05.360Z"
      },
      {
        "duration": 4,
        "start_time": "2022-11-24T15:01:05.562Z"
      },
      {
        "duration": 28,
        "start_time": "2022-11-24T15:01:05.567Z"
      },
      {
        "duration": 19,
        "start_time": "2022-11-24T15:01:05.596Z"
      },
      {
        "duration": 16,
        "start_time": "2022-11-24T15:01:05.617Z"
      },
      {
        "duration": 27,
        "start_time": "2022-11-24T15:01:05.635Z"
      },
      {
        "duration": 42,
        "start_time": "2022-11-24T15:01:05.663Z"
      },
      {
        "duration": 25,
        "start_time": "2022-11-24T15:01:05.707Z"
      },
      {
        "duration": 7568,
        "start_time": "2022-11-24T15:01:05.734Z"
      },
      {
        "duration": 6,
        "start_time": "2022-11-24T15:01:23.741Z"
      },
      {
        "duration": 1224,
        "start_time": "2022-11-24T15:02:19.696Z"
      },
      {
        "duration": 768,
        "start_time": "2022-11-24T15:02:20.922Z"
      },
      {
        "duration": 23,
        "start_time": "2022-11-24T15:02:21.692Z"
      },
      {
        "duration": 227,
        "start_time": "2022-11-24T15:02:21.717Z"
      },
      {
        "duration": 5,
        "start_time": "2022-11-24T15:02:21.945Z"
      },
      {
        "duration": 20,
        "start_time": "2022-11-24T15:02:21.951Z"
      },
      {
        "duration": 27,
        "start_time": "2022-11-24T15:02:21.972Z"
      },
      {
        "duration": 23,
        "start_time": "2022-11-24T15:02:22.000Z"
      },
      {
        "duration": 272,
        "start_time": "2022-11-24T15:02:22.025Z"
      },
      {
        "duration": 1228,
        "start_time": "2022-11-24T15:02:22.299Z"
      },
      {
        "duration": 7,
        "start_time": "2022-11-24T15:02:23.529Z"
      },
      {
        "duration": 7626,
        "start_time": "2022-11-24T15:02:23.538Z"
      },
      {
        "duration": 3,
        "start_time": "2022-11-24T15:02:31.166Z"
      },
      {
        "duration": 15,
        "start_time": "2022-11-24T15:02:31.171Z"
      },
      {
        "duration": 6,
        "start_time": "2022-11-24T15:02:31.187Z"
      },
      {
        "duration": 7,
        "start_time": "2022-11-24T15:02:31.194Z"
      },
      {
        "duration": 13,
        "start_time": "2022-11-24T15:02:31.202Z"
      },
      {
        "duration": 7,
        "start_time": "2022-11-24T15:02:31.217Z"
      },
      {
        "duration": 9,
        "start_time": "2022-11-24T15:02:31.225Z"
      },
      {
        "duration": 9,
        "start_time": "2022-11-24T15:02:31.236Z"
      },
      {
        "duration": 61,
        "start_time": "2022-11-24T15:02:31.247Z"
      },
      {
        "duration": 2,
        "start_time": "2022-11-24T15:02:31.310Z"
      },
      {
        "duration": 38,
        "start_time": "2022-11-24T15:02:31.314Z"
      },
      {
        "duration": 3,
        "start_time": "2022-11-24T15:02:31.353Z"
      },
      {
        "duration": 21,
        "start_time": "2022-11-24T15:02:31.357Z"
      },
      {
        "duration": 3,
        "start_time": "2022-11-24T15:02:31.380Z"
      },
      {
        "duration": 270,
        "start_time": "2022-11-24T15:02:31.384Z"
      },
      {
        "duration": 5,
        "start_time": "2022-11-24T15:02:31.657Z"
      },
      {
        "duration": 32,
        "start_time": "2022-11-24T15:02:31.664Z"
      },
      {
        "duration": 41,
        "start_time": "2022-11-24T15:03:45.582Z"
      },
      {
        "duration": 30,
        "start_time": "2022-11-24T15:03:51.692Z"
      },
      {
        "duration": 1227,
        "start_time": "2022-11-24T15:04:35.017Z"
      },
      {
        "duration": 792,
        "start_time": "2022-11-24T15:04:36.246Z"
      },
      {
        "duration": 23,
        "start_time": "2022-11-24T15:04:37.039Z"
      },
      {
        "duration": 208,
        "start_time": "2022-11-24T15:04:37.064Z"
      },
      {
        "duration": 6,
        "start_time": "2022-11-24T15:04:37.274Z"
      },
      {
        "duration": 8,
        "start_time": "2022-11-24T15:04:37.281Z"
      },
      {
        "duration": 4,
        "start_time": "2022-11-24T15:04:37.290Z"
      },
      {
        "duration": 6,
        "start_time": "2022-11-24T15:04:37.295Z"
      },
      {
        "duration": 160,
        "start_time": "2022-11-24T15:04:37.302Z"
      },
      {
        "duration": 1274,
        "start_time": "2022-11-24T15:04:37.464Z"
      },
      {
        "duration": 6,
        "start_time": "2022-11-24T15:04:38.739Z"
      },
      {
        "duration": 7800,
        "start_time": "2022-11-24T15:04:38.746Z"
      },
      {
        "duration": 4,
        "start_time": "2022-11-24T15:04:46.547Z"
      },
      {
        "duration": 13,
        "start_time": "2022-11-24T15:04:46.552Z"
      },
      {
        "duration": 37,
        "start_time": "2022-11-24T15:04:46.566Z"
      },
      {
        "duration": 5,
        "start_time": "2022-11-24T15:04:46.605Z"
      },
      {
        "duration": 6,
        "start_time": "2022-11-24T15:04:46.612Z"
      },
      {
        "duration": 13,
        "start_time": "2022-11-24T15:04:46.620Z"
      },
      {
        "duration": 7,
        "start_time": "2022-11-24T15:04:46.634Z"
      },
      {
        "duration": 9,
        "start_time": "2022-11-24T15:04:46.642Z"
      },
      {
        "duration": 14,
        "start_time": "2022-11-24T15:04:46.652Z"
      },
      {
        "duration": 54,
        "start_time": "2022-11-24T15:04:46.668Z"
      },
      {
        "duration": 3,
        "start_time": "2022-11-24T15:04:46.724Z"
      },
      {
        "duration": 31,
        "start_time": "2022-11-24T15:04:46.728Z"
      },
      {
        "duration": 17,
        "start_time": "2022-11-24T15:04:46.761Z"
      },
      {
        "duration": 6,
        "start_time": "2022-11-24T15:04:46.780Z"
      },
      {
        "duration": 3,
        "start_time": "2022-11-24T15:04:46.788Z"
      },
      {
        "duration": 288,
        "start_time": "2022-11-24T15:04:46.793Z"
      },
      {
        "duration": 5,
        "start_time": "2022-11-24T15:04:47.083Z"
      },
      {
        "duration": 24,
        "start_time": "2022-11-24T15:04:47.090Z"
      },
      {
        "duration": 5,
        "start_time": "2022-11-24T15:06:03.355Z"
      },
      {
        "duration": 6,
        "start_time": "2022-11-24T15:10:03.775Z"
      },
      {
        "duration": 1212,
        "start_time": "2022-11-24T15:29:39.714Z"
      },
      {
        "duration": 803,
        "start_time": "2022-11-24T15:29:40.928Z"
      },
      {
        "duration": 26,
        "start_time": "2022-11-24T15:29:41.733Z"
      },
      {
        "duration": 240,
        "start_time": "2022-11-24T15:29:41.760Z"
      },
      {
        "duration": 5,
        "start_time": "2022-11-24T15:29:42.002Z"
      },
      {
        "duration": 29,
        "start_time": "2022-11-24T15:29:42.008Z"
      },
      {
        "duration": 22,
        "start_time": "2022-11-24T15:29:42.039Z"
      },
      {
        "duration": 28,
        "start_time": "2022-11-24T15:29:42.062Z"
      },
      {
        "duration": 195,
        "start_time": "2022-11-24T15:29:42.091Z"
      },
      {
        "duration": 1324,
        "start_time": "2022-11-24T15:29:42.287Z"
      },
      {
        "duration": 8092,
        "start_time": "2022-11-24T15:29:43.613Z"
      },
      {
        "duration": 39,
        "start_time": "2022-11-24T15:29:51.707Z"
      },
      {
        "duration": 10,
        "start_time": "2022-11-24T15:29:51.747Z"
      },
      {
        "duration": 18,
        "start_time": "2022-11-24T15:29:51.760Z"
      },
      {
        "duration": 11,
        "start_time": "2022-11-24T15:29:51.780Z"
      },
      {
        "duration": 8,
        "start_time": "2022-11-24T15:29:51.793Z"
      },
      {
        "duration": 6,
        "start_time": "2022-11-24T15:29:51.803Z"
      },
      {
        "duration": 10,
        "start_time": "2022-11-24T15:29:51.811Z"
      },
      {
        "duration": 86,
        "start_time": "2022-11-24T15:29:51.823Z"
      },
      {
        "duration": 2,
        "start_time": "2022-11-24T15:29:51.912Z"
      },
      {
        "duration": 50,
        "start_time": "2022-11-24T15:29:51.916Z"
      },
      {
        "duration": 145,
        "start_time": "2022-11-24T15:29:51.968Z"
      },
      {
        "duration": 0,
        "start_time": "2022-11-24T15:29:52.114Z"
      },
      {
        "duration": 0,
        "start_time": "2022-11-24T15:29:52.115Z"
      },
      {
        "duration": 0,
        "start_time": "2022-11-24T15:29:52.117Z"
      },
      {
        "duration": 0,
        "start_time": "2022-11-24T15:29:52.118Z"
      },
      {
        "duration": 0,
        "start_time": "2022-11-24T15:29:52.119Z"
      },
      {
        "duration": 4,
        "start_time": "2022-11-24T15:31:03.850Z"
      },
      {
        "duration": 19,
        "start_time": "2022-11-24T15:31:08.470Z"
      },
      {
        "duration": 97,
        "start_time": "2022-11-24T15:31:44.718Z"
      },
      {
        "duration": 116,
        "start_time": "2022-11-24T15:31:53.924Z"
      },
      {
        "duration": 2,
        "start_time": "2022-11-24T15:36:27.647Z"
      },
      {
        "duration": 9,
        "start_time": "2022-11-24T15:36:50.467Z"
      },
      {
        "duration": 87,
        "start_time": "2022-11-24T15:37:19.433Z"
      },
      {
        "duration": 5,
        "start_time": "2022-11-24T15:37:24.181Z"
      },
      {
        "duration": 10,
        "start_time": "2022-11-24T15:37:29.054Z"
      },
      {
        "duration": 4553,
        "start_time": "2022-11-24T15:37:35.528Z"
      },
      {
        "duration": 177853,
        "start_time": "2022-11-24T15:38:07.128Z"
      },
      {
        "duration": 156510,
        "start_time": "2022-11-24T15:42:45.930Z"
      },
      {
        "duration": 172817,
        "start_time": "2022-11-24T15:46:17.004Z"
      },
      {
        "duration": 10,
        "start_time": "2022-11-24T15:55:40.135Z"
      },
      {
        "duration": 69299,
        "start_time": "2022-11-24T15:55:46.554Z"
      },
      {
        "duration": 1317,
        "start_time": "2022-11-24T20:28:47.400Z"
      },
      {
        "duration": 2529,
        "start_time": "2022-11-24T20:28:48.718Z"
      },
      {
        "duration": 21,
        "start_time": "2022-11-24T20:28:51.249Z"
      },
      {
        "duration": 244,
        "start_time": "2022-11-24T20:28:51.271Z"
      },
      {
        "duration": 4,
        "start_time": "2022-11-24T20:28:51.516Z"
      },
      {
        "duration": 23,
        "start_time": "2022-11-24T20:28:51.521Z"
      },
      {
        "duration": 23,
        "start_time": "2022-11-24T20:28:51.546Z"
      },
      {
        "duration": 21,
        "start_time": "2022-11-24T20:28:51.570Z"
      },
      {
        "duration": 621,
        "start_time": "2022-11-24T20:28:51.593Z"
      },
      {
        "duration": 1327,
        "start_time": "2022-11-24T20:28:52.217Z"
      },
      {
        "duration": 8879,
        "start_time": "2022-11-24T20:28:53.545Z"
      },
      {
        "duration": 35,
        "start_time": "2022-11-24T20:29:02.425Z"
      },
      {
        "duration": 2,
        "start_time": "2022-11-24T20:29:02.461Z"
      },
      {
        "duration": 8,
        "start_time": "2022-11-24T20:29:02.464Z"
      },
      {
        "duration": 25,
        "start_time": "2022-11-24T20:29:02.473Z"
      },
      {
        "duration": 24,
        "start_time": "2022-11-24T20:29:02.500Z"
      },
      {
        "duration": 13,
        "start_time": "2022-11-24T20:29:02.526Z"
      },
      {
        "duration": 10,
        "start_time": "2022-11-24T20:29:02.540Z"
      },
      {
        "duration": 69,
        "start_time": "2022-11-24T20:29:02.551Z"
      },
      {
        "duration": 3,
        "start_time": "2022-11-24T20:29:02.622Z"
      },
      {
        "duration": 33,
        "start_time": "2022-11-24T20:29:02.626Z"
      },
      {
        "duration": 108,
        "start_time": "2022-11-24T20:29:02.660Z"
      },
      {
        "duration": 3,
        "start_time": "2022-11-24T20:29:02.769Z"
      },
      {
        "duration": 39,
        "start_time": "2022-11-24T20:29:02.773Z"
      },
      {
        "duration": 23,
        "start_time": "2022-11-24T20:29:02.814Z"
      },
      {
        "duration": 23,
        "start_time": "2022-11-24T20:29:02.839Z"
      },
      {
        "duration": 6,
        "start_time": "2022-11-24T20:29:02.863Z"
      },
      {
        "duration": 6,
        "start_time": "2022-11-24T20:29:02.871Z"
      },
      {
        "duration": 1358,
        "start_time": "2022-11-24T20:29:40.963Z"
      },
      {
        "duration": 932,
        "start_time": "2022-11-24T20:29:42.322Z"
      },
      {
        "duration": 20,
        "start_time": "2022-11-24T20:29:43.256Z"
      },
      {
        "duration": 246,
        "start_time": "2022-11-24T20:29:43.278Z"
      },
      {
        "duration": 4,
        "start_time": "2022-11-24T20:29:43.526Z"
      },
      {
        "duration": 6,
        "start_time": "2022-11-24T20:29:43.531Z"
      },
      {
        "duration": 7,
        "start_time": "2022-11-24T20:29:43.539Z"
      },
      {
        "duration": 5,
        "start_time": "2022-11-24T20:29:43.547Z"
      },
      {
        "duration": 165,
        "start_time": "2022-11-24T20:29:43.554Z"
      },
      {
        "duration": 1476,
        "start_time": "2022-11-24T20:29:43.723Z"
      },
      {
        "duration": 1178616,
        "start_time": "2022-11-24T20:29:45.201Z"
      },
      {
        "duration": 4490,
        "start_time": "2022-11-24T20:49:23.819Z"
      },
      {
        "duration": 6,
        "start_time": "2022-11-24T20:49:28.311Z"
      },
      {
        "duration": 31,
        "start_time": "2022-11-24T20:49:28.319Z"
      },
      {
        "duration": 82,
        "start_time": "2022-11-24T20:49:28.352Z"
      },
      {
        "duration": 6,
        "start_time": "2022-11-24T20:49:28.436Z"
      },
      {
        "duration": 5,
        "start_time": "2022-11-24T20:49:28.444Z"
      },
      {
        "duration": 11,
        "start_time": "2022-11-24T20:49:28.450Z"
      },
      {
        "duration": 7052,
        "start_time": "2022-11-24T20:49:28.462Z"
      },
      {
        "duration": 3,
        "start_time": "2022-11-24T20:49:35.516Z"
      },
      {
        "duration": 49081,
        "start_time": "2022-11-24T20:49:35.520Z"
      },
      {
        "duration": 77395,
        "start_time": "2022-11-24T20:50:24.603Z"
      },
      {
        "duration": 3,
        "start_time": "2022-11-24T20:51:42.000Z"
      },
      {
        "duration": 12,
        "start_time": "2022-11-24T20:51:42.004Z"
      },
      {
        "duration": 6,
        "start_time": "2022-11-24T20:51:42.018Z"
      },
      {
        "duration": 305,
        "start_time": "2022-11-24T20:51:42.026Z"
      },
      {
        "duration": 18,
        "start_time": "2022-11-24T20:51:42.333Z"
      },
      {
        "duration": 57,
        "start_time": "2022-11-24T20:51:42.353Z"
      },
      {
        "duration": 652,
        "start_time": "2022-11-24T20:52:44.186Z"
      },
      {
        "duration": 6432,
        "start_time": "2022-11-24T20:52:55.109Z"
      },
      {
        "duration": 3,
        "start_time": "2022-11-24T20:53:13.935Z"
      },
      {
        "duration": 583,
        "start_time": "2022-11-24T20:53:16.574Z"
      },
      {
        "duration": 3,
        "start_time": "2022-11-24T20:54:08.925Z"
      },
      {
        "duration": 12,
        "start_time": "2022-11-24T20:54:08.930Z"
      },
      {
        "duration": 7322,
        "start_time": "2022-11-24T20:54:08.944Z"
      },
      {
        "duration": 3,
        "start_time": "2022-11-24T20:54:16.268Z"
      },
      {
        "duration": 44831,
        "start_time": "2022-11-24T20:54:16.273Z"
      },
      {
        "duration": 77807,
        "start_time": "2022-11-24T20:55:01.107Z"
      },
      {
        "duration": 3,
        "start_time": "2022-11-24T20:56:18.916Z"
      },
      {
        "duration": 106,
        "start_time": "2022-11-24T20:56:18.921Z"
      },
      {
        "duration": 26,
        "start_time": "2022-11-24T20:56:19.029Z"
      },
      {
        "duration": 78453,
        "start_time": "2022-11-24T20:56:19.057Z"
      },
      {
        "duration": 17,
        "start_time": "2022-11-24T20:57:37.514Z"
      },
      {
        "duration": 36,
        "start_time": "2022-11-24T20:57:37.533Z"
      },
      {
        "duration": 1281,
        "start_time": "2022-11-24T20:58:17.110Z"
      },
      {
        "duration": 3,
        "start_time": "2022-11-24T20:58:55.997Z"
      },
      {
        "duration": 13,
        "start_time": "2022-11-24T20:58:56.001Z"
      },
      {
        "duration": 6305,
        "start_time": "2022-11-24T20:58:56.016Z"
      },
      {
        "duration": 2,
        "start_time": "2022-11-24T20:59:02.323Z"
      },
      {
        "duration": 9,
        "start_time": "2022-11-24T20:59:02.327Z"
      },
      {
        "duration": 0,
        "start_time": "2022-11-24T21:03:43.406Z"
      },
      {
        "duration": 0,
        "start_time": "2022-11-24T21:03:43.407Z"
      },
      {
        "duration": 0,
        "start_time": "2022-11-24T21:03:43.408Z"
      },
      {
        "duration": 0,
        "start_time": "2022-11-24T21:03:43.409Z"
      },
      {
        "duration": 0,
        "start_time": "2022-11-24T21:03:43.410Z"
      },
      {
        "duration": 0,
        "start_time": "2022-11-24T21:03:43.411Z"
      },
      {
        "duration": 0,
        "start_time": "2022-11-24T21:03:43.412Z"
      },
      {
        "duration": 1201,
        "start_time": "2022-11-24T21:03:59.549Z"
      },
      {
        "duration": 850,
        "start_time": "2022-11-24T21:04:00.752Z"
      },
      {
        "duration": 24,
        "start_time": "2022-11-24T21:04:01.606Z"
      },
      {
        "duration": 266,
        "start_time": "2022-11-24T21:04:01.632Z"
      },
      {
        "duration": 5,
        "start_time": "2022-11-24T21:04:01.900Z"
      },
      {
        "duration": 9,
        "start_time": "2022-11-24T21:04:01.907Z"
      },
      {
        "duration": 5,
        "start_time": "2022-11-24T21:04:01.917Z"
      },
      {
        "duration": 8,
        "start_time": "2022-11-24T21:04:01.923Z"
      },
      {
        "duration": 230,
        "start_time": "2022-11-24T21:04:01.934Z"
      },
      {
        "duration": 1224,
        "start_time": "2022-11-24T21:04:02.165Z"
      },
      {
        "duration": 8573,
        "start_time": "2022-11-24T21:04:03.390Z"
      },
      {
        "duration": 35,
        "start_time": "2022-11-24T21:04:11.965Z"
      },
      {
        "duration": 19,
        "start_time": "2022-11-24T21:04:12.002Z"
      },
      {
        "duration": 9,
        "start_time": "2022-11-24T21:04:12.022Z"
      },
      {
        "duration": 8,
        "start_time": "2022-11-24T21:04:12.033Z"
      },
      {
        "duration": 9,
        "start_time": "2022-11-24T21:04:12.043Z"
      },
      {
        "duration": 5,
        "start_time": "2022-11-24T21:04:12.054Z"
      },
      {
        "duration": 11,
        "start_time": "2022-11-24T21:04:12.060Z"
      },
      {
        "duration": 67,
        "start_time": "2022-11-24T21:04:12.072Z"
      },
      {
        "duration": 2,
        "start_time": "2022-11-24T21:04:12.141Z"
      },
      {
        "duration": 5,
        "start_time": "2022-11-24T21:04:12.145Z"
      },
      {
        "duration": 176,
        "start_time": "2022-11-24T21:04:12.151Z"
      },
      {
        "duration": 3,
        "start_time": "2022-11-24T21:04:12.329Z"
      },
      {
        "duration": 16,
        "start_time": "2022-11-24T21:04:12.333Z"
      },
      {
        "duration": 7,
        "start_time": "2022-11-24T21:04:12.350Z"
      },
      {
        "duration": 39,
        "start_time": "2022-11-24T21:04:12.359Z"
      },
      {
        "duration": 128,
        "start_time": "2022-11-24T21:04:12.402Z"
      },
      {
        "duration": 0,
        "start_time": "2022-11-24T21:04:12.531Z"
      },
      {
        "duration": 1213,
        "start_time": "2022-11-24T21:05:21.356Z"
      },
      {
        "duration": 872,
        "start_time": "2022-11-24T21:05:22.571Z"
      },
      {
        "duration": 19,
        "start_time": "2022-11-24T21:05:23.445Z"
      },
      {
        "duration": 224,
        "start_time": "2022-11-24T21:05:23.466Z"
      },
      {
        "duration": 10,
        "start_time": "2022-11-24T21:05:23.701Z"
      },
      {
        "duration": 7,
        "start_time": "2022-11-24T21:05:23.713Z"
      },
      {
        "duration": 4,
        "start_time": "2022-11-24T21:05:23.722Z"
      },
      {
        "duration": 4,
        "start_time": "2022-11-24T21:05:23.727Z"
      },
      {
        "duration": 242,
        "start_time": "2022-11-24T21:05:23.733Z"
      },
      {
        "duration": 1383,
        "start_time": "2022-11-24T21:05:23.978Z"
      },
      {
        "duration": 8813,
        "start_time": "2022-11-24T21:05:25.362Z"
      },
      {
        "duration": 44,
        "start_time": "2022-11-24T21:05:34.176Z"
      },
      {
        "duration": 2,
        "start_time": "2022-11-24T21:05:34.221Z"
      },
      {
        "duration": 6,
        "start_time": "2022-11-24T21:05:34.225Z"
      },
      {
        "duration": 8,
        "start_time": "2022-11-24T21:05:34.232Z"
      },
      {
        "duration": 7,
        "start_time": "2022-11-24T21:05:34.241Z"
      },
      {
        "duration": 6,
        "start_time": "2022-11-24T21:05:34.249Z"
      },
      {
        "duration": 7,
        "start_time": "2022-11-24T21:05:34.256Z"
      },
      {
        "duration": 84,
        "start_time": "2022-11-24T21:05:34.264Z"
      },
      {
        "duration": 3,
        "start_time": "2022-11-24T21:05:34.349Z"
      },
      {
        "duration": 33,
        "start_time": "2022-11-24T21:05:34.353Z"
      },
      {
        "duration": 168,
        "start_time": "2022-11-24T21:05:34.387Z"
      },
      {
        "duration": 2,
        "start_time": "2022-11-24T21:05:34.556Z"
      },
      {
        "duration": 7,
        "start_time": "2022-11-24T21:05:34.560Z"
      },
      {
        "duration": 4,
        "start_time": "2022-11-24T21:05:34.569Z"
      },
      {
        "duration": 59,
        "start_time": "2022-11-24T21:05:34.575Z"
      },
      {
        "duration": 6,
        "start_time": "2022-11-24T21:05:34.637Z"
      },
      {
        "duration": 9,
        "start_time": "2022-11-24T21:05:34.647Z"
      },
      {
        "duration": 122,
        "start_time": "2022-11-24T21:06:34.023Z"
      },
      {
        "duration": 38,
        "start_time": "2022-11-24T21:07:29.912Z"
      },
      {
        "duration": 188,
        "start_time": "2022-11-24T21:07:35.981Z"
      },
      {
        "duration": 96,
        "start_time": "2022-11-24T21:08:04.486Z"
      },
      {
        "duration": 137,
        "start_time": "2022-11-24T21:08:11.894Z"
      },
      {
        "duration": 122,
        "start_time": "2022-11-24T21:08:15.910Z"
      },
      {
        "duration": 1202,
        "start_time": "2022-11-24T21:08:42.025Z"
      },
      {
        "duration": 850,
        "start_time": "2022-11-24T21:08:43.230Z"
      },
      {
        "duration": 27,
        "start_time": "2022-11-24T21:08:44.081Z"
      },
      {
        "duration": 216,
        "start_time": "2022-11-24T21:08:44.110Z"
      },
      {
        "duration": 4,
        "start_time": "2022-11-24T21:08:44.327Z"
      },
      {
        "duration": 15,
        "start_time": "2022-11-24T21:08:44.333Z"
      },
      {
        "duration": 5,
        "start_time": "2022-11-24T21:08:44.349Z"
      },
      {
        "duration": 4,
        "start_time": "2022-11-24T21:08:44.355Z"
      },
      {
        "duration": 222,
        "start_time": "2022-11-24T21:08:44.360Z"
      },
      {
        "duration": 1320,
        "start_time": "2022-11-24T21:08:44.584Z"
      },
      {
        "duration": 7839,
        "start_time": "2022-11-24T21:08:45.905Z"
      },
      {
        "duration": 32,
        "start_time": "2022-11-24T21:08:53.745Z"
      },
      {
        "duration": 5,
        "start_time": "2022-11-24T21:08:53.778Z"
      },
      {
        "duration": 3,
        "start_time": "2022-11-24T21:08:53.797Z"
      },
      {
        "duration": 11,
        "start_time": "2022-11-24T21:08:53.802Z"
      },
      {
        "duration": 6,
        "start_time": "2022-11-24T21:08:53.815Z"
      },
      {
        "duration": 7,
        "start_time": "2022-11-24T21:08:53.822Z"
      },
      {
        "duration": 7,
        "start_time": "2022-11-24T21:08:53.830Z"
      },
      {
        "duration": 116,
        "start_time": "2022-11-24T21:08:53.838Z"
      },
      {
        "duration": 3,
        "start_time": "2022-11-24T21:08:53.956Z"
      },
      {
        "duration": 20,
        "start_time": "2022-11-24T21:08:53.961Z"
      },
      {
        "duration": 61,
        "start_time": "2022-11-24T21:08:53.983Z"
      },
      {
        "duration": 2,
        "start_time": "2022-11-24T21:08:54.046Z"
      },
      {
        "duration": 6,
        "start_time": "2022-11-24T21:08:54.050Z"
      },
      {
        "duration": 6,
        "start_time": "2022-11-24T21:08:54.057Z"
      },
      {
        "duration": 42,
        "start_time": "2022-11-24T21:08:54.064Z"
      },
      {
        "duration": 6,
        "start_time": "2022-11-24T21:08:54.108Z"
      },
      {
        "duration": 8,
        "start_time": "2022-11-24T21:08:54.116Z"
      },
      {
        "duration": 155,
        "start_time": "2022-11-24T21:09:30.522Z"
      },
      {
        "duration": 104,
        "start_time": "2022-11-24T21:09:36.294Z"
      },
      {
        "duration": 154,
        "start_time": "2022-11-24T21:09:40.599Z"
      },
      {
        "duration": 175,
        "start_time": "2022-11-24T21:09:49.707Z"
      },
      {
        "duration": 101,
        "start_time": "2022-11-24T21:09:55.159Z"
      },
      {
        "duration": 101,
        "start_time": "2022-11-24T21:10:20.775Z"
      },
      {
        "duration": 1203,
        "start_time": "2022-11-24T21:10:36.952Z"
      },
      {
        "duration": 873,
        "start_time": "2022-11-24T21:10:38.157Z"
      },
      {
        "duration": 26,
        "start_time": "2022-11-24T21:10:39.032Z"
      },
      {
        "duration": 218,
        "start_time": "2022-11-24T21:10:39.060Z"
      },
      {
        "duration": 17,
        "start_time": "2022-11-24T21:10:39.280Z"
      },
      {
        "duration": 10,
        "start_time": "2022-11-24T21:10:39.299Z"
      },
      {
        "duration": 6,
        "start_time": "2022-11-24T21:10:39.310Z"
      },
      {
        "duration": 5,
        "start_time": "2022-11-24T21:10:39.318Z"
      },
      {
        "duration": 227,
        "start_time": "2022-11-24T21:10:39.324Z"
      },
      {
        "duration": 1294,
        "start_time": "2022-11-24T21:10:39.554Z"
      },
      {
        "duration": 73064,
        "start_time": "2022-11-24T21:10:40.849Z"
      },
      {
        "duration": 319,
        "start_time": "2022-11-24T21:11:53.915Z"
      },
      {
        "duration": 3,
        "start_time": "2022-11-24T21:11:54.235Z"
      },
      {
        "duration": 13,
        "start_time": "2022-11-24T21:11:54.239Z"
      },
      {
        "duration": 39,
        "start_time": "2022-11-24T21:11:54.254Z"
      },
      {
        "duration": 37,
        "start_time": "2022-11-24T21:11:54.294Z"
      },
      {
        "duration": 26,
        "start_time": "2022-11-24T21:11:54.332Z"
      },
      {
        "duration": 28,
        "start_time": "2022-11-24T21:11:54.360Z"
      },
      {
        "duration": 1203,
        "start_time": "2022-11-24T21:11:54.390Z"
      },
      {
        "duration": 3,
        "start_time": "2022-11-24T21:11:55.597Z"
      },
      {
        "duration": 76,
        "start_time": "2022-11-24T21:11:55.601Z"
      },
      {
        "duration": 232,
        "start_time": "2022-11-24T21:11:55.679Z"
      },
      {
        "duration": 3,
        "start_time": "2022-11-24T21:11:55.912Z"
      },
      {
        "duration": 38,
        "start_time": "2022-11-24T21:11:55.916Z"
      },
      {
        "duration": 20,
        "start_time": "2022-11-24T21:11:55.956Z"
      },
      {
        "duration": 69,
        "start_time": "2022-11-24T21:11:55.978Z"
      },
      {
        "duration": 21,
        "start_time": "2022-11-24T21:11:56.048Z"
      },
      {
        "duration": 29,
        "start_time": "2022-11-24T21:11:56.072Z"
      },
      {
        "duration": 1327,
        "start_time": "2022-11-24T21:14:54.466Z"
      },
      {
        "duration": 867,
        "start_time": "2022-11-24T21:14:55.797Z"
      },
      {
        "duration": 32,
        "start_time": "2022-11-24T21:14:56.666Z"
      },
      {
        "duration": 218,
        "start_time": "2022-11-24T21:14:56.701Z"
      },
      {
        "duration": 4,
        "start_time": "2022-11-24T21:14:56.921Z"
      },
      {
        "duration": 26,
        "start_time": "2022-11-24T21:14:56.927Z"
      },
      {
        "duration": 6,
        "start_time": "2022-11-24T21:14:56.955Z"
      },
      {
        "duration": 9,
        "start_time": "2022-11-24T21:14:56.963Z"
      },
      {
        "duration": 168,
        "start_time": "2022-11-24T21:14:56.974Z"
      },
      {
        "duration": 1279,
        "start_time": "2022-11-24T21:14:57.145Z"
      },
      {
        "duration": 734851,
        "start_time": "2022-11-24T21:14:58.426Z"
      },
      {
        "duration": 2446,
        "start_time": "2022-11-24T21:27:13.278Z"
      },
      {
        "duration": 2,
        "start_time": "2022-11-24T21:27:15.726Z"
      },
      {
        "duration": 18,
        "start_time": "2022-11-24T21:27:15.730Z"
      },
      {
        "duration": 39,
        "start_time": "2022-11-24T21:27:15.749Z"
      },
      {
        "duration": 9,
        "start_time": "2022-11-24T21:27:15.790Z"
      },
      {
        "duration": 20,
        "start_time": "2022-11-24T21:27:15.801Z"
      },
      {
        "duration": 34,
        "start_time": "2022-11-24T21:27:15.822Z"
      },
      {
        "duration": 11035,
        "start_time": "2022-11-24T21:27:15.857Z"
      },
      {
        "duration": 3,
        "start_time": "2022-11-24T21:27:26.896Z"
      },
      {
        "duration": 13197,
        "start_time": "2022-11-24T21:27:26.901Z"
      },
      {
        "duration": 60903,
        "start_time": "2022-11-24T21:27:40.101Z"
      },
      {
        "duration": 91,
        "start_time": "2022-11-24T21:28:41.007Z"
      },
      {
        "duration": 6,
        "start_time": "2022-11-24T21:28:41.099Z"
      },
      {
        "duration": 223,
        "start_time": "2022-11-24T21:28:41.106Z"
      },
      {
        "duration": 12,
        "start_time": "2022-11-24T21:28:41.330Z"
      },
      {
        "duration": 17,
        "start_time": "2022-11-24T21:28:41.344Z"
      },
      {
        "duration": 22794,
        "start_time": "2022-11-24T21:29:27.748Z"
      },
      {
        "duration": 3,
        "start_time": "2022-11-24T21:29:56.449Z"
      },
      {
        "duration": 108588,
        "start_time": "2022-11-24T21:29:59.458Z"
      },
      {
        "duration": 338145,
        "start_time": "2022-11-24T21:31:51.602Z"
      },
      {
        "duration": 1508,
        "start_time": "2022-11-24T21:37:37.346Z"
      },
      {
        "duration": 892,
        "start_time": "2022-11-24T21:37:38.855Z"
      },
      {
        "duration": 23,
        "start_time": "2022-11-24T21:37:39.749Z"
      },
      {
        "duration": 250,
        "start_time": "2022-11-24T21:37:39.773Z"
      },
      {
        "duration": 5,
        "start_time": "2022-11-24T21:37:40.025Z"
      },
      {
        "duration": 31,
        "start_time": "2022-11-24T21:37:40.032Z"
      },
      {
        "duration": 8,
        "start_time": "2022-11-24T21:37:40.065Z"
      },
      {
        "duration": 44,
        "start_time": "2022-11-24T21:37:40.074Z"
      },
      {
        "duration": 355,
        "start_time": "2022-11-24T21:37:40.119Z"
      },
      {
        "duration": 1323,
        "start_time": "2022-11-24T21:37:40.476Z"
      },
      {
        "duration": 45076,
        "start_time": "2022-11-24T21:37:41.801Z"
      },
      {
        "duration": 0,
        "start_time": "2022-11-24T21:38:26.878Z"
      },
      {
        "duration": 0,
        "start_time": "2022-11-24T21:38:26.880Z"
      },
      {
        "duration": 0,
        "start_time": "2022-11-24T21:38:26.881Z"
      },
      {
        "duration": 0,
        "start_time": "2022-11-24T21:38:26.882Z"
      },
      {
        "duration": 0,
        "start_time": "2022-11-24T21:38:26.883Z"
      },
      {
        "duration": 0,
        "start_time": "2022-11-24T21:38:26.885Z"
      },
      {
        "duration": 0,
        "start_time": "2022-11-24T21:38:26.886Z"
      },
      {
        "duration": 0,
        "start_time": "2022-11-24T21:38:26.887Z"
      },
      {
        "duration": 0,
        "start_time": "2022-11-24T21:38:26.889Z"
      },
      {
        "duration": 0,
        "start_time": "2022-11-24T21:38:26.890Z"
      },
      {
        "duration": 0,
        "start_time": "2022-11-24T21:38:26.892Z"
      },
      {
        "duration": 0,
        "start_time": "2022-11-24T21:38:26.893Z"
      },
      {
        "duration": 0,
        "start_time": "2022-11-24T21:38:26.894Z"
      },
      {
        "duration": 0,
        "start_time": "2022-11-24T21:38:26.896Z"
      },
      {
        "duration": 0,
        "start_time": "2022-11-24T21:38:26.897Z"
      },
      {
        "duration": 0,
        "start_time": "2022-11-24T21:38:26.898Z"
      },
      {
        "duration": 1228,
        "start_time": "2022-11-24T21:38:50.654Z"
      },
      {
        "duration": 917,
        "start_time": "2022-11-24T21:38:51.884Z"
      },
      {
        "duration": 26,
        "start_time": "2022-11-24T21:38:52.804Z"
      },
      {
        "duration": 235,
        "start_time": "2022-11-24T21:38:52.833Z"
      },
      {
        "duration": 4,
        "start_time": "2022-11-24T21:38:53.069Z"
      },
      {
        "duration": 6,
        "start_time": "2022-11-24T21:38:53.074Z"
      },
      {
        "duration": 17,
        "start_time": "2022-11-24T21:38:53.081Z"
      },
      {
        "duration": 3,
        "start_time": "2022-11-24T21:38:53.099Z"
      },
      {
        "duration": 345,
        "start_time": "2022-11-24T21:38:53.104Z"
      },
      {
        "duration": 1348,
        "start_time": "2022-11-24T21:38:53.451Z"
      },
      {
        "duration": 1182170,
        "start_time": "2022-11-24T21:38:54.801Z"
      },
      {
        "duration": 3892,
        "start_time": "2022-11-24T21:58:36.973Z"
      },
      {
        "duration": 2,
        "start_time": "2022-11-24T21:58:40.867Z"
      },
      {
        "duration": 18,
        "start_time": "2022-11-24T21:58:40.870Z"
      },
      {
        "duration": 74,
        "start_time": "2022-11-24T21:58:40.890Z"
      },
      {
        "duration": 7,
        "start_time": "2022-11-24T21:58:40.966Z"
      },
      {
        "duration": 8,
        "start_time": "2022-11-24T21:58:40.975Z"
      },
      {
        "duration": 13,
        "start_time": "2022-11-24T21:58:40.984Z"
      },
      {
        "duration": 39224,
        "start_time": "2022-11-24T21:58:40.999Z"
      },
      {
        "duration": 3,
        "start_time": "2022-11-24T21:59:20.225Z"
      },
      {
        "duration": 124155,
        "start_time": "2022-11-24T21:59:20.229Z"
      },
      {
        "duration": 1497,
        "start_time": "2022-11-24T22:13:34.627Z"
      },
      {
        "duration": 2059,
        "start_time": "2022-11-24T22:13:36.126Z"
      },
      {
        "duration": 37,
        "start_time": "2022-11-24T22:13:38.186Z"
      },
      {
        "duration": 227,
        "start_time": "2022-11-24T22:13:38.225Z"
      },
      {
        "duration": 4,
        "start_time": "2022-11-24T22:13:38.453Z"
      },
      {
        "duration": 38,
        "start_time": "2022-11-24T22:13:38.459Z"
      },
      {
        "duration": 4,
        "start_time": "2022-11-24T22:13:38.499Z"
      },
      {
        "duration": 7,
        "start_time": "2022-11-24T22:13:38.505Z"
      },
      {
        "duration": 291,
        "start_time": "2022-11-24T22:13:38.514Z"
      },
      {
        "duration": 2424,
        "start_time": "2022-11-24T22:13:38.807Z"
      },
      {
        "duration": 826948,
        "start_time": "2022-11-24T22:13:41.233Z"
      },
      {
        "duration": 2598,
        "start_time": "2022-11-24T22:27:28.184Z"
      },
      {
        "duration": 3,
        "start_time": "2022-11-24T22:27:30.784Z"
      },
      {
        "duration": 30,
        "start_time": "2022-11-24T22:27:30.797Z"
      },
      {
        "duration": 59,
        "start_time": "2022-11-24T22:27:30.829Z"
      },
      {
        "duration": 6,
        "start_time": "2022-11-24T22:27:30.889Z"
      },
      {
        "duration": 9,
        "start_time": "2022-11-24T22:27:30.897Z"
      },
      {
        "duration": 26,
        "start_time": "2022-11-24T22:27:30.907Z"
      },
      {
        "duration": 26507,
        "start_time": "2022-11-24T22:27:30.935Z"
      },
      {
        "duration": 3,
        "start_time": "2022-11-24T22:27:57.444Z"
      },
      {
        "duration": 116598,
        "start_time": "2022-11-24T22:27:57.449Z"
      },
      {
        "duration": 237751,
        "start_time": "2022-11-24T22:29:54.048Z"
      },
      {
        "duration": 4,
        "start_time": "2022-11-24T22:33:51.801Z"
      },
      {
        "duration": 33,
        "start_time": "2022-11-24T22:33:51.807Z"
      },
      {
        "duration": 4050,
        "start_time": "2022-11-24T22:33:51.841Z"
      },
      {
        "duration": 28,
        "start_time": "2022-11-24T22:33:55.892Z"
      },
      {
        "duration": 53,
        "start_time": "2022-11-24T22:33:55.923Z"
      },
      {
        "duration": 1462,
        "start_time": "2022-11-26T10:34:03.366Z"
      },
      {
        "duration": 3558,
        "start_time": "2022-11-26T10:34:04.830Z"
      },
      {
        "duration": 34,
        "start_time": "2022-11-26T10:34:08.390Z"
      },
      {
        "duration": 239,
        "start_time": "2022-11-26T10:34:08.427Z"
      },
      {
        "duration": 6,
        "start_time": "2022-11-26T10:34:08.669Z"
      },
      {
        "duration": 13,
        "start_time": "2022-11-26T10:34:08.677Z"
      },
      {
        "duration": 5,
        "start_time": "2022-11-26T10:34:08.692Z"
      },
      {
        "duration": 4,
        "start_time": "2022-11-26T10:34:08.699Z"
      },
      {
        "duration": 840,
        "start_time": "2022-11-26T10:34:08.705Z"
      },
      {
        "duration": 1566,
        "start_time": "2022-11-26T10:34:09.548Z"
      },
      {
        "duration": 9577,
        "start_time": "2022-11-26T10:34:11.116Z"
      },
      {
        "duration": 63,
        "start_time": "2022-11-26T10:34:20.695Z"
      },
      {
        "duration": 2,
        "start_time": "2022-11-26T10:34:20.761Z"
      },
      {
        "duration": 9,
        "start_time": "2022-11-26T10:34:20.766Z"
      },
      {
        "duration": 12,
        "start_time": "2022-11-26T10:34:20.777Z"
      },
      {
        "duration": 12,
        "start_time": "2022-11-26T10:34:20.791Z"
      },
      {
        "duration": 8,
        "start_time": "2022-11-26T10:34:20.804Z"
      },
      {
        "duration": 39,
        "start_time": "2022-11-26T10:34:20.814Z"
      },
      {
        "duration": 99,
        "start_time": "2022-11-26T10:34:20.855Z"
      },
      {
        "duration": 4,
        "start_time": "2022-11-26T10:34:20.956Z"
      },
      {
        "duration": 49,
        "start_time": "2022-11-26T10:34:20.962Z"
      },
      {
        "duration": 127,
        "start_time": "2022-11-26T10:34:21.013Z"
      },
      {
        "duration": 9,
        "start_time": "2022-11-26T10:34:21.142Z"
      },
      {
        "duration": 7,
        "start_time": "2022-11-26T10:34:21.153Z"
      },
      {
        "duration": 43,
        "start_time": "2022-11-26T10:34:21.162Z"
      },
      {
        "duration": 6,
        "start_time": "2022-11-26T10:34:21.207Z"
      },
      {
        "duration": 7,
        "start_time": "2022-11-26T10:34:21.214Z"
      },
      {
        "duration": 3,
        "start_time": "2022-11-26T10:34:58.425Z"
      },
      {
        "duration": 45,
        "start_time": "2022-11-26T10:35:18.188Z"
      },
      {
        "duration": 111,
        "start_time": "2022-11-26T10:35:21.000Z"
      },
      {
        "duration": 3,
        "start_time": "2022-11-26T10:35:30.273Z"
      },
      {
        "duration": 42,
        "start_time": "2022-11-26T10:35:32.242Z"
      },
      {
        "duration": 148,
        "start_time": "2022-11-26T10:35:37.836Z"
      },
      {
        "duration": 4,
        "start_time": "2022-11-26T10:35:49.194Z"
      },
      {
        "duration": 51,
        "start_time": "2022-11-26T10:35:50.840Z"
      },
      {
        "duration": 126,
        "start_time": "2022-11-26T10:35:52.814Z"
      },
      {
        "duration": 3,
        "start_time": "2022-11-26T10:36:04.156Z"
      },
      {
        "duration": 82,
        "start_time": "2022-11-26T10:36:05.889Z"
      },
      {
        "duration": 164,
        "start_time": "2022-11-26T10:36:09.392Z"
      },
      {
        "duration": 4,
        "start_time": "2022-11-26T10:36:15.809Z"
      },
      {
        "duration": 75,
        "start_time": "2022-11-26T10:36:18.089Z"
      },
      {
        "duration": 158,
        "start_time": "2022-11-26T10:36:25.070Z"
      },
      {
        "duration": 3,
        "start_time": "2022-11-26T10:41:32.044Z"
      },
      {
        "duration": 240,
        "start_time": "2022-11-26T10:41:35.103Z"
      },
      {
        "duration": 3,
        "start_time": "2022-11-26T10:41:50.325Z"
      },
      {
        "duration": 42,
        "start_time": "2022-11-26T10:41:51.790Z"
      },
      {
        "duration": 129,
        "start_time": "2022-11-26T10:41:56.530Z"
      },
      {
        "duration": 3,
        "start_time": "2022-11-26T10:42:05.313Z"
      },
      {
        "duration": 51,
        "start_time": "2022-11-26T10:42:10.088Z"
      },
      {
        "duration": 127,
        "start_time": "2022-11-26T10:42:12.766Z"
      },
      {
        "duration": 1359,
        "start_time": "2022-11-26T10:42:41.786Z"
      },
      {
        "duration": 913,
        "start_time": "2022-11-26T10:42:43.150Z"
      },
      {
        "duration": 26,
        "start_time": "2022-11-26T10:42:44.065Z"
      },
      {
        "duration": 290,
        "start_time": "2022-11-26T10:42:44.094Z"
      },
      {
        "duration": 6,
        "start_time": "2022-11-26T10:42:44.386Z"
      },
      {
        "duration": 21,
        "start_time": "2022-11-26T10:42:44.393Z"
      },
      {
        "duration": 6,
        "start_time": "2022-11-26T10:42:44.415Z"
      },
      {
        "duration": 10,
        "start_time": "2022-11-26T10:42:44.422Z"
      },
      {
        "duration": 243,
        "start_time": "2022-11-26T10:42:44.452Z"
      },
      {
        "duration": 1451,
        "start_time": "2022-11-26T10:42:44.698Z"
      },
      {
        "duration": 441593,
        "start_time": "2022-11-26T10:42:46.151Z"
      },
      {
        "duration": 1360,
        "start_time": "2022-11-26T10:50:07.746Z"
      },
      {
        "duration": 2,
        "start_time": "2022-11-26T10:50:09.108Z"
      },
      {
        "duration": 25,
        "start_time": "2022-11-26T10:50:09.112Z"
      },
      {
        "duration": 58,
        "start_time": "2022-11-26T10:50:09.138Z"
      },
      {
        "duration": 7,
        "start_time": "2022-11-26T10:50:09.198Z"
      },
      {
        "duration": 9,
        "start_time": "2022-11-26T10:50:09.207Z"
      },
      {
        "duration": 11,
        "start_time": "2022-11-26T10:50:09.218Z"
      },
      {
        "duration": 2321,
        "start_time": "2022-11-26T10:50:09.231Z"
      },
      {
        "duration": 7,
        "start_time": "2022-11-26T10:50:11.554Z"
      },
      {
        "duration": 32895,
        "start_time": "2022-11-26T10:50:11.563Z"
      },
      {
        "duration": 69401,
        "start_time": "2022-11-26T10:50:44.459Z"
      },
      {
        "duration": 92,
        "start_time": "2022-11-26T10:51:53.862Z"
      },
      {
        "duration": 13,
        "start_time": "2022-11-26T10:51:53.963Z"
      },
      {
        "duration": 407,
        "start_time": "2022-11-26T10:51:53.978Z"
      },
      {
        "duration": 10,
        "start_time": "2022-11-26T10:51:54.386Z"
      },
      {
        "duration": 17,
        "start_time": "2022-11-26T10:51:54.398Z"
      },
      {
        "duration": 10,
        "start_time": "2022-11-26T10:57:25.063Z"
      },
      {
        "duration": 1969,
        "start_time": "2022-11-26T10:57:34.907Z"
      },
      {
        "duration": 2508,
        "start_time": "2022-11-26T10:57:36.883Z"
      },
      {
        "duration": 81,
        "start_time": "2022-11-26T10:57:39.393Z"
      },
      {
        "duration": 612,
        "start_time": "2022-11-26T10:57:39.476Z"
      },
      {
        "duration": 6,
        "start_time": "2022-11-26T10:57:40.092Z"
      },
      {
        "duration": 107,
        "start_time": "2022-11-26T10:57:40.099Z"
      },
      {
        "duration": 8,
        "start_time": "2022-11-26T10:57:40.208Z"
      },
      {
        "duration": 14,
        "start_time": "2022-11-26T10:57:40.218Z"
      },
      {
        "duration": 269,
        "start_time": "2022-11-26T10:57:40.234Z"
      },
      {
        "duration": 1649,
        "start_time": "2022-11-26T10:57:40.506Z"
      },
      {
        "duration": 75946,
        "start_time": "2022-11-26T10:57:42.157Z"
      },
      {
        "duration": 244,
        "start_time": "2022-11-26T10:58:58.106Z"
      },
      {
        "duration": 3,
        "start_time": "2022-11-26T10:58:58.353Z"
      },
      {
        "duration": 15,
        "start_time": "2022-11-26T10:58:58.360Z"
      },
      {
        "duration": 14,
        "start_time": "2022-11-26T10:58:58.378Z"
      },
      {
        "duration": 17,
        "start_time": "2022-11-26T10:58:58.394Z"
      },
      {
        "duration": 6,
        "start_time": "2022-11-26T10:58:58.413Z"
      },
      {
        "duration": 8,
        "start_time": "2022-11-26T10:58:58.421Z"
      },
      {
        "duration": 395,
        "start_time": "2022-11-26T10:58:58.432Z"
      },
      {
        "duration": 3,
        "start_time": "2022-11-26T10:58:58.830Z"
      },
      {
        "duration": 7923,
        "start_time": "2022-11-26T10:58:58.835Z"
      },
      {
        "duration": 18602,
        "start_time": "2022-11-26T10:59:06.761Z"
      },
      {
        "duration": 85,
        "start_time": "2022-11-26T10:59:25.366Z"
      },
      {
        "duration": 5,
        "start_time": "2022-11-26T10:59:25.454Z"
      },
      {
        "duration": 6,
        "start_time": "2022-11-26T10:59:25.460Z"
      },
      {
        "duration": 15,
        "start_time": "2022-11-26T10:59:25.468Z"
      },
      {
        "duration": 4,
        "start_time": "2022-11-26T10:59:25.484Z"
      },
      {
        "duration": 1522,
        "start_time": "2022-11-26T11:19:48.508Z"
      },
      {
        "duration": 929,
        "start_time": "2022-11-26T11:19:50.032Z"
      },
      {
        "duration": 28,
        "start_time": "2022-11-26T11:19:50.962Z"
      },
      {
        "duration": 240,
        "start_time": "2022-11-26T11:19:50.992Z"
      },
      {
        "duration": 5,
        "start_time": "2022-11-26T11:19:51.234Z"
      },
      {
        "duration": 10,
        "start_time": "2022-11-26T11:19:51.252Z"
      },
      {
        "duration": 9,
        "start_time": "2022-11-26T11:19:51.264Z"
      },
      {
        "duration": 8,
        "start_time": "2022-11-26T11:19:51.275Z"
      },
      {
        "duration": 176,
        "start_time": "2022-11-26T11:19:51.285Z"
      },
      {
        "duration": 1427,
        "start_time": "2022-11-26T11:19:51.464Z"
      },
      {
        "duration": 66745,
        "start_time": "2022-11-26T11:19:52.893Z"
      },
      {
        "duration": 271,
        "start_time": "2022-11-26T11:20:59.640Z"
      },
      {
        "duration": 3,
        "start_time": "2022-11-26T11:20:59.912Z"
      },
      {
        "duration": 8,
        "start_time": "2022-11-26T11:20:59.916Z"
      },
      {
        "duration": 27,
        "start_time": "2022-11-26T11:20:59.925Z"
      },
      {
        "duration": 7,
        "start_time": "2022-11-26T11:20:59.954Z"
      },
      {
        "duration": 4,
        "start_time": "2022-11-26T11:20:59.962Z"
      },
      {
        "duration": 7,
        "start_time": "2022-11-26T11:20:59.969Z"
      },
      {
        "duration": 422,
        "start_time": "2022-11-26T11:20:59.978Z"
      },
      {
        "duration": 3,
        "start_time": "2022-11-26T11:21:00.401Z"
      },
      {
        "duration": 851,
        "start_time": "2022-11-26T11:21:00.406Z"
      },
      {
        "duration": 1801,
        "start_time": "2022-11-26T11:21:01.259Z"
      },
      {
        "duration": 90,
        "start_time": "2022-11-26T11:21:03.063Z"
      },
      {
        "duration": 7,
        "start_time": "2022-11-26T11:21:03.156Z"
      },
      {
        "duration": 6,
        "start_time": "2022-11-26T11:21:03.251Z"
      },
      {
        "duration": 11,
        "start_time": "2022-11-26T11:21:03.259Z"
      },
      {
        "duration": 3,
        "start_time": "2022-11-26T11:21:03.272Z"
      },
      {
        "duration": 97,
        "start_time": "2022-11-26T11:48:04.598Z"
      },
      {
        "duration": 1516,
        "start_time": "2022-11-26T11:53:10.219Z"
      },
      {
        "duration": 955,
        "start_time": "2022-11-26T11:53:11.738Z"
      },
      {
        "duration": 29,
        "start_time": "2022-11-26T11:53:12.695Z"
      },
      {
        "duration": 259,
        "start_time": "2022-11-26T11:53:12.726Z"
      },
      {
        "duration": 6,
        "start_time": "2022-11-26T11:53:12.986Z"
      },
      {
        "duration": 13,
        "start_time": "2022-11-26T11:53:12.994Z"
      },
      {
        "duration": 13,
        "start_time": "2022-11-26T11:53:13.009Z"
      },
      {
        "duration": 12,
        "start_time": "2022-11-26T11:53:13.025Z"
      },
      {
        "duration": 182,
        "start_time": "2022-11-26T11:53:13.039Z"
      },
      {
        "duration": 1439,
        "start_time": "2022-11-26T11:53:13.224Z"
      },
      {
        "duration": 10498,
        "start_time": "2022-11-26T11:53:14.664Z"
      },
      {
        "duration": 50,
        "start_time": "2022-11-26T11:53:25.164Z"
      },
      {
        "duration": 2,
        "start_time": "2022-11-26T11:53:25.217Z"
      },
      {
        "duration": 30,
        "start_time": "2022-11-26T11:53:25.221Z"
      },
      {
        "duration": 11,
        "start_time": "2022-11-26T11:53:25.253Z"
      },
      {
        "duration": 6,
        "start_time": "2022-11-26T11:53:25.266Z"
      },
      {
        "duration": 4,
        "start_time": "2022-11-26T11:53:25.274Z"
      },
      {
        "duration": 7,
        "start_time": "2022-11-26T11:53:25.280Z"
      },
      {
        "duration": 87,
        "start_time": "2022-11-26T11:53:25.288Z"
      },
      {
        "duration": 3,
        "start_time": "2022-11-26T11:53:25.376Z"
      },
      {
        "duration": 14,
        "start_time": "2022-11-26T11:53:25.381Z"
      },
      {
        "duration": 24,
        "start_time": "2022-11-26T11:53:25.396Z"
      },
      {
        "duration": 188150,
        "start_time": "2022-11-26T11:53:25.422Z"
      },
      {
        "duration": 3,
        "start_time": "2022-11-26T11:56:33.574Z"
      },
      {
        "duration": 11,
        "start_time": "2022-11-26T11:56:33.579Z"
      },
      {
        "duration": 3,
        "start_time": "2022-11-26T11:56:33.651Z"
      },
      {
        "duration": 11,
        "start_time": "2022-11-26T11:56:33.656Z"
      },
      {
        "duration": 3,
        "start_time": "2022-11-26T11:56:33.672Z"
      },
      {
        "duration": 456932,
        "start_time": "2022-11-26T11:59:12.335Z"
      },
      {
        "duration": 15,
        "start_time": "2022-11-26T12:08:15.678Z"
      },
      {
        "duration": 8,
        "start_time": "2022-11-26T12:08:49.380Z"
      },
      {
        "duration": 8,
        "start_time": "2022-11-26T12:09:16.533Z"
      },
      {
        "duration": 13,
        "start_time": "2022-11-26T12:09:43.267Z"
      },
      {
        "duration": 211055,
        "start_time": "2022-11-26T12:10:38.298Z"
      },
      {
        "duration": 11,
        "start_time": "2022-11-26T12:14:09.355Z"
      },
      {
        "duration": 14,
        "start_time": "2022-11-26T12:16:37.354Z"
      },
      {
        "duration": 7,
        "start_time": "2022-11-26T12:16:38.560Z"
      },
      {
        "duration": 15,
        "start_time": "2022-11-26T12:16:49.336Z"
      },
      {
        "duration": 3,
        "start_time": "2022-11-26T12:19:47.271Z"
      },
      {
        "duration": 411192,
        "start_time": "2022-11-26T12:19:54.065Z"
      },
      {
        "duration": 10,
        "start_time": "2022-11-26T12:28:05.506Z"
      },
      {
        "duration": 7,
        "start_time": "2022-11-26T12:28:12.803Z"
      },
      {
        "duration": 9,
        "start_time": "2022-11-26T12:28:16.146Z"
      },
      {
        "duration": 159,
        "start_time": "2022-11-26T12:28:27.148Z"
      },
      {
        "duration": 250664,
        "start_time": "2022-11-26T12:41:55.707Z"
      },
      {
        "duration": 9,
        "start_time": "2022-11-26T12:47:09.738Z"
      },
      {
        "duration": 33,
        "start_time": "2022-11-26T12:47:31.896Z"
      },
      {
        "duration": 6,
        "start_time": "2022-11-26T12:48:24.614Z"
      },
      {
        "duration": 5,
        "start_time": "2022-11-26T12:48:32.875Z"
      },
      {
        "duration": 5,
        "start_time": "2022-11-26T12:48:34.889Z"
      },
      {
        "duration": 18,
        "start_time": "2022-11-26T12:48:38.464Z"
      },
      {
        "duration": 9,
        "start_time": "2022-11-26T12:48:56.918Z"
      },
      {
        "duration": 8,
        "start_time": "2022-11-26T12:49:00.088Z"
      },
      {
        "duration": 6,
        "start_time": "2022-11-26T12:49:13.537Z"
      },
      {
        "duration": 5,
        "start_time": "2022-11-26T12:49:21.575Z"
      },
      {
        "duration": 3,
        "start_time": "2022-11-26T12:49:24.052Z"
      },
      {
        "duration": 10,
        "start_time": "2022-11-26T12:49:25.302Z"
      },
      {
        "duration": 9,
        "start_time": "2022-11-26T12:50:20.109Z"
      },
      {
        "duration": 8,
        "start_time": "2022-11-26T12:50:21.199Z"
      },
      {
        "duration": 5,
        "start_time": "2022-11-26T12:50:39.856Z"
      },
      {
        "duration": 8,
        "start_time": "2022-11-26T12:50:43.682Z"
      },
      {
        "duration": 8,
        "start_time": "2022-11-26T12:50:52.328Z"
      },
      {
        "duration": 9,
        "start_time": "2022-11-26T12:50:55.241Z"
      },
      {
        "duration": 7,
        "start_time": "2022-11-26T12:51:02.254Z"
      },
      {
        "duration": 3,
        "start_time": "2022-11-26T12:51:07.538Z"
      },
      {
        "duration": 4,
        "start_time": "2022-11-26T12:51:10.792Z"
      },
      {
        "duration": 32,
        "start_time": "2022-11-26T12:51:13.133Z"
      },
      {
        "duration": 3,
        "start_time": "2022-11-26T12:51:17.766Z"
      },
      {
        "duration": 13,
        "start_time": "2022-11-26T12:51:20.154Z"
      },
      {
        "duration": 21,
        "start_time": "2022-11-26T12:51:23.170Z"
      },
      {
        "duration": 46229,
        "start_time": "2022-11-26T12:51:25.937Z"
      },
      {
        "duration": 141992,
        "start_time": "2022-11-26T12:52:15.659Z"
      },
      {
        "duration": 11,
        "start_time": "2022-11-26T12:54:59.449Z"
      },
      {
        "duration": 7,
        "start_time": "2022-11-26T12:55:00.733Z"
      },
      {
        "duration": 6,
        "start_time": "2022-11-26T12:55:09.335Z"
      },
      {
        "duration": 13,
        "start_time": "2022-11-26T12:55:13.988Z"
      },
      {
        "duration": 1817,
        "start_time": "2022-11-26T13:49:18.986Z"
      },
      {
        "duration": 1162,
        "start_time": "2022-11-26T13:49:20.805Z"
      },
      {
        "duration": 39,
        "start_time": "2022-11-26T13:49:21.972Z"
      },
      {
        "duration": 337,
        "start_time": "2022-11-26T13:49:22.015Z"
      },
      {
        "duration": 7,
        "start_time": "2022-11-26T13:49:22.354Z"
      },
      {
        "duration": 34,
        "start_time": "2022-11-26T13:49:22.364Z"
      },
      {
        "duration": 6,
        "start_time": "2022-11-26T13:49:22.400Z"
      },
      {
        "duration": 6,
        "start_time": "2022-11-26T13:49:22.410Z"
      },
      {
        "duration": 229,
        "start_time": "2022-11-26T13:49:22.418Z"
      },
      {
        "duration": 1835,
        "start_time": "2022-11-26T13:49:22.652Z"
      },
      {
        "duration": 93831,
        "start_time": "2022-11-26T13:49:24.489Z"
      },
      {
        "duration": 313,
        "start_time": "2022-11-26T13:50:58.322Z"
      },
      {
        "duration": 3,
        "start_time": "2022-11-26T13:50:58.637Z"
      },
      {
        "duration": 16,
        "start_time": "2022-11-26T13:50:58.641Z"
      },
      {
        "duration": 9,
        "start_time": "2022-11-26T13:50:58.666Z"
      },
      {
        "duration": 11,
        "start_time": "2022-11-26T13:50:58.677Z"
      },
      {
        "duration": 7,
        "start_time": "2022-11-26T13:50:58.690Z"
      },
      {
        "duration": 7,
        "start_time": "2022-11-26T13:50:58.699Z"
      },
      {
        "duration": 7,
        "start_time": "2022-11-26T13:50:58.707Z"
      },
      {
        "duration": 7,
        "start_time": "2022-11-26T13:50:58.715Z"
      },
      {
        "duration": 221,
        "start_time": "2022-11-26T13:50:58.724Z"
      },
      {
        "duration": 2,
        "start_time": "2022-11-26T13:50:58.947Z"
      },
      {
        "duration": 1109,
        "start_time": "2022-11-26T13:50:58.953Z"
      },
      {
        "duration": 1385,
        "start_time": "2022-11-26T13:51:00.066Z"
      },
      {
        "duration": 514528,
        "start_time": "2022-11-26T13:51:01.453Z"
      },
      {
        "duration": 295086,
        "start_time": "2022-11-26T13:59:35.983Z"
      },
      {
        "duration": 97,
        "start_time": "2022-11-26T14:04:31.071Z"
      },
      {
        "duration": 7,
        "start_time": "2022-11-26T14:04:31.172Z"
      },
      {
        "duration": 57,
        "start_time": "2022-11-26T14:04:31.250Z"
      },
      {
        "duration": 30,
        "start_time": "2022-11-26T14:04:31.309Z"
      },
      {
        "duration": 37,
        "start_time": "2022-11-26T14:04:31.342Z"
      },
      {
        "duration": 38,
        "start_time": "2022-11-26T14:04:31.381Z"
      },
      {
        "duration": 25,
        "start_time": "2022-11-26T14:04:31.421Z"
      },
      {
        "duration": 47,
        "start_time": "2022-11-26T14:04:31.448Z"
      },
      {
        "duration": 5,
        "start_time": "2022-11-26T14:06:49.085Z"
      },
      {
        "duration": 14,
        "start_time": "2022-11-26T14:06:53.035Z"
      },
      {
        "duration": 10,
        "start_time": "2022-11-26T14:06:55.790Z"
      },
      {
        "duration": 5,
        "start_time": "2022-11-26T14:07:10.827Z"
      },
      {
        "duration": 6,
        "start_time": "2022-11-26T14:08:10.851Z"
      },
      {
        "duration": 15,
        "start_time": "2022-11-26T14:08:10.859Z"
      },
      {
        "duration": 14,
        "start_time": "2022-11-26T14:08:10.876Z"
      },
      {
        "duration": 10,
        "start_time": "2022-11-26T14:08:10.892Z"
      },
      {
        "duration": 4,
        "start_time": "2022-11-26T14:08:10.904Z"
      },
      {
        "duration": 4,
        "start_time": "2022-11-26T14:08:10.910Z"
      },
      {
        "duration": 43,
        "start_time": "2022-11-26T14:08:10.916Z"
      },
      {
        "duration": 310,
        "start_time": "2022-11-26T14:08:10.960Z"
      },
      {
        "duration": 4,
        "start_time": "2022-11-26T14:08:11.273Z"
      },
      {
        "duration": 3075,
        "start_time": "2022-11-26T14:08:11.278Z"
      },
      {
        "duration": 5011,
        "start_time": "2022-11-26T14:08:14.359Z"
      },
      {
        "duration": 80,
        "start_time": "2022-11-26T14:08:19.372Z"
      },
      {
        "duration": 33,
        "start_time": "2022-11-26T14:08:19.454Z"
      },
      {
        "duration": 10,
        "start_time": "2022-11-26T14:08:19.489Z"
      },
      {
        "duration": 5,
        "start_time": "2022-11-26T14:08:19.501Z"
      },
      {
        "duration": 4,
        "start_time": "2022-11-26T14:08:19.552Z"
      },
      {
        "duration": 37,
        "start_time": "2022-11-26T14:08:19.558Z"
      },
      {
        "duration": 12,
        "start_time": "2022-11-26T14:08:19.597Z"
      },
      {
        "duration": 46,
        "start_time": "2022-11-26T14:08:19.611Z"
      },
      {
        "duration": 20,
        "start_time": "2022-11-26T14:08:19.660Z"
      },
      {
        "duration": 76,
        "start_time": "2022-11-26T14:08:19.682Z"
      },
      {
        "duration": 10,
        "start_time": "2022-11-26T14:09:37.166Z"
      },
      {
        "duration": 14,
        "start_time": "2022-11-26T14:09:37.178Z"
      },
      {
        "duration": 4,
        "start_time": "2022-11-26T14:09:37.194Z"
      },
      {
        "duration": 6,
        "start_time": "2022-11-26T14:09:37.200Z"
      },
      {
        "duration": 6,
        "start_time": "2022-11-26T14:09:37.208Z"
      },
      {
        "duration": 1101,
        "start_time": "2022-11-26T14:09:37.215Z"
      },
      {
        "duration": 2,
        "start_time": "2022-11-26T14:09:38.318Z"
      },
      {
        "duration": 1243,
        "start_time": "2022-11-26T14:09:38.322Z"
      },
      {
        "duration": 4004,
        "start_time": "2022-11-26T14:09:39.570Z"
      },
      {
        "duration": 88,
        "start_time": "2022-11-26T14:09:43.576Z"
      },
      {
        "duration": 99,
        "start_time": "2022-11-26T14:09:43.670Z"
      },
      {
        "duration": 7,
        "start_time": "2022-11-26T14:09:43.771Z"
      },
      {
        "duration": 5,
        "start_time": "2022-11-26T14:09:43.780Z"
      },
      {
        "duration": 4,
        "start_time": "2022-11-26T14:09:43.788Z"
      },
      {
        "duration": 5,
        "start_time": "2022-11-26T14:09:43.793Z"
      },
      {
        "duration": 4,
        "start_time": "2022-11-26T14:09:43.800Z"
      },
      {
        "duration": 12,
        "start_time": "2022-11-26T14:09:43.806Z"
      },
      {
        "duration": 2,
        "start_time": "2022-11-26T14:09:43.820Z"
      },
      {
        "duration": 5,
        "start_time": "2022-11-26T14:09:43.824Z"
      },
      {
        "duration": 5,
        "start_time": "2022-11-26T14:11:34.881Z"
      },
      {
        "duration": 18,
        "start_time": "2022-11-26T14:11:34.888Z"
      },
      {
        "duration": 13,
        "start_time": "2022-11-26T14:11:34.908Z"
      },
      {
        "duration": 13,
        "start_time": "2022-11-26T14:11:34.923Z"
      },
      {
        "duration": 4,
        "start_time": "2022-11-26T14:11:34.939Z"
      },
      {
        "duration": 8,
        "start_time": "2022-11-26T14:11:34.955Z"
      },
      {
        "duration": 10,
        "start_time": "2022-11-26T14:11:34.965Z"
      },
      {
        "duration": 672,
        "start_time": "2022-11-26T14:11:34.976Z"
      },
      {
        "duration": 8,
        "start_time": "2022-11-26T14:11:35.651Z"
      },
      {
        "duration": 23,
        "start_time": "2022-11-26T14:11:35.665Z"
      },
      {
        "duration": 35,
        "start_time": "2022-11-26T14:11:35.690Z"
      },
      {
        "duration": 2,
        "start_time": "2022-11-26T14:11:35.727Z"
      },
      {
        "duration": 11,
        "start_time": "2022-11-26T14:11:35.731Z"
      },
      {
        "duration": 16,
        "start_time": "2022-11-26T14:11:35.753Z"
      },
      {
        "duration": 4,
        "start_time": "2022-11-26T14:11:35.772Z"
      },
      {
        "duration": 4,
        "start_time": "2022-11-26T14:11:35.778Z"
      },
      {
        "duration": 5,
        "start_time": "2022-11-26T14:11:35.784Z"
      },
      {
        "duration": 5,
        "start_time": "2022-11-26T14:11:35.791Z"
      },
      {
        "duration": 9,
        "start_time": "2022-11-26T14:11:35.798Z"
      },
      {
        "duration": 2,
        "start_time": "2022-11-26T14:11:35.809Z"
      },
      {
        "duration": 6,
        "start_time": "2022-11-26T14:11:35.813Z"
      },
      {
        "duration": 2,
        "start_time": "2022-11-26T14:12:38.019Z"
      },
      {
        "duration": 5,
        "start_time": "2022-11-26T14:12:38.025Z"
      },
      {
        "duration": 20,
        "start_time": "2022-11-26T14:12:38.032Z"
      },
      {
        "duration": 16,
        "start_time": "2022-11-26T14:12:38.054Z"
      },
      {
        "duration": 11,
        "start_time": "2022-11-26T14:12:38.072Z"
      },
      {
        "duration": 5,
        "start_time": "2022-11-26T14:12:38.085Z"
      },
      {
        "duration": 5,
        "start_time": "2022-11-26T14:12:38.092Z"
      },
      {
        "duration": 9,
        "start_time": "2022-11-26T14:12:38.099Z"
      },
      {
        "duration": 1057,
        "start_time": "2022-11-26T14:12:38.110Z"
      },
      {
        "duration": 3,
        "start_time": "2022-11-26T14:12:39.170Z"
      },
      {
        "duration": 1080,
        "start_time": "2022-11-26T14:12:39.174Z"
      },
      {
        "duration": 6496,
        "start_time": "2022-11-26T14:12:40.256Z"
      },
      {
        "duration": 6,
        "start_time": "2022-11-26T14:12:46.762Z"
      },
      {
        "duration": 30,
        "start_time": "2022-11-26T14:12:46.770Z"
      },
      {
        "duration": 51,
        "start_time": "2022-11-26T14:12:46.801Z"
      },
      {
        "duration": 5,
        "start_time": "2022-11-26T14:12:46.854Z"
      },
      {
        "duration": 35,
        "start_time": "2022-11-26T14:12:46.860Z"
      },
      {
        "duration": 24,
        "start_time": "2022-11-26T14:12:46.897Z"
      },
      {
        "duration": 3,
        "start_time": "2022-11-26T14:12:46.955Z"
      },
      {
        "duration": 17,
        "start_time": "2022-11-26T14:12:46.969Z"
      },
      {
        "duration": 25,
        "start_time": "2022-11-26T14:12:46.988Z"
      },
      {
        "duration": 61,
        "start_time": "2022-11-26T14:12:47.015Z"
      },
      {
        "duration": 4,
        "start_time": "2022-11-26T14:13:19.632Z"
      },
      {
        "duration": 1132,
        "start_time": "2022-11-26T14:13:19.639Z"
      },
      {
        "duration": 2912,
        "start_time": "2022-11-26T14:13:20.853Z"
      },
      {
        "duration": 5,
        "start_time": "2022-11-26T14:13:23.770Z"
      },
      {
        "duration": 90,
        "start_time": "2022-11-26T14:13:23.780Z"
      },
      {
        "duration": 6,
        "start_time": "2022-11-26T14:13:23.871Z"
      },
      {
        "duration": 12,
        "start_time": "2022-11-26T14:13:23.879Z"
      },
      {
        "duration": 7,
        "start_time": "2022-11-26T14:13:23.893Z"
      },
      {
        "duration": 7,
        "start_time": "2022-11-26T14:13:23.902Z"
      },
      {
        "duration": 6,
        "start_time": "2022-11-26T14:13:23.911Z"
      },
      {
        "duration": 11,
        "start_time": "2022-11-26T14:13:23.919Z"
      },
      {
        "duration": 3,
        "start_time": "2022-11-26T14:13:23.931Z"
      },
      {
        "duration": 6,
        "start_time": "2022-11-26T14:13:23.936Z"
      },
      {
        "duration": 3,
        "start_time": "2022-11-26T14:13:46.592Z"
      },
      {
        "duration": 1458,
        "start_time": "2022-11-26T14:13:46.604Z"
      },
      {
        "duration": 4492,
        "start_time": "2022-11-26T14:13:48.066Z"
      },
      {
        "duration": 84,
        "start_time": "2022-11-26T14:13:52.568Z"
      },
      {
        "duration": 9,
        "start_time": "2022-11-26T14:13:52.663Z"
      },
      {
        "duration": 9,
        "start_time": "2022-11-26T14:13:52.674Z"
      },
      {
        "duration": 5,
        "start_time": "2022-11-26T14:13:52.685Z"
      },
      {
        "duration": 9,
        "start_time": "2022-11-26T14:13:52.693Z"
      },
      {
        "duration": 9,
        "start_time": "2022-11-26T14:13:52.704Z"
      },
      {
        "duration": 5,
        "start_time": "2022-11-26T14:13:52.715Z"
      },
      {
        "duration": 13,
        "start_time": "2022-11-26T14:13:52.723Z"
      },
      {
        "duration": 23,
        "start_time": "2022-11-26T14:13:52.739Z"
      },
      {
        "duration": 7,
        "start_time": "2022-11-26T14:13:52.765Z"
      },
      {
        "duration": 3,
        "start_time": "2022-11-26T14:14:07.601Z"
      },
      {
        "duration": 745,
        "start_time": "2022-11-26T14:14:07.606Z"
      },
      {
        "duration": 2513,
        "start_time": "2022-11-26T14:14:08.358Z"
      },
      {
        "duration": 82,
        "start_time": "2022-11-26T14:14:10.873Z"
      },
      {
        "duration": 5,
        "start_time": "2022-11-26T14:14:10.958Z"
      },
      {
        "duration": 12,
        "start_time": "2022-11-26T14:14:10.968Z"
      },
      {
        "duration": 72,
        "start_time": "2022-11-26T14:14:10.982Z"
      },
      {
        "duration": 20,
        "start_time": "2022-11-26T14:14:11.056Z"
      },
      {
        "duration": 5,
        "start_time": "2022-11-26T14:14:11.078Z"
      },
      {
        "duration": 6,
        "start_time": "2022-11-26T14:14:11.084Z"
      },
      {
        "duration": 8,
        "start_time": "2022-11-26T14:14:11.092Z"
      },
      {
        "duration": 3,
        "start_time": "2022-11-26T14:14:11.102Z"
      },
      {
        "duration": 7,
        "start_time": "2022-11-26T14:14:11.107Z"
      },
      {
        "duration": 3,
        "start_time": "2022-11-26T14:14:27.001Z"
      },
      {
        "duration": 1654,
        "start_time": "2022-11-26T14:14:27.006Z"
      },
      {
        "duration": 5194,
        "start_time": "2022-11-26T14:14:28.667Z"
      },
      {
        "duration": 4,
        "start_time": "2022-11-26T14:14:33.864Z"
      },
      {
        "duration": 22,
        "start_time": "2022-11-26T14:14:33.950Z"
      },
      {
        "duration": 8,
        "start_time": "2022-11-26T14:14:33.974Z"
      },
      {
        "duration": 8,
        "start_time": "2022-11-26T14:14:33.984Z"
      },
      {
        "duration": 4,
        "start_time": "2022-11-26T14:14:33.995Z"
      },
      {
        "duration": 7,
        "start_time": "2022-11-26T14:14:34.001Z"
      },
      {
        "duration": 7,
        "start_time": "2022-11-26T14:14:34.010Z"
      },
      {
        "duration": 13,
        "start_time": "2022-11-26T14:14:34.020Z"
      },
      {
        "duration": 5,
        "start_time": "2022-11-26T14:14:34.036Z"
      },
      {
        "duration": 31,
        "start_time": "2022-11-26T14:14:34.043Z"
      },
      {
        "duration": 4,
        "start_time": "2022-11-26T14:15:02.638Z"
      },
      {
        "duration": 2219,
        "start_time": "2022-11-26T14:15:02.645Z"
      },
      {
        "duration": 4297,
        "start_time": "2022-11-26T14:15:04.867Z"
      },
      {
        "duration": 87,
        "start_time": "2022-11-26T14:15:09.166Z"
      },
      {
        "duration": 17,
        "start_time": "2022-11-26T14:15:09.257Z"
      },
      {
        "duration": 12,
        "start_time": "2022-11-26T14:15:09.277Z"
      },
      {
        "duration": 12,
        "start_time": "2022-11-26T14:15:09.292Z"
      },
      {
        "duration": 7,
        "start_time": "2022-11-26T14:15:09.306Z"
      },
      {
        "duration": 5,
        "start_time": "2022-11-26T14:15:09.317Z"
      },
      {
        "duration": 9,
        "start_time": "2022-11-26T14:15:09.325Z"
      },
      {
        "duration": 17,
        "start_time": "2022-11-26T14:15:09.337Z"
      },
      {
        "duration": 2,
        "start_time": "2022-11-26T14:15:09.356Z"
      },
      {
        "duration": 10,
        "start_time": "2022-11-26T14:15:09.360Z"
      },
      {
        "duration": 3,
        "start_time": "2022-11-26T14:15:29.321Z"
      },
      {
        "duration": 342,
        "start_time": "2022-11-26T14:15:29.327Z"
      },
      {
        "duration": 1104,
        "start_time": "2022-11-26T14:15:29.753Z"
      },
      {
        "duration": 3,
        "start_time": "2022-11-26T14:15:30.866Z"
      },
      {
        "duration": 83,
        "start_time": "2022-11-26T14:15:30.875Z"
      },
      {
        "duration": 10,
        "start_time": "2022-11-26T14:15:30.960Z"
      },
      {
        "duration": 13,
        "start_time": "2022-11-26T14:15:30.973Z"
      },
      {
        "duration": 14,
        "start_time": "2022-11-26T14:15:30.988Z"
      },
      {
        "duration": 17,
        "start_time": "2022-11-26T14:15:31.004Z"
      },
      {
        "duration": 21,
        "start_time": "2022-11-26T14:15:31.023Z"
      },
      {
        "duration": 19,
        "start_time": "2022-11-26T14:15:31.046Z"
      },
      {
        "duration": 25,
        "start_time": "2022-11-26T14:15:31.067Z"
      },
      {
        "duration": 17,
        "start_time": "2022-11-26T14:15:31.095Z"
      },
      {
        "duration": 5,
        "start_time": "2022-11-26T14:16:10.781Z"
      },
      {
        "duration": 10,
        "start_time": "2022-11-26T14:16:10.789Z"
      },
      {
        "duration": 22,
        "start_time": "2022-11-26T14:16:10.802Z"
      },
      {
        "duration": 3,
        "start_time": "2022-11-26T14:16:10.826Z"
      },
      {
        "duration": 7,
        "start_time": "2022-11-26T14:16:10.831Z"
      },
      {
        "duration": 13,
        "start_time": "2022-11-26T14:16:10.840Z"
      },
      {
        "duration": 21,
        "start_time": "2022-11-26T14:16:10.855Z"
      },
      {
        "duration": 2415,
        "start_time": "2022-11-26T14:16:10.879Z"
      },
      {
        "duration": 4,
        "start_time": "2022-11-26T14:16:13.296Z"
      },
      {
        "duration": 1463,
        "start_time": "2022-11-26T14:16:13.302Z"
      },
      {
        "duration": 4585,
        "start_time": "2022-11-26T14:16:14.768Z"
      },
      {
        "duration": 3,
        "start_time": "2022-11-26T14:16:19.355Z"
      },
      {
        "duration": 13,
        "start_time": "2022-11-26T14:16:19.360Z"
      },
      {
        "duration": 13,
        "start_time": "2022-11-26T14:16:19.375Z"
      },
      {
        "duration": 10,
        "start_time": "2022-11-26T14:16:19.390Z"
      },
      {
        "duration": 11,
        "start_time": "2022-11-26T14:16:19.403Z"
      },
      {
        "duration": 9,
        "start_time": "2022-11-26T14:16:19.416Z"
      },
      {
        "duration": 11,
        "start_time": "2022-11-26T14:16:19.427Z"
      },
      {
        "duration": 33,
        "start_time": "2022-11-26T14:16:19.440Z"
      },
      {
        "duration": 19,
        "start_time": "2022-11-26T14:16:19.475Z"
      },
      {
        "duration": 7,
        "start_time": "2022-11-26T14:16:19.497Z"
      },
      {
        "duration": 13,
        "start_time": "2022-11-26T14:16:38.961Z"
      },
      {
        "duration": 5,
        "start_time": "2022-11-26T14:16:38.977Z"
      },
      {
        "duration": 8,
        "start_time": "2022-11-26T14:16:38.984Z"
      },
      {
        "duration": 6,
        "start_time": "2022-11-26T14:16:38.994Z"
      },
      {
        "duration": 1265,
        "start_time": "2022-11-26T14:16:39.002Z"
      },
      {
        "duration": 4,
        "start_time": "2022-11-26T14:16:40.268Z"
      },
      {
        "duration": 584,
        "start_time": "2022-11-26T14:16:40.274Z"
      },
      {
        "duration": 1591,
        "start_time": "2022-11-26T14:16:40.861Z"
      },
      {
        "duration": 2,
        "start_time": "2022-11-26T14:16:42.455Z"
      },
      {
        "duration": 93,
        "start_time": "2022-11-26T14:16:42.459Z"
      },
      {
        "duration": 5,
        "start_time": "2022-11-26T14:16:42.555Z"
      },
      {
        "duration": 10,
        "start_time": "2022-11-26T14:16:42.562Z"
      },
      {
        "duration": 7,
        "start_time": "2022-11-26T14:16:42.574Z"
      },
      {
        "duration": 6,
        "start_time": "2022-11-26T14:16:42.583Z"
      },
      {
        "duration": 6,
        "start_time": "2022-11-26T14:16:42.591Z"
      },
      {
        "duration": 11,
        "start_time": "2022-11-26T14:16:42.599Z"
      },
      {
        "duration": 4,
        "start_time": "2022-11-26T14:16:42.612Z"
      },
      {
        "duration": 35,
        "start_time": "2022-11-26T14:16:42.618Z"
      },
      {
        "duration": 5,
        "start_time": "2022-11-26T14:18:33.720Z"
      },
      {
        "duration": 13,
        "start_time": "2022-11-26T14:18:33.728Z"
      },
      {
        "duration": 23,
        "start_time": "2022-11-26T14:18:33.743Z"
      },
      {
        "duration": 9,
        "start_time": "2022-11-26T14:18:33.768Z"
      },
      {
        "duration": 5,
        "start_time": "2022-11-26T14:18:33.780Z"
      },
      {
        "duration": 4,
        "start_time": "2022-11-26T14:18:33.787Z"
      },
      {
        "duration": 8,
        "start_time": "2022-11-26T14:18:33.793Z"
      },
      {
        "duration": 1068,
        "start_time": "2022-11-26T14:18:33.803Z"
      },
      {
        "duration": 3,
        "start_time": "2022-11-26T14:18:34.873Z"
      },
      {
        "duration": 485,
        "start_time": "2022-11-26T14:18:34.878Z"
      },
      {
        "duration": 1008,
        "start_time": "2022-11-26T14:18:35.455Z"
      },
      {
        "duration": 190220,
        "start_time": "2022-11-26T14:18:36.552Z"
      },
      {
        "duration": 3,
        "start_time": "2022-11-26T14:21:46.774Z"
      },
      {
        "duration": 10,
        "start_time": "2022-11-26T14:21:46.779Z"
      },
      {
        "duration": 5,
        "start_time": "2022-11-26T14:21:46.790Z"
      },
      {
        "duration": 6,
        "start_time": "2022-11-26T14:21:46.797Z"
      },
      {
        "duration": 6,
        "start_time": "2022-11-26T14:21:46.804Z"
      },
      {
        "duration": 58,
        "start_time": "2022-11-26T14:21:46.811Z"
      },
      {
        "duration": 10,
        "start_time": "2022-11-26T14:21:46.871Z"
      },
      {
        "duration": 4,
        "start_time": "2022-11-26T14:21:46.883Z"
      },
      {
        "duration": 5,
        "start_time": "2022-11-26T14:21:46.889Z"
      },
      {
        "duration": 106,
        "start_time": "2022-11-26T14:22:04.255Z"
      },
      {
        "duration": 2,
        "start_time": "2022-11-26T14:22:54.108Z"
      },
      {
        "duration": 13,
        "start_time": "2022-11-26T14:22:54.115Z"
      },
      {
        "duration": 8,
        "start_time": "2022-11-26T14:22:54.130Z"
      },
      {
        "duration": 19,
        "start_time": "2022-11-26T14:22:54.139Z"
      },
      {
        "duration": 14,
        "start_time": "2022-11-26T14:22:54.160Z"
      },
      {
        "duration": 6,
        "start_time": "2022-11-26T14:22:54.176Z"
      },
      {
        "duration": 5,
        "start_time": "2022-11-26T14:22:54.184Z"
      },
      {
        "duration": 8,
        "start_time": "2022-11-26T14:22:54.192Z"
      },
      {
        "duration": 878,
        "start_time": "2022-11-26T14:22:54.202Z"
      },
      {
        "duration": 3,
        "start_time": "2022-11-26T14:22:55.083Z"
      },
      {
        "duration": 275,
        "start_time": "2022-11-26T14:22:55.087Z"
      },
      {
        "duration": 1198,
        "start_time": "2022-11-26T14:22:55.364Z"
      },
      {
        "duration": 88,
        "start_time": "2022-11-26T14:22:56.564Z"
      },
      {
        "duration": 104,
        "start_time": "2022-11-26T14:22:56.654Z"
      },
      {
        "duration": 7,
        "start_time": "2022-11-26T14:22:56.761Z"
      },
      {
        "duration": 5,
        "start_time": "2022-11-26T14:22:56.770Z"
      },
      {
        "duration": 8,
        "start_time": "2022-11-26T14:22:56.777Z"
      },
      {
        "duration": 5,
        "start_time": "2022-11-26T14:22:56.787Z"
      },
      {
        "duration": 6,
        "start_time": "2022-11-26T14:22:56.794Z"
      },
      {
        "duration": 50,
        "start_time": "2022-11-26T14:22:56.802Z"
      },
      {
        "duration": 5,
        "start_time": "2022-11-26T14:22:56.854Z"
      },
      {
        "duration": 7,
        "start_time": "2022-11-26T14:22:56.861Z"
      },
      {
        "duration": 3,
        "start_time": "2022-11-26T14:23:25.617Z"
      },
      {
        "duration": 629,
        "start_time": "2022-11-26T14:23:25.623Z"
      },
      {
        "duration": 1309,
        "start_time": "2022-11-26T14:23:26.254Z"
      },
      {
        "duration": 87,
        "start_time": "2022-11-26T14:23:27.565Z"
      },
      {
        "duration": 99,
        "start_time": "2022-11-26T14:23:27.658Z"
      },
      {
        "duration": 5,
        "start_time": "2022-11-26T14:23:27.759Z"
      },
      {
        "duration": 6,
        "start_time": "2022-11-26T14:23:27.766Z"
      },
      {
        "duration": 5,
        "start_time": "2022-11-26T14:23:27.774Z"
      },
      {
        "duration": 7,
        "start_time": "2022-11-26T14:23:27.781Z"
      },
      {
        "duration": 8,
        "start_time": "2022-11-26T14:23:27.790Z"
      },
      {
        "duration": 9,
        "start_time": "2022-11-26T14:23:27.802Z"
      },
      {
        "duration": 3,
        "start_time": "2022-11-26T14:23:27.813Z"
      },
      {
        "duration": 18,
        "start_time": "2022-11-26T14:23:27.817Z"
      },
      {
        "duration": 4,
        "start_time": "2022-11-26T14:23:56.766Z"
      },
      {
        "duration": 667,
        "start_time": "2022-11-26T14:23:56.796Z"
      },
      {
        "duration": 2587,
        "start_time": "2022-11-26T14:23:57.465Z"
      },
      {
        "duration": 7,
        "start_time": "2022-11-26T14:24:00.066Z"
      },
      {
        "duration": 99,
        "start_time": "2022-11-26T14:24:00.078Z"
      },
      {
        "duration": 25,
        "start_time": "2022-11-26T14:24:00.180Z"
      },
      {
        "duration": 23,
        "start_time": "2022-11-26T14:24:00.208Z"
      },
      {
        "duration": 9,
        "start_time": "2022-11-26T14:24:00.233Z"
      },
      {
        "duration": 25,
        "start_time": "2022-11-26T14:24:00.244Z"
      },
      {
        "duration": 20,
        "start_time": "2022-11-26T14:24:00.271Z"
      },
      {
        "duration": 20,
        "start_time": "2022-11-26T14:24:00.293Z"
      },
      {
        "duration": 6,
        "start_time": "2022-11-26T14:24:00.315Z"
      },
      {
        "duration": 16,
        "start_time": "2022-11-26T14:24:00.323Z"
      },
      {
        "duration": 3,
        "start_time": "2022-11-26T14:24:43.686Z"
      },
      {
        "duration": 661,
        "start_time": "2022-11-26T14:24:43.692Z"
      },
      {
        "duration": 2609,
        "start_time": "2022-11-26T14:24:44.354Z"
      },
      {
        "duration": 6,
        "start_time": "2022-11-26T14:24:46.977Z"
      },
      {
        "duration": 85,
        "start_time": "2022-11-26T14:24:46.988Z"
      },
      {
        "duration": 4,
        "start_time": "2022-11-26T14:24:47.076Z"
      },
      {
        "duration": 9,
        "start_time": "2022-11-26T14:24:47.082Z"
      },
      {
        "duration": 6,
        "start_time": "2022-11-26T14:24:47.092Z"
      },
      {
        "duration": 6,
        "start_time": "2022-11-26T14:24:47.100Z"
      },
      {
        "duration": 8,
        "start_time": "2022-11-26T14:24:47.108Z"
      },
      {
        "duration": 11,
        "start_time": "2022-11-26T14:24:47.119Z"
      },
      {
        "duration": 4,
        "start_time": "2022-11-26T14:24:47.132Z"
      },
      {
        "duration": 22,
        "start_time": "2022-11-26T14:24:47.138Z"
      },
      {
        "duration": 10,
        "start_time": "2022-11-26T14:25:51.637Z"
      },
      {
        "duration": 20,
        "start_time": "2022-11-26T14:25:51.652Z"
      },
      {
        "duration": 9,
        "start_time": "2022-11-26T14:25:51.674Z"
      },
      {
        "duration": 8,
        "start_time": "2022-11-26T14:25:51.686Z"
      },
      {
        "duration": 482,
        "start_time": "2022-11-26T14:25:51.696Z"
      },
      {
        "duration": 4,
        "start_time": "2022-11-26T14:25:52.179Z"
      },
      {
        "duration": 190,
        "start_time": "2022-11-26T14:25:52.187Z"
      },
      {
        "duration": 872,
        "start_time": "2022-11-26T14:25:52.379Z"
      },
      {
        "duration": 4,
        "start_time": "2022-11-26T14:25:53.261Z"
      },
      {
        "duration": 99,
        "start_time": "2022-11-26T14:25:53.273Z"
      },
      {
        "duration": 8,
        "start_time": "2022-11-26T14:25:53.374Z"
      },
      {
        "duration": 8,
        "start_time": "2022-11-26T14:25:53.385Z"
      },
      {
        "duration": 9,
        "start_time": "2022-11-26T14:25:53.395Z"
      },
      {
        "duration": 7,
        "start_time": "2022-11-26T14:25:53.406Z"
      },
      {
        "duration": 8,
        "start_time": "2022-11-26T14:25:53.416Z"
      },
      {
        "duration": 13,
        "start_time": "2022-11-26T14:25:53.426Z"
      },
      {
        "duration": 6,
        "start_time": "2022-11-26T14:25:53.440Z"
      },
      {
        "duration": 26,
        "start_time": "2022-11-26T14:25:53.449Z"
      },
      {
        "duration": 8,
        "start_time": "2022-11-26T14:26:18.894Z"
      },
      {
        "duration": 6,
        "start_time": "2022-11-26T14:26:18.904Z"
      },
      {
        "duration": 8,
        "start_time": "2022-11-26T14:26:18.912Z"
      },
      {
        "duration": 8,
        "start_time": "2022-11-26T14:26:18.922Z"
      },
      {
        "duration": 456,
        "start_time": "2022-11-26T14:26:18.932Z"
      },
      {
        "duration": 3,
        "start_time": "2022-11-26T14:26:19.390Z"
      },
      {
        "duration": 364,
        "start_time": "2022-11-26T14:26:19.395Z"
      },
      {
        "duration": 1291,
        "start_time": "2022-11-26T14:26:19.764Z"
      },
      {
        "duration": 14,
        "start_time": "2022-11-26T14:26:21.057Z"
      },
      {
        "duration": 102,
        "start_time": "2022-11-26T14:26:21.074Z"
      },
      {
        "duration": 14,
        "start_time": "2022-11-26T14:26:21.178Z"
      },
      {
        "duration": 10,
        "start_time": "2022-11-26T14:26:21.194Z"
      },
      {
        "duration": 15,
        "start_time": "2022-11-26T14:26:21.205Z"
      },
      {
        "duration": 6,
        "start_time": "2022-11-26T14:26:21.222Z"
      },
      {
        "duration": 8,
        "start_time": "2022-11-26T14:26:21.230Z"
      },
      {
        "duration": 10,
        "start_time": "2022-11-26T14:26:21.240Z"
      },
      {
        "duration": 9,
        "start_time": "2022-11-26T14:26:21.261Z"
      },
      {
        "duration": 18,
        "start_time": "2022-11-26T14:26:21.272Z"
      },
      {
        "duration": 22,
        "start_time": "2022-11-26T14:26:45.196Z"
      },
      {
        "duration": 15,
        "start_time": "2022-11-26T14:26:45.221Z"
      },
      {
        "duration": 5,
        "start_time": "2022-11-26T14:26:45.238Z"
      },
      {
        "duration": 8,
        "start_time": "2022-11-26T14:26:45.246Z"
      },
      {
        "duration": 350,
        "start_time": "2022-11-26T14:26:45.268Z"
      },
      {
        "duration": 4,
        "start_time": "2022-11-26T14:26:45.620Z"
      },
      {
        "duration": 230,
        "start_time": "2022-11-26T14:26:45.626Z"
      },
      {
        "duration": 1293,
        "start_time": "2022-11-26T14:26:45.859Z"
      },
      {
        "duration": 3,
        "start_time": "2022-11-26T14:26:47.154Z"
      },
      {
        "duration": 111,
        "start_time": "2022-11-26T14:26:47.162Z"
      },
      {
        "duration": 4,
        "start_time": "2022-11-26T14:26:47.275Z"
      },
      {
        "duration": 4,
        "start_time": "2022-11-26T14:26:47.281Z"
      },
      {
        "duration": 6,
        "start_time": "2022-11-26T14:26:47.287Z"
      },
      {
        "duration": 5,
        "start_time": "2022-11-26T14:26:47.295Z"
      },
      {
        "duration": 5,
        "start_time": "2022-11-26T14:26:47.302Z"
      },
      {
        "duration": 9,
        "start_time": "2022-11-26T14:26:47.309Z"
      },
      {
        "duration": 3,
        "start_time": "2022-11-26T14:26:47.320Z"
      },
      {
        "duration": 5,
        "start_time": "2022-11-26T14:26:47.325Z"
      },
      {
        "duration": 6,
        "start_time": "2022-11-26T14:27:15.615Z"
      },
      {
        "duration": 11,
        "start_time": "2022-11-26T14:27:15.623Z"
      },
      {
        "duration": 45,
        "start_time": "2022-11-26T14:27:15.636Z"
      },
      {
        "duration": 10,
        "start_time": "2022-11-26T14:27:15.683Z"
      },
      {
        "duration": 22,
        "start_time": "2022-11-26T14:27:15.694Z"
      },
      {
        "duration": 11,
        "start_time": "2022-11-26T14:27:15.718Z"
      },
      {
        "duration": 9,
        "start_time": "2022-11-26T14:27:15.731Z"
      },
      {
        "duration": 1259,
        "start_time": "2022-11-26T14:27:15.743Z"
      },
      {
        "duration": 3,
        "start_time": "2022-11-26T14:27:17.004Z"
      },
      {
        "duration": 1752,
        "start_time": "2022-11-26T14:27:17.010Z"
      },
      {
        "duration": 2390,
        "start_time": "2022-11-26T14:27:18.764Z"
      },
      {
        "duration": 3,
        "start_time": "2022-11-26T14:27:21.156Z"
      },
      {
        "duration": 122,
        "start_time": "2022-11-26T14:27:21.161Z"
      },
      {
        "duration": 12,
        "start_time": "2022-11-26T14:27:21.285Z"
      },
      {
        "duration": 6,
        "start_time": "2022-11-26T14:27:21.300Z"
      },
      {
        "duration": 7,
        "start_time": "2022-11-26T14:27:21.308Z"
      },
      {
        "duration": 5,
        "start_time": "2022-11-26T14:27:21.317Z"
      },
      {
        "duration": 6,
        "start_time": "2022-11-26T14:27:21.324Z"
      },
      {
        "duration": 12,
        "start_time": "2022-11-26T14:27:21.331Z"
      },
      {
        "duration": 4,
        "start_time": "2022-11-26T14:27:21.344Z"
      },
      {
        "duration": 34,
        "start_time": "2022-11-26T14:27:21.351Z"
      },
      {
        "duration": 5,
        "start_time": "2022-11-26T14:28:09.333Z"
      },
      {
        "duration": 34,
        "start_time": "2022-11-26T14:28:09.341Z"
      },
      {
        "duration": 20,
        "start_time": "2022-11-26T14:28:09.378Z"
      },
      {
        "duration": 12,
        "start_time": "2022-11-26T14:28:09.401Z"
      },
      {
        "duration": 7,
        "start_time": "2022-11-26T14:28:09.416Z"
      },
      {
        "duration": 5,
        "start_time": "2022-11-26T14:28:09.425Z"
      },
      {
        "duration": 22,
        "start_time": "2022-11-26T14:28:09.432Z"
      },
      {
        "duration": 1666,
        "start_time": "2022-11-26T14:28:09.456Z"
      },
      {
        "duration": 4,
        "start_time": "2022-11-26T14:28:11.124Z"
      },
      {
        "duration": 2045,
        "start_time": "2022-11-26T14:28:11.130Z"
      },
      {
        "duration": 3097,
        "start_time": "2022-11-26T14:28:13.267Z"
      },
      {
        "duration": 9,
        "start_time": "2022-11-26T14:28:16.450Z"
      },
      {
        "duration": 12,
        "start_time": "2022-11-26T14:28:16.463Z"
      },
      {
        "duration": 11,
        "start_time": "2022-11-26T14:28:16.477Z"
      },
      {
        "duration": 7,
        "start_time": "2022-11-26T14:28:16.490Z"
      },
      {
        "duration": 11,
        "start_time": "2022-11-26T14:28:16.499Z"
      },
      {
        "duration": 10,
        "start_time": "2022-11-26T14:28:16.513Z"
      },
      {
        "duration": 13,
        "start_time": "2022-11-26T14:28:16.525Z"
      },
      {
        "duration": 13,
        "start_time": "2022-11-26T14:28:16.540Z"
      },
      {
        "duration": 22,
        "start_time": "2022-11-26T14:28:16.555Z"
      },
      {
        "duration": 13,
        "start_time": "2022-11-26T14:28:16.579Z"
      },
      {
        "duration": 6,
        "start_time": "2022-11-26T14:29:23.794Z"
      },
      {
        "duration": 9,
        "start_time": "2022-11-26T14:29:23.802Z"
      },
      {
        "duration": 19,
        "start_time": "2022-11-26T14:29:23.813Z"
      },
      {
        "duration": 12,
        "start_time": "2022-11-26T14:29:23.836Z"
      },
      {
        "duration": 23,
        "start_time": "2022-11-26T14:29:23.850Z"
      },
      {
        "duration": 16,
        "start_time": "2022-11-26T14:29:23.875Z"
      },
      {
        "duration": 11,
        "start_time": "2022-11-26T14:29:23.893Z"
      },
      {
        "duration": 820,
        "start_time": "2022-11-26T14:29:23.906Z"
      },
      {
        "duration": 3,
        "start_time": "2022-11-26T14:29:24.728Z"
      },
      {
        "duration": 53,
        "start_time": "2022-11-26T14:29:24.734Z"
      },
      {
        "duration": 37,
        "start_time": "2022-11-26T14:29:24.789Z"
      },
      {
        "duration": 3,
        "start_time": "2022-11-26T14:29:24.828Z"
      },
      {
        "duration": 7,
        "start_time": "2022-11-26T14:29:24.833Z"
      },
      {
        "duration": 19,
        "start_time": "2022-11-26T14:29:24.842Z"
      },
      {
        "duration": 21,
        "start_time": "2022-11-26T14:29:24.864Z"
      },
      {
        "duration": 9,
        "start_time": "2022-11-26T14:29:24.891Z"
      },
      {
        "duration": 17,
        "start_time": "2022-11-26T14:29:24.902Z"
      },
      {
        "duration": 8,
        "start_time": "2022-11-26T14:29:24.921Z"
      },
      {
        "duration": 14,
        "start_time": "2022-11-26T14:29:24.932Z"
      },
      {
        "duration": 5,
        "start_time": "2022-11-26T14:29:24.948Z"
      },
      {
        "duration": 21,
        "start_time": "2022-11-26T14:29:24.959Z"
      },
      {
        "duration": 11,
        "start_time": "2022-11-26T14:30:05.349Z"
      },
      {
        "duration": 42,
        "start_time": "2022-11-26T14:30:05.364Z"
      },
      {
        "duration": 45,
        "start_time": "2022-11-26T14:30:05.408Z"
      },
      {
        "duration": 39,
        "start_time": "2022-11-26T14:30:05.457Z"
      },
      {
        "duration": 33,
        "start_time": "2022-11-26T14:30:05.498Z"
      },
      {
        "duration": 17,
        "start_time": "2022-11-26T14:30:05.533Z"
      },
      {
        "duration": 27,
        "start_time": "2022-11-26T14:30:05.552Z"
      },
      {
        "duration": 798,
        "start_time": "2022-11-26T14:30:05.581Z"
      },
      {
        "duration": 3,
        "start_time": "2022-11-26T14:30:06.382Z"
      },
      {
        "duration": 37,
        "start_time": "2022-11-26T14:30:06.387Z"
      },
      {
        "duration": 52,
        "start_time": "2022-11-26T14:30:06.428Z"
      },
      {
        "duration": 5,
        "start_time": "2022-11-26T14:30:06.482Z"
      },
      {
        "duration": 23,
        "start_time": "2022-11-26T14:30:06.489Z"
      },
      {
        "duration": 31,
        "start_time": "2022-11-26T14:30:06.514Z"
      },
      {
        "duration": 40,
        "start_time": "2022-11-26T14:30:06.548Z"
      },
      {
        "duration": 20,
        "start_time": "2022-11-26T14:30:06.591Z"
      },
      {
        "duration": 16,
        "start_time": "2022-11-26T14:30:06.613Z"
      },
      {
        "duration": 16,
        "start_time": "2022-11-26T14:30:06.632Z"
      },
      {
        "duration": 44,
        "start_time": "2022-11-26T14:30:06.650Z"
      },
      {
        "duration": 10,
        "start_time": "2022-11-26T14:30:06.698Z"
      },
      {
        "duration": 30,
        "start_time": "2022-11-26T14:30:06.710Z"
      },
      {
        "duration": 5,
        "start_time": "2022-11-26T14:31:45.898Z"
      },
      {
        "duration": 8,
        "start_time": "2022-11-26T14:31:45.906Z"
      },
      {
        "duration": 20,
        "start_time": "2022-11-26T14:31:45.916Z"
      },
      {
        "duration": 10,
        "start_time": "2022-11-26T14:31:45.938Z"
      },
      {
        "duration": 15,
        "start_time": "2022-11-26T14:31:45.950Z"
      },
      {
        "duration": 17,
        "start_time": "2022-11-26T14:31:45.967Z"
      },
      {
        "duration": 8,
        "start_time": "2022-11-26T14:31:45.986Z"
      },
      {
        "duration": 536,
        "start_time": "2022-11-26T14:31:45.996Z"
      },
      {
        "duration": 4,
        "start_time": "2022-11-26T14:31:46.534Z"
      },
      {
        "duration": 37,
        "start_time": "2022-11-26T14:31:46.541Z"
      },
      {
        "duration": 24,
        "start_time": "2022-11-26T14:31:46.580Z"
      },
      {
        "duration": 2,
        "start_time": "2022-11-26T14:31:46.606Z"
      },
      {
        "duration": 8,
        "start_time": "2022-11-26T14:31:46.610Z"
      },
      {
        "duration": 6,
        "start_time": "2022-11-26T14:31:46.620Z"
      },
      {
        "duration": 5,
        "start_time": "2022-11-26T14:31:46.627Z"
      },
      {
        "duration": 37,
        "start_time": "2022-11-26T14:31:46.634Z"
      },
      {
        "duration": 6,
        "start_time": "2022-11-26T14:31:46.673Z"
      },
      {
        "duration": 5,
        "start_time": "2022-11-26T14:31:46.681Z"
      },
      {
        "duration": 12,
        "start_time": "2022-11-26T14:31:46.688Z"
      },
      {
        "duration": 3,
        "start_time": "2022-11-26T14:31:46.702Z"
      },
      {
        "duration": 9,
        "start_time": "2022-11-26T14:31:46.707Z"
      },
      {
        "duration": 8,
        "start_time": "2022-11-26T14:32:25.747Z"
      },
      {
        "duration": 15,
        "start_time": "2022-11-26T14:32:25.763Z"
      },
      {
        "duration": 17,
        "start_time": "2022-11-26T14:32:25.780Z"
      },
      {
        "duration": 5,
        "start_time": "2022-11-26T14:32:25.799Z"
      },
      {
        "duration": 17,
        "start_time": "2022-11-26T14:32:25.806Z"
      },
      {
        "duration": 10,
        "start_time": "2022-11-26T14:32:25.825Z"
      },
      {
        "duration": 10,
        "start_time": "2022-11-26T14:32:25.837Z"
      },
      {
        "duration": 1254,
        "start_time": "2022-11-26T14:32:25.849Z"
      },
      {
        "duration": 3,
        "start_time": "2022-11-26T14:32:27.105Z"
      },
      {
        "duration": 53,
        "start_time": "2022-11-26T14:32:27.111Z"
      },
      {
        "duration": 55,
        "start_time": "2022-11-26T14:32:27.173Z"
      },
      {
        "duration": 2,
        "start_time": "2022-11-26T14:32:27.230Z"
      },
      {
        "duration": 50,
        "start_time": "2022-11-26T14:32:27.234Z"
      },
      {
        "duration": 23,
        "start_time": "2022-11-26T14:32:27.286Z"
      },
      {
        "duration": 22,
        "start_time": "2022-11-26T14:32:27.311Z"
      },
      {
        "duration": 13,
        "start_time": "2022-11-26T14:32:27.335Z"
      },
      {
        "duration": 34,
        "start_time": "2022-11-26T14:32:27.351Z"
      },
      {
        "duration": 17,
        "start_time": "2022-11-26T14:32:27.387Z"
      },
      {
        "duration": 23,
        "start_time": "2022-11-26T14:32:27.406Z"
      },
      {
        "duration": 36,
        "start_time": "2022-11-26T14:32:27.432Z"
      },
      {
        "duration": 20,
        "start_time": "2022-11-26T14:32:27.470Z"
      },
      {
        "duration": 5,
        "start_time": "2022-11-26T14:33:02.294Z"
      },
      {
        "duration": 17,
        "start_time": "2022-11-26T14:33:02.302Z"
      },
      {
        "duration": 26,
        "start_time": "2022-11-26T14:33:02.321Z"
      },
      {
        "duration": 26,
        "start_time": "2022-11-26T14:33:02.348Z"
      },
      {
        "duration": 20,
        "start_time": "2022-11-26T14:33:02.377Z"
      },
      {
        "duration": 21,
        "start_time": "2022-11-26T14:33:02.399Z"
      },
      {
        "duration": 11,
        "start_time": "2022-11-26T14:33:02.422Z"
      },
      {
        "duration": 590,
        "start_time": "2022-11-26T14:33:02.435Z"
      },
      {
        "duration": 4,
        "start_time": "2022-11-26T14:33:03.027Z"
      },
      {
        "duration": 38,
        "start_time": "2022-11-26T14:33:03.033Z"
      },
      {
        "duration": 26,
        "start_time": "2022-11-26T14:33:03.075Z"
      },
      {
        "duration": 3,
        "start_time": "2022-11-26T14:33:03.102Z"
      },
      {
        "duration": 11,
        "start_time": "2022-11-26T14:33:03.107Z"
      },
      {
        "duration": 11,
        "start_time": "2022-11-26T14:33:03.120Z"
      },
      {
        "duration": 6,
        "start_time": "2022-11-26T14:33:03.132Z"
      },
      {
        "duration": 5,
        "start_time": "2022-11-26T14:33:03.153Z"
      },
      {
        "duration": 22,
        "start_time": "2022-11-26T14:33:03.168Z"
      },
      {
        "duration": 7,
        "start_time": "2022-11-26T14:33:03.192Z"
      },
      {
        "duration": 15,
        "start_time": "2022-11-26T14:33:03.201Z"
      },
      {
        "duration": 3,
        "start_time": "2022-11-26T14:33:03.218Z"
      },
      {
        "duration": 5,
        "start_time": "2022-11-26T14:33:03.223Z"
      },
      {
        "duration": 6,
        "start_time": "2022-11-26T14:33:45.736Z"
      },
      {
        "duration": 9,
        "start_time": "2022-11-26T14:33:45.746Z"
      },
      {
        "duration": 53,
        "start_time": "2022-11-26T14:33:45.762Z"
      },
      {
        "duration": 11,
        "start_time": "2022-11-26T14:33:45.818Z"
      },
      {
        "duration": 5,
        "start_time": "2022-11-26T14:33:45.830Z"
      },
      {
        "duration": 9,
        "start_time": "2022-11-26T14:33:45.838Z"
      },
      {
        "duration": 34,
        "start_time": "2022-11-26T14:33:45.849Z"
      },
      {
        "duration": 546,
        "start_time": "2022-11-26T14:33:45.886Z"
      },
      {
        "duration": 4,
        "start_time": "2022-11-26T14:33:46.434Z"
      },
      {
        "duration": 13,
        "start_time": "2022-11-26T14:33:46.451Z"
      },
      {
        "duration": 33,
        "start_time": "2022-11-26T14:33:46.466Z"
      },
      {
        "duration": 3,
        "start_time": "2022-11-26T14:33:46.500Z"
      },
      {
        "duration": 8,
        "start_time": "2022-11-26T14:33:46.505Z"
      },
      {
        "duration": 6,
        "start_time": "2022-11-26T14:33:46.515Z"
      },
      {
        "duration": 3,
        "start_time": "2022-11-26T14:33:46.524Z"
      },
      {
        "duration": 4,
        "start_time": "2022-11-26T14:33:46.553Z"
      },
      {
        "duration": 5,
        "start_time": "2022-11-26T14:33:46.559Z"
      },
      {
        "duration": 9,
        "start_time": "2022-11-26T14:33:46.572Z"
      },
      {
        "duration": 10,
        "start_time": "2022-11-26T14:33:46.584Z"
      },
      {
        "duration": 7,
        "start_time": "2022-11-26T14:33:46.596Z"
      },
      {
        "duration": 5,
        "start_time": "2022-11-26T14:33:46.605Z"
      },
      {
        "duration": 7,
        "start_time": "2022-11-26T14:34:45.834Z"
      },
      {
        "duration": 9,
        "start_time": "2022-11-26T14:34:45.843Z"
      },
      {
        "duration": 35,
        "start_time": "2022-11-26T14:34:45.854Z"
      },
      {
        "duration": 10,
        "start_time": "2022-11-26T14:34:45.892Z"
      },
      {
        "duration": 9,
        "start_time": "2022-11-26T14:34:45.904Z"
      },
      {
        "duration": 5,
        "start_time": "2022-11-26T14:34:45.915Z"
      },
      {
        "duration": 7,
        "start_time": "2022-11-26T14:34:45.922Z"
      },
      {
        "duration": 748,
        "start_time": "2022-11-26T14:34:45.931Z"
      },
      {
        "duration": 4,
        "start_time": "2022-11-26T14:34:46.681Z"
      },
      {
        "duration": 15,
        "start_time": "2022-11-26T14:34:46.686Z"
      },
      {
        "duration": 53,
        "start_time": "2022-11-26T14:34:46.703Z"
      },
      {
        "duration": 3,
        "start_time": "2022-11-26T14:34:46.757Z"
      },
      {
        "duration": 19,
        "start_time": "2022-11-26T14:34:46.762Z"
      },
      {
        "duration": 7,
        "start_time": "2022-11-26T14:34:46.784Z"
      },
      {
        "duration": 5,
        "start_time": "2022-11-26T14:34:46.793Z"
      },
      {
        "duration": 7,
        "start_time": "2022-11-26T14:34:46.800Z"
      },
      {
        "duration": 5,
        "start_time": "2022-11-26T14:34:46.809Z"
      },
      {
        "duration": 10,
        "start_time": "2022-11-26T14:34:46.816Z"
      },
      {
        "duration": 9,
        "start_time": "2022-11-26T14:34:46.828Z"
      },
      {
        "duration": 3,
        "start_time": "2022-11-26T14:34:46.839Z"
      },
      {
        "duration": 14,
        "start_time": "2022-11-26T14:34:46.844Z"
      },
      {
        "duration": 5,
        "start_time": "2022-11-26T14:35:13.213Z"
      },
      {
        "duration": 8,
        "start_time": "2022-11-26T14:35:13.221Z"
      },
      {
        "duration": 23,
        "start_time": "2022-11-26T14:35:13.232Z"
      },
      {
        "duration": 38,
        "start_time": "2022-11-26T14:35:13.257Z"
      },
      {
        "duration": 20,
        "start_time": "2022-11-26T14:35:13.297Z"
      },
      {
        "duration": 10,
        "start_time": "2022-11-26T14:35:13.319Z"
      },
      {
        "duration": 6,
        "start_time": "2022-11-26T14:35:13.331Z"
      },
      {
        "duration": 687,
        "start_time": "2022-11-26T14:35:13.341Z"
      },
      {
        "duration": 10,
        "start_time": "2022-11-26T14:35:14.030Z"
      },
      {
        "duration": 46,
        "start_time": "2022-11-26T14:35:14.043Z"
      },
      {
        "duration": 30,
        "start_time": "2022-11-26T14:35:14.091Z"
      },
      {
        "duration": 2,
        "start_time": "2022-11-26T14:35:14.123Z"
      },
      {
        "duration": 13,
        "start_time": "2022-11-26T14:35:14.127Z"
      },
      {
        "duration": 8,
        "start_time": "2022-11-26T14:35:14.144Z"
      },
      {
        "duration": 32,
        "start_time": "2022-11-26T14:35:14.159Z"
      },
      {
        "duration": 10,
        "start_time": "2022-11-26T14:35:14.194Z"
      },
      {
        "duration": 11,
        "start_time": "2022-11-26T14:35:14.206Z"
      },
      {
        "duration": 12,
        "start_time": "2022-11-26T14:35:14.220Z"
      },
      {
        "duration": 36,
        "start_time": "2022-11-26T14:35:14.236Z"
      },
      {
        "duration": 18,
        "start_time": "2022-11-26T14:35:14.276Z"
      },
      {
        "duration": 8,
        "start_time": "2022-11-26T14:35:14.296Z"
      },
      {
        "duration": 6,
        "start_time": "2022-11-26T14:36:42.720Z"
      },
      {
        "duration": 5,
        "start_time": "2022-11-26T14:36:42.735Z"
      },
      {
        "duration": 28,
        "start_time": "2022-11-26T14:36:42.743Z"
      },
      {
        "duration": 18,
        "start_time": "2022-11-26T14:36:42.775Z"
      },
      {
        "duration": 4,
        "start_time": "2022-11-26T14:36:42.795Z"
      },
      {
        "duration": 4,
        "start_time": "2022-11-26T14:36:42.803Z"
      },
      {
        "duration": 9,
        "start_time": "2022-11-26T14:36:42.809Z"
      },
      {
        "duration": 1122,
        "start_time": "2022-11-26T14:36:42.820Z"
      },
      {
        "duration": 7,
        "start_time": "2022-11-26T14:36:43.951Z"
      },
      {
        "duration": 2708,
        "start_time": "2022-11-26T14:36:43.964Z"
      },
      {
        "duration": 2780,
        "start_time": "2022-11-26T14:36:46.674Z"
      },
      {
        "duration": 5,
        "start_time": "2022-11-26T14:36:49.461Z"
      },
      {
        "duration": 104,
        "start_time": "2022-11-26T14:36:49.472Z"
      },
      {
        "duration": 6,
        "start_time": "2022-11-26T14:36:49.579Z"
      },
      {
        "duration": 15,
        "start_time": "2022-11-26T14:36:49.586Z"
      },
      {
        "duration": 12,
        "start_time": "2022-11-26T14:36:49.603Z"
      },
      {
        "duration": 10,
        "start_time": "2022-11-26T14:36:49.617Z"
      },
      {
        "duration": 8,
        "start_time": "2022-11-26T14:36:49.629Z"
      },
      {
        "duration": 24,
        "start_time": "2022-11-26T14:36:49.639Z"
      },
      {
        "duration": 24,
        "start_time": "2022-11-26T14:36:49.665Z"
      },
      {
        "duration": 22,
        "start_time": "2022-11-26T14:36:49.691Z"
      },
      {
        "duration": 6,
        "start_time": "2022-11-26T14:38:38.119Z"
      },
      {
        "duration": 11,
        "start_time": "2022-11-26T14:38:38.128Z"
      },
      {
        "duration": 22,
        "start_time": "2022-11-26T14:38:38.141Z"
      },
      {
        "duration": 45,
        "start_time": "2022-11-26T14:38:38.167Z"
      },
      {
        "duration": 17,
        "start_time": "2022-11-26T14:38:38.215Z"
      },
      {
        "duration": 17,
        "start_time": "2022-11-26T14:38:38.234Z"
      },
      {
        "duration": 19,
        "start_time": "2022-11-26T14:38:38.257Z"
      },
      {
        "duration": 1476,
        "start_time": "2022-11-26T14:38:38.278Z"
      },
      {
        "duration": 4,
        "start_time": "2022-11-26T14:38:39.761Z"
      },
      {
        "duration": 708,
        "start_time": "2022-11-26T14:38:39.771Z"
      },
      {
        "duration": 880,
        "start_time": "2022-11-26T14:38:40.481Z"
      },
      {
        "duration": 6,
        "start_time": "2022-11-26T14:38:41.373Z"
      },
      {
        "duration": 93,
        "start_time": "2022-11-26T14:38:41.383Z"
      },
      {
        "duration": 7,
        "start_time": "2022-11-26T14:38:41.479Z"
      },
      {
        "duration": 8,
        "start_time": "2022-11-26T14:38:41.489Z"
      },
      {
        "duration": 11,
        "start_time": "2022-11-26T14:38:41.499Z"
      },
      {
        "duration": 7,
        "start_time": "2022-11-26T14:38:41.512Z"
      },
      {
        "duration": 8,
        "start_time": "2022-11-26T14:38:41.521Z"
      },
      {
        "duration": 23,
        "start_time": "2022-11-26T14:38:41.531Z"
      },
      {
        "duration": 22,
        "start_time": "2022-11-26T14:38:41.556Z"
      },
      {
        "duration": 9,
        "start_time": "2022-11-26T14:38:41.581Z"
      },
      {
        "duration": 14,
        "start_time": "2022-11-26T14:39:02.807Z"
      },
      {
        "duration": 11,
        "start_time": "2022-11-26T14:39:06.148Z"
      },
      {
        "duration": 10,
        "start_time": "2022-11-26T14:39:32.903Z"
      },
      {
        "duration": 30,
        "start_time": "2022-11-26T14:39:32.915Z"
      },
      {
        "duration": 43,
        "start_time": "2022-11-26T14:39:32.947Z"
      },
      {
        "duration": 35,
        "start_time": "2022-11-26T14:39:32.992Z"
      },
      {
        "duration": 755,
        "start_time": "2022-11-26T14:39:33.029Z"
      },
      {
        "duration": 3,
        "start_time": "2022-11-26T14:39:33.786Z"
      },
      {
        "duration": 54,
        "start_time": "2022-11-26T14:39:33.792Z"
      },
      {
        "duration": 99,
        "start_time": "2022-11-26T14:39:33.848Z"
      },
      {
        "duration": 6,
        "start_time": "2022-11-26T14:39:33.950Z"
      },
      {
        "duration": 36,
        "start_time": "2022-11-26T14:39:33.958Z"
      },
      {
        "duration": 30,
        "start_time": "2022-11-26T14:39:33.997Z"
      },
      {
        "duration": 24,
        "start_time": "2022-11-26T14:39:34.030Z"
      },
      {
        "duration": 37,
        "start_time": "2022-11-26T14:39:34.060Z"
      },
      {
        "duration": 21,
        "start_time": "2022-11-26T14:39:34.099Z"
      },
      {
        "duration": 22,
        "start_time": "2022-11-26T14:39:34.122Z"
      },
      {
        "duration": 72,
        "start_time": "2022-11-26T14:39:34.146Z"
      },
      {
        "duration": 48,
        "start_time": "2022-11-26T14:39:34.221Z"
      },
      {
        "duration": 41,
        "start_time": "2022-11-26T14:39:34.271Z"
      },
      {
        "duration": 11,
        "start_time": "2022-11-26T14:39:49.776Z"
      },
      {
        "duration": 4,
        "start_time": "2022-11-26T14:39:52.276Z"
      },
      {
        "duration": 7,
        "start_time": "2022-11-26T14:39:52.283Z"
      },
      {
        "duration": 8,
        "start_time": "2022-11-26T14:39:52.293Z"
      },
      {
        "duration": 624,
        "start_time": "2022-11-26T14:39:52.303Z"
      },
      {
        "duration": 6,
        "start_time": "2022-11-26T14:39:52.930Z"
      },
      {
        "duration": 29,
        "start_time": "2022-11-26T14:39:52.938Z"
      },
      {
        "duration": 44,
        "start_time": "2022-11-26T14:39:52.969Z"
      },
      {
        "duration": 2,
        "start_time": "2022-11-26T14:39:53.015Z"
      },
      {
        "duration": 3,
        "start_time": "2022-11-26T14:39:53.019Z"
      },
      {
        "duration": 6,
        "start_time": "2022-11-26T14:39:53.028Z"
      },
      {
        "duration": 7,
        "start_time": "2022-11-26T14:39:53.052Z"
      },
      {
        "duration": 24,
        "start_time": "2022-11-26T14:39:53.062Z"
      },
      {
        "duration": 7,
        "start_time": "2022-11-26T14:39:53.088Z"
      },
      {
        "duration": 8,
        "start_time": "2022-11-26T14:39:53.097Z"
      },
      {
        "duration": 10,
        "start_time": "2022-11-26T14:39:53.108Z"
      },
      {
        "duration": 7,
        "start_time": "2022-11-26T14:39:53.120Z"
      },
      {
        "duration": 9,
        "start_time": "2022-11-26T14:39:53.129Z"
      },
      {
        "duration": 12,
        "start_time": "2022-11-26T14:40:05.563Z"
      },
      {
        "duration": 10,
        "start_time": "2022-11-26T14:40:16.791Z"
      },
      {
        "duration": 5,
        "start_time": "2022-11-26T14:40:20.004Z"
      },
      {
        "duration": 5,
        "start_time": "2022-11-26T14:40:30.322Z"
      },
      {
        "duration": 19,
        "start_time": "2022-11-26T14:40:30.330Z"
      },
      {
        "duration": 32,
        "start_time": "2022-11-26T14:40:30.351Z"
      },
      {
        "duration": 11,
        "start_time": "2022-11-26T14:40:30.385Z"
      },
      {
        "duration": 21,
        "start_time": "2022-11-26T14:40:30.398Z"
      },
      {
        "duration": 25,
        "start_time": "2022-11-26T14:40:30.421Z"
      },
      {
        "duration": 41,
        "start_time": "2022-11-26T14:40:30.448Z"
      },
      {
        "duration": 1099,
        "start_time": "2022-11-26T14:40:30.491Z"
      },
      {
        "duration": 3,
        "start_time": "2022-11-26T14:40:31.592Z"
      },
      {
        "duration": 1561,
        "start_time": "2022-11-26T14:40:31.597Z"
      },
      {
        "duration": 3908,
        "start_time": "2022-11-26T14:40:33.160Z"
      },
      {
        "duration": 4,
        "start_time": "2022-11-26T14:40:37.082Z"
      },
      {
        "duration": 6,
        "start_time": "2022-11-26T14:40:37.088Z"
      },
      {
        "duration": 8,
        "start_time": "2022-11-26T14:40:37.096Z"
      },
      {
        "duration": 69,
        "start_time": "2022-11-26T14:40:37.106Z"
      },
      {
        "duration": 6,
        "start_time": "2022-11-26T14:40:37.177Z"
      },
      {
        "duration": 7,
        "start_time": "2022-11-26T14:40:37.185Z"
      },
      {
        "duration": 8,
        "start_time": "2022-11-26T14:40:37.194Z"
      },
      {
        "duration": 8,
        "start_time": "2022-11-26T14:40:37.204Z"
      },
      {
        "duration": 4,
        "start_time": "2022-11-26T14:40:37.214Z"
      },
      {
        "duration": 6,
        "start_time": "2022-11-26T14:40:37.220Z"
      },
      {
        "duration": 6,
        "start_time": "2022-11-26T14:40:55.465Z"
      },
      {
        "duration": 14,
        "start_time": "2022-11-26T14:40:55.473Z"
      },
      {
        "duration": 16,
        "start_time": "2022-11-26T14:40:55.489Z"
      },
      {
        "duration": 10,
        "start_time": "2022-11-26T14:40:55.507Z"
      },
      {
        "duration": 4,
        "start_time": "2022-11-26T14:40:55.519Z"
      },
      {
        "duration": 32,
        "start_time": "2022-11-26T14:40:55.525Z"
      },
      {
        "duration": 24,
        "start_time": "2022-11-26T14:40:55.558Z"
      },
      {
        "duration": 927,
        "start_time": "2022-11-26T14:40:55.585Z"
      },
      {
        "duration": 3,
        "start_time": "2022-11-26T14:40:56.515Z"
      },
      {
        "duration": 1355,
        "start_time": "2022-11-26T14:40:56.519Z"
      },
      {
        "duration": 1289,
        "start_time": "2022-11-26T14:40:57.877Z"
      },
      {
        "duration": 5,
        "start_time": "2022-11-26T14:40:59.169Z"
      },
      {
        "duration": 101,
        "start_time": "2022-11-26T14:40:59.178Z"
      },
      {
        "duration": 6,
        "start_time": "2022-11-26T14:40:59.281Z"
      },
      {
        "duration": 5,
        "start_time": "2022-11-26T14:40:59.288Z"
      },
      {
        "duration": 5,
        "start_time": "2022-11-26T14:40:59.295Z"
      },
      {
        "duration": 7,
        "start_time": "2022-11-26T14:40:59.301Z"
      },
      {
        "duration": 7,
        "start_time": "2022-11-26T14:40:59.310Z"
      },
      {
        "duration": 9,
        "start_time": "2022-11-26T14:40:59.319Z"
      },
      {
        "duration": 3,
        "start_time": "2022-11-26T14:40:59.330Z"
      },
      {
        "duration": 7,
        "start_time": "2022-11-26T14:40:59.335Z"
      },
      {
        "duration": 6,
        "start_time": "2022-11-26T14:41:17.576Z"
      },
      {
        "duration": 12,
        "start_time": "2022-11-26T14:41:17.585Z"
      },
      {
        "duration": 17,
        "start_time": "2022-11-26T14:41:17.599Z"
      },
      {
        "duration": 11,
        "start_time": "2022-11-26T14:41:17.618Z"
      },
      {
        "duration": 5,
        "start_time": "2022-11-26T14:41:17.630Z"
      },
      {
        "duration": 6,
        "start_time": "2022-11-26T14:41:17.637Z"
      },
      {
        "duration": 25,
        "start_time": "2022-11-26T14:41:17.645Z"
      },
      {
        "duration": 1144,
        "start_time": "2022-11-26T14:41:17.673Z"
      },
      {
        "duration": 3,
        "start_time": "2022-11-26T14:41:18.819Z"
      },
      {
        "duration": 1562,
        "start_time": "2022-11-26T14:41:18.825Z"
      },
      {
        "duration": 1113,
        "start_time": "2022-11-26T14:41:20.463Z"
      },
      {
        "duration": 4,
        "start_time": "2022-11-26T14:41:21.578Z"
      },
      {
        "duration": 190,
        "start_time": "2022-11-26T14:41:21.585Z"
      },
      {
        "duration": 7,
        "start_time": "2022-11-26T14:41:21.777Z"
      },
      {
        "duration": 6,
        "start_time": "2022-11-26T14:41:21.786Z"
      },
      {
        "duration": 6,
        "start_time": "2022-11-26T14:41:21.795Z"
      },
      {
        "duration": 6,
        "start_time": "2022-11-26T14:41:21.802Z"
      },
      {
        "duration": 6,
        "start_time": "2022-11-26T14:41:21.809Z"
      },
      {
        "duration": 9,
        "start_time": "2022-11-26T14:41:21.816Z"
      },
      {
        "duration": 3,
        "start_time": "2022-11-26T14:41:21.827Z"
      },
      {
        "duration": 6,
        "start_time": "2022-11-26T14:41:21.831Z"
      },
      {
        "duration": 7,
        "start_time": "2022-11-26T14:42:27.193Z"
      },
      {
        "duration": 13,
        "start_time": "2022-11-26T14:42:27.202Z"
      },
      {
        "duration": 43,
        "start_time": "2022-11-26T14:42:27.218Z"
      },
      {
        "duration": 27,
        "start_time": "2022-11-26T14:42:27.267Z"
      },
      {
        "duration": 19,
        "start_time": "2022-11-26T14:42:27.296Z"
      },
      {
        "duration": 21,
        "start_time": "2022-11-26T14:42:27.317Z"
      },
      {
        "duration": 35,
        "start_time": "2022-11-26T14:42:27.340Z"
      },
      {
        "duration": 1319,
        "start_time": "2022-11-26T14:42:27.377Z"
      },
      {
        "duration": 3,
        "start_time": "2022-11-26T14:42:28.698Z"
      },
      {
        "duration": 2258,
        "start_time": "2022-11-26T14:42:28.704Z"
      },
      {
        "duration": 1691,
        "start_time": "2022-11-26T14:42:30.964Z"
      },
      {
        "duration": 3,
        "start_time": "2022-11-26T14:42:32.657Z"
      },
      {
        "duration": 118,
        "start_time": "2022-11-26T14:42:32.662Z"
      },
      {
        "duration": 4,
        "start_time": "2022-11-26T14:42:32.783Z"
      },
      {
        "duration": 7,
        "start_time": "2022-11-26T14:42:32.789Z"
      },
      {
        "duration": 7,
        "start_time": "2022-11-26T14:42:32.797Z"
      },
      {
        "duration": 5,
        "start_time": "2022-11-26T14:42:32.806Z"
      },
      {
        "duration": 7,
        "start_time": "2022-11-26T14:42:32.813Z"
      },
      {
        "duration": 9,
        "start_time": "2022-11-26T14:42:32.822Z"
      },
      {
        "duration": 3,
        "start_time": "2022-11-26T14:42:32.833Z"
      },
      {
        "duration": 8,
        "start_time": "2022-11-26T14:42:32.838Z"
      },
      {
        "duration": 5,
        "start_time": "2022-11-26T14:43:14.623Z"
      },
      {
        "duration": 10,
        "start_time": "2022-11-26T14:43:14.630Z"
      },
      {
        "duration": 18,
        "start_time": "2022-11-26T14:43:14.643Z"
      },
      {
        "duration": 17,
        "start_time": "2022-11-26T14:43:14.668Z"
      },
      {
        "duration": 5,
        "start_time": "2022-11-26T14:43:14.686Z"
      },
      {
        "duration": 12,
        "start_time": "2022-11-26T14:43:14.692Z"
      },
      {
        "duration": 13,
        "start_time": "2022-11-26T14:43:14.706Z"
      },
      {
        "duration": 1958,
        "start_time": "2022-11-26T14:43:14.721Z"
      },
      {
        "duration": 3,
        "start_time": "2022-11-26T14:43:16.681Z"
      },
      {
        "duration": 2265,
        "start_time": "2022-11-26T14:43:16.686Z"
      },
      {
        "duration": 3925,
        "start_time": "2022-11-26T14:43:18.954Z"
      },
      {
        "duration": 7,
        "start_time": "2022-11-26T14:43:22.956Z"
      },
      {
        "duration": 10,
        "start_time": "2022-11-26T14:43:22.967Z"
      },
      {
        "duration": 15,
        "start_time": "2022-11-26T14:43:22.979Z"
      },
      {
        "duration": 6,
        "start_time": "2022-11-26T14:43:22.996Z"
      },
      {
        "duration": 5,
        "start_time": "2022-11-26T14:43:23.004Z"
      },
      {
        "duration": 6,
        "start_time": "2022-11-26T14:43:23.010Z"
      },
      {
        "duration": 5,
        "start_time": "2022-11-26T14:43:23.018Z"
      },
      {
        "duration": 10,
        "start_time": "2022-11-26T14:43:23.024Z"
      },
      {
        "duration": 19,
        "start_time": "2022-11-26T14:43:23.037Z"
      },
      {
        "duration": 16,
        "start_time": "2022-11-26T14:43:23.060Z"
      },
      {
        "duration": 5,
        "start_time": "2022-11-26T14:44:09.272Z"
      },
      {
        "duration": 21,
        "start_time": "2022-11-26T14:44:09.279Z"
      },
      {
        "duration": 24,
        "start_time": "2022-11-26T14:44:09.302Z"
      },
      {
        "duration": 11,
        "start_time": "2022-11-26T14:44:09.329Z"
      },
      {
        "duration": 9,
        "start_time": "2022-11-26T14:44:09.342Z"
      },
      {
        "duration": 27,
        "start_time": "2022-11-26T14:44:09.355Z"
      },
      {
        "duration": 8,
        "start_time": "2022-11-26T14:44:09.384Z"
      },
      {
        "duration": 1210,
        "start_time": "2022-11-26T14:44:09.394Z"
      },
      {
        "duration": 3,
        "start_time": "2022-11-26T14:44:10.607Z"
      },
      {
        "duration": 43,
        "start_time": "2022-11-26T14:44:10.614Z"
      },
      {
        "duration": 63,
        "start_time": "2022-11-26T14:44:10.662Z"
      },
      {
        "duration": 2,
        "start_time": "2022-11-26T14:44:10.728Z"
      },
      {
        "duration": 21,
        "start_time": "2022-11-26T14:44:10.733Z"
      },
      {
        "duration": 28,
        "start_time": "2022-11-26T14:44:10.756Z"
      },
      {
        "duration": 6,
        "start_time": "2022-11-26T14:44:10.786Z"
      },
      {
        "duration": 6,
        "start_time": "2022-11-26T14:44:10.794Z"
      },
      {
        "duration": 7,
        "start_time": "2022-11-26T14:44:10.802Z"
      },
      {
        "duration": 11,
        "start_time": "2022-11-26T14:44:10.811Z"
      },
      {
        "duration": 17,
        "start_time": "2022-11-26T14:44:10.825Z"
      },
      {
        "duration": 4,
        "start_time": "2022-11-26T14:44:10.844Z"
      },
      {
        "duration": 26,
        "start_time": "2022-11-26T14:44:10.850Z"
      },
      {
        "duration": 6,
        "start_time": "2022-11-26T14:44:38.692Z"
      },
      {
        "duration": 6,
        "start_time": "2022-11-26T14:44:38.701Z"
      },
      {
        "duration": 15,
        "start_time": "2022-11-26T14:44:38.709Z"
      },
      {
        "duration": 13,
        "start_time": "2022-11-26T14:44:38.727Z"
      },
      {
        "duration": 5,
        "start_time": "2022-11-26T14:44:38.742Z"
      },
      {
        "duration": 12,
        "start_time": "2022-11-26T14:44:38.750Z"
      },
      {
        "duration": 12,
        "start_time": "2022-11-26T14:44:38.770Z"
      },
      {
        "duration": 1128,
        "start_time": "2022-11-26T14:44:38.784Z"
      },
      {
        "duration": 4,
        "start_time": "2022-11-26T14:44:39.914Z"
      },
      {
        "duration": 39,
        "start_time": "2022-11-26T14:44:39.921Z"
      },
      {
        "duration": 59,
        "start_time": "2022-11-26T14:44:39.962Z"
      },
      {
        "duration": 3,
        "start_time": "2022-11-26T14:44:40.025Z"
      },
      {
        "duration": 61,
        "start_time": "2022-11-26T14:44:40.030Z"
      },
      {
        "duration": 3,
        "start_time": "2022-11-26T14:44:40.094Z"
      },
      {
        "duration": 10,
        "start_time": "2022-11-26T14:44:40.100Z"
      },
      {
        "duration": 9,
        "start_time": "2022-11-26T14:44:40.112Z"
      },
      {
        "duration": 3,
        "start_time": "2022-11-26T14:44:40.124Z"
      },
      {
        "duration": 10,
        "start_time": "2022-11-26T14:44:40.130Z"
      },
      {
        "duration": 12,
        "start_time": "2022-11-26T14:44:40.142Z"
      },
      {
        "duration": 27,
        "start_time": "2022-11-26T14:44:40.158Z"
      },
      {
        "duration": 12,
        "start_time": "2022-11-26T14:44:40.187Z"
      },
      {
        "duration": 7,
        "start_time": "2022-11-26T14:45:40.295Z"
      },
      {
        "duration": 983,
        "start_time": "2022-11-26T14:45:40.304Z"
      },
      {
        "duration": 33,
        "start_time": "2022-11-26T14:45:41.291Z"
      },
      {
        "duration": 297,
        "start_time": "2022-11-26T14:45:41.326Z"
      },
      {
        "duration": 5,
        "start_time": "2022-11-26T14:45:41.626Z"
      },
      {
        "duration": 57,
        "start_time": "2022-11-26T14:45:41.634Z"
      },
      {
        "duration": 6,
        "start_time": "2022-11-26T14:45:41.694Z"
      },
      {
        "duration": 12,
        "start_time": "2022-11-26T14:45:41.703Z"
      },
      {
        "duration": 13,
        "start_time": "2022-11-26T14:45:41.719Z"
      },
      {
        "duration": 15,
        "start_time": "2022-11-26T14:45:41.734Z"
      },
      {
        "duration": 14831,
        "start_time": "2022-11-26T14:45:41.751Z"
      },
      {
        "duration": 0,
        "start_time": "2022-11-26T14:45:56.585Z"
      },
      {
        "duration": 0,
        "start_time": "2022-11-26T14:45:56.586Z"
      },
      {
        "duration": 9,
        "start_time": "2022-11-26T14:46:19.391Z"
      },
      {
        "duration": 1040,
        "start_time": "2022-11-26T14:46:19.403Z"
      },
      {
        "duration": 34,
        "start_time": "2022-11-26T14:46:20.454Z"
      },
      {
        "duration": 309,
        "start_time": "2022-11-26T14:46:20.492Z"
      },
      {
        "duration": 5,
        "start_time": "2022-11-26T14:46:20.806Z"
      },
      {
        "duration": 58,
        "start_time": "2022-11-26T14:46:20.813Z"
      },
      {
        "duration": 48,
        "start_time": "2022-11-26T14:46:20.874Z"
      },
      {
        "duration": 45,
        "start_time": "2022-11-26T14:46:20.924Z"
      },
      {
        "duration": 24,
        "start_time": "2022-11-26T14:46:20.973Z"
      },
      {
        "duration": 79,
        "start_time": "2022-11-26T14:46:20.999Z"
      },
      {
        "duration": 473519,
        "start_time": "2022-11-26T14:46:21.080Z"
      },
      {
        "duration": 1446,
        "start_time": "2022-11-26T14:54:14.601Z"
      },
      {
        "duration": 7,
        "start_time": "2022-11-26T14:54:16.051Z"
      },
      {
        "duration": 8,
        "start_time": "2022-11-26T14:54:45.318Z"
      },
      {
        "duration": 7,
        "start_time": "2022-11-26T14:54:45.329Z"
      },
      {
        "duration": 45,
        "start_time": "2022-11-26T14:54:45.338Z"
      },
      {
        "duration": 19,
        "start_time": "2022-11-26T14:54:45.386Z"
      },
      {
        "duration": 4,
        "start_time": "2022-11-26T14:54:45.407Z"
      },
      {
        "duration": 5,
        "start_time": "2022-11-26T14:54:45.413Z"
      },
      {
        "duration": 263,
        "start_time": "2022-11-26T14:54:45.420Z"
      },
      {
        "duration": 6121,
        "start_time": "2022-11-26T14:54:45.685Z"
      },
      {
        "duration": 2,
        "start_time": "2022-11-26T14:54:51.808Z"
      },
      {
        "duration": 6353,
        "start_time": "2022-11-26T14:54:51.812Z"
      },
      {
        "duration": 9487,
        "start_time": "2022-11-26T14:54:58.167Z"
      },
      {
        "duration": 3,
        "start_time": "2022-11-26T14:55:07.658Z"
      },
      {
        "duration": 15,
        "start_time": "2022-11-26T14:55:07.663Z"
      },
      {
        "duration": 16,
        "start_time": "2022-11-26T14:55:07.680Z"
      },
      {
        "duration": 7,
        "start_time": "2022-11-26T14:55:07.698Z"
      },
      {
        "duration": 8,
        "start_time": "2022-11-26T14:55:07.708Z"
      },
      {
        "duration": 11,
        "start_time": "2022-11-26T14:55:07.718Z"
      },
      {
        "duration": 4,
        "start_time": "2022-11-26T14:55:07.731Z"
      },
      {
        "duration": 12,
        "start_time": "2022-11-26T14:55:07.737Z"
      },
      {
        "duration": 19,
        "start_time": "2022-11-26T14:55:07.751Z"
      },
      {
        "duration": 8,
        "start_time": "2022-11-26T14:55:07.771Z"
      },
      {
        "duration": 6,
        "start_time": "2022-11-26T14:55:43.494Z"
      },
      {
        "duration": 11,
        "start_time": "2022-11-26T14:55:43.503Z"
      },
      {
        "duration": 27,
        "start_time": "2022-11-26T14:55:43.516Z"
      },
      {
        "duration": 6,
        "start_time": "2022-11-26T14:55:43.546Z"
      },
      {
        "duration": 28,
        "start_time": "2022-11-26T14:55:43.557Z"
      },
      {
        "duration": 5,
        "start_time": "2022-11-26T14:55:43.588Z"
      },
      {
        "duration": 7,
        "start_time": "2022-11-26T14:55:43.595Z"
      },
      {
        "duration": 8003,
        "start_time": "2022-11-26T14:55:43.604Z"
      },
      {
        "duration": 3,
        "start_time": "2022-11-26T14:55:51.610Z"
      },
      {
        "duration": 4945,
        "start_time": "2022-11-26T14:55:51.615Z"
      },
      {
        "duration": 11810,
        "start_time": "2022-11-26T14:55:56.562Z"
      },
      {
        "duration": 2,
        "start_time": "2022-11-26T14:56:08.376Z"
      },
      {
        "duration": 17,
        "start_time": "2022-11-26T14:56:08.380Z"
      },
      {
        "duration": 14,
        "start_time": "2022-11-26T14:56:08.400Z"
      },
      {
        "duration": 20,
        "start_time": "2022-11-26T14:56:08.417Z"
      },
      {
        "duration": 38,
        "start_time": "2022-11-26T14:56:08.439Z"
      },
      {
        "duration": 6,
        "start_time": "2022-11-26T14:56:08.479Z"
      },
      {
        "duration": 6,
        "start_time": "2022-11-26T14:56:08.486Z"
      },
      {
        "duration": 14,
        "start_time": "2022-11-26T14:56:08.494Z"
      },
      {
        "duration": 2,
        "start_time": "2022-11-26T14:56:08.510Z"
      },
      {
        "duration": 5,
        "start_time": "2022-11-26T14:56:08.514Z"
      },
      {
        "duration": 7,
        "start_time": "2022-11-26T14:56:47.439Z"
      },
      {
        "duration": 48,
        "start_time": "2022-11-26T14:56:47.449Z"
      },
      {
        "duration": 34,
        "start_time": "2022-11-26T14:56:47.499Z"
      },
      {
        "duration": 24,
        "start_time": "2022-11-26T14:56:47.535Z"
      },
      {
        "duration": 20,
        "start_time": "2022-11-26T14:56:47.562Z"
      },
      {
        "duration": 25,
        "start_time": "2022-11-26T14:56:47.584Z"
      },
      {
        "duration": 25,
        "start_time": "2022-11-26T14:56:47.610Z"
      },
      {
        "duration": 6354,
        "start_time": "2022-11-26T14:56:47.638Z"
      },
      {
        "duration": 4,
        "start_time": "2022-11-26T14:56:53.995Z"
      },
      {
        "duration": 5672,
        "start_time": "2022-11-26T14:56:54.001Z"
      },
      {
        "duration": 9877,
        "start_time": "2022-11-26T14:56:59.676Z"
      },
      {
        "duration": 7,
        "start_time": "2022-11-26T14:57:09.555Z"
      },
      {
        "duration": 11,
        "start_time": "2022-11-26T14:57:09.650Z"
      },
      {
        "duration": 27,
        "start_time": "2022-11-26T14:57:09.668Z"
      },
      {
        "duration": 18,
        "start_time": "2022-11-26T14:57:09.697Z"
      },
      {
        "duration": 14,
        "start_time": "2022-11-26T14:57:09.718Z"
      },
      {
        "duration": 7,
        "start_time": "2022-11-26T14:57:09.735Z"
      },
      {
        "duration": 34,
        "start_time": "2022-11-26T14:57:09.745Z"
      },
      {
        "duration": 25,
        "start_time": "2022-11-26T14:57:09.782Z"
      },
      {
        "duration": 16,
        "start_time": "2022-11-26T14:57:09.809Z"
      },
      {
        "duration": 19,
        "start_time": "2022-11-26T14:57:09.827Z"
      },
      {
        "duration": 9,
        "start_time": "2022-11-26T14:57:55.170Z"
      },
      {
        "duration": 7,
        "start_time": "2022-11-26T14:57:55.186Z"
      },
      {
        "duration": 39,
        "start_time": "2022-11-26T14:57:55.195Z"
      },
      {
        "duration": 23,
        "start_time": "2022-11-26T14:57:55.235Z"
      },
      {
        "duration": 4,
        "start_time": "2022-11-26T14:57:55.263Z"
      },
      {
        "duration": 11,
        "start_time": "2022-11-26T14:57:55.268Z"
      },
      {
        "duration": 7,
        "start_time": "2022-11-26T14:57:55.281Z"
      },
      {
        "duration": 5250,
        "start_time": "2022-11-26T14:57:55.290Z"
      },
      {
        "duration": 14,
        "start_time": "2022-11-26T14:58:00.543Z"
      },
      {
        "duration": 2602,
        "start_time": "2022-11-26T14:58:00.565Z"
      },
      {
        "duration": 5599,
        "start_time": "2022-11-26T14:58:03.255Z"
      },
      {
        "duration": 3,
        "start_time": "2022-11-26T14:58:08.857Z"
      },
      {
        "duration": 13,
        "start_time": "2022-11-26T14:58:08.862Z"
      },
      {
        "duration": 4,
        "start_time": "2022-11-26T14:58:08.877Z"
      },
      {
        "duration": 7,
        "start_time": "2022-11-26T14:58:08.883Z"
      },
      {
        "duration": 5,
        "start_time": "2022-11-26T14:58:08.892Z"
      },
      {
        "duration": 6,
        "start_time": "2022-11-26T14:58:08.899Z"
      },
      {
        "duration": 10,
        "start_time": "2022-11-26T14:58:08.907Z"
      },
      {
        "duration": 13,
        "start_time": "2022-11-26T14:58:08.919Z"
      },
      {
        "duration": 3,
        "start_time": "2022-11-26T14:58:08.934Z"
      },
      {
        "duration": 4,
        "start_time": "2022-11-26T14:58:08.957Z"
      },
      {
        "duration": 8,
        "start_time": "2022-11-26T14:58:49.293Z"
      },
      {
        "duration": 11,
        "start_time": "2022-11-26T14:58:49.303Z"
      },
      {
        "duration": 34,
        "start_time": "2022-11-26T14:58:49.317Z"
      },
      {
        "duration": 21,
        "start_time": "2022-11-26T14:58:49.353Z"
      },
      {
        "duration": 5,
        "start_time": "2022-11-26T14:58:49.377Z"
      },
      {
        "duration": 5,
        "start_time": "2022-11-26T14:58:49.384Z"
      },
      {
        "duration": 8,
        "start_time": "2022-11-26T14:58:49.391Z"
      },
      {
        "duration": 3332,
        "start_time": "2022-11-26T14:58:49.400Z"
      },
      {
        "duration": 3,
        "start_time": "2022-11-26T14:58:52.734Z"
      },
      {
        "duration": 1621,
        "start_time": "2022-11-26T14:58:52.740Z"
      },
      {
        "duration": 4797,
        "start_time": "2022-11-26T14:58:54.363Z"
      },
      {
        "duration": 4,
        "start_time": "2022-11-26T14:58:59.165Z"
      },
      {
        "duration": 101,
        "start_time": "2022-11-26T14:58:59.174Z"
      },
      {
        "duration": 7,
        "start_time": "2022-11-26T14:58:59.279Z"
      },
      {
        "duration": 13,
        "start_time": "2022-11-26T14:58:59.288Z"
      },
      {
        "duration": 5,
        "start_time": "2022-11-26T14:58:59.303Z"
      },
      {
        "duration": 6,
        "start_time": "2022-11-26T14:58:59.310Z"
      },
      {
        "duration": 10,
        "start_time": "2022-11-26T14:58:59.317Z"
      },
      {
        "duration": 12,
        "start_time": "2022-11-26T14:58:59.329Z"
      },
      {
        "duration": 2,
        "start_time": "2022-11-26T14:58:59.343Z"
      },
      {
        "duration": 23,
        "start_time": "2022-11-26T14:58:59.347Z"
      },
      {
        "duration": 16,
        "start_time": "2022-11-26T14:59:59.755Z"
      },
      {
        "duration": 57,
        "start_time": "2022-11-26T14:59:59.774Z"
      },
      {
        "duration": 72,
        "start_time": "2022-11-26T14:59:59.833Z"
      },
      {
        "duration": 24,
        "start_time": "2022-11-26T14:59:59.908Z"
      },
      {
        "duration": 6,
        "start_time": "2022-11-26T14:59:59.934Z"
      },
      {
        "duration": 54,
        "start_time": "2022-11-26T14:59:59.942Z"
      },
      {
        "duration": 10,
        "start_time": "2022-11-26T14:59:59.998Z"
      },
      {
        "duration": 4296,
        "start_time": "2022-11-26T15:00:00.010Z"
      },
      {
        "duration": 4,
        "start_time": "2022-11-26T15:00:04.308Z"
      },
      {
        "duration": 2947,
        "start_time": "2022-11-26T15:00:04.315Z"
      },
      {
        "duration": 3110,
        "start_time": "2022-11-26T15:00:07.265Z"
      },
      {
        "duration": 81,
        "start_time": "2022-11-26T15:00:10.382Z"
      },
      {
        "duration": 25,
        "start_time": "2022-11-26T15:00:10.474Z"
      },
      {
        "duration": 51,
        "start_time": "2022-11-26T15:00:10.502Z"
      },
      {
        "duration": 6,
        "start_time": "2022-11-26T15:00:10.560Z"
      },
      {
        "duration": 13,
        "start_time": "2022-11-26T15:00:10.571Z"
      },
      {
        "duration": 6,
        "start_time": "2022-11-26T15:00:10.587Z"
      },
      {
        "duration": 25,
        "start_time": "2022-11-26T15:00:10.595Z"
      },
      {
        "duration": 28,
        "start_time": "2022-11-26T15:00:10.622Z"
      },
      {
        "duration": 11,
        "start_time": "2022-11-26T15:00:10.652Z"
      },
      {
        "duration": 25,
        "start_time": "2022-11-26T15:00:10.667Z"
      },
      {
        "duration": 7,
        "start_time": "2022-11-26T15:00:42.494Z"
      },
      {
        "duration": 23,
        "start_time": "2022-11-26T15:00:45.995Z"
      },
      {
        "duration": 6,
        "start_time": "2022-11-26T15:00:49.944Z"
      },
      {
        "duration": 5,
        "start_time": "2022-11-26T15:01:24.614Z"
      },
      {
        "duration": 16,
        "start_time": "2022-11-26T15:01:31.509Z"
      },
      {
        "duration": 5,
        "start_time": "2022-11-26T15:01:34.909Z"
      },
      {
        "duration": 13,
        "start_time": "2022-11-26T15:02:00.773Z"
      },
      {
        "duration": 4,
        "start_time": "2022-11-26T15:02:02.719Z"
      },
      {
        "duration": 9,
        "start_time": "2022-11-26T15:02:06.196Z"
      },
      {
        "duration": 32,
        "start_time": "2022-11-26T15:02:09.433Z"
      },
      {
        "duration": 24,
        "start_time": "2022-11-26T15:02:11.461Z"
      },
      {
        "duration": 4,
        "start_time": "2022-11-26T15:02:13.568Z"
      },
      {
        "duration": 7,
        "start_time": "2022-11-26T15:02:49.571Z"
      },
      {
        "duration": 6,
        "start_time": "2022-11-26T15:02:49.580Z"
      },
      {
        "duration": 37,
        "start_time": "2022-11-26T15:02:49.588Z"
      },
      {
        "duration": 33,
        "start_time": "2022-11-26T15:02:49.628Z"
      },
      {
        "duration": 7,
        "start_time": "2022-11-26T15:02:49.664Z"
      },
      {
        "duration": 15,
        "start_time": "2022-11-26T15:02:49.673Z"
      },
      {
        "duration": 12,
        "start_time": "2022-11-26T15:02:49.690Z"
      },
      {
        "duration": 6079,
        "start_time": "2022-11-26T15:02:49.704Z"
      },
      {
        "duration": 4,
        "start_time": "2022-11-26T15:02:55.784Z"
      },
      {
        "duration": 3876,
        "start_time": "2022-11-26T15:02:55.791Z"
      },
      {
        "duration": 7302,
        "start_time": "2022-11-26T15:02:59.669Z"
      },
      {
        "duration": 5,
        "start_time": "2022-11-26T15:03:07.051Z"
      },
      {
        "duration": 16,
        "start_time": "2022-11-26T15:03:07.058Z"
      },
      {
        "duration": 4,
        "start_time": "2022-11-26T15:03:07.076Z"
      },
      {
        "duration": 6,
        "start_time": "2022-11-26T15:03:07.082Z"
      },
      {
        "duration": 6,
        "start_time": "2022-11-26T15:03:07.089Z"
      },
      {
        "duration": 5,
        "start_time": "2022-11-26T15:03:07.096Z"
      },
      {
        "duration": 5,
        "start_time": "2022-11-26T15:03:07.103Z"
      },
      {
        "duration": 13,
        "start_time": "2022-11-26T15:03:07.109Z"
      },
      {
        "duration": 3,
        "start_time": "2022-11-26T15:03:07.123Z"
      },
      {
        "duration": 6,
        "start_time": "2022-11-26T15:03:07.127Z"
      },
      {
        "duration": 7,
        "start_time": "2022-11-26T15:03:37.664Z"
      },
      {
        "duration": 13,
        "start_time": "2022-11-26T15:03:37.673Z"
      },
      {
        "duration": 29,
        "start_time": "2022-11-26T15:03:37.687Z"
      },
      {
        "duration": 17,
        "start_time": "2022-11-26T15:03:37.719Z"
      },
      {
        "duration": 16,
        "start_time": "2022-11-26T15:03:37.738Z"
      },
      {
        "duration": 5,
        "start_time": "2022-11-26T15:03:37.765Z"
      },
      {
        "duration": 8,
        "start_time": "2022-11-26T15:03:37.772Z"
      },
      {
        "duration": 5670,
        "start_time": "2022-11-26T15:03:37.781Z"
      },
      {
        "duration": 3,
        "start_time": "2022-11-26T15:03:43.452Z"
      },
      {
        "duration": 2707,
        "start_time": "2022-11-26T15:03:43.458Z"
      },
      {
        "duration": 7187,
        "start_time": "2022-11-26T15:03:46.167Z"
      },
      {
        "duration": 5,
        "start_time": "2022-11-26T15:03:53.359Z"
      },
      {
        "duration": 10,
        "start_time": "2022-11-26T15:03:53.369Z"
      },
      {
        "duration": 6,
        "start_time": "2022-11-26T15:03:53.381Z"
      },
      {
        "duration": 9,
        "start_time": "2022-11-26T15:03:53.388Z"
      },
      {
        "duration": 5,
        "start_time": "2022-11-26T15:03:53.399Z"
      },
      {
        "duration": 50,
        "start_time": "2022-11-26T15:03:53.406Z"
      },
      {
        "duration": 17,
        "start_time": "2022-11-26T15:03:53.458Z"
      },
      {
        "duration": 16,
        "start_time": "2022-11-26T15:03:53.477Z"
      },
      {
        "duration": 2,
        "start_time": "2022-11-26T15:03:53.495Z"
      },
      {
        "duration": 5,
        "start_time": "2022-11-26T15:03:53.499Z"
      },
      {
        "duration": 9845,
        "start_time": "2022-11-26T15:04:28.907Z"
      },
      {
        "duration": 10,
        "start_time": "2022-11-26T15:04:44.982Z"
      },
      {
        "duration": 4373,
        "start_time": "2022-11-26T15:04:53.592Z"
      },
      {
        "duration": 23086,
        "start_time": "2022-11-26T15:05:05.466Z"
      },
      {
        "duration": 10,
        "start_time": "2022-11-26T15:05:42.494Z"
      },
      {
        "duration": 6,
        "start_time": "2022-11-26T15:06:28.687Z"
      },
      {
        "duration": 8,
        "start_time": "2022-11-26T15:06:28.696Z"
      },
      {
        "duration": 26,
        "start_time": "2022-11-26T15:06:28.706Z"
      },
      {
        "duration": 24,
        "start_time": "2022-11-26T15:06:28.734Z"
      },
      {
        "duration": 6,
        "start_time": "2022-11-26T15:06:28.764Z"
      },
      {
        "duration": 8,
        "start_time": "2022-11-26T15:06:28.772Z"
      },
      {
        "duration": 7,
        "start_time": "2022-11-26T15:06:28.782Z"
      },
      {
        "duration": 2279,
        "start_time": "2022-11-26T15:06:28.790Z"
      },
      {
        "duration": 3,
        "start_time": "2022-11-26T15:06:31.071Z"
      },
      {
        "duration": 3982,
        "start_time": "2022-11-26T15:06:31.077Z"
      },
      {
        "duration": 7300,
        "start_time": "2022-11-26T15:06:35.061Z"
      },
      {
        "duration": 5,
        "start_time": "2022-11-26T15:06:42.363Z"
      },
      {
        "duration": 13,
        "start_time": "2022-11-26T15:06:42.370Z"
      },
      {
        "duration": 6,
        "start_time": "2022-11-26T15:06:42.385Z"
      },
      {
        "duration": 5,
        "start_time": "2022-11-26T15:06:42.393Z"
      },
      {
        "duration": 6,
        "start_time": "2022-11-26T15:06:42.400Z"
      },
      {
        "duration": 14,
        "start_time": "2022-11-26T15:06:42.409Z"
      },
      {
        "duration": 7,
        "start_time": "2022-11-26T15:06:42.426Z"
      },
      {
        "duration": 27,
        "start_time": "2022-11-26T15:06:42.434Z"
      },
      {
        "duration": 3,
        "start_time": "2022-11-26T15:06:42.472Z"
      },
      {
        "duration": 6,
        "start_time": "2022-11-26T15:06:42.477Z"
      },
      {
        "duration": 8,
        "start_time": "2022-11-26T15:08:08.484Z"
      },
      {
        "duration": 8,
        "start_time": "2022-11-26T15:08:08.495Z"
      },
      {
        "duration": 27,
        "start_time": "2022-11-26T15:08:08.505Z"
      },
      {
        "duration": 28,
        "start_time": "2022-11-26T15:08:08.535Z"
      },
      {
        "duration": 6,
        "start_time": "2022-11-26T15:08:08.569Z"
      },
      {
        "duration": 7,
        "start_time": "2022-11-26T15:08:08.577Z"
      },
      {
        "duration": 7,
        "start_time": "2022-11-26T15:08:08.586Z"
      },
      {
        "duration": 1878,
        "start_time": "2022-11-26T15:08:08.595Z"
      },
      {
        "duration": 3,
        "start_time": "2022-11-26T15:08:10.475Z"
      },
      {
        "duration": 166,
        "start_time": "2022-11-26T15:08:10.481Z"
      },
      {
        "duration": 310,
        "start_time": "2022-11-26T15:08:10.656Z"
      },
      {
        "duration": 5,
        "start_time": "2022-11-26T15:08:10.967Z"
      },
      {
        "duration": 12,
        "start_time": "2022-11-26T15:08:10.974Z"
      },
      {
        "duration": 7,
        "start_time": "2022-11-26T15:08:10.988Z"
      },
      {
        "duration": 9,
        "start_time": "2022-11-26T15:08:10.997Z"
      },
      {
        "duration": 6,
        "start_time": "2022-11-26T15:08:11.008Z"
      },
      {
        "duration": 6,
        "start_time": "2022-11-26T15:08:11.015Z"
      },
      {
        "duration": 6,
        "start_time": "2022-11-26T15:08:11.022Z"
      },
      {
        "duration": 13,
        "start_time": "2022-11-26T15:08:11.029Z"
      },
      {
        "duration": 10,
        "start_time": "2022-11-26T15:08:11.044Z"
      },
      {
        "duration": 9,
        "start_time": "2022-11-26T15:08:11.061Z"
      },
      {
        "duration": 10,
        "start_time": "2022-11-26T15:08:54.711Z"
      },
      {
        "duration": 8,
        "start_time": "2022-11-26T15:08:54.723Z"
      },
      {
        "duration": 40,
        "start_time": "2022-11-26T15:08:54.733Z"
      },
      {
        "duration": 21,
        "start_time": "2022-11-26T15:08:54.775Z"
      },
      {
        "duration": 6,
        "start_time": "2022-11-26T15:08:54.798Z"
      },
      {
        "duration": 10,
        "start_time": "2022-11-26T15:08:54.806Z"
      },
      {
        "duration": 7,
        "start_time": "2022-11-26T15:08:54.818Z"
      },
      {
        "duration": 2061,
        "start_time": "2022-11-26T15:08:54.826Z"
      },
      {
        "duration": 3,
        "start_time": "2022-11-26T15:08:56.889Z"
      },
      {
        "duration": 3459,
        "start_time": "2022-11-26T15:08:56.895Z"
      },
      {
        "duration": 7124,
        "start_time": "2022-11-26T15:09:00.357Z"
      },
      {
        "duration": 8,
        "start_time": "2022-11-26T15:09:07.557Z"
      },
      {
        "duration": 15,
        "start_time": "2022-11-26T15:09:07.568Z"
      },
      {
        "duration": 5,
        "start_time": "2022-11-26T15:09:07.586Z"
      },
      {
        "duration": 6,
        "start_time": "2022-11-26T15:09:07.593Z"
      },
      {
        "duration": 7,
        "start_time": "2022-11-26T15:09:07.601Z"
      },
      {
        "duration": 9,
        "start_time": "2022-11-26T15:09:07.610Z"
      },
      {
        "duration": 8,
        "start_time": "2022-11-26T15:09:07.620Z"
      },
      {
        "duration": 18,
        "start_time": "2022-11-26T15:09:07.630Z"
      },
      {
        "duration": 11,
        "start_time": "2022-11-26T15:09:07.650Z"
      },
      {
        "duration": 13,
        "start_time": "2022-11-26T15:09:07.664Z"
      },
      {
        "duration": 7,
        "start_time": "2022-11-26T15:09:56.069Z"
      },
      {
        "duration": 7,
        "start_time": "2022-11-26T15:09:56.078Z"
      },
      {
        "duration": 29,
        "start_time": "2022-11-26T15:09:56.087Z"
      },
      {
        "duration": 35,
        "start_time": "2022-11-26T15:09:56.119Z"
      },
      {
        "duration": 2,
        "start_time": "2022-11-26T15:09:56.157Z"
      },
      {
        "duration": 18,
        "start_time": "2022-11-26T15:09:56.161Z"
      },
      {
        "duration": 7,
        "start_time": "2022-11-26T15:09:56.182Z"
      },
      {
        "duration": 1888,
        "start_time": "2022-11-26T15:09:56.191Z"
      },
      {
        "duration": 3,
        "start_time": "2022-11-26T15:09:58.082Z"
      },
      {
        "duration": 4770,
        "start_time": "2022-11-26T15:09:58.086Z"
      },
      {
        "duration": 7612,
        "start_time": "2022-11-26T15:10:02.858Z"
      },
      {
        "duration": 6,
        "start_time": "2022-11-26T15:10:10.550Z"
      },
      {
        "duration": 26,
        "start_time": "2022-11-26T15:10:10.559Z"
      },
      {
        "duration": 20,
        "start_time": "2022-11-26T15:10:10.587Z"
      },
      {
        "duration": 15,
        "start_time": "2022-11-26T15:10:10.610Z"
      },
      {
        "duration": 31,
        "start_time": "2022-11-26T15:10:10.627Z"
      },
      {
        "duration": 23,
        "start_time": "2022-11-26T15:10:10.660Z"
      },
      {
        "duration": 28,
        "start_time": "2022-11-26T15:10:10.685Z"
      },
      {
        "duration": 20,
        "start_time": "2022-11-26T15:10:10.715Z"
      },
      {
        "duration": 29,
        "start_time": "2022-11-26T15:10:10.737Z"
      },
      {
        "duration": 13,
        "start_time": "2022-11-26T15:10:10.768Z"
      },
      {
        "duration": 10,
        "start_time": "2022-11-26T15:11:54.773Z"
      },
      {
        "duration": 7,
        "start_time": "2022-11-26T15:11:54.786Z"
      },
      {
        "duration": 38,
        "start_time": "2022-11-26T15:11:54.795Z"
      },
      {
        "duration": 32,
        "start_time": "2022-11-26T15:11:54.836Z"
      },
      {
        "duration": 4,
        "start_time": "2022-11-26T15:11:54.870Z"
      },
      {
        "duration": 9,
        "start_time": "2022-11-26T15:11:54.876Z"
      },
      {
        "duration": 6,
        "start_time": "2022-11-26T15:11:54.887Z"
      },
      {
        "duration": 1918,
        "start_time": "2022-11-26T15:11:54.894Z"
      },
      {
        "duration": 3,
        "start_time": "2022-11-26T15:11:56.814Z"
      },
      {
        "duration": 7240,
        "start_time": "2022-11-26T15:11:56.820Z"
      },
      {
        "duration": 14001,
        "start_time": "2022-11-26T15:12:04.062Z"
      },
      {
        "duration": 6,
        "start_time": "2022-11-26T15:12:18.065Z"
      },
      {
        "duration": 98,
        "start_time": "2022-11-26T15:12:18.075Z"
      },
      {
        "duration": 9,
        "start_time": "2022-11-26T15:12:18.175Z"
      },
      {
        "duration": 8,
        "start_time": "2022-11-26T15:12:18.185Z"
      },
      {
        "duration": 9,
        "start_time": "2022-11-26T15:12:18.195Z"
      },
      {
        "duration": 11,
        "start_time": "2022-11-26T15:12:18.206Z"
      },
      {
        "duration": 13,
        "start_time": "2022-11-26T15:12:18.219Z"
      },
      {
        "duration": 13,
        "start_time": "2022-11-26T15:12:18.235Z"
      },
      {
        "duration": 4,
        "start_time": "2022-11-26T15:12:18.250Z"
      },
      {
        "duration": 20,
        "start_time": "2022-11-26T15:12:18.255Z"
      },
      {
        "duration": 3,
        "start_time": "2022-11-26T15:12:41.177Z"
      },
      {
        "duration": 6172,
        "start_time": "2022-11-26T15:12:41.182Z"
      },
      {
        "duration": 15786,
        "start_time": "2022-11-26T15:12:47.366Z"
      },
      {
        "duration": 2,
        "start_time": "2022-11-26T15:13:03.154Z"
      },
      {
        "duration": 112,
        "start_time": "2022-11-26T15:13:03.158Z"
      },
      {
        "duration": 5,
        "start_time": "2022-11-26T15:13:03.272Z"
      },
      {
        "duration": 5,
        "start_time": "2022-11-26T15:13:03.279Z"
      },
      {
        "duration": 7,
        "start_time": "2022-11-26T15:13:03.286Z"
      },
      {
        "duration": 6,
        "start_time": "2022-11-26T15:13:03.295Z"
      },
      {
        "duration": 7,
        "start_time": "2022-11-26T15:13:03.303Z"
      },
      {
        "duration": 20,
        "start_time": "2022-11-26T15:13:03.312Z"
      },
      {
        "duration": 4,
        "start_time": "2022-11-26T15:13:03.334Z"
      },
      {
        "duration": 8,
        "start_time": "2022-11-26T15:13:03.340Z"
      },
      {
        "duration": 3,
        "start_time": "2022-11-26T15:13:29.698Z"
      },
      {
        "duration": 8461,
        "start_time": "2022-11-26T15:13:29.703Z"
      },
      {
        "duration": 17793,
        "start_time": "2022-11-26T15:13:38.167Z"
      },
      {
        "duration": 3,
        "start_time": "2022-11-26T15:13:55.962Z"
      },
      {
        "duration": 102,
        "start_time": "2022-11-26T15:13:55.967Z"
      },
      {
        "duration": 5,
        "start_time": "2022-11-26T15:13:56.072Z"
      },
      {
        "duration": 5,
        "start_time": "2022-11-26T15:13:56.079Z"
      },
      {
        "duration": 6,
        "start_time": "2022-11-26T15:13:56.085Z"
      },
      {
        "duration": 7,
        "start_time": "2022-11-26T15:13:56.092Z"
      },
      {
        "duration": 7,
        "start_time": "2022-11-26T15:13:56.101Z"
      },
      {
        "duration": 16,
        "start_time": "2022-11-26T15:13:56.111Z"
      },
      {
        "duration": 2,
        "start_time": "2022-11-26T15:13:56.129Z"
      },
      {
        "duration": 4,
        "start_time": "2022-11-26T15:13:56.133Z"
      },
      {
        "duration": 8,
        "start_time": "2022-11-26T15:15:04.379Z"
      },
      {
        "duration": 7,
        "start_time": "2022-11-26T15:15:04.389Z"
      },
      {
        "duration": 32,
        "start_time": "2022-11-26T15:15:04.398Z"
      },
      {
        "duration": 32,
        "start_time": "2022-11-26T15:15:04.433Z"
      },
      {
        "duration": 7,
        "start_time": "2022-11-26T15:15:04.468Z"
      },
      {
        "duration": 15,
        "start_time": "2022-11-26T15:15:04.476Z"
      },
      {
        "duration": 33,
        "start_time": "2022-11-26T15:15:04.494Z"
      },
      {
        "duration": 1814,
        "start_time": "2022-11-26T15:15:04.529Z"
      },
      {
        "duration": 7,
        "start_time": "2022-11-26T15:15:06.344Z"
      },
      {
        "duration": 8802,
        "start_time": "2022-11-26T15:15:06.365Z"
      },
      {
        "duration": 20094,
        "start_time": "2022-11-26T15:15:15.169Z"
      },
      {
        "duration": 8,
        "start_time": "2022-11-26T15:15:35.265Z"
      },
      {
        "duration": 16,
        "start_time": "2022-11-26T15:15:35.275Z"
      },
      {
        "duration": 10,
        "start_time": "2022-11-26T15:15:35.292Z"
      },
      {
        "duration": 8,
        "start_time": "2022-11-26T15:15:35.304Z"
      },
      {
        "duration": 6,
        "start_time": "2022-11-26T15:15:35.313Z"
      },
      {
        "duration": 5,
        "start_time": "2022-11-26T15:15:35.320Z"
      },
      {
        "duration": 6,
        "start_time": "2022-11-26T15:15:35.327Z"
      },
      {
        "duration": 21,
        "start_time": "2022-11-26T15:15:35.334Z"
      },
      {
        "duration": 7,
        "start_time": "2022-11-26T15:15:35.360Z"
      },
      {
        "duration": 9,
        "start_time": "2022-11-26T15:15:35.369Z"
      },
      {
        "duration": 7,
        "start_time": "2022-11-26T15:16:00.790Z"
      },
      {
        "duration": 30,
        "start_time": "2022-11-26T15:16:00.800Z"
      },
      {
        "duration": 36,
        "start_time": "2022-11-26T15:16:00.832Z"
      },
      {
        "duration": 31,
        "start_time": "2022-11-26T15:16:00.870Z"
      },
      {
        "duration": 5,
        "start_time": "2022-11-26T15:16:00.903Z"
      },
      {
        "duration": 8,
        "start_time": "2022-11-26T15:16:00.909Z"
      },
      {
        "duration": 10,
        "start_time": "2022-11-26T15:16:00.918Z"
      },
      {
        "duration": 1987,
        "start_time": "2022-11-26T15:16:00.930Z"
      },
      {
        "duration": 3,
        "start_time": "2022-11-26T15:16:02.919Z"
      },
      {
        "duration": 7925,
        "start_time": "2022-11-26T15:16:02.925Z"
      },
      {
        "duration": 20708,
        "start_time": "2022-11-26T15:16:10.852Z"
      },
      {
        "duration": 3,
        "start_time": "2022-11-26T15:16:31.562Z"
      },
      {
        "duration": 115,
        "start_time": "2022-11-26T15:16:31.567Z"
      },
      {
        "duration": 10,
        "start_time": "2022-11-26T15:16:31.684Z"
      },
      {
        "duration": 7,
        "start_time": "2022-11-26T15:16:31.696Z"
      },
      {
        "duration": 10,
        "start_time": "2022-11-26T15:16:31.704Z"
      },
      {
        "duration": 5,
        "start_time": "2022-11-26T15:16:31.715Z"
      },
      {
        "duration": 6,
        "start_time": "2022-11-26T15:16:31.722Z"
      },
      {
        "duration": 14,
        "start_time": "2022-11-26T15:16:31.730Z"
      },
      {
        "duration": 23,
        "start_time": "2022-11-26T15:16:31.746Z"
      },
      {
        "duration": 6,
        "start_time": "2022-11-26T15:16:31.771Z"
      },
      {
        "duration": 3,
        "start_time": "2022-11-26T15:16:53.302Z"
      },
      {
        "duration": 7655,
        "start_time": "2022-11-26T15:16:53.309Z"
      },
      {
        "duration": 20694,
        "start_time": "2022-11-26T15:17:00.967Z"
      },
      {
        "duration": 6,
        "start_time": "2022-11-26T15:17:21.667Z"
      },
      {
        "duration": 25,
        "start_time": "2022-11-26T15:17:21.754Z"
      },
      {
        "duration": 7,
        "start_time": "2022-11-26T15:17:21.781Z"
      },
      {
        "duration": 8,
        "start_time": "2022-11-26T15:17:21.790Z"
      },
      {
        "duration": 6,
        "start_time": "2022-11-26T15:17:21.800Z"
      },
      {
        "duration": 5,
        "start_time": "2022-11-26T15:17:21.808Z"
      },
      {
        "duration": 22,
        "start_time": "2022-11-26T15:17:21.814Z"
      },
      {
        "duration": 22,
        "start_time": "2022-11-26T15:17:21.839Z"
      },
      {
        "duration": 7,
        "start_time": "2022-11-26T15:17:21.862Z"
      },
      {
        "duration": 8,
        "start_time": "2022-11-26T15:17:21.871Z"
      },
      {
        "duration": 4,
        "start_time": "2022-11-26T15:17:45.845Z"
      },
      {
        "duration": 9810,
        "start_time": "2022-11-26T15:17:45.851Z"
      },
      {
        "duration": 23697,
        "start_time": "2022-11-26T15:17:55.673Z"
      },
      {
        "duration": 4,
        "start_time": "2022-11-26T15:18:19.450Z"
      },
      {
        "duration": 21,
        "start_time": "2022-11-26T15:18:19.466Z"
      },
      {
        "duration": 4,
        "start_time": "2022-11-26T15:18:19.489Z"
      },
      {
        "duration": 4,
        "start_time": "2022-11-26T15:18:19.495Z"
      },
      {
        "duration": 10,
        "start_time": "2022-11-26T15:18:19.501Z"
      },
      {
        "duration": 5,
        "start_time": "2022-11-26T15:18:19.513Z"
      },
      {
        "duration": 11,
        "start_time": "2022-11-26T15:18:19.519Z"
      },
      {
        "duration": 23,
        "start_time": "2022-11-26T15:18:19.533Z"
      },
      {
        "duration": 27,
        "start_time": "2022-11-26T15:18:19.558Z"
      },
      {
        "duration": 8,
        "start_time": "2022-11-26T15:18:19.588Z"
      },
      {
        "duration": 4,
        "start_time": "2022-11-26T15:18:40.534Z"
      },
      {
        "duration": 7920,
        "start_time": "2022-11-26T15:18:40.541Z"
      },
      {
        "duration": 22103,
        "start_time": "2022-11-26T15:18:48.464Z"
      },
      {
        "duration": 4,
        "start_time": "2022-11-26T15:19:10.571Z"
      },
      {
        "duration": 8,
        "start_time": "2022-11-26T15:19:10.577Z"
      },
      {
        "duration": 10,
        "start_time": "2022-11-26T15:19:10.587Z"
      },
      {
        "duration": 11,
        "start_time": "2022-11-26T15:19:10.599Z"
      },
      {
        "duration": 13,
        "start_time": "2022-11-26T15:19:10.659Z"
      },
      {
        "duration": 17,
        "start_time": "2022-11-26T15:19:10.674Z"
      },
      {
        "duration": 16,
        "start_time": "2022-11-26T15:19:10.693Z"
      },
      {
        "duration": 43,
        "start_time": "2022-11-26T15:19:10.711Z"
      },
      {
        "duration": 5,
        "start_time": "2022-11-26T15:19:10.756Z"
      },
      {
        "duration": 11,
        "start_time": "2022-11-26T15:19:10.763Z"
      },
      {
        "duration": 3,
        "start_time": "2022-11-26T15:19:25.512Z"
      },
      {
        "duration": 8960,
        "start_time": "2022-11-26T15:19:25.517Z"
      },
      {
        "duration": 21597,
        "start_time": "2022-11-26T15:19:34.555Z"
      },
      {
        "duration": 3,
        "start_time": "2022-11-26T15:19:56.156Z"
      },
      {
        "duration": 41,
        "start_time": "2022-11-26T15:19:56.162Z"
      },
      {
        "duration": 13,
        "start_time": "2022-11-26T15:19:56.208Z"
      },
      {
        "duration": 9,
        "start_time": "2022-11-26T15:19:56.223Z"
      },
      {
        "duration": 20,
        "start_time": "2022-11-26T15:19:56.234Z"
      },
      {
        "duration": 26,
        "start_time": "2022-11-26T15:19:56.257Z"
      },
      {
        "duration": 6,
        "start_time": "2022-11-26T15:19:56.285Z"
      },
      {
        "duration": 14,
        "start_time": "2022-11-26T15:19:56.294Z"
      },
      {
        "duration": 11,
        "start_time": "2022-11-26T15:19:56.310Z"
      },
      {
        "duration": 16,
        "start_time": "2022-11-26T15:19:56.323Z"
      },
      {
        "duration": 3,
        "start_time": "2022-11-26T15:20:36.341Z"
      },
      {
        "duration": 28709,
        "start_time": "2022-11-26T15:20:36.346Z"
      },
      {
        "duration": 72603,
        "start_time": "2022-11-26T15:21:05.057Z"
      },
      {
        "duration": 4,
        "start_time": "2022-11-26T15:22:17.663Z"
      },
      {
        "duration": 10,
        "start_time": "2022-11-26T15:22:17.670Z"
      },
      {
        "duration": 8,
        "start_time": "2022-11-26T15:22:17.682Z"
      },
      {
        "duration": 6,
        "start_time": "2022-11-26T15:22:17.751Z"
      },
      {
        "duration": 15,
        "start_time": "2022-11-26T15:22:17.758Z"
      },
      {
        "duration": 8,
        "start_time": "2022-11-26T15:22:17.775Z"
      },
      {
        "duration": 5,
        "start_time": "2022-11-26T15:22:17.785Z"
      },
      {
        "duration": 11,
        "start_time": "2022-11-26T15:22:17.793Z"
      },
      {
        "duration": 3,
        "start_time": "2022-11-26T15:22:17.806Z"
      },
      {
        "duration": 4,
        "start_time": "2022-11-26T15:22:17.811Z"
      },
      {
        "duration": 3,
        "start_time": "2022-11-26T15:25:04.487Z"
      },
      {
        "duration": 92,
        "start_time": "2022-11-26T15:25:07.024Z"
      },
      {
        "duration": 3,
        "start_time": "2022-11-26T15:25:21.579Z"
      },
      {
        "duration": 34332,
        "start_time": "2022-11-26T15:25:24.243Z"
      },
      {
        "duration": 82278,
        "start_time": "2022-11-26T15:26:13.489Z"
      },
      {
        "duration": 9,
        "start_time": "2022-11-26T15:28:50.269Z"
      },
      {
        "duration": 4,
        "start_time": "2022-11-26T15:29:05.046Z"
      },
      {
        "duration": 32503,
        "start_time": "2022-11-26T15:29:05.056Z"
      },
      {
        "duration": 69689,
        "start_time": "2022-11-26T15:29:37.567Z"
      },
      {
        "duration": 3,
        "start_time": "2022-11-26T15:30:47.265Z"
      },
      {
        "duration": 8,
        "start_time": "2022-11-26T15:30:47.269Z"
      },
      {
        "duration": 4,
        "start_time": "2022-11-26T15:30:47.280Z"
      },
      {
        "duration": 6,
        "start_time": "2022-11-26T15:30:47.286Z"
      },
      {
        "duration": 69,
        "start_time": "2022-11-26T15:30:47.294Z"
      },
      {
        "duration": 7,
        "start_time": "2022-11-26T15:30:47.366Z"
      },
      {
        "duration": 6,
        "start_time": "2022-11-26T15:30:47.375Z"
      },
      {
        "duration": 13,
        "start_time": "2022-11-26T15:30:47.383Z"
      },
      {
        "duration": 3,
        "start_time": "2022-11-26T15:30:47.398Z"
      },
      {
        "duration": 9,
        "start_time": "2022-11-26T15:30:47.402Z"
      },
      {
        "duration": 7,
        "start_time": "2022-11-26T15:31:15.990Z"
      },
      {
        "duration": 7,
        "start_time": "2022-11-26T15:31:16.000Z"
      },
      {
        "duration": 35,
        "start_time": "2022-11-26T15:31:16.009Z"
      },
      {
        "duration": 19,
        "start_time": "2022-11-26T15:31:16.047Z"
      },
      {
        "duration": 6,
        "start_time": "2022-11-26T15:31:16.068Z"
      },
      {
        "duration": 9,
        "start_time": "2022-11-26T15:31:16.075Z"
      },
      {
        "duration": 9,
        "start_time": "2022-11-26T15:31:16.085Z"
      },
      {
        "duration": 1945,
        "start_time": "2022-11-26T15:31:16.095Z"
      },
      {
        "duration": 3,
        "start_time": "2022-11-26T15:31:18.041Z"
      },
      {
        "duration": 31108,
        "start_time": "2022-11-26T15:31:18.050Z"
      },
      {
        "duration": 86800,
        "start_time": "2022-11-26T15:31:49.160Z"
      },
      {
        "duration": 3,
        "start_time": "2022-11-26T15:33:15.963Z"
      },
      {
        "duration": 85,
        "start_time": "2022-11-26T15:33:15.968Z"
      },
      {
        "duration": 18,
        "start_time": "2022-11-26T15:33:16.056Z"
      },
      {
        "duration": 5,
        "start_time": "2022-11-26T15:33:16.076Z"
      },
      {
        "duration": 5,
        "start_time": "2022-11-26T15:33:16.083Z"
      },
      {
        "duration": 7,
        "start_time": "2022-11-26T15:33:16.089Z"
      },
      {
        "duration": 9,
        "start_time": "2022-11-26T15:33:16.097Z"
      },
      {
        "duration": 52,
        "start_time": "2022-11-26T15:33:16.107Z"
      },
      {
        "duration": 24,
        "start_time": "2022-11-26T15:33:16.161Z"
      },
      {
        "duration": 8,
        "start_time": "2022-11-26T15:33:16.188Z"
      },
      {
        "duration": 2051,
        "start_time": "2022-11-26T15:33:58.626Z"
      },
      {
        "duration": 2010,
        "start_time": "2022-11-26T15:34:32.235Z"
      },
      {
        "duration": 10,
        "start_time": "2022-11-26T15:34:34.255Z"
      },
      {
        "duration": 20608,
        "start_time": "2022-11-26T15:34:34.267Z"
      },
      {
        "duration": 45513,
        "start_time": "2022-11-26T15:34:54.958Z"
      },
      {
        "duration": 3,
        "start_time": "2022-11-26T15:35:40.473Z"
      },
      {
        "duration": 81,
        "start_time": "2022-11-26T15:35:40.478Z"
      },
      {
        "duration": 39,
        "start_time": "2022-11-26T15:35:40.561Z"
      },
      {
        "duration": 31,
        "start_time": "2022-11-26T15:35:40.602Z"
      },
      {
        "duration": 50,
        "start_time": "2022-11-26T15:35:40.635Z"
      },
      {
        "duration": 19,
        "start_time": "2022-11-26T15:35:40.688Z"
      },
      {
        "duration": 34,
        "start_time": "2022-11-26T15:35:40.709Z"
      },
      {
        "duration": 45,
        "start_time": "2022-11-26T15:35:40.744Z"
      },
      {
        "duration": 29,
        "start_time": "2022-11-26T15:35:40.791Z"
      },
      {
        "duration": 17,
        "start_time": "2022-11-26T15:35:40.822Z"
      },
      {
        "duration": 2486,
        "start_time": "2022-11-26T15:37:20.236Z"
      },
      {
        "duration": 3,
        "start_time": "2022-11-26T15:37:43.325Z"
      },
      {
        "duration": 31241,
        "start_time": "2022-11-26T15:37:43.330Z"
      },
      {
        "duration": 82908,
        "start_time": "2022-11-26T15:38:14.573Z"
      },
      {
        "duration": 7,
        "start_time": "2022-11-26T15:39:37.555Z"
      },
      {
        "duration": 21,
        "start_time": "2022-11-26T15:39:37.565Z"
      },
      {
        "duration": 5,
        "start_time": "2022-11-26T15:39:37.589Z"
      },
      {
        "duration": 53,
        "start_time": "2022-11-26T15:39:37.597Z"
      },
      {
        "duration": 26,
        "start_time": "2022-11-26T15:39:37.653Z"
      },
      {
        "duration": 6,
        "start_time": "2022-11-26T15:39:37.681Z"
      },
      {
        "duration": 5,
        "start_time": "2022-11-26T15:39:37.689Z"
      },
      {
        "duration": 57,
        "start_time": "2022-11-26T15:39:37.696Z"
      },
      {
        "duration": 3,
        "start_time": "2022-11-26T15:39:37.755Z"
      },
      {
        "duration": 29,
        "start_time": "2022-11-26T15:39:37.760Z"
      },
      {
        "duration": 9,
        "start_time": "2022-11-26T15:45:09.723Z"
      },
      {
        "duration": 20,
        "start_time": "2022-11-26T15:45:09.736Z"
      },
      {
        "duration": 69,
        "start_time": "2022-11-26T15:45:09.758Z"
      },
      {
        "duration": 23,
        "start_time": "2022-11-26T15:45:09.830Z"
      },
      {
        "duration": 44,
        "start_time": "2022-11-26T15:45:09.856Z"
      },
      {
        "duration": 25,
        "start_time": "2022-11-26T15:45:09.903Z"
      },
      {
        "duration": 31,
        "start_time": "2022-11-26T15:45:09.932Z"
      },
      {
        "duration": 2073,
        "start_time": "2022-11-26T15:45:09.965Z"
      },
      {
        "duration": 3,
        "start_time": "2022-11-26T15:45:12.040Z"
      },
      {
        "duration": 23509,
        "start_time": "2022-11-26T15:45:12.054Z"
      },
      {
        "duration": 56294,
        "start_time": "2022-11-26T15:45:35.565Z"
      },
      {
        "duration": 6,
        "start_time": "2022-11-26T15:46:31.860Z"
      },
      {
        "duration": 20,
        "start_time": "2022-11-26T15:46:31.869Z"
      },
      {
        "duration": 12,
        "start_time": "2022-11-26T15:46:31.891Z"
      },
      {
        "duration": 64,
        "start_time": "2022-11-26T15:46:31.905Z"
      },
      {
        "duration": 18,
        "start_time": "2022-11-26T15:46:31.971Z"
      },
      {
        "duration": 21,
        "start_time": "2022-11-26T15:46:31.991Z"
      },
      {
        "duration": 20,
        "start_time": "2022-11-26T15:46:32.014Z"
      },
      {
        "duration": 22,
        "start_time": "2022-11-26T15:46:32.036Z"
      },
      {
        "duration": 8,
        "start_time": "2022-11-26T15:46:32.065Z"
      },
      {
        "duration": 17,
        "start_time": "2022-11-26T15:46:32.075Z"
      },
      {
        "duration": 3,
        "start_time": "2022-11-26T15:49:15.479Z"
      },
      {
        "duration": 122,
        "start_time": "2022-11-26T15:49:15.486Z"
      },
      {
        "duration": 25,
        "start_time": "2022-11-26T15:49:15.610Z"
      },
      {
        "duration": 2,
        "start_time": "2022-11-26T15:49:15.637Z"
      },
      {
        "duration": 11,
        "start_time": "2022-11-26T15:49:15.641Z"
      },
      {
        "duration": 4,
        "start_time": "2022-11-26T15:49:15.665Z"
      },
      {
        "duration": 7,
        "start_time": "2022-11-26T15:49:15.670Z"
      },
      {
        "duration": 8,
        "start_time": "2022-11-26T15:49:15.679Z"
      },
      {
        "duration": 4,
        "start_time": "2022-11-26T15:49:15.689Z"
      },
      {
        "duration": 6,
        "start_time": "2022-11-26T15:49:15.695Z"
      },
      {
        "duration": 19,
        "start_time": "2022-11-26T15:49:15.704Z"
      },
      {
        "duration": 0,
        "start_time": "2022-11-26T15:49:15.725Z"
      },
      {
        "duration": 0,
        "start_time": "2022-11-26T15:49:15.727Z"
      },
      {
        "duration": 13,
        "start_time": "2022-11-26T15:50:01.750Z"
      },
      {
        "duration": 8189,
        "start_time": "2022-11-26T15:50:01.765Z"
      },
      {
        "duration": 18205,
        "start_time": "2022-11-26T15:50:09.958Z"
      },
      {
        "duration": 3,
        "start_time": "2022-11-26T15:50:28.166Z"
      },
      {
        "duration": 33,
        "start_time": "2022-11-26T15:50:28.171Z"
      },
      {
        "duration": 6,
        "start_time": "2022-11-26T15:50:28.206Z"
      },
      {
        "duration": 8,
        "start_time": "2022-11-26T15:50:28.214Z"
      },
      {
        "duration": 43,
        "start_time": "2022-11-26T15:50:28.223Z"
      },
      {
        "duration": 6,
        "start_time": "2022-11-26T15:50:28.269Z"
      },
      {
        "duration": 6,
        "start_time": "2022-11-26T15:50:28.277Z"
      },
      {
        "duration": 16,
        "start_time": "2022-11-26T15:50:28.285Z"
      },
      {
        "duration": 2,
        "start_time": "2022-11-26T15:50:28.303Z"
      },
      {
        "duration": 6,
        "start_time": "2022-11-26T15:50:28.355Z"
      },
      {
        "duration": 4,
        "start_time": "2022-11-26T15:50:53.809Z"
      },
      {
        "duration": 712,
        "start_time": "2022-11-26T15:50:55.416Z"
      },
      {
        "duration": 1150,
        "start_time": "2022-11-26T15:50:59.523Z"
      },
      {
        "duration": 3,
        "start_time": "2022-11-26T15:51:05.846Z"
      },
      {
        "duration": 24,
        "start_time": "2022-11-26T15:51:05.851Z"
      },
      {
        "duration": 5,
        "start_time": "2022-11-26T15:51:05.877Z"
      },
      {
        "duration": 5,
        "start_time": "2022-11-26T15:51:05.884Z"
      },
      {
        "duration": 5,
        "start_time": "2022-11-26T15:51:05.891Z"
      },
      {
        "duration": 6,
        "start_time": "2022-11-26T15:51:05.897Z"
      },
      {
        "duration": 6,
        "start_time": "2022-11-26T15:51:05.904Z"
      },
      {
        "duration": 13,
        "start_time": "2022-11-26T15:51:05.912Z"
      },
      {
        "duration": 3,
        "start_time": "2022-11-26T15:51:05.926Z"
      },
      {
        "duration": 5,
        "start_time": "2022-11-26T15:51:05.931Z"
      },
      {
        "duration": 3,
        "start_time": "2022-11-26T15:53:08.311Z"
      },
      {
        "duration": 4844,
        "start_time": "2022-11-26T15:53:10.209Z"
      },
      {
        "duration": 11733,
        "start_time": "2022-11-26T15:53:19.020Z"
      },
      {
        "duration": 3,
        "start_time": "2022-11-26T15:53:30.755Z"
      },
      {
        "duration": 9,
        "start_time": "2022-11-26T15:53:30.760Z"
      },
      {
        "duration": 9,
        "start_time": "2022-11-26T15:53:30.772Z"
      },
      {
        "duration": 18,
        "start_time": "2022-11-26T15:53:30.783Z"
      },
      {
        "duration": 13,
        "start_time": "2022-11-26T15:53:30.803Z"
      },
      {
        "duration": 16,
        "start_time": "2022-11-26T15:53:30.818Z"
      },
      {
        "duration": 6,
        "start_time": "2022-11-26T15:53:30.836Z"
      },
      {
        "duration": 23,
        "start_time": "2022-11-26T15:53:30.844Z"
      },
      {
        "duration": 7,
        "start_time": "2022-11-26T15:53:30.869Z"
      },
      {
        "duration": 20,
        "start_time": "2022-11-26T15:53:30.877Z"
      },
      {
        "duration": 3,
        "start_time": "2022-11-26T15:53:46.957Z"
      },
      {
        "duration": 5491,
        "start_time": "2022-11-26T15:53:46.962Z"
      },
      {
        "duration": 12203,
        "start_time": "2022-11-26T15:53:52.456Z"
      },
      {
        "duration": 3,
        "start_time": "2022-11-26T15:54:04.752Z"
      },
      {
        "duration": 7,
        "start_time": "2022-11-26T15:54:04.756Z"
      },
      {
        "duration": 5,
        "start_time": "2022-11-26T15:54:04.765Z"
      },
      {
        "duration": 6,
        "start_time": "2022-11-26T15:54:04.772Z"
      },
      {
        "duration": 5,
        "start_time": "2022-11-26T15:54:04.779Z"
      },
      {
        "duration": 5,
        "start_time": "2022-11-26T15:54:04.787Z"
      },
      {
        "duration": 6,
        "start_time": "2022-11-26T15:54:04.793Z"
      },
      {
        "duration": 12,
        "start_time": "2022-11-26T15:54:04.800Z"
      },
      {
        "duration": 2,
        "start_time": "2022-11-26T15:54:04.814Z"
      },
      {
        "duration": 35,
        "start_time": "2022-11-26T15:54:04.818Z"
      },
      {
        "duration": 3,
        "start_time": "2022-11-26T15:54:33.840Z"
      },
      {
        "duration": 5108,
        "start_time": "2022-11-26T15:54:33.845Z"
      },
      {
        "duration": 20497,
        "start_time": "2022-11-26T15:54:38.955Z"
      },
      {
        "duration": 3,
        "start_time": "2022-11-26T15:54:59.454Z"
      },
      {
        "duration": 104,
        "start_time": "2022-11-26T15:54:59.460Z"
      },
      {
        "duration": 11,
        "start_time": "2022-11-26T15:54:59.565Z"
      },
      {
        "duration": 5,
        "start_time": "2022-11-26T15:54:59.578Z"
      },
      {
        "duration": 27,
        "start_time": "2022-11-26T15:54:59.586Z"
      },
      {
        "duration": 5,
        "start_time": "2022-11-26T15:54:59.616Z"
      },
      {
        "duration": 6,
        "start_time": "2022-11-26T15:54:59.623Z"
      },
      {
        "duration": 18,
        "start_time": "2022-11-26T15:54:59.633Z"
      },
      {
        "duration": 2,
        "start_time": "2022-11-26T15:54:59.653Z"
      },
      {
        "duration": 12,
        "start_time": "2022-11-26T15:54:59.657Z"
      },
      {
        "duration": 3,
        "start_time": "2022-11-26T15:56:22.693Z"
      },
      {
        "duration": 1589,
        "start_time": "2022-11-26T15:56:24.100Z"
      },
      {
        "duration": 2491,
        "start_time": "2022-11-26T15:56:29.596Z"
      },
      {
        "duration": 2,
        "start_time": "2022-11-26T15:56:32.089Z"
      },
      {
        "duration": 12,
        "start_time": "2022-11-26T15:56:32.093Z"
      },
      {
        "duration": 11,
        "start_time": "2022-11-26T15:56:32.108Z"
      },
      {
        "duration": 14,
        "start_time": "2022-11-26T15:56:32.121Z"
      },
      {
        "duration": 9,
        "start_time": "2022-11-26T15:56:32.137Z"
      },
      {
        "duration": 10,
        "start_time": "2022-11-26T15:56:32.147Z"
      },
      {
        "duration": 20,
        "start_time": "2022-11-26T15:56:32.159Z"
      },
      {
        "duration": 22,
        "start_time": "2022-11-26T15:56:32.181Z"
      },
      {
        "duration": 3,
        "start_time": "2022-11-26T15:56:32.206Z"
      },
      {
        "duration": 10,
        "start_time": "2022-11-26T15:56:32.211Z"
      },
      {
        "duration": 4,
        "start_time": "2022-11-26T15:57:07.970Z"
      },
      {
        "duration": 2049,
        "start_time": "2022-11-26T15:57:07.976Z"
      },
      {
        "duration": 3447,
        "start_time": "2022-11-26T15:57:10.027Z"
      },
      {
        "duration": 3,
        "start_time": "2022-11-26T15:57:13.476Z"
      },
      {
        "duration": 13,
        "start_time": "2022-11-26T15:57:13.481Z"
      },
      {
        "duration": 11,
        "start_time": "2022-11-26T15:57:13.496Z"
      },
      {
        "duration": 5,
        "start_time": "2022-11-26T15:57:13.509Z"
      },
      {
        "duration": 11,
        "start_time": "2022-11-26T15:57:13.516Z"
      },
      {
        "duration": 6,
        "start_time": "2022-11-26T15:57:13.530Z"
      },
      {
        "duration": 10,
        "start_time": "2022-11-26T15:57:13.538Z"
      },
      {
        "duration": 16,
        "start_time": "2022-11-26T15:57:13.551Z"
      },
      {
        "duration": 2,
        "start_time": "2022-11-26T15:57:13.569Z"
      },
      {
        "duration": 6,
        "start_time": "2022-11-26T15:57:13.573Z"
      },
      {
        "duration": 3,
        "start_time": "2022-11-26T16:00:15.774Z"
      },
      {
        "duration": 1755,
        "start_time": "2022-11-26T16:00:17.602Z"
      },
      {
        "duration": 4632,
        "start_time": "2022-11-26T16:00:28.482Z"
      },
      {
        "duration": 3,
        "start_time": "2022-11-26T16:00:33.116Z"
      },
      {
        "duration": 7,
        "start_time": "2022-11-26T16:00:33.120Z"
      },
      {
        "duration": 5,
        "start_time": "2022-11-26T16:00:33.129Z"
      },
      {
        "duration": 8,
        "start_time": "2022-11-26T16:00:33.136Z"
      },
      {
        "duration": 13,
        "start_time": "2022-11-26T16:00:33.151Z"
      },
      {
        "duration": 7,
        "start_time": "2022-11-26T16:00:33.166Z"
      },
      {
        "duration": 5,
        "start_time": "2022-11-26T16:00:33.175Z"
      },
      {
        "duration": 14,
        "start_time": "2022-11-26T16:00:33.182Z"
      },
      {
        "duration": 2,
        "start_time": "2022-11-26T16:00:33.198Z"
      },
      {
        "duration": 5,
        "start_time": "2022-11-26T16:00:33.202Z"
      },
      {
        "duration": 3,
        "start_time": "2022-11-26T16:00:54.049Z"
      },
      {
        "duration": 2298,
        "start_time": "2022-11-26T16:00:55.581Z"
      },
      {
        "duration": 4538,
        "start_time": "2022-11-26T16:01:03.306Z"
      },
      {
        "duration": 5,
        "start_time": "2022-11-26T16:01:07.846Z"
      },
      {
        "duration": 4,
        "start_time": "2022-11-26T16:01:07.852Z"
      },
      {
        "duration": 7,
        "start_time": "2022-11-26T16:01:07.858Z"
      },
      {
        "duration": 9,
        "start_time": "2022-11-26T16:01:07.866Z"
      },
      {
        "duration": 9,
        "start_time": "2022-11-26T16:01:07.876Z"
      },
      {
        "duration": 10,
        "start_time": "2022-11-26T16:01:07.887Z"
      },
      {
        "duration": 7,
        "start_time": "2022-11-26T16:01:07.899Z"
      },
      {
        "duration": 16,
        "start_time": "2022-11-26T16:01:07.907Z"
      },
      {
        "duration": 3,
        "start_time": "2022-11-26T16:01:07.925Z"
      },
      {
        "duration": 8,
        "start_time": "2022-11-26T16:01:07.929Z"
      },
      {
        "duration": 3,
        "start_time": "2022-11-26T16:03:10.739Z"
      },
      {
        "duration": 102,
        "start_time": "2022-11-26T16:03:12.506Z"
      },
      {
        "duration": 3,
        "start_time": "2022-11-26T16:03:29.936Z"
      },
      {
        "duration": 1871,
        "start_time": "2022-11-26T16:03:31.604Z"
      },
      {
        "duration": 3538,
        "start_time": "2022-11-26T16:03:38.698Z"
      },
      {
        "duration": 3,
        "start_time": "2022-11-26T16:03:42.238Z"
      },
      {
        "duration": 2,
        "start_time": "2022-11-26T16:03:42.251Z"
      },
      {
        "duration": 6,
        "start_time": "2022-11-26T16:03:42.256Z"
      },
      {
        "duration": 6,
        "start_time": "2022-11-26T16:03:42.264Z"
      },
      {
        "duration": 6,
        "start_time": "2022-11-26T16:03:42.272Z"
      },
      {
        "duration": 5,
        "start_time": "2022-11-26T16:03:42.279Z"
      },
      {
        "duration": 5,
        "start_time": "2022-11-26T16:03:42.286Z"
      },
      {
        "duration": 15,
        "start_time": "2022-11-26T16:03:42.293Z"
      },
      {
        "duration": 2,
        "start_time": "2022-11-26T16:03:42.311Z"
      },
      {
        "duration": 36,
        "start_time": "2022-11-26T16:03:42.315Z"
      },
      {
        "duration": 3,
        "start_time": "2022-11-26T16:03:57.053Z"
      },
      {
        "duration": 1942,
        "start_time": "2022-11-26T16:06:53.530Z"
      },
      {
        "duration": 4757,
        "start_time": "2022-11-26T16:06:55.475Z"
      },
      {
        "duration": 3,
        "start_time": "2022-11-26T16:07:00.234Z"
      },
      {
        "duration": 20,
        "start_time": "2022-11-26T16:07:00.239Z"
      },
      {
        "duration": 9,
        "start_time": "2022-11-26T16:07:00.261Z"
      },
      {
        "duration": 21,
        "start_time": "2022-11-26T16:07:00.272Z"
      },
      {
        "duration": 16,
        "start_time": "2022-11-26T16:07:00.295Z"
      },
      {
        "duration": 6,
        "start_time": "2022-11-26T16:07:00.313Z"
      },
      {
        "duration": 6,
        "start_time": "2022-11-26T16:07:00.322Z"
      },
      {
        "duration": 21,
        "start_time": "2022-11-26T16:07:00.331Z"
      },
      {
        "duration": 6,
        "start_time": "2022-11-26T16:07:00.354Z"
      },
      {
        "duration": 9,
        "start_time": "2022-11-26T16:07:00.362Z"
      },
      {
        "duration": 1526,
        "start_time": "2022-11-26T16:08:09.000Z"
      },
      {
        "duration": 962,
        "start_time": "2022-11-26T16:08:10.528Z"
      },
      {
        "duration": 28,
        "start_time": "2022-11-26T16:08:11.492Z"
      },
      {
        "duration": 257,
        "start_time": "2022-11-26T16:08:11.523Z"
      },
      {
        "duration": 5,
        "start_time": "2022-11-26T16:08:11.782Z"
      },
      {
        "duration": 29,
        "start_time": "2022-11-26T16:08:11.788Z"
      },
      {
        "duration": 5,
        "start_time": "2022-11-26T16:08:11.819Z"
      },
      {
        "duration": 4,
        "start_time": "2022-11-26T16:08:11.851Z"
      },
      {
        "duration": 205,
        "start_time": "2022-11-26T16:08:11.856Z"
      },
      {
        "duration": 1537,
        "start_time": "2022-11-26T16:08:12.064Z"
      },
      {
        "duration": 783532,
        "start_time": "2022-11-26T16:08:13.603Z"
      },
      {
        "duration": 2342,
        "start_time": "2022-11-26T16:21:17.136Z"
      },
      {
        "duration": 2,
        "start_time": "2022-11-26T16:21:19.480Z"
      },
      {
        "duration": 12,
        "start_time": "2022-11-26T16:21:19.484Z"
      },
      {
        "duration": 8,
        "start_time": "2022-11-26T16:21:19.497Z"
      },
      {
        "duration": 46,
        "start_time": "2022-11-26T16:21:19.506Z"
      },
      {
        "duration": 56,
        "start_time": "2022-11-26T16:21:19.554Z"
      },
      {
        "duration": 6,
        "start_time": "2022-11-26T16:21:19.612Z"
      },
      {
        "duration": 10,
        "start_time": "2022-11-26T16:21:19.622Z"
      },
      {
        "duration": 13,
        "start_time": "2022-11-26T16:21:19.634Z"
      },
      {
        "duration": 3062,
        "start_time": "2022-11-26T16:21:19.650Z"
      },
      {
        "duration": 4,
        "start_time": "2022-11-26T16:21:22.714Z"
      },
      {
        "duration": 4056,
        "start_time": "2022-11-26T16:21:22.720Z"
      },
      {
        "duration": 6928,
        "start_time": "2022-11-26T16:21:26.778Z"
      },
      {
        "duration": 2,
        "start_time": "2022-11-26T16:21:33.707Z"
      },
      {
        "duration": 13,
        "start_time": "2022-11-26T16:21:33.711Z"
      },
      {
        "duration": 12,
        "start_time": "2022-11-26T16:21:33.726Z"
      },
      {
        "duration": 12,
        "start_time": "2022-11-26T16:21:33.741Z"
      },
      {
        "duration": 22,
        "start_time": "2022-11-26T16:21:33.755Z"
      },
      {
        "duration": 11,
        "start_time": "2022-11-26T16:21:33.778Z"
      },
      {
        "duration": 14,
        "start_time": "2022-11-26T16:21:33.791Z"
      },
      {
        "duration": 23,
        "start_time": "2022-11-26T16:21:33.806Z"
      },
      {
        "duration": 3,
        "start_time": "2022-11-26T16:21:33.830Z"
      },
      {
        "duration": 10,
        "start_time": "2022-11-26T16:21:33.834Z"
      },
      {
        "duration": 13,
        "start_time": "2022-11-26T16:25:03.360Z"
      },
      {
        "duration": 7,
        "start_time": "2022-11-26T16:25:03.376Z"
      },
      {
        "duration": 81,
        "start_time": "2022-11-26T16:25:03.386Z"
      },
      {
        "duration": 4,
        "start_time": "2022-11-26T16:25:03.470Z"
      },
      {
        "duration": 8,
        "start_time": "2022-11-26T16:25:03.477Z"
      },
      {
        "duration": 6,
        "start_time": "2022-11-26T16:25:03.487Z"
      },
      {
        "duration": 17,
        "start_time": "2022-11-26T16:25:03.495Z"
      },
      {
        "duration": 4898,
        "start_time": "2022-11-26T16:25:03.514Z"
      },
      {
        "duration": 3,
        "start_time": "2022-11-26T16:25:08.414Z"
      },
      {
        "duration": 7678,
        "start_time": "2022-11-26T16:25:08.419Z"
      },
      {
        "duration": 14476,
        "start_time": "2022-11-26T16:25:16.099Z"
      },
      {
        "duration": 3,
        "start_time": "2022-11-26T16:25:30.577Z"
      },
      {
        "duration": 56,
        "start_time": "2022-11-26T16:25:30.581Z"
      },
      {
        "duration": 20,
        "start_time": "2022-11-26T16:25:30.641Z"
      },
      {
        "duration": 15,
        "start_time": "2022-11-26T16:25:30.663Z"
      },
      {
        "duration": 18,
        "start_time": "2022-11-26T16:25:30.680Z"
      },
      {
        "duration": 10,
        "start_time": "2022-11-26T16:25:30.700Z"
      },
      {
        "duration": 7,
        "start_time": "2022-11-26T16:25:30.712Z"
      },
      {
        "duration": 26,
        "start_time": "2022-11-26T16:25:30.721Z"
      },
      {
        "duration": 3,
        "start_time": "2022-11-26T16:25:30.750Z"
      },
      {
        "duration": 16,
        "start_time": "2022-11-26T16:25:30.755Z"
      },
      {
        "duration": 6,
        "start_time": "2022-11-26T16:34:20.805Z"
      },
      {
        "duration": 3,
        "start_time": "2022-11-26T16:39:27.393Z"
      },
      {
        "duration": 6825,
        "start_time": "2022-11-26T16:39:29.682Z"
      },
      {
        "duration": 11287,
        "start_time": "2022-11-26T16:39:44.514Z"
      },
      {
        "duration": 50185,
        "start_time": "2022-11-26T16:39:55.804Z"
      },
      {
        "duration": 78988,
        "start_time": "2022-11-26T16:40:45.991Z"
      },
      {
        "duration": 3,
        "start_time": "2022-11-26T16:42:04.981Z"
      },
      {
        "duration": 6,
        "start_time": "2022-11-26T16:42:04.986Z"
      },
      {
        "duration": 6,
        "start_time": "2022-11-26T16:42:04.993Z"
      },
      {
        "duration": 65,
        "start_time": "2022-11-26T16:42:05.000Z"
      },
      {
        "duration": 402,
        "start_time": "2022-11-26T16:42:05.067Z"
      },
      {
        "duration": 3,
        "start_time": "2022-11-26T16:42:05.470Z"
      },
      {
        "duration": 3,
        "start_time": "2022-11-26T16:42:55.518Z"
      },
      {
        "duration": 13049,
        "start_time": "2022-11-26T16:42:57.952Z"
      },
      {
        "duration": 4,
        "start_time": "2022-11-26T16:43:22.931Z"
      },
      {
        "duration": 33495,
        "start_time": "2022-11-26T16:43:25.462Z"
      },
      {
        "duration": 60455,
        "start_time": "2022-11-26T16:44:07.105Z"
      },
      {
        "duration": 18,
        "start_time": "2022-11-26T16:45:22.699Z"
      },
      {
        "duration": 4,
        "start_time": "2022-11-26T16:45:30.878Z"
      },
      {
        "duration": 7565,
        "start_time": "2022-11-26T16:45:33.068Z"
      },
      {
        "duration": 12354,
        "start_time": "2022-11-26T16:45:44.694Z"
      },
      {
        "duration": 14,
        "start_time": "2022-11-26T16:46:01.768Z"
      },
      {
        "duration": 1635,
        "start_time": "2022-11-26T16:49:49.296Z"
      },
      {
        "duration": 1042,
        "start_time": "2022-11-26T16:49:50.932Z"
      },
      {
        "duration": 28,
        "start_time": "2022-11-26T16:49:51.975Z"
      },
      {
        "duration": 252,
        "start_time": "2022-11-26T16:49:52.005Z"
      },
      {
        "duration": 4,
        "start_time": "2022-11-26T16:49:52.258Z"
      },
      {
        "duration": 7,
        "start_time": "2022-11-26T16:49:52.264Z"
      },
      {
        "duration": 4,
        "start_time": "2022-11-26T16:49:52.272Z"
      },
      {
        "duration": 207,
        "start_time": "2022-11-26T16:49:52.278Z"
      },
      {
        "duration": 1467,
        "start_time": "2022-11-26T16:49:52.486Z"
      },
      {
        "duration": 1342352,
        "start_time": "2022-11-26T16:49:53.956Z"
      },
      {
        "duration": 4327,
        "start_time": "2022-11-26T17:12:16.310Z"
      },
      {
        "duration": 2,
        "start_time": "2022-11-26T17:12:20.639Z"
      },
      {
        "duration": 17,
        "start_time": "2022-11-26T17:12:20.650Z"
      },
      {
        "duration": 63,
        "start_time": "2022-11-26T17:12:20.669Z"
      },
      {
        "duration": 5,
        "start_time": "2022-11-26T17:12:20.734Z"
      },
      {
        "duration": 4,
        "start_time": "2022-11-26T17:12:20.751Z"
      },
      {
        "duration": 13,
        "start_time": "2022-11-26T17:12:20.756Z"
      },
      {
        "duration": 6701,
        "start_time": "2022-11-26T17:12:20.770Z"
      },
      {
        "duration": 3,
        "start_time": "2022-11-26T17:12:27.473Z"
      },
      {
        "duration": 14239,
        "start_time": "2022-11-26T17:12:27.477Z"
      },
      {
        "duration": 25503,
        "start_time": "2022-11-26T17:12:41.718Z"
      },
      {
        "duration": 97064,
        "start_time": "2022-11-26T17:13:07.223Z"
      },
      {
        "duration": 1564384,
        "start_time": "2022-11-26T17:14:44.289Z"
      },
      {
        "duration": 20,
        "start_time": "2022-11-26T17:40:48.675Z"
      },
      {
        "duration": 3,
        "start_time": "2022-11-26T17:43:47.394Z"
      },
      {
        "duration": 12993,
        "start_time": "2022-11-26T17:43:47.400Z"
      },
      {
        "duration": 25829,
        "start_time": "2022-11-26T17:44:00.394Z"
      },
      {
        "duration": 2,
        "start_time": "2022-11-26T17:44:26.225Z"
      },
      {
        "duration": 13,
        "start_time": "2022-11-26T17:44:26.229Z"
      },
      {
        "duration": 20,
        "start_time": "2022-11-26T17:44:26.244Z"
      },
      {
        "duration": 21,
        "start_time": "2022-11-26T17:45:52.886Z"
      },
      {
        "duration": 79,
        "start_time": "2022-11-26T17:45:52.909Z"
      },
      {
        "duration": 5,
        "start_time": "2022-11-26T17:45:52.991Z"
      },
      {
        "duration": 11,
        "start_time": "2022-11-26T17:45:52.999Z"
      },
      {
        "duration": 7,
        "start_time": "2022-11-26T17:45:53.011Z"
      },
      {
        "duration": 7257,
        "start_time": "2022-11-26T17:45:53.020Z"
      },
      {
        "duration": 3,
        "start_time": "2022-11-26T17:46:00.279Z"
      },
      {
        "duration": 1500,
        "start_time": "2022-11-26T17:46:13.344Z"
      },
      {
        "duration": 963,
        "start_time": "2022-11-26T17:46:14.846Z"
      },
      {
        "duration": 40,
        "start_time": "2022-11-26T17:46:15.811Z"
      },
      {
        "duration": 244,
        "start_time": "2022-11-26T17:46:15.853Z"
      },
      {
        "duration": 5,
        "start_time": "2022-11-26T17:46:16.101Z"
      },
      {
        "duration": 10,
        "start_time": "2022-11-26T17:46:16.108Z"
      },
      {
        "duration": 10,
        "start_time": "2022-11-26T17:46:16.120Z"
      },
      {
        "duration": 266,
        "start_time": "2022-11-26T17:46:16.132Z"
      },
      {
        "duration": 1452,
        "start_time": "2022-11-26T17:46:16.400Z"
      },
      {
        "duration": 1449489,
        "start_time": "2022-11-26T17:46:17.853Z"
      },
      {
        "duration": 4954,
        "start_time": "2022-11-26T18:10:27.357Z"
      },
      {
        "duration": 3,
        "start_time": "2022-11-26T18:10:32.312Z"
      },
      {
        "duration": 16,
        "start_time": "2022-11-26T18:10:32.317Z"
      },
      {
        "duration": 76,
        "start_time": "2022-11-26T18:10:32.336Z"
      },
      {
        "duration": 5,
        "start_time": "2022-11-26T18:10:32.414Z"
      },
      {
        "duration": 5,
        "start_time": "2022-11-26T18:10:32.421Z"
      },
      {
        "duration": 28,
        "start_time": "2022-11-26T18:10:32.428Z"
      },
      {
        "duration": 7758,
        "start_time": "2022-11-26T18:10:32.459Z"
      },
      {
        "duration": 3,
        "start_time": "2022-11-26T18:10:40.219Z"
      },
      {
        "duration": 14480,
        "start_time": "2022-11-26T18:10:40.224Z"
      },
      {
        "duration": 25390,
        "start_time": "2022-11-26T18:10:54.706Z"
      },
      {
        "duration": 88071,
        "start_time": "2022-11-26T18:11:20.097Z"
      },
      {
        "duration": 422448,
        "start_time": "2022-11-26T18:12:48.170Z"
      },
      {
        "duration": 56,
        "start_time": "2022-11-26T18:19:50.620Z"
      }
    ],
    "celltoolbar": "Отсутствует",
    "kernelspec": {
      "display_name": "Python 3 (ipykernel)",
      "language": "python",
      "name": "python3"
    },
    "language_info": {
      "codemirror_mode": {
        "name": "ipython",
        "version": 3
      },
      "file_extension": ".py",
      "mimetype": "text/x-python",
      "name": "python",
      "nbconvert_exporter": "python",
      "pygments_lexer": "ipython3",
      "version": "3.9.5"
    },
    "toc": {
      "base_numbering": 1,
      "nav_menu": {},
      "number_sections": true,
      "sideBar": true,
      "skip_h1_title": true,
      "title_cell": "Содержание",
      "title_sidebar": "Contents",
      "toc_cell": true,
      "toc_position": {
        "height": "calc(100% - 180px)",
        "left": "10px",
        "top": "150px",
        "width": "165px"
      },
      "toc_section_display": true,
      "toc_window_display": true
    },
    "colab": {
      "provenance": [],
      "toc_visible": true
    }
  },
  "nbformat": 4,
  "nbformat_minor": 0
}