{
  "cells": [
    {
      "cell_type": "markdown",
      "metadata": {
        "toc": true,
        "id": "o0Rt6oZNelg_"
      },
      "source": [
        "<h1>Содержание<span class=\"tocSkip\"></span></h1>\n",
        "<div class=\"toc\"><ul class=\"toc-item\"><li><span><a href=\"#Подготовка-данных\" data-toc-modified-id=\"Подготовка-данных-1\"><span class=\"toc-item-num\">1&nbsp;&nbsp;</span>Подготовка данных</a></span><ul class=\"toc-item\"><li><span><a href=\"#Вывод\" data-toc-modified-id=\"Вывод-1.1\"><span class=\"toc-item-num\">1.1&nbsp;&nbsp;</span>Вывод</a></span></li></ul></li><li><span><a href=\"#Исследование-задачи\" data-toc-modified-id=\"Исследование-задачи-2\"><span class=\"toc-item-num\">2&nbsp;&nbsp;</span>Исследование задачи</a></span><ul class=\"toc-item\"><li><span><a href=\"#Без-учёта-классов\" data-toc-modified-id=\"Без-учёта-классов-2.1\"><span class=\"toc-item-num\">2.1&nbsp;&nbsp;</span>Без учёта классов</a></span></li><li><span><a href=\"#Вывод\" data-toc-modified-id=\"Вывод-2.2\"><span class=\"toc-item-num\">2.2&nbsp;&nbsp;</span>Вывод</a></span></li></ul></li><li><span><a href=\"#Борьба-с-дисбалансом\" data-toc-modified-id=\"Борьба-с-дисбалансом-3\"><span class=\"toc-item-num\">3&nbsp;&nbsp;</span>Борьба с дисбалансом</a></span><ul class=\"toc-item\"><li><span><a href=\"#Вывод\" data-toc-modified-id=\"Вывод-3.1\"><span class=\"toc-item-num\">3.1&nbsp;&nbsp;</span>Вывод</a></span></li></ul></li><li><span><a href=\"#Тестирование-модели\" data-toc-modified-id=\"Тестирование-модели-4\"><span class=\"toc-item-num\">4&nbsp;&nbsp;</span>Тестирование модели</a></span></li><li><span><a href=\"#Общий-вывод\" data-toc-modified-id=\"Общий-вывод-5\"><span class=\"toc-item-num\">5&nbsp;&nbsp;</span>Общий вывод</a></span></li><li><span><a href=\"#Чек-лист-готовности-проекта\" data-toc-modified-id=\"Чек-лист-готовности-проекта-6\"><span class=\"toc-item-num\">6&nbsp;&nbsp;</span>Чек-лист готовности проекта</a></span></li></ul></div>"
      ]
    },
    {
      "cell_type": "markdown",
      "metadata": {
        "id": "2GmKiY-LelhB"
      },
      "source": [
        "# Отток клиентов"
      ]
    },
    {
      "cell_type": "markdown",
      "metadata": {
        "id": "gsFaD_oaelhD"
      },
      "source": [
        "Меня зовут Тимонина Анастасия, это один из моих проектов, ниже вы найдете его описание, а затем и подробное выполнение. \n",
        "\n",
        "Из «Бета-Банка» стали уходить клиенты. Каждый месяц. Немного, но заметно. Банковские маркетологи посчитали: сохранять текущих клиентов дешевле, чем привлекать новых.\n",
        "\n",
        "Нужно спрогнозировать, уйдёт клиент из банка в ближайшее время или нет. Вам предоставлены исторические данные о поведении клиентов и расторжении договоров с банком. \n",
        "\n",
        "Постройте модель с предельно большим значением *F1*-меры. Чтобы сдать проект успешно, нужно довести метрику до 0.59. Проверьте *F1*-меру на тестовой выборке самостоятельно.\n",
        "\n",
        "Дополнительно измеряйте *AUC-ROC*, сравнивайте её значение с *F1*-мерой.\n",
        "\n",
        "Источник данных: [https://www.kaggle.com/barelydedicated/bank-customer-churn-modeling](https://www.kaggle.com/barelydedicated/bank-customer-churn-modeling)"
      ]
    },
    {
      "cell_type": "markdown",
      "metadata": {
        "id": "-1lIkkJKelhE"
      },
      "source": [
        "## Подготовка данных"
      ]
    },
    {
      "cell_type": "markdown",
      "metadata": {
        "id": "CYNnn60IelhG"
      },
      "source": [
        "Для начала получим общую информацию о данных. Импортируем нужные библиотеки. "
      ]
    },
    {
      "cell_type": "code",
      "execution_count": null,
      "metadata": {
        "id": "gaE8UbnuelhH"
      },
      "outputs": [],
      "source": [
        "import pandas as pd\n",
        "import matplotlib.pyplot as plt\n",
        "from sklearn.model_selection import train_test_split\n",
        "from sklearn.tree import DecisionTreeClassifier\n",
        "from sklearn.metrics import (accuracy_score, \n",
        "                             precision_score, \n",
        "                             recall_score, \n",
        "                             f1_score, \n",
        "                             confusion_matrix,\n",
        "                             roc_curve, \n",
        "                             roc_auc_score)\n",
        "from sklearn.ensemble import RandomForestClassifier\n",
        "from sklearn.linear_model import LogisticRegression\n",
        "from sklearn.dummy import DummyClassifier\n",
        "from sklearn.datasets import make_classification\n",
        "from sklearn.experimental import enable_halving_search_cv\n",
        "from sklearn.model_selection import GridSearchCV\n",
        "from sklearn.utils import shuffle\n",
        "from sklearn.preprocessing import StandardScaler"
      ]
    },
    {
      "cell_type": "markdown",
      "metadata": {
        "id": "P4i5eGSeelhO"
      },
      "source": [
        "Откроем файл"
      ]
    },
    {
      "cell_type": "code",
      "execution_count": null,
      "metadata": {
        "colab": {
          "base_uri": "https://localhost:8080/",
          "height": 206
        },
        "id": "KofIEgUEelhP",
        "outputId": "6a241050-56be-47ba-e7e4-9ab549de59a6"
      },
      "outputs": [
        {
          "output_type": "execute_result",
          "data": {
            "text/plain": [
              "   RowNumber  CustomerId   Surname  CreditScore Geography  Gender  Age  \\\n",
              "0          1    15634602  Hargrave          619    France  Female   42   \n",
              "1          2    15647311      Hill          608     Spain  Female   41   \n",
              "2          3    15619304      Onio          502    France  Female   42   \n",
              "3          4    15701354      Boni          699    France  Female   39   \n",
              "4          5    15737888  Mitchell          850     Spain  Female   43   \n",
              "\n",
              "   Tenure    Balance  NumOfProducts  HasCrCard  IsActiveMember  \\\n",
              "0     2.0       0.00              1          1               1   \n",
              "1     1.0   83807.86              1          0               1   \n",
              "2     8.0  159660.80              3          1               0   \n",
              "3     1.0       0.00              2          0               0   \n",
              "4     2.0  125510.82              1          1               1   \n",
              "\n",
              "   EstimatedSalary  Exited  \n",
              "0        101348.88       1  \n",
              "1        112542.58       0  \n",
              "2        113931.57       1  \n",
              "3         93826.63       0  \n",
              "4         79084.10       0  "
            ],
            "text/html": [
              "\n",
              "  <div id=\"df-29dbbe9a-808b-43c8-b679-e3e066a86c63\">\n",
              "    <div class=\"colab-df-container\">\n",
              "      <div>\n",
              "<style scoped>\n",
              "    .dataframe tbody tr th:only-of-type {\n",
              "        vertical-align: middle;\n",
              "    }\n",
              "\n",
              "    .dataframe tbody tr th {\n",
              "        vertical-align: top;\n",
              "    }\n",
              "\n",
              "    .dataframe thead th {\n",
              "        text-align: right;\n",
              "    }\n",
              "</style>\n",
              "<table border=\"1\" class=\"dataframe\">\n",
              "  <thead>\n",
              "    <tr style=\"text-align: right;\">\n",
              "      <th></th>\n",
              "      <th>RowNumber</th>\n",
              "      <th>CustomerId</th>\n",
              "      <th>Surname</th>\n",
              "      <th>CreditScore</th>\n",
              "      <th>Geography</th>\n",
              "      <th>Gender</th>\n",
              "      <th>Age</th>\n",
              "      <th>Tenure</th>\n",
              "      <th>Balance</th>\n",
              "      <th>NumOfProducts</th>\n",
              "      <th>HasCrCard</th>\n",
              "      <th>IsActiveMember</th>\n",
              "      <th>EstimatedSalary</th>\n",
              "      <th>Exited</th>\n",
              "    </tr>\n",
              "  </thead>\n",
              "  <tbody>\n",
              "    <tr>\n",
              "      <th>0</th>\n",
              "      <td>1</td>\n",
              "      <td>15634602</td>\n",
              "      <td>Hargrave</td>\n",
              "      <td>619</td>\n",
              "      <td>France</td>\n",
              "      <td>Female</td>\n",
              "      <td>42</td>\n",
              "      <td>2.0</td>\n",
              "      <td>0.00</td>\n",
              "      <td>1</td>\n",
              "      <td>1</td>\n",
              "      <td>1</td>\n",
              "      <td>101348.88</td>\n",
              "      <td>1</td>\n",
              "    </tr>\n",
              "    <tr>\n",
              "      <th>1</th>\n",
              "      <td>2</td>\n",
              "      <td>15647311</td>\n",
              "      <td>Hill</td>\n",
              "      <td>608</td>\n",
              "      <td>Spain</td>\n",
              "      <td>Female</td>\n",
              "      <td>41</td>\n",
              "      <td>1.0</td>\n",
              "      <td>83807.86</td>\n",
              "      <td>1</td>\n",
              "      <td>0</td>\n",
              "      <td>1</td>\n",
              "      <td>112542.58</td>\n",
              "      <td>0</td>\n",
              "    </tr>\n",
              "    <tr>\n",
              "      <th>2</th>\n",
              "      <td>3</td>\n",
              "      <td>15619304</td>\n",
              "      <td>Onio</td>\n",
              "      <td>502</td>\n",
              "      <td>France</td>\n",
              "      <td>Female</td>\n",
              "      <td>42</td>\n",
              "      <td>8.0</td>\n",
              "      <td>159660.80</td>\n",
              "      <td>3</td>\n",
              "      <td>1</td>\n",
              "      <td>0</td>\n",
              "      <td>113931.57</td>\n",
              "      <td>1</td>\n",
              "    </tr>\n",
              "    <tr>\n",
              "      <th>3</th>\n",
              "      <td>4</td>\n",
              "      <td>15701354</td>\n",
              "      <td>Boni</td>\n",
              "      <td>699</td>\n",
              "      <td>France</td>\n",
              "      <td>Female</td>\n",
              "      <td>39</td>\n",
              "      <td>1.0</td>\n",
              "      <td>0.00</td>\n",
              "      <td>2</td>\n",
              "      <td>0</td>\n",
              "      <td>0</td>\n",
              "      <td>93826.63</td>\n",
              "      <td>0</td>\n",
              "    </tr>\n",
              "    <tr>\n",
              "      <th>4</th>\n",
              "      <td>5</td>\n",
              "      <td>15737888</td>\n",
              "      <td>Mitchell</td>\n",
              "      <td>850</td>\n",
              "      <td>Spain</td>\n",
              "      <td>Female</td>\n",
              "      <td>43</td>\n",
              "      <td>2.0</td>\n",
              "      <td>125510.82</td>\n",
              "      <td>1</td>\n",
              "      <td>1</td>\n",
              "      <td>1</td>\n",
              "      <td>79084.10</td>\n",
              "      <td>0</td>\n",
              "    </tr>\n",
              "  </tbody>\n",
              "</table>\n",
              "</div>\n",
              "      <button class=\"colab-df-convert\" onclick=\"convertToInteractive('df-29dbbe9a-808b-43c8-b679-e3e066a86c63')\"\n",
              "              title=\"Convert this dataframe to an interactive table.\"\n",
              "              style=\"display:none;\">\n",
              "        \n",
              "  <svg xmlns=\"http://www.w3.org/2000/svg\" height=\"24px\"viewBox=\"0 0 24 24\"\n",
              "       width=\"24px\">\n",
              "    <path d=\"M0 0h24v24H0V0z\" fill=\"none\"/>\n",
              "    <path d=\"M18.56 5.44l.94 2.06.94-2.06 2.06-.94-2.06-.94-.94-2.06-.94 2.06-2.06.94zm-11 1L8.5 8.5l.94-2.06 2.06-.94-2.06-.94L8.5 2.5l-.94 2.06-2.06.94zm10 10l.94 2.06.94-2.06 2.06-.94-2.06-.94-.94-2.06-.94 2.06-2.06.94z\"/><path d=\"M17.41 7.96l-1.37-1.37c-.4-.4-.92-.59-1.43-.59-.52 0-1.04.2-1.43.59L10.3 9.45l-7.72 7.72c-.78.78-.78 2.05 0 2.83L4 21.41c.39.39.9.59 1.41.59.51 0 1.02-.2 1.41-.59l7.78-7.78 2.81-2.81c.8-.78.8-2.07 0-2.86zM5.41 20L4 18.59l7.72-7.72 1.47 1.35L5.41 20z\"/>\n",
              "  </svg>\n",
              "      </button>\n",
              "      \n",
              "  <style>\n",
              "    .colab-df-container {\n",
              "      display:flex;\n",
              "      flex-wrap:wrap;\n",
              "      gap: 12px;\n",
              "    }\n",
              "\n",
              "    .colab-df-convert {\n",
              "      background-color: #E8F0FE;\n",
              "      border: none;\n",
              "      border-radius: 50%;\n",
              "      cursor: pointer;\n",
              "      display: none;\n",
              "      fill: #1967D2;\n",
              "      height: 32px;\n",
              "      padding: 0 0 0 0;\n",
              "      width: 32px;\n",
              "    }\n",
              "\n",
              "    .colab-df-convert:hover {\n",
              "      background-color: #E2EBFA;\n",
              "      box-shadow: 0px 1px 2px rgba(60, 64, 67, 0.3), 0px 1px 3px 1px rgba(60, 64, 67, 0.15);\n",
              "      fill: #174EA6;\n",
              "    }\n",
              "\n",
              "    [theme=dark] .colab-df-convert {\n",
              "      background-color: #3B4455;\n",
              "      fill: #D2E3FC;\n",
              "    }\n",
              "\n",
              "    [theme=dark] .colab-df-convert:hover {\n",
              "      background-color: #434B5C;\n",
              "      box-shadow: 0px 1px 3px 1px rgba(0, 0, 0, 0.15);\n",
              "      filter: drop-shadow(0px 1px 2px rgba(0, 0, 0, 0.3));\n",
              "      fill: #FFFFFF;\n",
              "    }\n",
              "  </style>\n",
              "\n",
              "      <script>\n",
              "        const buttonEl =\n",
              "          document.querySelector('#df-29dbbe9a-808b-43c8-b679-e3e066a86c63 button.colab-df-convert');\n",
              "        buttonEl.style.display =\n",
              "          google.colab.kernel.accessAllowed ? 'block' : 'none';\n",
              "\n",
              "        async function convertToInteractive(key) {\n",
              "          const element = document.querySelector('#df-29dbbe9a-808b-43c8-b679-e3e066a86c63');\n",
              "          const dataTable =\n",
              "            await google.colab.kernel.invokeFunction('convertToInteractive',\n",
              "                                                     [key], {});\n",
              "          if (!dataTable) return;\n",
              "\n",
              "          const docLinkHtml = 'Like what you see? Visit the ' +\n",
              "            '<a target=\"_blank\" href=https://colab.research.google.com/notebooks/data_table.ipynb>data table notebook</a>'\n",
              "            + ' to learn more about interactive tables.';\n",
              "          element.innerHTML = '';\n",
              "          dataTable['output_type'] = 'display_data';\n",
              "          await google.colab.output.renderOutput(dataTable, element);\n",
              "          const docLink = document.createElement('div');\n",
              "          docLink.innerHTML = docLinkHtml;\n",
              "          element.appendChild(docLink);\n",
              "        }\n",
              "      </script>\n",
              "    </div>\n",
              "  </div>\n",
              "  "
            ]
          },
          "metadata": {},
          "execution_count": 5
        }
      ],
      "source": [
        "df = pd.read_csv('https://code.s3.yandex.net/datasets/Churn.csv')\n",
        "df.head()"
      ]
    },
    {
      "cell_type": "markdown",
      "metadata": {
        "id": "Lz-D7XyyelhS"
      },
      "source": [
        "Получим общую информацию о датасете"
      ]
    },
    {
      "cell_type": "code",
      "execution_count": null,
      "metadata": {
        "colab": {
          "base_uri": "https://localhost:8080/"
        },
        "id": "hN2BwOIRelhT",
        "outputId": "50be50c8-a59c-4f2a-edbd-d12e73fac03c"
      },
      "outputs": [
        {
          "output_type": "stream",
          "name": "stdout",
          "text": [
            "<class 'pandas.core.frame.DataFrame'>\n",
            "RangeIndex: 10000 entries, 0 to 9999\n",
            "Data columns (total 14 columns):\n",
            " #   Column           Non-Null Count  Dtype  \n",
            "---  ------           --------------  -----  \n",
            " 0   RowNumber        10000 non-null  int64  \n",
            " 1   CustomerId       10000 non-null  int64  \n",
            " 2   Surname          10000 non-null  object \n",
            " 3   CreditScore      10000 non-null  int64  \n",
            " 4   Geography        10000 non-null  object \n",
            " 5   Gender           10000 non-null  object \n",
            " 6   Age              10000 non-null  int64  \n",
            " 7   Tenure           9091 non-null   float64\n",
            " 8   Balance          10000 non-null  float64\n",
            " 9   NumOfProducts    10000 non-null  int64  \n",
            " 10  HasCrCard        10000 non-null  int64  \n",
            " 11  IsActiveMember   10000 non-null  int64  \n",
            " 12  EstimatedSalary  10000 non-null  float64\n",
            " 13  Exited           10000 non-null  int64  \n",
            "dtypes: float64(3), int64(8), object(3)\n",
            "memory usage: 1.1+ MB\n"
          ]
        }
      ],
      "source": [
        "df.info()"
      ]
    },
    {
      "cell_type": "markdown",
      "metadata": {
        "id": "t2C55zMfelhV"
      },
      "source": [
        "Типы данных совпадают с ожидаемыми. Есть пропуски в столбце 'Tenure' - сколько лет человек является клиентом банка, возможно, это обусловлено тем, что клиент только недавно стал клиентом и целого количества лет еще нет, следовательно, надо заменить такие значения на 0. Названия столбцов придется поменять: многие написаны с заглавной буквы, это неудобно. "
      ]
    },
    {
      "cell_type": "code",
      "execution_count": null,
      "metadata": {
        "id": "aYUONn6MelhW"
      },
      "outputs": [],
      "source": [
        "df['Tenure'] = df['Tenure'].fillna(0)"
      ]
    },
    {
      "cell_type": "code",
      "execution_count": null,
      "metadata": {
        "colab": {
          "base_uri": "https://localhost:8080/"
        },
        "id": "qlJYaqX8elhY",
        "outputId": "ba5d2955-bedd-4179-a0f8-e7edc448792b"
      },
      "outputs": [
        {
          "output_type": "execute_result",
          "data": {
            "text/plain": [
              "Index(['rownumber', 'customerid', 'surname', 'creditscore', 'geography',\n",
              "       'gender', 'age', 'tenure', 'balance', 'numofproducts', 'hascrcard',\n",
              "       'isactivemember', 'estimatedsalary', 'exited'],\n",
              "      dtype='object')"
            ]
          },
          "metadata": {},
          "execution_count": 8
        }
      ],
      "source": [
        "df.columns = df.columns.str.lower()\n",
        "df.columns"
      ]
    },
    {
      "cell_type": "markdown",
      "metadata": {
        "id": "2ARFyhrCelhY"
      },
      "source": [
        "Аналогично поступим и со значениями в столбцах."
      ]
    },
    {
      "cell_type": "code",
      "execution_count": null,
      "metadata": {
        "id": "LZjY9fOIelhY"
      },
      "outputs": [],
      "source": [
        "for i in ['surname','geography','gender']:\n",
        "    df[i] = df[i].str.lower()"
      ]
    },
    {
      "cell_type": "markdown",
      "metadata": {
        "id": "wZ4lBN_VelhZ"
      },
      "source": [
        "Все заголовки столбцов и значения категориальных признаков стали единого шрифта, но требуется еще разделить названия некоторых столбцов с помощью \"_\". "
      ]
    },
    {
      "cell_type": "code",
      "execution_count": null,
      "metadata": {
        "scrolled": true,
        "colab": {
          "base_uri": "https://localhost:8080/",
          "height": 206
        },
        "id": "d7ji3aIYelhZ",
        "outputId": "4885b5c5-fa96-40d1-ea3c-c2451f25baa6"
      },
      "outputs": [
        {
          "output_type": "execute_result",
          "data": {
            "text/plain": [
              "   row_number  customer_id   surname  credit_score geography  gender  age  \\\n",
              "0           1     15634602  hargrave           619    france  female   42   \n",
              "1           2     15647311      hill           608     spain  female   41   \n",
              "2           3     15619304      onio           502    france  female   42   \n",
              "3           4     15701354      boni           699    france  female   39   \n",
              "4           5     15737888  mitchell           850     spain  female   43   \n",
              "\n",
              "   tenure    balance  num_of_products  has_cr_card  is_active_member  \\\n",
              "0     2.0       0.00                1            1                 1   \n",
              "1     1.0   83807.86                1            0                 1   \n",
              "2     8.0  159660.80                3            1                 0   \n",
              "3     1.0       0.00                2            0                 0   \n",
              "4     2.0  125510.82                1            1                 1   \n",
              "\n",
              "   estimated_salary  exited  \n",
              "0         101348.88       1  \n",
              "1         112542.58       0  \n",
              "2         113931.57       1  \n",
              "3          93826.63       0  \n",
              "4          79084.10       0  "
            ],
            "text/html": [
              "\n",
              "  <div id=\"df-8ec0ef20-78c0-4dfa-95b5-3b75aa1ba106\">\n",
              "    <div class=\"colab-df-container\">\n",
              "      <div>\n",
              "<style scoped>\n",
              "    .dataframe tbody tr th:only-of-type {\n",
              "        vertical-align: middle;\n",
              "    }\n",
              "\n",
              "    .dataframe tbody tr th {\n",
              "        vertical-align: top;\n",
              "    }\n",
              "\n",
              "    .dataframe thead th {\n",
              "        text-align: right;\n",
              "    }\n",
              "</style>\n",
              "<table border=\"1\" class=\"dataframe\">\n",
              "  <thead>\n",
              "    <tr style=\"text-align: right;\">\n",
              "      <th></th>\n",
              "      <th>row_number</th>\n",
              "      <th>customer_id</th>\n",
              "      <th>surname</th>\n",
              "      <th>credit_score</th>\n",
              "      <th>geography</th>\n",
              "      <th>gender</th>\n",
              "      <th>age</th>\n",
              "      <th>tenure</th>\n",
              "      <th>balance</th>\n",
              "      <th>num_of_products</th>\n",
              "      <th>has_cr_card</th>\n",
              "      <th>is_active_member</th>\n",
              "      <th>estimated_salary</th>\n",
              "      <th>exited</th>\n",
              "    </tr>\n",
              "  </thead>\n",
              "  <tbody>\n",
              "    <tr>\n",
              "      <th>0</th>\n",
              "      <td>1</td>\n",
              "      <td>15634602</td>\n",
              "      <td>hargrave</td>\n",
              "      <td>619</td>\n",
              "      <td>france</td>\n",
              "      <td>female</td>\n",
              "      <td>42</td>\n",
              "      <td>2.0</td>\n",
              "      <td>0.00</td>\n",
              "      <td>1</td>\n",
              "      <td>1</td>\n",
              "      <td>1</td>\n",
              "      <td>101348.88</td>\n",
              "      <td>1</td>\n",
              "    </tr>\n",
              "    <tr>\n",
              "      <th>1</th>\n",
              "      <td>2</td>\n",
              "      <td>15647311</td>\n",
              "      <td>hill</td>\n",
              "      <td>608</td>\n",
              "      <td>spain</td>\n",
              "      <td>female</td>\n",
              "      <td>41</td>\n",
              "      <td>1.0</td>\n",
              "      <td>83807.86</td>\n",
              "      <td>1</td>\n",
              "      <td>0</td>\n",
              "      <td>1</td>\n",
              "      <td>112542.58</td>\n",
              "      <td>0</td>\n",
              "    </tr>\n",
              "    <tr>\n",
              "      <th>2</th>\n",
              "      <td>3</td>\n",
              "      <td>15619304</td>\n",
              "      <td>onio</td>\n",
              "      <td>502</td>\n",
              "      <td>france</td>\n",
              "      <td>female</td>\n",
              "      <td>42</td>\n",
              "      <td>8.0</td>\n",
              "      <td>159660.80</td>\n",
              "      <td>3</td>\n",
              "      <td>1</td>\n",
              "      <td>0</td>\n",
              "      <td>113931.57</td>\n",
              "      <td>1</td>\n",
              "    </tr>\n",
              "    <tr>\n",
              "      <th>3</th>\n",
              "      <td>4</td>\n",
              "      <td>15701354</td>\n",
              "      <td>boni</td>\n",
              "      <td>699</td>\n",
              "      <td>france</td>\n",
              "      <td>female</td>\n",
              "      <td>39</td>\n",
              "      <td>1.0</td>\n",
              "      <td>0.00</td>\n",
              "      <td>2</td>\n",
              "      <td>0</td>\n",
              "      <td>0</td>\n",
              "      <td>93826.63</td>\n",
              "      <td>0</td>\n",
              "    </tr>\n",
              "    <tr>\n",
              "      <th>4</th>\n",
              "      <td>5</td>\n",
              "      <td>15737888</td>\n",
              "      <td>mitchell</td>\n",
              "      <td>850</td>\n",
              "      <td>spain</td>\n",
              "      <td>female</td>\n",
              "      <td>43</td>\n",
              "      <td>2.0</td>\n",
              "      <td>125510.82</td>\n",
              "      <td>1</td>\n",
              "      <td>1</td>\n",
              "      <td>1</td>\n",
              "      <td>79084.10</td>\n",
              "      <td>0</td>\n",
              "    </tr>\n",
              "  </tbody>\n",
              "</table>\n",
              "</div>\n",
              "      <button class=\"colab-df-convert\" onclick=\"convertToInteractive('df-8ec0ef20-78c0-4dfa-95b5-3b75aa1ba106')\"\n",
              "              title=\"Convert this dataframe to an interactive table.\"\n",
              "              style=\"display:none;\">\n",
              "        \n",
              "  <svg xmlns=\"http://www.w3.org/2000/svg\" height=\"24px\"viewBox=\"0 0 24 24\"\n",
              "       width=\"24px\">\n",
              "    <path d=\"M0 0h24v24H0V0z\" fill=\"none\"/>\n",
              "    <path d=\"M18.56 5.44l.94 2.06.94-2.06 2.06-.94-2.06-.94-.94-2.06-.94 2.06-2.06.94zm-11 1L8.5 8.5l.94-2.06 2.06-.94-2.06-.94L8.5 2.5l-.94 2.06-2.06.94zm10 10l.94 2.06.94-2.06 2.06-.94-2.06-.94-.94-2.06-.94 2.06-2.06.94z\"/><path d=\"M17.41 7.96l-1.37-1.37c-.4-.4-.92-.59-1.43-.59-.52 0-1.04.2-1.43.59L10.3 9.45l-7.72 7.72c-.78.78-.78 2.05 0 2.83L4 21.41c.39.39.9.59 1.41.59.51 0 1.02-.2 1.41-.59l7.78-7.78 2.81-2.81c.8-.78.8-2.07 0-2.86zM5.41 20L4 18.59l7.72-7.72 1.47 1.35L5.41 20z\"/>\n",
              "  </svg>\n",
              "      </button>\n",
              "      \n",
              "  <style>\n",
              "    .colab-df-container {\n",
              "      display:flex;\n",
              "      flex-wrap:wrap;\n",
              "      gap: 12px;\n",
              "    }\n",
              "\n",
              "    .colab-df-convert {\n",
              "      background-color: #E8F0FE;\n",
              "      border: none;\n",
              "      border-radius: 50%;\n",
              "      cursor: pointer;\n",
              "      display: none;\n",
              "      fill: #1967D2;\n",
              "      height: 32px;\n",
              "      padding: 0 0 0 0;\n",
              "      width: 32px;\n",
              "    }\n",
              "\n",
              "    .colab-df-convert:hover {\n",
              "      background-color: #E2EBFA;\n",
              "      box-shadow: 0px 1px 2px rgba(60, 64, 67, 0.3), 0px 1px 3px 1px rgba(60, 64, 67, 0.15);\n",
              "      fill: #174EA6;\n",
              "    }\n",
              "\n",
              "    [theme=dark] .colab-df-convert {\n",
              "      background-color: #3B4455;\n",
              "      fill: #D2E3FC;\n",
              "    }\n",
              "\n",
              "    [theme=dark] .colab-df-convert:hover {\n",
              "      background-color: #434B5C;\n",
              "      box-shadow: 0px 1px 3px 1px rgba(0, 0, 0, 0.15);\n",
              "      filter: drop-shadow(0px 1px 2px rgba(0, 0, 0, 0.3));\n",
              "      fill: #FFFFFF;\n",
              "    }\n",
              "  </style>\n",
              "\n",
              "      <script>\n",
              "        const buttonEl =\n",
              "          document.querySelector('#df-8ec0ef20-78c0-4dfa-95b5-3b75aa1ba106 button.colab-df-convert');\n",
              "        buttonEl.style.display =\n",
              "          google.colab.kernel.accessAllowed ? 'block' : 'none';\n",
              "\n",
              "        async function convertToInteractive(key) {\n",
              "          const element = document.querySelector('#df-8ec0ef20-78c0-4dfa-95b5-3b75aa1ba106');\n",
              "          const dataTable =\n",
              "            await google.colab.kernel.invokeFunction('convertToInteractive',\n",
              "                                                     [key], {});\n",
              "          if (!dataTable) return;\n",
              "\n",
              "          const docLinkHtml = 'Like what you see? Visit the ' +\n",
              "            '<a target=\"_blank\" href=https://colab.research.google.com/notebooks/data_table.ipynb>data table notebook</a>'\n",
              "            + ' to learn more about interactive tables.';\n",
              "          element.innerHTML = '';\n",
              "          dataTable['output_type'] = 'display_data';\n",
              "          await google.colab.output.renderOutput(dataTable, element);\n",
              "          const docLink = document.createElement('div');\n",
              "          docLink.innerHTML = docLinkHtml;\n",
              "          element.appendChild(docLink);\n",
              "        }\n",
              "      </script>\n",
              "    </div>\n",
              "  </div>\n",
              "  "
            ]
          },
          "metadata": {},
          "execution_count": 10
        }
      ],
      "source": [
        "df = df.rename(columns={'rownumber':'row_number',\n",
        "                       'creditscore':'credit_score',\n",
        "                       'numofproducts':'num_of_products',\n",
        "                       'hascrcard':'has_cr_card',\n",
        "                       'isactivemember':'is_active_member',\n",
        "                       'estimatedsalary':'estimated_salary',\n",
        "                       'customerid':'customer_id'})\n",
        "df.head()"
      ]
    },
    {
      "cell_type": "markdown",
      "metadata": {
        "id": "O0T4pgO3elha"
      },
      "source": [
        "Теперь данные готовы к проверке на дубликаты."
      ]
    },
    {
      "cell_type": "code",
      "execution_count": null,
      "metadata": {
        "colab": {
          "base_uri": "https://localhost:8080/"
        },
        "id": "hWdMeuSjelhb",
        "outputId": "231ae935-87d7-4268-8413-3e229a45be5c"
      },
      "outputs": [
        {
          "output_type": "execute_result",
          "data": {
            "text/plain": [
              "0"
            ]
          },
          "metadata": {},
          "execution_count": 11
        }
      ],
      "source": [
        "df.duplicated().sum()"
      ]
    },
    {
      "cell_type": "markdown",
      "metadata": {
        "id": "r6cLAPQ4elhb"
      },
      "source": [
        "Дубликатов нет."
      ]
    },
    {
      "cell_type": "markdown",
      "metadata": {
        "id": "fMbB5lapelhb"
      },
      "source": [
        "### Вывод\n",
        "- импортировали нужные библиотеки\n",
        "- переименовали столбцы\n",
        "- значения столбцов сделали также строчными буквами\n",
        "- дубликатов нет"
      ]
    },
    {
      "cell_type": "markdown",
      "metadata": {
        "id": "c0Ya4CXeelhc"
      },
      "source": [
        "## Исследование задачи"
      ]
    },
    {
      "cell_type": "markdown",
      "metadata": {
        "id": "XB6U3A_Melhc"
      },
      "source": [
        "На этом этапе выясним баланс классов целевого признака. Обучим модель без учета дисбаланса. Но сначала разобьем данные на признаки и целевой признак. Такие признаки как 'row_number', 'customer_id', 'surname' удалим, так как они не несут важной для обучения информации."
      ]
    },
    {
      "cell_type": "code",
      "execution_count": null,
      "metadata": {
        "id": "CnYTejz_elhc"
      },
      "outputs": [],
      "source": [
        "features = df.drop(['exited','row_number', 'customer_id', 'surname'],axis=1) \n",
        "target = df['exited'] "
      ]
    },
    {
      "cell_type": "markdown",
      "metadata": {
        "id": "BgRFoD_5elhd"
      },
      "source": [
        "Теперь преобразуем таблицу с признаками техникой OHE."
      ]
    },
    {
      "cell_type": "code",
      "execution_count": null,
      "metadata": {
        "colab": {
          "base_uri": "https://localhost:8080/",
          "height": 206
        },
        "id": "d0r1GjlUelhd",
        "outputId": "767cceed-2082-4756-ddf4-49cb9fa531d0"
      },
      "outputs": [
        {
          "output_type": "execute_result",
          "data": {
            "text/plain": [
              "   credit_score  age  tenure    balance  num_of_products  has_cr_card  \\\n",
              "0           619   42     2.0       0.00                1            1   \n",
              "1           608   41     1.0   83807.86                1            0   \n",
              "2           502   42     8.0  159660.80                3            1   \n",
              "3           699   39     1.0       0.00                2            0   \n",
              "4           850   43     2.0  125510.82                1            1   \n",
              "\n",
              "   is_active_member  estimated_salary  geography_germany  geography_spain  \\\n",
              "0                 1         101348.88                  0                0   \n",
              "1                 1         112542.58                  0                1   \n",
              "2                 0         113931.57                  0                0   \n",
              "3                 0          93826.63                  0                0   \n",
              "4                 1          79084.10                  0                1   \n",
              "\n",
              "   gender_male  \n",
              "0            0  \n",
              "1            0  \n",
              "2            0  \n",
              "3            0  \n",
              "4            0  "
            ],
            "text/html": [
              "\n",
              "  <div id=\"df-8d0e5880-8906-428a-a781-99e5a43b3465\">\n",
              "    <div class=\"colab-df-container\">\n",
              "      <div>\n",
              "<style scoped>\n",
              "    .dataframe tbody tr th:only-of-type {\n",
              "        vertical-align: middle;\n",
              "    }\n",
              "\n",
              "    .dataframe tbody tr th {\n",
              "        vertical-align: top;\n",
              "    }\n",
              "\n",
              "    .dataframe thead th {\n",
              "        text-align: right;\n",
              "    }\n",
              "</style>\n",
              "<table border=\"1\" class=\"dataframe\">\n",
              "  <thead>\n",
              "    <tr style=\"text-align: right;\">\n",
              "      <th></th>\n",
              "      <th>credit_score</th>\n",
              "      <th>age</th>\n",
              "      <th>tenure</th>\n",
              "      <th>balance</th>\n",
              "      <th>num_of_products</th>\n",
              "      <th>has_cr_card</th>\n",
              "      <th>is_active_member</th>\n",
              "      <th>estimated_salary</th>\n",
              "      <th>geography_germany</th>\n",
              "      <th>geography_spain</th>\n",
              "      <th>gender_male</th>\n",
              "    </tr>\n",
              "  </thead>\n",
              "  <tbody>\n",
              "    <tr>\n",
              "      <th>0</th>\n",
              "      <td>619</td>\n",
              "      <td>42</td>\n",
              "      <td>2.0</td>\n",
              "      <td>0.00</td>\n",
              "      <td>1</td>\n",
              "      <td>1</td>\n",
              "      <td>1</td>\n",
              "      <td>101348.88</td>\n",
              "      <td>0</td>\n",
              "      <td>0</td>\n",
              "      <td>0</td>\n",
              "    </tr>\n",
              "    <tr>\n",
              "      <th>1</th>\n",
              "      <td>608</td>\n",
              "      <td>41</td>\n",
              "      <td>1.0</td>\n",
              "      <td>83807.86</td>\n",
              "      <td>1</td>\n",
              "      <td>0</td>\n",
              "      <td>1</td>\n",
              "      <td>112542.58</td>\n",
              "      <td>0</td>\n",
              "      <td>1</td>\n",
              "      <td>0</td>\n",
              "    </tr>\n",
              "    <tr>\n",
              "      <th>2</th>\n",
              "      <td>502</td>\n",
              "      <td>42</td>\n",
              "      <td>8.0</td>\n",
              "      <td>159660.80</td>\n",
              "      <td>3</td>\n",
              "      <td>1</td>\n",
              "      <td>0</td>\n",
              "      <td>113931.57</td>\n",
              "      <td>0</td>\n",
              "      <td>0</td>\n",
              "      <td>0</td>\n",
              "    </tr>\n",
              "    <tr>\n",
              "      <th>3</th>\n",
              "      <td>699</td>\n",
              "      <td>39</td>\n",
              "      <td>1.0</td>\n",
              "      <td>0.00</td>\n",
              "      <td>2</td>\n",
              "      <td>0</td>\n",
              "      <td>0</td>\n",
              "      <td>93826.63</td>\n",
              "      <td>0</td>\n",
              "      <td>0</td>\n",
              "      <td>0</td>\n",
              "    </tr>\n",
              "    <tr>\n",
              "      <th>4</th>\n",
              "      <td>850</td>\n",
              "      <td>43</td>\n",
              "      <td>2.0</td>\n",
              "      <td>125510.82</td>\n",
              "      <td>1</td>\n",
              "      <td>1</td>\n",
              "      <td>1</td>\n",
              "      <td>79084.10</td>\n",
              "      <td>0</td>\n",
              "      <td>1</td>\n",
              "      <td>0</td>\n",
              "    </tr>\n",
              "  </tbody>\n",
              "</table>\n",
              "</div>\n",
              "      <button class=\"colab-df-convert\" onclick=\"convertToInteractive('df-8d0e5880-8906-428a-a781-99e5a43b3465')\"\n",
              "              title=\"Convert this dataframe to an interactive table.\"\n",
              "              style=\"display:none;\">\n",
              "        \n",
              "  <svg xmlns=\"http://www.w3.org/2000/svg\" height=\"24px\"viewBox=\"0 0 24 24\"\n",
              "       width=\"24px\">\n",
              "    <path d=\"M0 0h24v24H0V0z\" fill=\"none\"/>\n",
              "    <path d=\"M18.56 5.44l.94 2.06.94-2.06 2.06-.94-2.06-.94-.94-2.06-.94 2.06-2.06.94zm-11 1L8.5 8.5l.94-2.06 2.06-.94-2.06-.94L8.5 2.5l-.94 2.06-2.06.94zm10 10l.94 2.06.94-2.06 2.06-.94-2.06-.94-.94-2.06-.94 2.06-2.06.94z\"/><path d=\"M17.41 7.96l-1.37-1.37c-.4-.4-.92-.59-1.43-.59-.52 0-1.04.2-1.43.59L10.3 9.45l-7.72 7.72c-.78.78-.78 2.05 0 2.83L4 21.41c.39.39.9.59 1.41.59.51 0 1.02-.2 1.41-.59l7.78-7.78 2.81-2.81c.8-.78.8-2.07 0-2.86zM5.41 20L4 18.59l7.72-7.72 1.47 1.35L5.41 20z\"/>\n",
              "  </svg>\n",
              "      </button>\n",
              "      \n",
              "  <style>\n",
              "    .colab-df-container {\n",
              "      display:flex;\n",
              "      flex-wrap:wrap;\n",
              "      gap: 12px;\n",
              "    }\n",
              "\n",
              "    .colab-df-convert {\n",
              "      background-color: #E8F0FE;\n",
              "      border: none;\n",
              "      border-radius: 50%;\n",
              "      cursor: pointer;\n",
              "      display: none;\n",
              "      fill: #1967D2;\n",
              "      height: 32px;\n",
              "      padding: 0 0 0 0;\n",
              "      width: 32px;\n",
              "    }\n",
              "\n",
              "    .colab-df-convert:hover {\n",
              "      background-color: #E2EBFA;\n",
              "      box-shadow: 0px 1px 2px rgba(60, 64, 67, 0.3), 0px 1px 3px 1px rgba(60, 64, 67, 0.15);\n",
              "      fill: #174EA6;\n",
              "    }\n",
              "\n",
              "    [theme=dark] .colab-df-convert {\n",
              "      background-color: #3B4455;\n",
              "      fill: #D2E3FC;\n",
              "    }\n",
              "\n",
              "    [theme=dark] .colab-df-convert:hover {\n",
              "      background-color: #434B5C;\n",
              "      box-shadow: 0px 1px 3px 1px rgba(0, 0, 0, 0.15);\n",
              "      filter: drop-shadow(0px 1px 2px rgba(0, 0, 0, 0.3));\n",
              "      fill: #FFFFFF;\n",
              "    }\n",
              "  </style>\n",
              "\n",
              "      <script>\n",
              "        const buttonEl =\n",
              "          document.querySelector('#df-8d0e5880-8906-428a-a781-99e5a43b3465 button.colab-df-convert');\n",
              "        buttonEl.style.display =\n",
              "          google.colab.kernel.accessAllowed ? 'block' : 'none';\n",
              "\n",
              "        async function convertToInteractive(key) {\n",
              "          const element = document.querySelector('#df-8d0e5880-8906-428a-a781-99e5a43b3465');\n",
              "          const dataTable =\n",
              "            await google.colab.kernel.invokeFunction('convertToInteractive',\n",
              "                                                     [key], {});\n",
              "          if (!dataTable) return;\n",
              "\n",
              "          const docLinkHtml = 'Like what you see? Visit the ' +\n",
              "            '<a target=\"_blank\" href=https://colab.research.google.com/notebooks/data_table.ipynb>data table notebook</a>'\n",
              "            + ' to learn more about interactive tables.';\n",
              "          element.innerHTML = '';\n",
              "          dataTable['output_type'] = 'display_data';\n",
              "          await google.colab.output.renderOutput(dataTable, element);\n",
              "          const docLink = document.createElement('div');\n",
              "          docLink.innerHTML = docLinkHtml;\n",
              "          element.appendChild(docLink);\n",
              "        }\n",
              "      </script>\n",
              "    </div>\n",
              "  </div>\n",
              "  "
            ]
          },
          "metadata": {},
          "execution_count": 13
        }
      ],
      "source": [
        "features = pd.get_dummies(features,drop_first=True)\n",
        "features.head()"
      ]
    },
    {
      "cell_type": "markdown",
      "metadata": {
        "id": "7Lt9aHfMelhe"
      },
      "source": [
        "А теперь разобьем получившиеся датасеты на несколько выборок: обучающую, валидационную и тестовую в соотношении 3:1:1. "
      ]
    },
    {
      "cell_type": "code",
      "execution_count": null,
      "metadata": {
        "id": "ju8YqlnXelhf"
      },
      "outputs": [],
      "source": [
        "#отделим 40% от features, target\n",
        "features_train, features_study,target_train,target_study = train_test_split(\n",
        "    features, target, test_size=0.4, random_state=12345) \n",
        "\n",
        "#разделим еще пополам\n",
        "features_test,features_valid,target_test,target_valid=train_test_split(\n",
        "    features_study, target_study, test_size=0.5, random_state=12345,stratify=target_study) "
      ]
    },
    {
      "cell_type": "markdown",
      "metadata": {
        "id": "06nFJrSqelhf"
      },
      "source": [
        "Проверяем корректность разбиения"
      ]
    },
    {
      "cell_type": "code",
      "execution_count": null,
      "metadata": {
        "colab": {
          "base_uri": "https://localhost:8080/"
        },
        "id": "pFO3Uetuelhg",
        "outputId": "6775d6c5-663e-45cf-832f-c14ef4f795b9"
      },
      "outputs": [
        {
          "output_type": "execute_result",
          "data": {
            "text/plain": [
              "((6000, 11), (6000,), (2000, 11), (2000, 11), (2000,), (2000,))"
            ]
          },
          "metadata": {},
          "execution_count": 15
        }
      ],
      "source": [
        "features_train.shape,target_train.shape,features_test.shape,features_valid.shape,target_test.shape,target_valid.shape"
      ]
    },
    {
      "cell_type": "markdown",
      "metadata": {
        "id": "8Q10O37Belhg"
      },
      "source": [
        "Выборки разбиты в верном соотношении. Масштабируем признаки."
      ]
    },
    {
      "cell_type": "code",
      "execution_count": null,
      "metadata": {
        "colab": {
          "base_uri": "https://localhost:8080/"
        },
        "id": "zXNbN7k2elhj",
        "outputId": "2b47d476-2408-42dd-a925-d8ab167353fb"
      },
      "outputs": [
        {
          "output_type": "execute_result",
          "data": {
            "text/plain": [
              "pandas.core.frame.DataFrame"
            ]
          },
          "metadata": {},
          "execution_count": 36
        }
      ],
      "source": [
        "pd.options.mode.chained_assignment = None\n",
        "\n",
        "scaler = StandardScaler()\n",
        "\n",
        "num_columns = ['credit_score', 'age', 'tenure', 'balance', 'num_of_products', 'estimated_salary']\n",
        "scaler.fit(features_train[num_columns])\n",
        "features_train[num_columns] = scaler.transform(features_train[num_columns])\n",
        "features_valid[num_columns] = scaler.transform(features_valid[num_columns])\n",
        "features_test[num_columns] = scaler.transform(features_test[num_columns])\n",
        "\n",
        "type(features_train)"
      ]
    },
    {
      "cell_type": "markdown",
      "metadata": {
        "id": "LJQ20WrMelhj"
      },
      "source": [
        "### Без учёта классов"
      ]
    },
    {
      "cell_type": "markdown",
      "metadata": {
        "id": "y1Vlluw0elhj"
      },
      "source": [
        "Проверим, есть ли дисбаланс классов в целевом признаке."
      ]
    },
    {
      "cell_type": "code",
      "execution_count": null,
      "metadata": {
        "colab": {
          "base_uri": "https://localhost:8080/"
        },
        "id": "T6rA3mK5elhk",
        "outputId": "6f16a7c3-64c7-40ea-8399-5a56095f71b8"
      },
      "outputs": [
        {
          "output_type": "execute_result",
          "data": {
            "text/plain": [
              "0    0.7963\n",
              "1    0.2037\n",
              "Name: exited, dtype: float64"
            ]
          },
          "metadata": {},
          "execution_count": 19
        }
      ],
      "source": [
        "df['exited'].value_counts(normalize=True) "
      ]
    },
    {
      "cell_type": "markdown",
      "metadata": {
        "id": "EjUI6wfGelhk"
      },
      "source": [
        "Отобразим это на графике."
      ]
    },
    {
      "cell_type": "code",
      "execution_count": null,
      "metadata": {
        "colab": {
          "base_uri": "https://localhost:8080/",
          "height": 309
        },
        "id": "vi1OzafYelhk",
        "outputId": "2273436a-0035-4526-96d4-9c08bbf34aed"
      },
      "outputs": [
        {
          "output_type": "execute_result",
          "data": {
            "text/plain": [
              "Text(0.5, 1.0, 'Дисбаланс классов')"
            ]
          },
          "metadata": {},
          "execution_count": 20
        },
        {
          "output_type": "display_data",
          "data": {
            "text/plain": [
              "<Figure size 432x288 with 1 Axes>"
            ],
            "image/png": "[encoded data removed]"
          },
          "metadata": {
            "needs_background": "light"
          }
        }
      ],
      "source": [
        "df.groupby('exited')['gender'].count().plot(kind='bar',\n",
        "                                            x='genre', \n",
        "                                            y='total_sales', \n",
        "                                            grid=True)\n",
        "plt.title('Дисбаланс классов')"
      ]
    },
    {
      "cell_type": "markdown",
      "metadata": {
        "id": "U1MA3lhJelhl"
      },
      "source": [
        "Ушедших клиентов явно меньше оставшихся. Для начала обучим модель без учета дисбаланса "
      ]
    },
    {
      "cell_type": "code",
      "execution_count": null,
      "metadata": {
        "scrolled": true,
        "colab": {
          "base_uri": "https://localhost:8080/"
        },
        "id": "WqDllBvzelhm",
        "outputId": "d700ebe0-3cd5-4060-bbc3-7bce0d39d808"
      },
      "outputs": [
        {
          "output_type": "stream",
          "name": "stdout",
          "text": [
            "F1: 0.3063380281690141\n"
          ]
        }
      ],
      "source": [
        "model = LogisticRegression(random_state=12345, solver='liblinear')\n",
        "model.fit(features_train, target_train)\n",
        "predicted_valid = model.predict(features_valid)\n",
        "print(\"F1:\", f1_score(target_valid, predicted_valid))"
      ]
    },
    {
      "cell_type": "markdown",
      "metadata": {
        "id": "YCRuD2UJelhm"
      },
      "source": [
        "Метрика F-1 показала низкий результат. Построим ROC-кривую."
      ]
    },
    {
      "cell_type": "code",
      "execution_count": null,
      "metadata": {
        "colab": {
          "base_uri": "https://localhost:8080/",
          "height": 295
        },
        "id": "uxxl2pcFelhn",
        "outputId": "b7e7279f-3a78-43ef-841b-8e7ff1242250"
      },
      "outputs": [
        {
          "output_type": "display_data",
          "data": {
            "text/plain": [
              "<Figure size 432x288 with 1 Axes>"
            ],
            "image/png": "[encoded data removed]"
          },
          "metadata": {
            "needs_background": "light"
          }
        }
      ],
      "source": [
        "probabilities_valid = model.predict_proba(features_valid)\n",
        "probabilities_one_valid = probabilities_valid[:, 1]\n",
        "\n",
        "fpr, tpr, thresholds = roc_curve(target_valid,probabilities_one_valid)\n",
        "\n",
        "plt.figure()\n",
        "plt.plot(fpr, tpr)\n",
        "\n",
        "# ROC-кривая случайной модели  - прямая\n",
        "plt.plot([0, 1], [0, 1], linestyle='--')\n",
        "\n",
        "#   установим границы осей от 0 до 1 \n",
        "plt.xlim([0.0, 1.0])\n",
        "plt.ylim([0.0, 1.0])\n",
        "\n",
        "#   подпишем оси \"False Positive Rate\" и \"True Positive Rate\" \n",
        "plt.xlabel('False Positive Rate')\n",
        "plt.ylabel('True Positive Rate')\n",
        "\n",
        "\n",
        "plt.title('ROC-кривая')\n",
        "plt.show()"
      ]
    },
    {
      "cell_type": "markdown",
      "metadata": {
        "id": "__bZIzCkelho"
      },
      "source": [
        "На графике отметим, что TPR находится на небольшом расстоянии от случайно модели, что свидетельствует о её низком качестве. Теперь измерим показатель AUC-ROC."
      ]
    },
    {
      "cell_type": "code",
      "execution_count": null,
      "metadata": {
        "colab": {
          "base_uri": "https://localhost:8080/"
        },
        "id": "Q0qcYVdwelho",
        "outputId": "d36c3366-9310-44cf-de29-ede752b24efc"
      },
      "outputs": [
        {
          "output_type": "execute_result",
          "data": {
            "text/plain": [
              "0.7422603978300182"
            ]
          },
          "metadata": {},
          "execution_count": 23
        }
      ],
      "source": [
        "auc_roc = roc_auc_score(target_valid, probabilities_one_valid)\n",
        "auc_roc"
      ]
    },
    {
      "cell_type": "markdown",
      "metadata": {
        "id": "tRaAyia9elho"
      },
      "source": [
        "Значение в 0.64 - немного выше случайной модели.  Качество оставляет желать лучшего, можно предположить, что проблема в дисбалансе классов. Проверим еще одну модель - случайный лес на тех же данных, возможно метрика будет лучше. Сначала подберем параметры для нее c помощью функции count_trees."
      ]
    },
    {
      "cell_type": "code",
      "execution_count": null,
      "metadata": {
        "id": "xuhrhaOFelho"
      },
      "outputs": [],
      "source": [
        "def count_trees(features,target,features_valid,target_valid):\n",
        "    best_model_forest = None\n",
        "    best_result = 0\n",
        "    best_est=0\n",
        "    best_depth=0\n",
        "    \n",
        "    for est in range(1, 30):  #перебираем значения для количества деревьев\n",
        "        for depth in range(1,15): #перебираем значения для глубины дерева\n",
        "            \n",
        "            model = RandomForestClassifier(random_state=12345, n_estimators=est,max_depth=depth) \n",
        "            model.fit(features,target) \n",
        "            predicted_valid = model.predict(features_valid)\n",
        "            result = f1_score(target_valid, predicted_valid)\n",
        "            \n",
        "            if result > best_result: #сохраняем лучший результат, если он выше предыдущего\n",
        "                best_model_forest = model \n",
        "                best_result = result \n",
        "                \n",
        "    return [best_model_forest,best_result]"
      ]
    },
    {
      "cell_type": "markdown",
      "metadata": {
        "id": "7am39mQWelhq"
      },
      "source": [
        "Подставим наши данные. "
      ]
    },
    {
      "cell_type": "code",
      "execution_count": null,
      "metadata": {
        "colab": {
          "base_uri": "https://localhost:8080/"
        },
        "id": "XVEr_ROhelhq",
        "outputId": "ce4563a9-9173-48f9-afba-fc18d8c0e369"
      },
      "outputs": [
        {
          "output_type": "execute_result",
          "data": {
            "text/plain": [
              "[RandomForestClassifier(max_depth=12, n_estimators=19, random_state=12345),\n",
              " 0.5705705705705706]"
            ]
          },
          "metadata": {},
          "execution_count": 25
        }
      ],
      "source": [
        "count_trees(features_train,target_train,features_valid,target_valid)"
      ]
    },
    {
      "cell_type": "markdown",
      "metadata": {
        "id": "vstvBp0aelhq"
      },
      "source": [
        "Проверяем метрики на случайном лесе с параметраметрами: глубина - 12 и количество деревьев - 14."
      ]
    },
    {
      "cell_type": "code",
      "execution_count": null,
      "metadata": {
        "colab": {
          "base_uri": "https://localhost:8080/"
        },
        "id": "lWwCe0EUelhq",
        "outputId": "5acf831f-6c51-4dd8-fa32-3bb8a8d2b0ac"
      },
      "outputs": [
        {
          "output_type": "stream",
          "name": "stdout",
          "text": [
            "F1: 0.5683890577507599\n",
            "AUC_ROC: 0.8466674201326101\n"
          ]
        }
      ],
      "source": [
        "#зададим модель случайного леса\n",
        "model = RandomForestClassifier(random_state=12345, max_depth=12,n_estimators=20)\n",
        "model.fit(features_train, target_train)\n",
        "predicted_valid = model.predict(features_valid)\n",
        "print(\"F1:\", f1_score(target_valid, predicted_valid))\n",
        "\n",
        "probabilities_valid = model.predict_proba(features_valid)\n",
        "probabilities_one_valid = probabilities_valid[:, 1]\n",
        "auc_roc = roc_auc_score(target_valid, probabilities_one_valid)\n",
        "print(\"AUC_ROC:\", auc_roc)"
      ]
    },
    {
      "cell_type": "markdown",
      "metadata": {
        "id": "q-yT0HmVelhr"
      },
      "source": [
        "Уже виден прогресс даже с дисбалансом классов, поэтому для дельнейших действий выберем эту модель."
      ]
    },
    {
      "cell_type": "markdown",
      "metadata": {
        "id": "ZK0EvyJFelhr"
      },
      "source": [
        "### Вывод\n",
        " - В датасете явно отличается количество тех, кто ушел из банка и тех, кто остался. Выше мы не учитывали этот дисбаланс, соответственно предполагаем это как основную причину низкого значения метрики f-1. \n",
        " - Была построена модель линейной регрессии и вычислены метрики f-1 и auc-roc. Показатели низкие.\n",
        " - Был построен график линейной регресии и случайной модели, заметим небольшое расстояние между ними. Его надо увеличить: чем выше график, тем больше TPR и тем лучше качество модели.\n",
        " - Метрики f-1 и auc-roc были найдены и на модели случайного леса. Показатели выше, чем у регрессии. Выбираем её для дальнейшего исследования.\n",
        " - Предполагаем, что учитывая дисбаланс можно улучшить качество модели. "
      ]
    },
    {
      "cell_type": "markdown",
      "metadata": {
        "id": "6wpXivLYelhr"
      },
      "source": [
        "## Борьба с дисбалансом"
      ]
    },
    {
      "cell_type": "markdown",
      "metadata": {
        "id": "l3bBRmttelhs"
      },
      "source": [
        "Сделаем вес классов сбалансированным. Проверим, изменится ли мера f-1."
      ]
    },
    {
      "cell_type": "code",
      "execution_count": null,
      "metadata": {
        "colab": {
          "base_uri": "https://localhost:8080/"
        },
        "id": "C0ny3rnCelhs",
        "outputId": "fe534786-0132-470f-f3d7-326f94612d36"
      },
      "outputs": [
        {
          "output_type": "stream",
          "name": "stdout",
          "text": [
            "F1: 0.5805592543275633\n",
            "AUC_ROC: 0.8314624773960217\n"
          ]
        }
      ],
      "source": [
        "model = RandomForestClassifier(random_state=12345, class_weight='balanced', max_depth=12, n_estimators=20)\n",
        "model.fit(features_train, target_train)\n",
        "predicted_valid = model.predict(features_valid)\n",
        "print(\"F1:\", f1_score(target_valid, predicted_valid))\n",
        "\n",
        "probabilities_valid = model.predict_proba(features_valid)\n",
        "probabilities_one_valid = probabilities_valid[:, 1]\n",
        "auc_roc = roc_auc_score(target_valid, probabilities_one_valid)\n",
        "print(\"AUC_ROC:\", auc_roc)"
      ]
    },
    {
      "cell_type": "markdown",
      "metadata": {
        "id": "km588xHoelhs"
      },
      "source": [
        "Изменив вес и сбалансировав классы, удалось изменить меру f-1. Применим технику upsample, т.е. увеличим количество редких значений, обучим модель на них, изменится ли после этого показатель? Для начала создадим функцию."
      ]
    },
    {
      "cell_type": "code",
      "execution_count": null,
      "metadata": {
        "id": "qQePnL_Yelht"
      },
      "outputs": [],
      "source": [
        "def upsample(features, target, repeat):\n",
        "    \n",
        "    features_zeros = features[target == 0] #поделим на отрицательные и положительные\n",
        "    features_ones = features[target == 1]\n",
        "    target_zeros = target[target == 0]\n",
        "    target_ones = target[target == 1]\n",
        "    \n",
        "    features_upsampled = pd.concat([features_zeros] + [features_ones] * repeat) #увеличим кол-во положительных объектов\n",
        "    target_upsampled = pd.concat([target_zeros] + [target_ones] * repeat)    #и объединим их с отрицательными\n",
        "    \n",
        "    features_upsampled, target_upsampled = shuffle(    #перемешаем для лучшего обучения\n",
        "        features_upsampled, target_upsampled, random_state=12345)  \n",
        "    \n",
        "    return features_upsampled, target_upsampled"
      ]
    },
    {
      "cell_type": "markdown",
      "metadata": {
        "id": "ZXAPi7xNelht"
      },
      "source": [
        "Подставим наши данные в эту функцию."
      ]
    },
    {
      "cell_type": "code",
      "execution_count": null,
      "metadata": {
        "colab": {
          "base_uri": "https://localhost:8080/"
        },
        "id": "OaVrbZbnelht",
        "outputId": "f7a2e2d5-c3b6-40b7-a7d8-db91b46d1b56"
      },
      "outputs": [
        {
          "output_type": "stream",
          "name": "stdout",
          "text": [
            "F1: 0.6041666666666667\n",
            "AUC_ROC: 0.8374080771549126\n"
          ]
        }
      ],
      "source": [
        "#преобразуем данные с помощью функции upsample\n",
        "features_upsampled, target_upsampled = upsample(features_train, target_train, 4)\n",
        "\n",
        "model = RandomForestClassifier(random_state=12345, class_weight='balanced', max_depth=12, n_estimators=20)\n",
        "model.fit(features_upsampled, target_upsampled)\n",
        "\n",
        "predicted_valid = model.predict(features_valid)\n",
        "print(\"F1:\", f1_score(target_valid, predicted_valid))\n",
        "\n",
        "probabilities_valid = model.predict_proba(features_valid)\n",
        "probabilities_one_valid = probabilities_valid[:, 1]\n",
        "auc_roc = roc_auc_score(target_valid, probabilities_one_valid)\n",
        "print(\"AUC_ROC:\", auc_roc)"
      ]
    },
    {
      "cell_type": "markdown",
      "metadata": {
        "id": "hnF1WYMkelhv"
      },
      "source": [
        "Значение F-1 выросло, стало больше чем 0.59. Теперь проверим технику downsample. Напишем функцию."
      ]
    },
    {
      "cell_type": "code",
      "execution_count": null,
      "metadata": {
        "id": "2xq3ZKPUelhv"
      },
      "outputs": [],
      "source": [
        "def downsample(features, target, fraction):\n",
        "    \n",
        "    features_zeros = features[target == 0]\n",
        "    features_ones = features[target == 1]\n",
        "    target_zeros = target[target == 0]\n",
        "    target_ones = target[target == 1]\n",
        "    \n",
        "    features_downsampled = pd.concat( #сократим отрицательные объекты и объединим их с положительными\n",
        "        [features_zeros.sample(frac=fraction, random_state=12345)] + [features_ones])\n",
        "    target_downsampled = pd.concat(\n",
        "        [target_zeros.sample(frac=fraction, random_state=12345)] + [target_ones])    \n",
        "    \n",
        "    features_downsampled, target_downsampled = shuffle( #перемешаем для лучшего обучения\n",
        "        features_downsampled, target_downsampled, random_state=12345)    \n",
        "    \n",
        "    return features_downsampled, target_downsampled"
      ]
    },
    {
      "cell_type": "markdown",
      "metadata": {
        "id": "P67BtZvjelhv"
      },
      "source": [
        "Подставим в новую функцию наши данные. "
      ]
    },
    {
      "cell_type": "code",
      "execution_count": null,
      "metadata": {
        "colab": {
          "base_uri": "https://localhost:8080/"
        },
        "id": "edwIASmLelhv",
        "outputId": "bf0ad84a-6574-42c3-ca21-7a68da0f6eee"
      },
      "outputs": [
        {
          "output_type": "stream",
          "name": "stdout",
          "text": [
            "F1: 0.5813084112149532\n",
            "AUC_ROC: 0.834080771549126\n"
          ]
        }
      ],
      "source": [
        "#подставим данные в функцию downsample\n",
        "features_downsampled, target_downsampled = downsample(features_train, target_train, 0.25)\n",
        "\n",
        "model = RandomForestClassifier(random_state=12345, class_weight='balanced', max_depth=12, n_estimators=20)\n",
        "model.fit(features_downsampled, target_downsampled)\n",
        "\n",
        "predicted_valid = model.predict(features_valid)\n",
        "print(\"F1:\", f1_score(target_valid, predicted_valid))\n",
        "\n",
        "probabilities_valid = model.predict_proba(features_valid)\n",
        "probabilities_one_valid = probabilities_valid[:, 1]\n",
        "auc_roc = roc_auc_score(target_valid, probabilities_one_valid)\n",
        "print(\"AUC_ROC:\", auc_roc)"
      ]
    },
    {
      "cell_type": "markdown",
      "metadata": {
        "id": "wU5E2UC-elhx"
      },
      "source": [
        "Проверим, как себя будет вести модель логистической регрессии после работы с дисбалансом, применяя upsample."
      ]
    },
    {
      "cell_type": "code",
      "execution_count": null,
      "metadata": {
        "colab": {
          "base_uri": "https://localhost:8080/"
        },
        "id": "THRJxh49elhx",
        "outputId": "53f89f47-0f0a-4b5f-9de9-ed5493d3d526"
      },
      "outputs": [
        {
          "output_type": "stream",
          "name": "stdout",
          "text": [
            "F1: 0.4688581314878893\n",
            "AUC_ROC: 0.7457142857142858\n"
          ]
        }
      ],
      "source": [
        "#применяем технику upsample\n",
        "features_upsampled, target_upsampled = upsample(features_train, target_train, 4)\n",
        "\n",
        "#на модели логистической регрессии\n",
        "model = LogisticRegression(random_state=12345, solver='liblinear')\n",
        "model.fit(features_upsampled, target_upsampled)\n",
        "predicted_valid = model.predict(features_valid)\n",
        "print(\"F1:\", f1_score(target_valid, predicted_valid))\n",
        "\n",
        "probabilities_valid = model.predict_proba(features_valid)\n",
        "probabilities_one_valid = probabilities_valid[:, 1]\n",
        "auc_roc = roc_auc_score(target_valid, probabilities_one_valid)\n",
        "print(\"AUC_ROC:\", auc_roc)"
      ]
    },
    {
      "cell_type": "markdown",
      "metadata": {
        "id": "ZnO2Q0Gpelhy"
      },
      "source": [
        "Показатели ниже, проверим технику downsample."
      ]
    },
    {
      "cell_type": "code",
      "execution_count": null,
      "metadata": {
        "colab": {
          "base_uri": "https://localhost:8080/"
        },
        "id": "t_rFycsmelhy",
        "outputId": "26269452-b946-43e5-c15a-b87ed2f5eedf"
      },
      "outputs": [
        {
          "output_type": "stream",
          "name": "stdout",
          "text": [
            "F1: 0.47668393782383417\n",
            "AUC_ROC: 0.7472830018083183\n"
          ]
        }
      ],
      "source": [
        "#применяем технику downsample\n",
        "features_downsampled, target_downsampled = downsample(features_train, target_train, 0.25)\n",
        "\n",
        "#на модели логистической регрессии\n",
        "model = LogisticRegression(random_state=12345, solver='liblinear')\n",
        "model.fit(features_downsampled, target_downsampled)\n",
        "predicted_valid = model.predict(features_valid)\n",
        "print(\"F1:\", f1_score(target_valid, predicted_valid))\n",
        "\n",
        "probabilities_valid = model.predict_proba(features_valid)\n",
        "probabilities_one_valid = probabilities_valid[:, 1]\n",
        "auc_roc = roc_auc_score(target_valid, probabilities_one_valid)\n",
        "print(\"AUC_ROC:\", auc_roc)"
      ]
    },
    {
      "cell_type": "markdown",
      "metadata": {
        "id": "2r7HokQhelhz"
      },
      "source": [
        "Лучше, чем без учёта дисбаланса, но хуже, чем показатели на случайном лесе."
      ]
    },
    {
      "cell_type": "markdown",
      "metadata": {
        "id": "KmKg5l8Delhz"
      },
      "source": [
        "### Вывод\n",
        "- После взвешивания классов параметр f-1 изменился в большую сторону на случайном лесе\n",
        "- Было применено 2 способа борьбы с дисбалансом, в обоих случаях мера f-1 увеличилась\n",
        "- При upsample на случайном лесе мера f-1 увеличилась до 0.608 для этого пришлось увеличить количество положительных объектов в 4 раза\n",
        "- При downsample на случайном лесе f-1 увеличилась до 0.592 для этого пришлось сократить на четверть отрицательные объекты \n",
        "- На модели логистической регрессии f-1 также увеличилась по сравнению со значением без учета дисбаланса, однако по сравнению с моделью случайного леса показатель низкий. "
      ]
    },
    {
      "cell_type": "markdown",
      "metadata": {
        "id": "frtOQdMBelhz"
      },
      "source": [
        "## Тестирование модели"
      ]
    },
    {
      "cell_type": "markdown",
      "metadata": {
        "id": "Y_Vfr9rwelhz"
      },
      "source": [
        "Проведем тестирование на лучшей модели. Проверим метрику f-1."
      ]
    },
    {
      "cell_type": "code",
      "execution_count": null,
      "metadata": {
        "colab": {
          "base_uri": "https://localhost:8080/"
        },
        "id": "IJBy8d5Pelhz",
        "outputId": "a5ea8639-acb6-4f98-a854-494d4fe721d9"
      },
      "outputs": [
        {
          "output_type": "stream",
          "name": "stdout",
          "text": [
            "F1: 0.5988571428571428\n",
            "AUC_ROC: 0.8383579613062778\n"
          ]
        }
      ],
      "source": [
        "features_upsampled, target_upsampled = upsample(features_train, target_train, 4)\n",
        "\n",
        "model = RandomForestClassifier(random_state=12345, class_weight='balanced', max_depth=12, n_estimators=20)\n",
        "model.fit(features_upsampled, target_upsampled)\n",
        "predicted_test = model.predict(features_test)\n",
        "print(\"F1:\", f1_score(target_test, predicted_test))\n",
        "probabilities_test = model.predict_proba(features_test)\n",
        "probabilities_one_test = probabilities_test[:, 1]\n",
        "auc_roc = roc_auc_score(target_test, probabilities_one_test)\n",
        "print(\"AUC_ROC:\", auc_roc)"
      ]
    },
    {
      "cell_type": "markdown",
      "metadata": {
        "id": "rikGBMGHelh1"
      },
      "source": [
        "## Общий вывод\n",
        "Для проведения исследования понадобилось \n",
        "- заменить на нули пропуски в столбце 'Tenure', \n",
        "- переименовать столбцы, \n",
        "- сделать их одного размера. \n",
        "\n",
        "Проверка на дубликаты показала, что их нет. \n",
        "\n",
        "Затем исследован дисбаланс классов. \n",
        "- Он составил практически 4:1. \n",
        "- Построены 2 обучающие модели: логистическая регрессия и случайный лес.\n",
        "- Логистическая регрессия показала наихудший результат метрики f-1 и auc-roc\n",
        "- Для леса с помощью функции были подобраны параметры, которые улучшили f-1 и auc-roc в несколько раз, поэтому на ней остановились\n",
        "\n",
        "Для борьбы с дисбалансом:\n",
        "- был добавлен параметр class_weight='balanced'\n",
        "- применены 2 способа улучшения качества модели upsampling и downsampling\n",
        "- оба способа улучшили метрики f-1 и auc-roc, но upsampling немного лучше\n",
        "\n",
        "Тестирование \n",
        "- по показателям была выбрана техника upsampling\n",
        "- результат f-1 доведен до 0.6, а показатель auc-roc имеет достаточно высокое значение 0.84."
      ]
    }
  ],
  "metadata": {
    "ExecuteTimeLog": [
      {
        "duration": 1688,
        "start_time": "2022-07-08T13:48:56.890Z"
      },
      {
        "duration": 205,
        "start_time": "2022-07-08T13:50:21.796Z"
      },
      {
        "duration": 19,
        "start_time": "2022-07-08T13:51:21.635Z"
      },
      {
        "duration": 6,
        "start_time": "2022-07-08T13:56:07.508Z"
      },
      {
        "duration": 47,
        "start_time": "2022-07-08T19:26:49.178Z"
      },
      {
        "duration": 1480,
        "start_time": "2022-07-08T19:26:57.889Z"
      },
      {
        "duration": 72,
        "start_time": "2022-07-08T19:26:59.371Z"
      },
      {
        "duration": 13,
        "start_time": "2022-07-08T19:26:59.445Z"
      },
      {
        "duration": 8,
        "start_time": "2022-07-08T19:26:59.460Z"
      },
      {
        "duration": 18,
        "start_time": "2022-07-08T19:26:59.470Z"
      },
      {
        "duration": 14,
        "start_time": "2022-07-08T19:31:31.773Z"
      },
      {
        "duration": 14,
        "start_time": "2022-07-08T19:34:28.951Z"
      },
      {
        "duration": 4,
        "start_time": "2022-07-08T19:37:00.781Z"
      },
      {
        "duration": 4,
        "start_time": "2022-07-08T19:43:08.685Z"
      },
      {
        "duration": 13,
        "start_time": "2022-07-08T19:45:28.673Z"
      },
      {
        "duration": 5,
        "start_time": "2022-07-08T19:45:56.041Z"
      },
      {
        "duration": 1119,
        "start_time": "2022-07-09T10:54:32.015Z"
      },
      {
        "duration": 71,
        "start_time": "2022-07-09T10:54:33.136Z"
      },
      {
        "duration": 11,
        "start_time": "2022-07-09T10:54:33.208Z"
      },
      {
        "duration": 8,
        "start_time": "2022-07-09T10:54:33.221Z"
      },
      {
        "duration": 14,
        "start_time": "2022-07-09T10:54:33.230Z"
      },
      {
        "duration": 13,
        "start_time": "2022-07-09T10:54:33.245Z"
      },
      {
        "duration": 20,
        "start_time": "2022-07-09T10:54:33.260Z"
      },
      {
        "duration": 3,
        "start_time": "2022-07-09T10:54:33.281Z"
      },
      {
        "duration": 14,
        "start_time": "2022-07-09T10:54:33.286Z"
      },
      {
        "duration": 3,
        "start_time": "2022-07-09T10:54:33.302Z"
      },
      {
        "duration": 4,
        "start_time": "2022-07-09T10:58:16.651Z"
      },
      {
        "duration": 123,
        "start_time": "2022-07-09T10:59:09.058Z"
      },
      {
        "duration": 31,
        "start_time": "2022-07-09T11:01:12.121Z"
      },
      {
        "duration": 14,
        "start_time": "2022-07-09T11:03:32.254Z"
      },
      {
        "duration": 8,
        "start_time": "2022-07-09T11:07:41.685Z"
      },
      {
        "duration": 21,
        "start_time": "2022-07-09T11:07:50.645Z"
      },
      {
        "duration": 6,
        "start_time": "2022-07-09T11:08:01.418Z"
      },
      {
        "duration": 20,
        "start_time": "2022-07-09T11:08:22.704Z"
      },
      {
        "duration": 5,
        "start_time": "2022-07-09T11:08:25.341Z"
      },
      {
        "duration": 5,
        "start_time": "2022-07-09T11:10:11.486Z"
      },
      {
        "duration": 5,
        "start_time": "2022-07-09T11:12:07.494Z"
      },
      {
        "duration": 13,
        "start_time": "2022-07-09T11:12:16.262Z"
      },
      {
        "duration": 21,
        "start_time": "2022-07-09T11:12:27.596Z"
      },
      {
        "duration": 10,
        "start_time": "2022-07-09T11:12:55.088Z"
      },
      {
        "duration": 26,
        "start_time": "2022-07-09T11:12:59.707Z"
      },
      {
        "duration": 4,
        "start_time": "2022-07-09T11:14:19.738Z"
      },
      {
        "duration": 1102,
        "start_time": "2022-07-09T11:15:52.270Z"
      },
      {
        "duration": 45,
        "start_time": "2022-07-09T11:15:53.375Z"
      },
      {
        "duration": 22,
        "start_time": "2022-07-09T11:15:53.421Z"
      },
      {
        "duration": 9,
        "start_time": "2022-07-09T11:15:53.444Z"
      },
      {
        "duration": 14,
        "start_time": "2022-07-09T11:15:53.456Z"
      },
      {
        "duration": 13,
        "start_time": "2022-07-09T11:15:53.471Z"
      },
      {
        "duration": 15,
        "start_time": "2022-07-09T11:15:53.486Z"
      },
      {
        "duration": 4,
        "start_time": "2022-07-09T11:15:53.503Z"
      },
      {
        "duration": 5,
        "start_time": "2022-07-09T11:15:53.531Z"
      },
      {
        "duration": 15,
        "start_time": "2022-07-09T11:15:53.537Z"
      },
      {
        "duration": 7,
        "start_time": "2022-07-09T11:15:53.553Z"
      },
      {
        "duration": 22,
        "start_time": "2022-07-09T11:15:53.562Z"
      },
      {
        "duration": 5,
        "start_time": "2022-07-09T11:15:53.585Z"
      },
      {
        "duration": 119,
        "start_time": "2022-07-09T11:15:53.593Z"
      },
      {
        "duration": 16,
        "start_time": "2022-07-09T11:16:52.393Z"
      },
      {
        "duration": 5,
        "start_time": "2022-07-09T11:16:58.487Z"
      },
      {
        "duration": 5,
        "start_time": "2022-07-09T11:17:13.175Z"
      },
      {
        "duration": 3,
        "start_time": "2022-07-09T11:18:58.896Z"
      },
      {
        "duration": 40,
        "start_time": "2022-07-09T11:18:58.901Z"
      },
      {
        "duration": 10,
        "start_time": "2022-07-09T11:18:58.942Z"
      },
      {
        "duration": 4,
        "start_time": "2022-07-09T11:18:58.954Z"
      },
      {
        "duration": 13,
        "start_time": "2022-07-09T11:18:58.959Z"
      },
      {
        "duration": 14,
        "start_time": "2022-07-09T11:18:58.973Z"
      },
      {
        "duration": 15,
        "start_time": "2022-07-09T11:18:58.988Z"
      },
      {
        "duration": 22,
        "start_time": "2022-07-09T11:18:59.004Z"
      },
      {
        "duration": 4,
        "start_time": "2022-07-09T11:19:02.472Z"
      },
      {
        "duration": 18,
        "start_time": "2022-07-09T11:19:14.095Z"
      },
      {
        "duration": 17,
        "start_time": "2022-07-09T11:19:55.635Z"
      },
      {
        "duration": 18,
        "start_time": "2022-07-09T11:20:03.895Z"
      },
      {
        "duration": 1067,
        "start_time": "2022-07-09T11:20:15.640Z"
      },
      {
        "duration": 42,
        "start_time": "2022-07-09T11:20:16.709Z"
      },
      {
        "duration": 11,
        "start_time": "2022-07-09T11:20:16.753Z"
      },
      {
        "duration": 11,
        "start_time": "2022-07-09T11:20:16.766Z"
      },
      {
        "duration": 21,
        "start_time": "2022-07-09T11:20:16.780Z"
      },
      {
        "duration": 18,
        "start_time": "2022-07-09T11:20:16.802Z"
      },
      {
        "duration": 14,
        "start_time": "2022-07-09T11:20:16.824Z"
      },
      {
        "duration": 111,
        "start_time": "2022-07-09T11:20:16.840Z"
      },
      {
        "duration": 0,
        "start_time": "2022-07-09T11:20:16.953Z"
      },
      {
        "duration": 0,
        "start_time": "2022-07-09T11:20:16.954Z"
      },
      {
        "duration": 0,
        "start_time": "2022-07-09T11:20:16.956Z"
      },
      {
        "duration": 0,
        "start_time": "2022-07-09T11:20:16.957Z"
      },
      {
        "duration": 0,
        "start_time": "2022-07-09T11:20:16.958Z"
      },
      {
        "duration": 0,
        "start_time": "2022-07-09T11:20:16.960Z"
      },
      {
        "duration": 1136,
        "start_time": "2022-07-09T11:20:43.663Z"
      },
      {
        "duration": 50,
        "start_time": "2022-07-09T11:20:44.801Z"
      },
      {
        "duration": 16,
        "start_time": "2022-07-09T11:20:44.853Z"
      },
      {
        "duration": 5,
        "start_time": "2022-07-09T11:20:44.871Z"
      },
      {
        "duration": 16,
        "start_time": "2022-07-09T11:20:44.878Z"
      },
      {
        "duration": 36,
        "start_time": "2022-07-09T11:20:44.896Z"
      },
      {
        "duration": 14,
        "start_time": "2022-07-09T11:20:44.934Z"
      },
      {
        "duration": 4,
        "start_time": "2022-07-09T11:20:44.950Z"
      },
      {
        "duration": 21,
        "start_time": "2022-07-09T11:20:44.956Z"
      },
      {
        "duration": 19,
        "start_time": "2022-07-09T11:20:44.979Z"
      },
      {
        "duration": 27,
        "start_time": "2022-07-09T11:20:44.999Z"
      },
      {
        "duration": 11,
        "start_time": "2022-07-09T11:20:45.028Z"
      },
      {
        "duration": 141,
        "start_time": "2022-07-09T11:20:45.041Z"
      },
      {
        "duration": 19,
        "start_time": "2022-07-09T11:21:00.320Z"
      },
      {
        "duration": 4,
        "start_time": "2022-07-09T11:21:17.090Z"
      },
      {
        "duration": 56,
        "start_time": "2022-07-09T11:21:17.096Z"
      },
      {
        "duration": 11,
        "start_time": "2022-07-09T11:21:17.153Z"
      },
      {
        "duration": 17,
        "start_time": "2022-07-09T11:21:17.166Z"
      },
      {
        "duration": 23,
        "start_time": "2022-07-09T11:21:17.184Z"
      },
      {
        "duration": 24,
        "start_time": "2022-07-09T11:21:17.208Z"
      },
      {
        "duration": 17,
        "start_time": "2022-07-09T11:21:17.234Z"
      },
      {
        "duration": 7,
        "start_time": "2022-07-09T11:21:17.253Z"
      },
      {
        "duration": 25,
        "start_time": "2022-07-09T11:21:21.037Z"
      },
      {
        "duration": 23,
        "start_time": "2022-07-09T11:24:55.750Z"
      },
      {
        "duration": 15,
        "start_time": "2022-07-09T11:25:12.622Z"
      },
      {
        "duration": 11,
        "start_time": "2022-07-09T11:25:32.890Z"
      },
      {
        "duration": 4,
        "start_time": "2022-07-09T11:25:35.693Z"
      },
      {
        "duration": 4,
        "start_time": "2022-07-09T11:25:39.262Z"
      },
      {
        "duration": 18,
        "start_time": "2022-07-09T11:25:41.650Z"
      },
      {
        "duration": 834,
        "start_time": "2022-07-09T11:28:33.221Z"
      },
      {
        "duration": 3,
        "start_time": "2022-07-09T11:28:45.210Z"
      },
      {
        "duration": 39,
        "start_time": "2022-07-09T11:28:45.216Z"
      },
      {
        "duration": 12,
        "start_time": "2022-07-09T11:28:45.257Z"
      },
      {
        "duration": 3,
        "start_time": "2022-07-09T11:28:47.925Z"
      },
      {
        "duration": 11,
        "start_time": "2022-07-09T11:28:56.764Z"
      },
      {
        "duration": 4,
        "start_time": "2022-07-09T11:29:11.783Z"
      },
      {
        "duration": 46,
        "start_time": "2022-07-09T11:29:11.789Z"
      },
      {
        "duration": 14,
        "start_time": "2022-07-09T11:29:11.836Z"
      },
      {
        "duration": 3,
        "start_time": "2022-07-09T11:29:11.852Z"
      },
      {
        "duration": 10,
        "start_time": "2022-07-09T11:29:11.858Z"
      },
      {
        "duration": 22,
        "start_time": "2022-07-09T11:29:11.869Z"
      },
      {
        "duration": 35,
        "start_time": "2022-07-09T11:29:11.893Z"
      },
      {
        "duration": 17,
        "start_time": "2022-07-09T11:29:11.929Z"
      },
      {
        "duration": 4,
        "start_time": "2022-07-09T11:29:11.947Z"
      },
      {
        "duration": 21,
        "start_time": "2022-07-09T11:29:11.952Z"
      },
      {
        "duration": 11,
        "start_time": "2022-07-09T11:29:11.974Z"
      },
      {
        "duration": 5,
        "start_time": "2022-07-09T11:29:15.062Z"
      },
      {
        "duration": 652,
        "start_time": "2022-07-09T11:29:17.619Z"
      },
      {
        "duration": 5,
        "start_time": "2022-07-09T11:30:15.808Z"
      },
      {
        "duration": 676,
        "start_time": "2022-07-09T11:30:25.693Z"
      },
      {
        "duration": 1239,
        "start_time": "2022-07-09T11:31:53.593Z"
      },
      {
        "duration": 4,
        "start_time": "2022-07-09T11:32:45.098Z"
      },
      {
        "duration": 693,
        "start_time": "2022-07-09T11:32:47.357Z"
      },
      {
        "duration": 1627,
        "start_time": "2022-07-09T11:32:50.617Z"
      },
      {
        "duration": 814,
        "start_time": "2022-07-09T11:33:05.198Z"
      },
      {
        "duration": 1357,
        "start_time": "2022-07-09T11:41:28.719Z"
      },
      {
        "duration": 717,
        "start_time": "2022-07-09T11:41:55.707Z"
      },
      {
        "duration": 666,
        "start_time": "2022-07-09T11:42:36.437Z"
      },
      {
        "duration": 4,
        "start_time": "2022-07-09T11:43:49.715Z"
      },
      {
        "duration": 8,
        "start_time": "2022-07-09T11:55:28.701Z"
      },
      {
        "duration": 89,
        "start_time": "2022-07-09T11:58:17.335Z"
      },
      {
        "duration": 132,
        "start_time": "2022-07-09T12:46:05.696Z"
      },
      {
        "duration": 3,
        "start_time": "2022-07-09T12:46:26.944Z"
      },
      {
        "duration": 264,
        "start_time": "2022-07-09T12:46:32.393Z"
      },
      {
        "duration": 9,
        "start_time": "2022-07-09T12:50:47.191Z"
      },
      {
        "duration": 4,
        "start_time": "2022-07-09T12:51:42.736Z"
      },
      {
        "duration": 12,
        "start_time": "2022-07-09T12:51:47.789Z"
      },
      {
        "duration": 8,
        "start_time": "2022-07-09T12:51:54.485Z"
      },
      {
        "duration": 1535,
        "start_time": "2022-07-10T12:21:51.286Z"
      },
      {
        "duration": 66,
        "start_time": "2022-07-10T12:21:52.823Z"
      },
      {
        "duration": 13,
        "start_time": "2022-07-10T12:21:52.890Z"
      },
      {
        "duration": 11,
        "start_time": "2022-07-10T12:21:52.904Z"
      },
      {
        "duration": 9,
        "start_time": "2022-07-10T12:21:52.917Z"
      },
      {
        "duration": 21,
        "start_time": "2022-07-10T12:21:52.927Z"
      },
      {
        "duration": 13,
        "start_time": "2022-07-10T12:21:52.950Z"
      },
      {
        "duration": 32,
        "start_time": "2022-07-10T12:21:52.964Z"
      },
      {
        "duration": 4,
        "start_time": "2022-07-10T12:21:52.998Z"
      },
      {
        "duration": 26,
        "start_time": "2022-07-10T12:21:53.003Z"
      },
      {
        "duration": 12,
        "start_time": "2022-07-10T12:21:53.031Z"
      },
      {
        "duration": 4,
        "start_time": "2022-07-10T12:21:53.045Z"
      },
      {
        "duration": 17,
        "start_time": "2022-07-10T12:21:53.051Z"
      },
      {
        "duration": 47,
        "start_time": "2022-07-10T12:21:53.071Z"
      },
      {
        "duration": 402,
        "start_time": "2022-07-10T12:21:53.120Z"
      },
      {
        "duration": 7,
        "start_time": "2022-07-10T12:21:53.523Z"
      },
      {
        "duration": 9,
        "start_time": "2022-07-10T12:27:58.964Z"
      },
      {
        "duration": 1250,
        "start_time": "2022-07-10T12:28:07.726Z"
      },
      {
        "duration": 42,
        "start_time": "2022-07-10T12:28:08.978Z"
      },
      {
        "duration": 11,
        "start_time": "2022-07-10T12:28:09.021Z"
      },
      {
        "duration": 4,
        "start_time": "2022-07-10T12:28:09.034Z"
      },
      {
        "duration": 6,
        "start_time": "2022-07-10T12:28:09.040Z"
      },
      {
        "duration": 14,
        "start_time": "2022-07-10T12:28:09.047Z"
      },
      {
        "duration": 13,
        "start_time": "2022-07-10T12:28:09.063Z"
      },
      {
        "duration": 13,
        "start_time": "2022-07-10T12:28:09.101Z"
      },
      {
        "duration": 4,
        "start_time": "2022-07-10T12:28:09.115Z"
      },
      {
        "duration": 20,
        "start_time": "2022-07-10T12:28:09.120Z"
      },
      {
        "duration": 8,
        "start_time": "2022-07-10T12:28:09.141Z"
      },
      {
        "duration": 6,
        "start_time": "2022-07-10T12:28:09.151Z"
      },
      {
        "duration": 12,
        "start_time": "2022-07-10T12:28:09.159Z"
      },
      {
        "duration": 49,
        "start_time": "2022-07-10T12:28:09.173Z"
      },
      {
        "duration": 383,
        "start_time": "2022-07-10T12:28:09.223Z"
      },
      {
        "duration": 7,
        "start_time": "2022-07-10T12:28:09.608Z"
      },
      {
        "duration": 39,
        "start_time": "2022-07-10T12:44:49.043Z"
      },
      {
        "duration": 56719,
        "start_time": "2022-07-10T13:08:56.876Z"
      },
      {
        "duration": 56761,
        "start_time": "2022-07-10T13:12:56.471Z"
      },
      {
        "duration": 101,
        "start_time": "2022-07-10T13:14:05.649Z"
      },
      {
        "duration": 638,
        "start_time": "2022-07-10T13:14:13.949Z"
      },
      {
        "duration": 82,
        "start_time": "2022-07-10T13:16:17.171Z"
      },
      {
        "duration": 81,
        "start_time": "2022-07-10T13:16:35.898Z"
      },
      {
        "duration": 83,
        "start_time": "2022-07-10T13:16:47.440Z"
      },
      {
        "duration": 90,
        "start_time": "2022-07-10T13:17:07.256Z"
      },
      {
        "duration": 86,
        "start_time": "2022-07-10T13:19:22.264Z"
      },
      {
        "duration": 644,
        "start_time": "2022-07-10T13:28:05.668Z"
      },
      {
        "duration": 88,
        "start_time": "2022-07-10T13:32:59.459Z"
      },
      {
        "duration": 81,
        "start_time": "2022-07-10T13:33:19.857Z"
      },
      {
        "duration": 90,
        "start_time": "2022-07-10T13:33:33.218Z"
      },
      {
        "duration": 90,
        "start_time": "2022-07-10T13:33:49.299Z"
      },
      {
        "duration": 4,
        "start_time": "2022-07-10T13:36:16.410Z"
      },
      {
        "duration": 4548,
        "start_time": "2022-07-10T13:36:53.853Z"
      },
      {
        "duration": 4,
        "start_time": "2022-07-10T13:37:57.080Z"
      },
      {
        "duration": 7346,
        "start_time": "2022-07-10T13:38:18.972Z"
      },
      {
        "duration": 98,
        "start_time": "2022-07-10T13:39:01.942Z"
      },
      {
        "duration": 5,
        "start_time": "2022-07-10T13:45:39.934Z"
      },
      {
        "duration": 4,
        "start_time": "2022-07-10T13:45:47.763Z"
      },
      {
        "duration": 7704,
        "start_time": "2022-07-10T13:47:35.071Z"
      },
      {
        "duration": 93,
        "start_time": "2022-07-10T13:47:57.898Z"
      },
      {
        "duration": 4,
        "start_time": "2022-07-10T13:50:33.372Z"
      },
      {
        "duration": 7450,
        "start_time": "2022-07-10T13:50:35.542Z"
      },
      {
        "duration": 101,
        "start_time": "2022-07-10T13:50:59.000Z"
      },
      {
        "duration": 4,
        "start_time": "2022-07-10T13:51:11.698Z"
      },
      {
        "duration": 7440,
        "start_time": "2022-07-10T13:51:13.748Z"
      },
      {
        "duration": 4,
        "start_time": "2022-07-10T13:51:33.795Z"
      },
      {
        "duration": 7460,
        "start_time": "2022-07-10T13:51:36.701Z"
      },
      {
        "duration": 103,
        "start_time": "2022-07-10T13:51:51.406Z"
      },
      {
        "duration": 1356,
        "start_time": "2022-07-10T13:52:52.791Z"
      },
      {
        "duration": 39,
        "start_time": "2022-07-10T13:52:54.149Z"
      },
      {
        "duration": 13,
        "start_time": "2022-07-10T13:52:54.190Z"
      },
      {
        "duration": 4,
        "start_time": "2022-07-10T13:52:54.205Z"
      },
      {
        "duration": 9,
        "start_time": "2022-07-10T13:52:54.210Z"
      },
      {
        "duration": 14,
        "start_time": "2022-07-10T13:52:54.220Z"
      },
      {
        "duration": 14,
        "start_time": "2022-07-10T13:52:54.236Z"
      },
      {
        "duration": 12,
        "start_time": "2022-07-10T13:52:54.251Z"
      },
      {
        "duration": 3,
        "start_time": "2022-07-10T13:52:54.265Z"
      },
      {
        "duration": 18,
        "start_time": "2022-07-10T13:52:54.300Z"
      },
      {
        "duration": 8,
        "start_time": "2022-07-10T13:52:54.319Z"
      },
      {
        "duration": 4,
        "start_time": "2022-07-10T13:52:54.328Z"
      },
      {
        "duration": 10,
        "start_time": "2022-07-10T13:52:54.333Z"
      },
      {
        "duration": 59,
        "start_time": "2022-07-10T13:52:54.344Z"
      },
      {
        "duration": 406,
        "start_time": "2022-07-10T13:52:54.404Z"
      },
      {
        "duration": 6,
        "start_time": "2022-07-10T13:52:54.811Z"
      },
      {
        "duration": 4,
        "start_time": "2022-07-10T13:52:54.818Z"
      },
      {
        "duration": 7424,
        "start_time": "2022-07-10T13:52:54.824Z"
      },
      {
        "duration": 101,
        "start_time": "2022-07-10T13:53:02.250Z"
      },
      {
        "duration": 106,
        "start_time": "2022-07-10T13:53:02.353Z"
      },
      {
        "duration": 99,
        "start_time": "2022-07-10T13:53:27.762Z"
      },
      {
        "duration": 100,
        "start_time": "2022-07-10T13:53:56.556Z"
      },
      {
        "duration": 104,
        "start_time": "2022-07-10T13:54:29.456Z"
      },
      {
        "duration": 4,
        "start_time": "2022-07-10T14:00:42.705Z"
      },
      {
        "duration": 4,
        "start_time": "2022-07-10T14:01:32.721Z"
      },
      {
        "duration": 4,
        "start_time": "2022-07-10T14:01:37.320Z"
      },
      {
        "duration": 118,
        "start_time": "2022-07-10T14:02:11.271Z"
      },
      {
        "duration": 4,
        "start_time": "2022-07-10T14:02:26.372Z"
      },
      {
        "duration": 14,
        "start_time": "2022-07-10T14:02:31.786Z"
      },
      {
        "duration": 178,
        "start_time": "2022-07-10T14:03:25.795Z"
      },
      {
        "duration": 195,
        "start_time": "2022-07-10T14:07:06.672Z"
      },
      {
        "duration": 193,
        "start_time": "2022-07-10T14:07:13.929Z"
      },
      {
        "duration": 4,
        "start_time": "2022-07-10T14:11:40.423Z"
      },
      {
        "duration": 21,
        "start_time": "2022-07-10T14:12:56.308Z"
      },
      {
        "duration": 61,
        "start_time": "2022-07-10T14:13:24.886Z"
      },
      {
        "duration": 87,
        "start_time": "2022-07-10T14:14:03.174Z"
      },
      {
        "duration": 77,
        "start_time": "2022-07-10T14:14:08.488Z"
      },
      {
        "duration": 66,
        "start_time": "2022-07-10T14:14:13.266Z"
      },
      {
        "duration": 81,
        "start_time": "2022-07-10T14:14:16.693Z"
      },
      {
        "duration": 91,
        "start_time": "2022-07-10T14:14:20.800Z"
      },
      {
        "duration": 86,
        "start_time": "2022-07-10T14:14:24.193Z"
      },
      {
        "duration": 288,
        "start_time": "2022-07-10T14:17:05.289Z"
      },
      {
        "duration": 190,
        "start_time": "2022-07-10T14:17:12.934Z"
      },
      {
        "duration": 256,
        "start_time": "2022-07-10T14:17:18.773Z"
      },
      {
        "duration": 183,
        "start_time": "2022-07-10T14:17:27.694Z"
      },
      {
        "duration": 502,
        "start_time": "2022-07-10T14:17:31.371Z"
      },
      {
        "duration": 155,
        "start_time": "2022-07-10T14:17:37.133Z"
      },
      {
        "duration": 185,
        "start_time": "2022-07-10T14:17:40.907Z"
      },
      {
        "duration": 87,
        "start_time": "2022-07-10T14:17:48.864Z"
      },
      {
        "duration": 93,
        "start_time": "2022-07-10T14:17:51.773Z"
      },
      {
        "duration": 24,
        "start_time": "2022-07-10T14:28:14.556Z"
      },
      {
        "duration": 72,
        "start_time": "2022-07-10T14:48:47.643Z"
      },
      {
        "duration": 138,
        "start_time": "2022-07-10T14:48:57.393Z"
      },
      {
        "duration": 180,
        "start_time": "2022-07-10T14:49:02.086Z"
      },
      {
        "duration": 1360,
        "start_time": "2022-07-10T14:52:19.190Z"
      },
      {
        "duration": 43,
        "start_time": "2022-07-10T14:52:20.551Z"
      },
      {
        "duration": 12,
        "start_time": "2022-07-10T14:52:20.595Z"
      },
      {
        "duration": 4,
        "start_time": "2022-07-10T14:52:20.609Z"
      },
      {
        "duration": 22,
        "start_time": "2022-07-10T14:52:20.614Z"
      },
      {
        "duration": 25,
        "start_time": "2022-07-10T14:52:20.637Z"
      },
      {
        "duration": 28,
        "start_time": "2022-07-10T14:52:20.663Z"
      },
      {
        "duration": 17,
        "start_time": "2022-07-10T14:52:20.692Z"
      },
      {
        "duration": 6,
        "start_time": "2022-07-10T14:52:20.710Z"
      },
      {
        "duration": 19,
        "start_time": "2022-07-10T14:52:20.719Z"
      },
      {
        "duration": 9,
        "start_time": "2022-07-10T14:52:20.740Z"
      },
      {
        "duration": 4,
        "start_time": "2022-07-10T14:52:20.750Z"
      },
      {
        "duration": 12,
        "start_time": "2022-07-10T14:52:20.756Z"
      },
      {
        "duration": 134,
        "start_time": "2022-07-10T14:52:20.770Z"
      },
      {
        "duration": 405,
        "start_time": "2022-07-10T14:52:20.905Z"
      },
      {
        "duration": 6,
        "start_time": "2022-07-10T14:52:21.312Z"
      },
      {
        "duration": 5,
        "start_time": "2022-07-10T14:52:21.320Z"
      },
      {
        "duration": 7652,
        "start_time": "2022-07-10T14:52:21.326Z"
      },
      {
        "duration": 103,
        "start_time": "2022-07-10T14:52:28.980Z"
      },
      {
        "duration": 110,
        "start_time": "2022-07-10T14:52:29.085Z"
      },
      {
        "duration": 5,
        "start_time": "2022-07-10T14:52:29.197Z"
      },
      {
        "duration": 200,
        "start_time": "2022-07-10T14:52:29.203Z"
      },
      {
        "duration": 4,
        "start_time": "2022-07-10T14:52:29.404Z"
      },
      {
        "duration": 102,
        "start_time": "2022-07-10T14:52:29.410Z"
      },
      {
        "duration": 26,
        "start_time": "2022-07-10T14:52:29.514Z"
      },
      {
        "duration": 183,
        "start_time": "2022-07-10T14:54:51.277Z"
      },
      {
        "duration": 2664,
        "start_time": "2022-07-10T15:11:03.799Z"
      },
      {
        "duration": 68,
        "start_time": "2022-07-10T15:11:06.465Z"
      },
      {
        "duration": 25,
        "start_time": "2022-07-10T15:11:06.534Z"
      },
      {
        "duration": 5,
        "start_time": "2022-07-10T15:11:06.561Z"
      },
      {
        "duration": 9,
        "start_time": "2022-07-10T15:11:06.567Z"
      },
      {
        "duration": 16,
        "start_time": "2022-07-10T15:11:06.577Z"
      },
      {
        "duration": 14,
        "start_time": "2022-07-10T15:11:06.594Z"
      },
      {
        "duration": 12,
        "start_time": "2022-07-10T15:11:06.609Z"
      },
      {
        "duration": 4,
        "start_time": "2022-07-10T15:11:06.622Z"
      },
      {
        "duration": 38,
        "start_time": "2022-07-10T15:11:06.628Z"
      },
      {
        "duration": 9,
        "start_time": "2022-07-10T15:11:06.668Z"
      },
      {
        "duration": 9,
        "start_time": "2022-07-10T15:11:06.678Z"
      },
      {
        "duration": 12,
        "start_time": "2022-07-10T15:11:06.688Z"
      },
      {
        "duration": 64,
        "start_time": "2022-07-10T15:11:06.701Z"
      },
      {
        "duration": 331,
        "start_time": "2022-07-10T15:11:06.766Z"
      },
      {
        "duration": 8,
        "start_time": "2022-07-10T15:11:07.099Z"
      },
      {
        "duration": 5,
        "start_time": "2022-07-10T15:11:07.109Z"
      },
      {
        "duration": 7894,
        "start_time": "2022-07-10T15:11:07.116Z"
      },
      {
        "duration": 119,
        "start_time": "2022-07-10T15:11:15.012Z"
      },
      {
        "duration": 117,
        "start_time": "2022-07-10T15:11:15.133Z"
      },
      {
        "duration": 10,
        "start_time": "2022-07-10T15:11:15.252Z"
      },
      {
        "duration": 209,
        "start_time": "2022-07-10T15:11:15.264Z"
      },
      {
        "duration": 4,
        "start_time": "2022-07-10T15:11:15.475Z"
      },
      {
        "duration": 94,
        "start_time": "2022-07-10T15:11:15.481Z"
      },
      {
        "duration": 206,
        "start_time": "2022-07-10T15:11:15.576Z"
      },
      {
        "duration": 72,
        "start_time": "2022-07-10T19:04:19.310Z"
      },
      {
        "duration": 3812,
        "start_time": "2022-07-10T19:04:25.671Z"
      },
      {
        "duration": 136,
        "start_time": "2022-07-10T19:04:29.486Z"
      },
      {
        "duration": 26,
        "start_time": "2022-07-10T19:04:29.631Z"
      },
      {
        "duration": 18,
        "start_time": "2022-07-10T19:04:29.662Z"
      },
      {
        "duration": 11,
        "start_time": "2022-07-10T19:04:29.683Z"
      },
      {
        "duration": 47,
        "start_time": "2022-07-10T19:04:29.697Z"
      },
      {
        "duration": 60,
        "start_time": "2022-07-10T19:04:29.747Z"
      },
      {
        "duration": 25,
        "start_time": "2022-07-10T19:04:29.809Z"
      },
      {
        "duration": 22,
        "start_time": "2022-07-10T19:04:29.836Z"
      },
      {
        "duration": 56,
        "start_time": "2022-07-10T19:04:29.863Z"
      },
      {
        "duration": 20,
        "start_time": "2022-07-10T19:04:29.921Z"
      },
      {
        "duration": 33,
        "start_time": "2022-07-10T19:04:29.948Z"
      },
      {
        "duration": 13,
        "start_time": "2022-07-10T19:04:29.983Z"
      },
      {
        "duration": 96,
        "start_time": "2022-07-10T19:04:30.000Z"
      },
      {
        "duration": 448,
        "start_time": "2022-07-10T19:04:30.127Z"
      },
      {
        "duration": 10,
        "start_time": "2022-07-10T19:04:30.577Z"
      },
      {
        "duration": 67,
        "start_time": "2022-07-10T19:04:30.589Z"
      },
      {
        "duration": 10038,
        "start_time": "2022-07-10T19:04:30.662Z"
      },
      {
        "duration": 134,
        "start_time": "2022-07-10T19:04:40.702Z"
      },
      {
        "duration": 140,
        "start_time": "2022-07-10T19:04:40.848Z"
      },
      {
        "duration": 5,
        "start_time": "2022-07-10T19:04:40.990Z"
      },
      {
        "duration": 287,
        "start_time": "2022-07-10T19:04:40.997Z"
      },
      {
        "duration": 5,
        "start_time": "2022-07-10T19:04:41.286Z"
      },
      {
        "duration": 137,
        "start_time": "2022-07-10T19:04:41.293Z"
      },
      {
        "duration": 6,
        "start_time": "2022-07-10T19:04:41.431Z"
      },
      {
        "duration": 274,
        "start_time": "2022-07-10T19:04:41.439Z"
      },
      {
        "duration": 10,
        "start_time": "2022-07-10T19:04:44.929Z"
      },
      {
        "duration": 2216,
        "start_time": "2022-07-11T09:35:37.260Z"
      },
      {
        "duration": 413,
        "start_time": "2022-07-11T09:35:39.479Z"
      },
      {
        "duration": 15,
        "start_time": "2022-07-11T09:35:39.897Z"
      },
      {
        "duration": 4,
        "start_time": "2022-07-11T09:35:39.913Z"
      },
      {
        "duration": 7,
        "start_time": "2022-07-11T09:35:39.918Z"
      },
      {
        "duration": 13,
        "start_time": "2022-07-11T09:35:39.927Z"
      },
      {
        "duration": 14,
        "start_time": "2022-07-11T09:35:39.942Z"
      },
      {
        "duration": 41,
        "start_time": "2022-07-11T09:35:39.958Z"
      },
      {
        "duration": 4,
        "start_time": "2022-07-11T09:35:40.002Z"
      },
      {
        "duration": 22,
        "start_time": "2022-07-11T09:35:40.008Z"
      },
      {
        "duration": 11,
        "start_time": "2022-07-11T09:35:40.031Z"
      },
      {
        "duration": 5,
        "start_time": "2022-07-11T09:35:40.043Z"
      },
      {
        "duration": 11,
        "start_time": "2022-07-11T09:35:40.050Z"
      },
      {
        "duration": 62,
        "start_time": "2022-07-11T09:35:40.063Z"
      },
      {
        "duration": 394,
        "start_time": "2022-07-11T09:35:40.127Z"
      },
      {
        "duration": 7,
        "start_time": "2022-07-11T09:35:40.522Z"
      },
      {
        "duration": 4,
        "start_time": "2022-07-11T09:35:40.531Z"
      },
      {
        "duration": 8695,
        "start_time": "2022-07-11T09:35:40.537Z"
      },
      {
        "duration": 121,
        "start_time": "2022-07-11T09:35:49.234Z"
      },
      {
        "duration": 116,
        "start_time": "2022-07-11T09:35:49.357Z"
      },
      {
        "duration": 5,
        "start_time": "2022-07-11T09:35:49.474Z"
      },
      {
        "duration": 222,
        "start_time": "2022-07-11T09:35:49.480Z"
      },
      {
        "duration": 5,
        "start_time": "2022-07-11T09:35:49.704Z"
      },
      {
        "duration": 106,
        "start_time": "2022-07-11T09:35:49.711Z"
      },
      {
        "duration": 216,
        "start_time": "2022-07-11T09:35:49.819Z"
      },
      {
        "duration": 11,
        "start_time": "2022-07-11T09:37:02.779Z"
      },
      {
        "duration": 4,
        "start_time": "2022-07-11T09:37:06.424Z"
      },
      {
        "duration": 133,
        "start_time": "2022-07-11T09:38:48.293Z"
      },
      {
        "duration": 183,
        "start_time": "2022-07-11T09:38:59.059Z"
      },
      {
        "duration": 229,
        "start_time": "2022-07-11T09:40:47.350Z"
      },
      {
        "duration": 121,
        "start_time": "2022-07-11T09:41:46.196Z"
      },
      {
        "duration": 11,
        "start_time": "2022-07-11T09:43:18.549Z"
      },
      {
        "duration": 18,
        "start_time": "2022-07-11T09:43:38.872Z"
      },
      {
        "duration": 14,
        "start_time": "2022-07-11T09:43:49.476Z"
      },
      {
        "duration": 8,
        "start_time": "2022-07-11T09:44:16.718Z"
      },
      {
        "duration": 10,
        "start_time": "2022-07-11T09:44:47.874Z"
      },
      {
        "duration": 6,
        "start_time": "2022-07-11T09:44:55.922Z"
      },
      {
        "duration": 7,
        "start_time": "2022-07-11T09:45:02.057Z"
      },
      {
        "duration": 131,
        "start_time": "2022-07-11T09:45:39.108Z"
      },
      {
        "duration": 124,
        "start_time": "2022-07-11T09:45:50.996Z"
      },
      {
        "duration": 141,
        "start_time": "2022-07-11T09:51:12.665Z"
      },
      {
        "duration": 127,
        "start_time": "2022-07-11T09:52:16.174Z"
      },
      {
        "duration": 140,
        "start_time": "2022-07-11T09:52:24.120Z"
      },
      {
        "duration": 130,
        "start_time": "2022-07-11T09:53:59.281Z"
      },
      {
        "duration": 135,
        "start_time": "2022-07-11T09:54:14.677Z"
      },
      {
        "duration": 6,
        "start_time": "2022-07-11T09:54:25.049Z"
      },
      {
        "duration": 126,
        "start_time": "2022-07-11T09:54:43.646Z"
      },
      {
        "duration": 166,
        "start_time": "2022-07-11T09:55:30.450Z"
      },
      {
        "duration": 105,
        "start_time": "2022-07-11T09:55:40.478Z"
      },
      {
        "duration": 1497,
        "start_time": "2022-07-11T09:56:29.997Z"
      },
      {
        "duration": 59,
        "start_time": "2022-07-11T09:56:31.496Z"
      },
      {
        "duration": 15,
        "start_time": "2022-07-11T09:56:31.557Z"
      },
      {
        "duration": 4,
        "start_time": "2022-07-11T09:56:31.574Z"
      },
      {
        "duration": 10,
        "start_time": "2022-07-11T09:56:31.580Z"
      },
      {
        "duration": 20,
        "start_time": "2022-07-11T09:56:31.592Z"
      },
      {
        "duration": 27,
        "start_time": "2022-07-11T09:56:31.614Z"
      },
      {
        "duration": 36,
        "start_time": "2022-07-11T09:56:31.643Z"
      },
      {
        "duration": 5,
        "start_time": "2022-07-11T09:56:31.681Z"
      },
      {
        "duration": 22,
        "start_time": "2022-07-11T09:56:31.689Z"
      },
      {
        "duration": 12,
        "start_time": "2022-07-11T09:56:31.713Z"
      },
      {
        "duration": 4,
        "start_time": "2022-07-11T09:56:31.727Z"
      },
      {
        "duration": 10,
        "start_time": "2022-07-11T09:56:31.733Z"
      },
      {
        "duration": 175,
        "start_time": "2022-07-11T09:56:31.746Z"
      },
      {
        "duration": 175,
        "start_time": "2022-07-11T09:56:31.923Z"
      },
      {
        "duration": 309,
        "start_time": "2022-07-11T09:56:32.100Z"
      },
      {
        "duration": 8,
        "start_time": "2022-07-11T09:56:32.411Z"
      },
      {
        "duration": 5,
        "start_time": "2022-07-11T09:56:32.421Z"
      },
      {
        "duration": 8653,
        "start_time": "2022-07-11T09:56:32.428Z"
      },
      {
        "duration": 125,
        "start_time": "2022-07-11T09:56:41.083Z"
      },
      {
        "duration": 117,
        "start_time": "2022-07-11T09:56:41.209Z"
      },
      {
        "duration": 5,
        "start_time": "2022-07-11T09:56:41.328Z"
      },
      {
        "duration": 178,
        "start_time": "2022-07-11T09:56:41.334Z"
      },
      {
        "duration": 4,
        "start_time": "2022-07-11T09:56:41.514Z"
      },
      {
        "duration": 106,
        "start_time": "2022-07-11T09:56:41.520Z"
      },
      {
        "duration": 232,
        "start_time": "2022-07-11T09:56:41.628Z"
      },
      {
        "duration": 5,
        "start_time": "2022-07-11T10:02:08.443Z"
      },
      {
        "duration": 2,
        "start_time": "2022-07-11T10:02:42.121Z"
      },
      {
        "duration": 3,
        "start_time": "2022-07-11T10:03:07.221Z"
      },
      {
        "duration": 13,
        "start_time": "2022-07-11T10:06:36.043Z"
      },
      {
        "duration": 6,
        "start_time": "2022-07-11T10:06:39.742Z"
      },
      {
        "duration": 125,
        "start_time": "2022-07-11T10:06:42.304Z"
      },
      {
        "duration": 1482,
        "start_time": "2022-07-11T10:07:52.786Z"
      },
      {
        "duration": 60,
        "start_time": "2022-07-11T10:07:54.270Z"
      },
      {
        "duration": 13,
        "start_time": "2022-07-11T10:07:54.332Z"
      },
      {
        "duration": 4,
        "start_time": "2022-07-11T10:07:54.348Z"
      },
      {
        "duration": 8,
        "start_time": "2022-07-11T10:07:54.354Z"
      },
      {
        "duration": 35,
        "start_time": "2022-07-11T10:07:54.364Z"
      },
      {
        "duration": 18,
        "start_time": "2022-07-11T10:07:54.402Z"
      },
      {
        "duration": 17,
        "start_time": "2022-07-11T10:07:54.422Z"
      },
      {
        "duration": 10,
        "start_time": "2022-07-11T10:07:54.441Z"
      },
      {
        "duration": 49,
        "start_time": "2022-07-11T10:07:54.455Z"
      },
      {
        "duration": 14,
        "start_time": "2022-07-11T10:07:54.505Z"
      },
      {
        "duration": 5,
        "start_time": "2022-07-11T10:07:54.521Z"
      },
      {
        "duration": 17,
        "start_time": "2022-07-11T10:07:54.528Z"
      },
      {
        "duration": 8,
        "start_time": "2022-07-11T10:07:54.547Z"
      },
      {
        "duration": 203,
        "start_time": "2022-07-11T10:07:54.557Z"
      },
      {
        "duration": 44,
        "start_time": "2022-07-11T10:07:54.762Z"
      },
      {
        "duration": 401,
        "start_time": "2022-07-11T10:07:54.808Z"
      },
      {
        "duration": 7,
        "start_time": "2022-07-11T10:07:55.211Z"
      },
      {
        "duration": 5,
        "start_time": "2022-07-11T10:07:55.220Z"
      },
      {
        "duration": 8201,
        "start_time": "2022-07-11T10:07:55.227Z"
      },
      {
        "duration": 131,
        "start_time": "2022-07-11T10:08:03.429Z"
      },
      {
        "duration": 129,
        "start_time": "2022-07-11T10:08:03.561Z"
      },
      {
        "duration": 7,
        "start_time": "2022-07-11T10:08:03.691Z"
      },
      {
        "duration": 138,
        "start_time": "2022-07-11T10:08:03.700Z"
      },
      {
        "duration": 0,
        "start_time": "2022-07-11T10:08:03.840Z"
      },
      {
        "duration": 0,
        "start_time": "2022-07-11T10:08:03.842Z"
      },
      {
        "duration": 0,
        "start_time": "2022-07-11T10:08:03.843Z"
      },
      {
        "duration": 5,
        "start_time": "2022-07-11T10:08:27.967Z"
      },
      {
        "duration": 28,
        "start_time": "2022-07-11T10:08:31.232Z"
      },
      {
        "duration": 5,
        "start_time": "2022-07-11T10:08:58.090Z"
      },
      {
        "duration": 17,
        "start_time": "2022-07-11T10:09:00.353Z"
      },
      {
        "duration": 1473,
        "start_time": "2022-07-11T10:11:15.326Z"
      },
      {
        "duration": 70,
        "start_time": "2022-07-11T10:11:16.801Z"
      },
      {
        "duration": 16,
        "start_time": "2022-07-11T10:11:16.873Z"
      },
      {
        "duration": 28,
        "start_time": "2022-07-11T10:11:16.891Z"
      },
      {
        "duration": 15,
        "start_time": "2022-07-11T10:11:16.922Z"
      },
      {
        "duration": 33,
        "start_time": "2022-07-11T10:11:16.939Z"
      },
      {
        "duration": 33,
        "start_time": "2022-07-11T10:11:16.974Z"
      },
      {
        "duration": 25,
        "start_time": "2022-07-11T10:11:17.009Z"
      },
      {
        "duration": 6,
        "start_time": "2022-07-11T10:11:17.036Z"
      },
      {
        "duration": 27,
        "start_time": "2022-07-11T10:11:17.046Z"
      },
      {
        "duration": 26,
        "start_time": "2022-07-11T10:11:17.075Z"
      },
      {
        "duration": 5,
        "start_time": "2022-07-11T10:11:17.103Z"
      },
      {
        "duration": 5,
        "start_time": "2022-07-11T10:11:17.110Z"
      },
      {
        "duration": 10,
        "start_time": "2022-07-11T10:11:17.116Z"
      },
      {
        "duration": 174,
        "start_time": "2022-07-11T10:11:17.128Z"
      },
      {
        "duration": 102,
        "start_time": "2022-07-11T10:11:17.304Z"
      },
      {
        "duration": 337,
        "start_time": "2022-07-11T10:11:17.497Z"
      },
      {
        "duration": 6,
        "start_time": "2022-07-11T10:11:17.836Z"
      },
      {
        "duration": 6,
        "start_time": "2022-07-11T10:11:17.844Z"
      },
      {
        "duration": 8624,
        "start_time": "2022-07-11T10:11:17.853Z"
      },
      {
        "duration": 125,
        "start_time": "2022-07-11T10:11:26.479Z"
      },
      {
        "duration": 151,
        "start_time": "2022-07-11T10:11:26.605Z"
      },
      {
        "duration": 5,
        "start_time": "2022-07-11T10:11:26.759Z"
      },
      {
        "duration": 200,
        "start_time": "2022-07-11T10:11:26.767Z"
      },
      {
        "duration": 4,
        "start_time": "2022-07-11T10:11:26.969Z"
      },
      {
        "duration": 112,
        "start_time": "2022-07-11T10:11:26.975Z"
      },
      {
        "duration": 214,
        "start_time": "2022-07-11T10:11:27.089Z"
      },
      {
        "duration": 89,
        "start_time": "2022-07-11T10:13:33.578Z"
      },
      {
        "duration": 221,
        "start_time": "2022-07-11T10:13:41.609Z"
      },
      {
        "duration": 160,
        "start_time": "2022-07-11T10:13:51.378Z"
      },
      {
        "duration": 123,
        "start_time": "2022-07-11T11:01:08.259Z"
      },
      {
        "duration": 205,
        "start_time": "2022-07-11T11:01:23.324Z"
      },
      {
        "duration": 4,
        "start_time": "2022-07-11T11:02:53.036Z"
      },
      {
        "duration": 88497,
        "start_time": "2022-07-11T11:02:57.853Z"
      },
      {
        "duration": 5,
        "start_time": "2022-07-11T11:04:50.211Z"
      },
      {
        "duration": 15394,
        "start_time": "2022-07-11T11:04:55.494Z"
      },
      {
        "duration": 5,
        "start_time": "2022-07-11T11:05:22.197Z"
      },
      {
        "duration": 8931,
        "start_time": "2022-07-11T11:05:24.728Z"
      },
      {
        "duration": 1493,
        "start_time": "2022-07-11T11:05:48.014Z"
      },
      {
        "duration": 58,
        "start_time": "2022-07-11T11:05:49.509Z"
      },
      {
        "duration": 14,
        "start_time": "2022-07-11T11:05:49.568Z"
      },
      {
        "duration": 4,
        "start_time": "2022-07-11T11:05:49.584Z"
      },
      {
        "duration": 8,
        "start_time": "2022-07-11T11:05:49.589Z"
      },
      {
        "duration": 17,
        "start_time": "2022-07-11T11:05:49.599Z"
      },
      {
        "duration": 29,
        "start_time": "2022-07-11T11:05:49.619Z"
      },
      {
        "duration": 20,
        "start_time": "2022-07-11T11:05:49.650Z"
      },
      {
        "duration": 4,
        "start_time": "2022-07-11T11:05:49.672Z"
      },
      {
        "duration": 36,
        "start_time": "2022-07-11T11:05:49.679Z"
      },
      {
        "duration": 16,
        "start_time": "2022-07-11T11:05:49.717Z"
      },
      {
        "duration": 6,
        "start_time": "2022-07-11T11:05:49.735Z"
      },
      {
        "duration": 12,
        "start_time": "2022-07-11T11:05:49.743Z"
      },
      {
        "duration": 180,
        "start_time": "2022-07-11T11:05:49.757Z"
      },
      {
        "duration": 63,
        "start_time": "2022-07-11T11:05:49.940Z"
      },
      {
        "duration": 403,
        "start_time": "2022-07-11T11:05:50.005Z"
      },
      {
        "duration": 7,
        "start_time": "2022-07-11T11:05:50.410Z"
      },
      {
        "duration": 5,
        "start_time": "2022-07-11T11:05:50.420Z"
      },
      {
        "duration": 8607,
        "start_time": "2022-07-11T11:05:50.426Z"
      },
      {
        "duration": 122,
        "start_time": "2022-07-11T11:05:59.034Z"
      },
      {
        "duration": 122,
        "start_time": "2022-07-11T11:05:59.158Z"
      },
      {
        "duration": 4,
        "start_time": "2022-07-11T11:05:59.282Z"
      },
      {
        "duration": 174,
        "start_time": "2022-07-11T11:05:59.288Z"
      },
      {
        "duration": 5,
        "start_time": "2022-07-11T11:05:59.464Z"
      },
      {
        "duration": 93,
        "start_time": "2022-07-11T11:05:59.471Z"
      },
      {
        "duration": 174,
        "start_time": "2022-07-11T11:05:59.566Z"
      },
      {
        "duration": 20,
        "start_time": "2022-07-11T11:07:27.858Z"
      },
      {
        "duration": 116,
        "start_time": "2022-07-11T11:07:34.815Z"
      },
      {
        "duration": 119,
        "start_time": "2022-07-11T11:07:41.622Z"
      },
      {
        "duration": 4,
        "start_time": "2022-07-11T11:07:44.864Z"
      },
      {
        "duration": 165,
        "start_time": "2022-07-11T11:07:47.389Z"
      },
      {
        "duration": 5,
        "start_time": "2022-07-11T11:07:50.472Z"
      },
      {
        "duration": 82,
        "start_time": "2022-07-11T11:07:52.957Z"
      },
      {
        "duration": 182,
        "start_time": "2022-07-11T11:07:56.903Z"
      },
      {
        "duration": 31,
        "start_time": "2022-07-11T11:08:07.874Z"
      },
      {
        "duration": 166,
        "start_time": "2022-07-11T11:08:14.459Z"
      },
      {
        "duration": 8,
        "start_time": "2022-07-11T11:08:31.286Z"
      },
      {
        "duration": 1460,
        "start_time": "2022-07-11T11:08:38.098Z"
      },
      {
        "duration": 70,
        "start_time": "2022-07-11T11:08:39.560Z"
      },
      {
        "duration": 15,
        "start_time": "2022-07-11T11:08:39.632Z"
      },
      {
        "duration": 4,
        "start_time": "2022-07-11T11:08:39.649Z"
      },
      {
        "duration": 9,
        "start_time": "2022-07-11T11:08:39.655Z"
      },
      {
        "duration": 14,
        "start_time": "2022-07-11T11:08:39.666Z"
      },
      {
        "duration": 28,
        "start_time": "2022-07-11T11:08:39.682Z"
      },
      {
        "duration": 15,
        "start_time": "2022-07-11T11:08:39.711Z"
      },
      {
        "duration": 4,
        "start_time": "2022-07-11T11:08:39.728Z"
      },
      {
        "duration": 22,
        "start_time": "2022-07-11T11:08:39.735Z"
      },
      {
        "duration": 40,
        "start_time": "2022-07-11T11:08:39.758Z"
      },
      {
        "duration": 4,
        "start_time": "2022-07-11T11:08:39.800Z"
      },
      {
        "duration": 10,
        "start_time": "2022-07-11T11:08:39.806Z"
      },
      {
        "duration": 165,
        "start_time": "2022-07-11T11:08:39.818Z"
      },
      {
        "duration": 41,
        "start_time": "2022-07-11T11:08:39.985Z"
      },
      {
        "duration": 406,
        "start_time": "2022-07-11T11:08:40.102Z"
      },
      {
        "duration": 7,
        "start_time": "2022-07-11T11:08:40.510Z"
      },
      {
        "duration": 5,
        "start_time": "2022-07-11T11:08:40.519Z"
      },
      {
        "duration": 8613,
        "start_time": "2022-07-11T11:08:40.526Z"
      },
      {
        "duration": 118,
        "start_time": "2022-07-11T11:08:49.141Z"
      },
      {
        "duration": 120,
        "start_time": "2022-07-11T11:08:49.260Z"
      },
      {
        "duration": 4,
        "start_time": "2022-07-11T11:08:49.382Z"
      },
      {
        "duration": 177,
        "start_time": "2022-07-11T11:08:49.387Z"
      },
      {
        "duration": 5,
        "start_time": "2022-07-11T11:08:49.565Z"
      },
      {
        "duration": 97,
        "start_time": "2022-07-11T11:08:49.571Z"
      },
      {
        "duration": 163,
        "start_time": "2022-07-11T11:08:49.669Z"
      },
      {
        "duration": 8,
        "start_time": "2022-07-11T11:09:17.598Z"
      },
      {
        "duration": 8660,
        "start_time": "2022-07-11T11:09:46.973Z"
      },
      {
        "duration": 1478,
        "start_time": "2022-07-11T11:11:25.551Z"
      },
      {
        "duration": 56,
        "start_time": "2022-07-11T11:11:27.031Z"
      },
      {
        "duration": 14,
        "start_time": "2022-07-11T11:11:27.089Z"
      },
      {
        "duration": 3,
        "start_time": "2022-07-11T11:11:27.105Z"
      },
      {
        "duration": 9,
        "start_time": "2022-07-11T11:11:27.110Z"
      },
      {
        "duration": 16,
        "start_time": "2022-07-11T11:11:27.122Z"
      },
      {
        "duration": 17,
        "start_time": "2022-07-11T11:11:27.139Z"
      },
      {
        "duration": 13,
        "start_time": "2022-07-11T11:11:27.159Z"
      },
      {
        "duration": 5,
        "start_time": "2022-07-11T11:11:27.199Z"
      },
      {
        "duration": 21,
        "start_time": "2022-07-11T11:11:27.207Z"
      },
      {
        "duration": 11,
        "start_time": "2022-07-11T11:11:27.230Z"
      },
      {
        "duration": 5,
        "start_time": "2022-07-11T11:11:27.242Z"
      },
      {
        "duration": 10,
        "start_time": "2022-07-11T11:11:27.249Z"
      },
      {
        "duration": 180,
        "start_time": "2022-07-11T11:11:27.260Z"
      },
      {
        "duration": 64,
        "start_time": "2022-07-11T11:11:27.441Z"
      },
      {
        "duration": 396,
        "start_time": "2022-07-11T11:11:27.507Z"
      },
      {
        "duration": 8,
        "start_time": "2022-07-11T11:11:27.904Z"
      },
      {
        "duration": 5,
        "start_time": "2022-07-11T11:11:27.914Z"
      },
      {
        "duration": 8424,
        "start_time": "2022-07-11T11:11:27.921Z"
      },
      {
        "duration": 116,
        "start_time": "2022-07-11T11:11:36.346Z"
      },
      {
        "duration": 118,
        "start_time": "2022-07-11T11:11:36.464Z"
      },
      {
        "duration": 4,
        "start_time": "2022-07-11T11:11:36.584Z"
      },
      {
        "duration": 193,
        "start_time": "2022-07-11T11:11:36.598Z"
      },
      {
        "duration": 6,
        "start_time": "2022-07-11T11:11:36.793Z"
      },
      {
        "duration": 127,
        "start_time": "2022-07-11T11:11:36.801Z"
      },
      {
        "duration": 180,
        "start_time": "2022-07-11T11:11:36.930Z"
      },
      {
        "duration": 5,
        "start_time": "2022-07-11T11:13:53.542Z"
      },
      {
        "duration": 33018,
        "start_time": "2022-07-11T11:13:56.148Z"
      },
      {
        "duration": 168,
        "start_time": "2022-07-11T11:14:41.533Z"
      },
      {
        "duration": 185,
        "start_time": "2022-07-11T11:15:52.084Z"
      },
      {
        "duration": 256,
        "start_time": "2022-07-11T11:16:10.404Z"
      },
      {
        "duration": 106,
        "start_time": "2022-07-11T11:16:18.249Z"
      },
      {
        "duration": 254,
        "start_time": "2022-07-11T11:16:24.838Z"
      },
      {
        "duration": 127,
        "start_time": "2022-07-11T11:26:23.694Z"
      },
      {
        "duration": 71,
        "start_time": "2022-07-11T11:28:42.634Z"
      },
      {
        "duration": 43,
        "start_time": "2022-07-11T11:30:49.568Z"
      },
      {
        "duration": 268,
        "start_time": "2022-07-11T11:37:50.046Z"
      },
      {
        "duration": 294,
        "start_time": "2022-07-11T11:39:45.928Z"
      },
      {
        "duration": 211,
        "start_time": "2022-07-11T11:40:01.728Z"
      },
      {
        "duration": 229,
        "start_time": "2022-07-11T11:43:03.366Z"
      },
      {
        "duration": 12,
        "start_time": "2022-07-11T11:44:17.283Z"
      },
      {
        "duration": 123,
        "start_time": "2022-07-11T11:45:09.327Z"
      },
      {
        "duration": 245,
        "start_time": "2022-07-11T11:45:16.586Z"
      },
      {
        "duration": 214,
        "start_time": "2022-07-11T11:45:23.356Z"
      },
      {
        "duration": 218,
        "start_time": "2022-07-11T11:46:55.971Z"
      },
      {
        "duration": 275,
        "start_time": "2022-07-11T11:47:48.471Z"
      },
      {
        "duration": 5,
        "start_time": "2022-07-11T11:50:20.536Z"
      },
      {
        "duration": 160,
        "start_time": "2022-07-11T11:51:47.498Z"
      },
      {
        "duration": 109,
        "start_time": "2022-07-11T11:55:13.511Z"
      },
      {
        "duration": 282,
        "start_time": "2022-07-11T11:57:34.678Z"
      },
      {
        "duration": 1427,
        "start_time": "2022-07-11T11:57:41.817Z"
      },
      {
        "duration": 57,
        "start_time": "2022-07-11T11:57:43.246Z"
      },
      {
        "duration": 13,
        "start_time": "2022-07-11T11:57:43.305Z"
      },
      {
        "duration": 4,
        "start_time": "2022-07-11T11:57:43.321Z"
      },
      {
        "duration": 10,
        "start_time": "2022-07-11T11:57:43.327Z"
      },
      {
        "duration": 17,
        "start_time": "2022-07-11T11:57:43.339Z"
      },
      {
        "duration": 15,
        "start_time": "2022-07-11T11:57:43.357Z"
      },
      {
        "duration": 36,
        "start_time": "2022-07-11T11:57:43.374Z"
      },
      {
        "duration": 4,
        "start_time": "2022-07-11T11:57:43.411Z"
      },
      {
        "duration": 21,
        "start_time": "2022-07-11T11:57:43.418Z"
      },
      {
        "duration": 12,
        "start_time": "2022-07-11T11:57:43.441Z"
      },
      {
        "duration": 6,
        "start_time": "2022-07-11T11:57:43.454Z"
      },
      {
        "duration": 40,
        "start_time": "2022-07-11T11:57:43.461Z"
      },
      {
        "duration": 161,
        "start_time": "2022-07-11T11:57:43.503Z"
      },
      {
        "duration": 49,
        "start_time": "2022-07-11T11:57:43.666Z"
      },
      {
        "duration": 322,
        "start_time": "2022-07-11T11:57:43.799Z"
      },
      {
        "duration": 7,
        "start_time": "2022-07-11T11:57:44.123Z"
      },
      {
        "duration": 10,
        "start_time": "2022-07-11T11:57:44.131Z"
      },
      {
        "duration": 32472,
        "start_time": "2022-07-11T11:57:44.142Z"
      },
      {
        "duration": 192,
        "start_time": "2022-07-11T11:58:16.615Z"
      },
      {
        "duration": 189,
        "start_time": "2022-07-11T11:58:16.809Z"
      },
      {
        "duration": 5,
        "start_time": "2022-07-11T11:58:16.999Z"
      },
      {
        "duration": 224,
        "start_time": "2022-07-11T11:58:17.005Z"
      },
      {
        "duration": 5,
        "start_time": "2022-07-11T11:58:17.231Z"
      },
      {
        "duration": 112,
        "start_time": "2022-07-11T11:58:17.238Z"
      },
      {
        "duration": 70,
        "start_time": "2022-07-11T11:58:17.352Z"
      },
      {
        "duration": 196,
        "start_time": "2022-07-11T11:58:17.502Z"
      },
      {
        "duration": 311,
        "start_time": "2022-07-11T11:58:17.702Z"
      },
      {
        "duration": 285,
        "start_time": "2022-07-11T11:58:18.015Z"
      },
      {
        "duration": 56,
        "start_time": "2022-07-11T13:38:45.057Z"
      },
      {
        "duration": 1979,
        "start_time": "2022-07-11T13:38:52.618Z"
      },
      {
        "duration": 187,
        "start_time": "2022-07-11T13:38:54.599Z"
      },
      {
        "duration": 15,
        "start_time": "2022-07-11T13:38:54.788Z"
      },
      {
        "duration": 4,
        "start_time": "2022-07-11T13:38:54.805Z"
      },
      {
        "duration": 9,
        "start_time": "2022-07-11T13:38:54.810Z"
      },
      {
        "duration": 16,
        "start_time": "2022-07-11T13:38:54.820Z"
      },
      {
        "duration": 16,
        "start_time": "2022-07-11T13:38:54.838Z"
      },
      {
        "duration": 17,
        "start_time": "2022-07-11T13:38:54.856Z"
      },
      {
        "duration": 5,
        "start_time": "2022-07-11T13:38:54.899Z"
      },
      {
        "duration": 23,
        "start_time": "2022-07-11T13:38:54.907Z"
      },
      {
        "duration": 10,
        "start_time": "2022-07-11T13:38:54.932Z"
      },
      {
        "duration": 6,
        "start_time": "2022-07-11T13:38:54.944Z"
      },
      {
        "duration": 46,
        "start_time": "2022-07-11T13:38:54.951Z"
      },
      {
        "duration": 8,
        "start_time": "2022-07-11T13:38:54.999Z"
      },
      {
        "duration": 180,
        "start_time": "2022-07-11T13:38:55.009Z"
      },
      {
        "duration": 110,
        "start_time": "2022-07-11T13:38:55.190Z"
      },
      {
        "duration": 347,
        "start_time": "2022-07-11T13:38:55.302Z"
      },
      {
        "duration": 6,
        "start_time": "2022-07-11T13:38:55.651Z"
      },
      {
        "duration": 12,
        "start_time": "2022-07-11T13:38:55.659Z"
      },
      {
        "duration": 32334,
        "start_time": "2022-07-11T13:38:55.673Z"
      },
      {
        "duration": 167,
        "start_time": "2022-07-11T13:39:28.009Z"
      },
      {
        "duration": 159,
        "start_time": "2022-07-11T13:39:28.178Z"
      },
      {
        "duration": 5,
        "start_time": "2022-07-11T13:39:28.338Z"
      },
      {
        "duration": 129,
        "start_time": "2022-07-11T13:39:28.344Z"
      },
      {
        "duration": 0,
        "start_time": "2022-07-11T13:39:28.474Z"
      },
      {
        "duration": 0,
        "start_time": "2022-07-11T13:39:28.475Z"
      },
      {
        "duration": 0,
        "start_time": "2022-07-11T13:39:28.476Z"
      },
      {
        "duration": 0,
        "start_time": "2022-07-11T13:39:28.478Z"
      },
      {
        "duration": 0,
        "start_time": "2022-07-11T13:39:28.478Z"
      },
      {
        "duration": 0,
        "start_time": "2022-07-11T13:39:28.480Z"
      },
      {
        "duration": 4,
        "start_time": "2022-07-11T13:39:50.882Z"
      },
      {
        "duration": 9,
        "start_time": "2022-07-11T13:40:20.824Z"
      },
      {
        "duration": 5,
        "start_time": "2022-07-11T13:40:22.072Z"
      },
      {
        "duration": 18,
        "start_time": "2022-07-11T13:40:30.793Z"
      },
      {
        "duration": 4,
        "start_time": "2022-07-11T13:40:41.386Z"
      },
      {
        "duration": 9,
        "start_time": "2022-07-11T13:41:01.702Z"
      },
      {
        "duration": 5,
        "start_time": "2022-07-11T13:41:06.830Z"
      },
      {
        "duration": 12,
        "start_time": "2022-07-11T13:44:20.171Z"
      },
      {
        "duration": 13,
        "start_time": "2022-07-11T13:44:22.892Z"
      },
      {
        "duration": 3,
        "start_time": "2022-07-11T13:45:32.151Z"
      },
      {
        "duration": 18,
        "start_time": "2022-07-11T13:46:01.816Z"
      },
      {
        "duration": 18,
        "start_time": "2022-07-11T13:47:03.400Z"
      },
      {
        "duration": 19,
        "start_time": "2022-07-11T13:50:39.568Z"
      },
      {
        "duration": 19,
        "start_time": "2022-07-11T13:51:10.022Z"
      },
      {
        "duration": 16,
        "start_time": "2022-07-11T13:51:34.330Z"
      },
      {
        "duration": 7,
        "start_time": "2022-07-11T13:51:38.165Z"
      },
      {
        "duration": 21,
        "start_time": "2022-07-11T13:53:31.741Z"
      },
      {
        "duration": 29,
        "start_time": "2022-07-11T13:53:56.614Z"
      },
      {
        "duration": 17,
        "start_time": "2022-07-11T13:54:04.433Z"
      },
      {
        "duration": 4,
        "start_time": "2022-07-11T13:56:51.076Z"
      },
      {
        "duration": 11,
        "start_time": "2022-07-11T13:57:54.418Z"
      },
      {
        "duration": 24,
        "start_time": "2022-07-11T13:58:30.902Z"
      },
      {
        "duration": 1607,
        "start_time": "2022-07-11T13:58:48.858Z"
      },
      {
        "duration": 58,
        "start_time": "2022-07-11T13:58:50.467Z"
      },
      {
        "duration": 14,
        "start_time": "2022-07-11T13:58:50.526Z"
      },
      {
        "duration": 3,
        "start_time": "2022-07-11T13:58:50.542Z"
      },
      {
        "duration": 10,
        "start_time": "2022-07-11T13:58:50.547Z"
      },
      {
        "duration": 17,
        "start_time": "2022-07-11T13:58:50.559Z"
      },
      {
        "duration": 32,
        "start_time": "2022-07-11T13:58:50.578Z"
      },
      {
        "duration": 17,
        "start_time": "2022-07-11T13:58:50.612Z"
      },
      {
        "duration": 6,
        "start_time": "2022-07-11T13:58:50.631Z"
      },
      {
        "duration": 21,
        "start_time": "2022-07-11T13:58:50.641Z"
      },
      {
        "duration": 12,
        "start_time": "2022-07-11T13:58:50.697Z"
      },
      {
        "duration": 6,
        "start_time": "2022-07-11T13:58:50.711Z"
      },
      {
        "duration": 11,
        "start_time": "2022-07-11T13:58:50.719Z"
      },
      {
        "duration": 14,
        "start_time": "2022-07-11T13:58:50.732Z"
      },
      {
        "duration": 22,
        "start_time": "2022-07-11T13:58:50.748Z"
      },
      {
        "duration": 9,
        "start_time": "2022-07-11T13:58:50.797Z"
      },
      {
        "duration": 167,
        "start_time": "2022-07-11T13:58:50.808Z"
      },
      {
        "duration": 34,
        "start_time": "2022-07-11T13:58:50.977Z"
      },
      {
        "duration": 397,
        "start_time": "2022-07-11T13:58:51.013Z"
      },
      {
        "duration": 6,
        "start_time": "2022-07-11T13:58:51.412Z"
      },
      {
        "duration": 9,
        "start_time": "2022-07-11T13:58:51.420Z"
      },
      {
        "duration": 33132,
        "start_time": "2022-07-11T13:58:51.431Z"
      },
      {
        "duration": 175,
        "start_time": "2022-07-11T13:59:24.565Z"
      },
      {
        "duration": 160,
        "start_time": "2022-07-11T13:59:24.742Z"
      },
      {
        "duration": 4,
        "start_time": "2022-07-11T13:59:24.904Z"
      },
      {
        "duration": 230,
        "start_time": "2022-07-11T13:59:24.910Z"
      },
      {
        "duration": 4,
        "start_time": "2022-07-11T13:59:25.142Z"
      },
      {
        "duration": 114,
        "start_time": "2022-07-11T13:59:25.149Z"
      },
      {
        "duration": 51,
        "start_time": "2022-07-11T13:59:25.264Z"
      },
      {
        "duration": 282,
        "start_time": "2022-07-11T13:59:25.317Z"
      },
      {
        "duration": 310,
        "start_time": "2022-07-11T13:59:25.602Z"
      },
      {
        "duration": 289,
        "start_time": "2022-07-11T13:59:25.914Z"
      },
      {
        "duration": 20,
        "start_time": "2022-07-11T14:23:59.283Z"
      },
      {
        "duration": 6,
        "start_time": "2022-07-11T14:26:21.488Z"
      },
      {
        "duration": 123,
        "start_time": "2022-07-11T14:26:25.205Z"
      },
      {
        "duration": 5,
        "start_time": "2022-07-11T14:26:31.084Z"
      },
      {
        "duration": 5,
        "start_time": "2022-07-11T14:26:49.150Z"
      },
      {
        "duration": 16,
        "start_time": "2022-07-11T14:30:22.034Z"
      },
      {
        "duration": 18,
        "start_time": "2022-07-11T14:30:49.738Z"
      },
      {
        "duration": 19,
        "start_time": "2022-07-11T14:30:58.073Z"
      },
      {
        "duration": 7,
        "start_time": "2022-07-11T14:31:03.766Z"
      },
      {
        "duration": 5,
        "start_time": "2022-07-11T14:31:08.170Z"
      },
      {
        "duration": 4,
        "start_time": "2022-07-11T14:31:12.953Z"
      },
      {
        "duration": 239,
        "start_time": "2022-07-11T14:31:57.121Z"
      },
      {
        "duration": 220,
        "start_time": "2022-07-11T14:32:06.089Z"
      },
      {
        "duration": 165,
        "start_time": "2022-07-11T14:32:43.123Z"
      },
      {
        "duration": 37,
        "start_time": "2022-07-11T14:33:48.609Z"
      },
      {
        "duration": 1784,
        "start_time": "2022-07-11T14:33:55.478Z"
      },
      {
        "duration": 78,
        "start_time": "2022-07-11T14:33:57.264Z"
      },
      {
        "duration": 15,
        "start_time": "2022-07-11T14:33:57.344Z"
      },
      {
        "duration": 5,
        "start_time": "2022-07-11T14:33:57.361Z"
      },
      {
        "duration": 10,
        "start_time": "2022-07-11T14:33:57.367Z"
      },
      {
        "duration": 32,
        "start_time": "2022-07-11T14:33:57.380Z"
      },
      {
        "duration": 19,
        "start_time": "2022-07-11T14:33:57.415Z"
      },
      {
        "duration": 14,
        "start_time": "2022-07-11T14:33:57.435Z"
      },
      {
        "duration": 5,
        "start_time": "2022-07-11T14:33:57.450Z"
      },
      {
        "duration": 57,
        "start_time": "2022-07-11T14:33:57.458Z"
      },
      {
        "duration": 16,
        "start_time": "2022-07-11T14:33:57.518Z"
      },
      {
        "duration": 5,
        "start_time": "2022-07-11T14:33:57.536Z"
      },
      {
        "duration": 12,
        "start_time": "2022-07-11T14:33:57.543Z"
      },
      {
        "duration": 14,
        "start_time": "2022-07-11T14:33:57.556Z"
      },
      {
        "duration": 62,
        "start_time": "2022-07-11T14:33:57.572Z"
      },
      {
        "duration": 7,
        "start_time": "2022-07-11T14:33:57.636Z"
      },
      {
        "duration": 189,
        "start_time": "2022-07-11T14:33:57.645Z"
      },
      {
        "duration": 63,
        "start_time": "2022-07-11T14:33:57.835Z"
      },
      {
        "duration": 402,
        "start_time": "2022-07-11T14:33:57.903Z"
      },
      {
        "duration": 9,
        "start_time": "2022-07-11T14:33:58.307Z"
      },
      {
        "duration": 5,
        "start_time": "2022-07-11T14:33:58.317Z"
      },
      {
        "duration": 35851,
        "start_time": "2022-07-11T14:33:58.324Z"
      },
      {
        "duration": 173,
        "start_time": "2022-07-11T14:34:34.177Z"
      },
      {
        "duration": 175,
        "start_time": "2022-07-11T14:34:34.352Z"
      },
      {
        "duration": 5,
        "start_time": "2022-07-11T14:34:34.529Z"
      },
      {
        "duration": 239,
        "start_time": "2022-07-11T14:34:34.537Z"
      },
      {
        "duration": 6,
        "start_time": "2022-07-11T14:34:34.778Z"
      },
      {
        "duration": 117,
        "start_time": "2022-07-11T14:34:34.797Z"
      },
      {
        "duration": 104,
        "start_time": "2022-07-11T14:34:34.916Z"
      },
      {
        "duration": 196,
        "start_time": "2022-07-11T14:34:35.101Z"
      },
      {
        "duration": 275,
        "start_time": "2022-07-11T14:34:35.300Z"
      },
      {
        "duration": 300,
        "start_time": "2022-07-11T14:34:35.576Z"
      }
    ],
    "kernelspec": {
      "display_name": "Python 3 (ipykernel)",
      "language": "python",
      "name": "python3"
    },
    "language_info": {
      "codemirror_mode": {
        "name": "ipython",
        "version": 3
      },
      "file_extension": ".py",
      "mimetype": "text/x-python",
      "name": "python",
      "nbconvert_exporter": "python",
      "pygments_lexer": "ipython3",
      "version": "3.9.5"
    },
    "toc": {
      "base_numbering": 1,
      "nav_menu": {},
      "number_sections": true,
      "sideBar": true,
      "skip_h1_title": true,
      "title_cell": "Содержание",
      "title_sidebar": "Contents",
      "toc_cell": true,
      "toc_position": {},
      "toc_section_display": true,
      "toc_window_display": true
    },
    "colab": {
      "name": "Отток_клиентов.ipynb",
      "provenance": [],
      "collapsed_sections": [
        "fMbB5lapelhb",
        "KmKg5l8Delhz"
      ]
    }
  },
  "nbformat": 4,
  "nbformat_minor": 0
}